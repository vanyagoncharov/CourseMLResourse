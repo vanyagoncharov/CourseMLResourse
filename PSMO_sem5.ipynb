{
  "cells": [
    {
      "cell_type": "markdown",
      "metadata": {
        "id": "view-in-github",
        "colab_type": "text"
      },
      "source": [
        "<a href=\"https://colab.research.google.com/github/vanyagoncharov/CourseMLResourse/blob/main/PSMO_sem5.ipynb\" target=\"_parent\"><img src=\"https://colab.research.google.com/assets/colab-badge.svg\" alt=\"Open In Colab\"/></a>"
      ]
    },
    {
      "cell_type": "markdown",
      "metadata": {
        "id": "ckjb7yOx-dwN"
      },
      "source": [
        "## Прикладная статистика в машинном обучении"
      ]
    },
    {
      "cell_type": "markdown",
      "metadata": {
        "id": "cT_pramG-dwV"
      },
      "source": [
        "### Практика: Bootstrap"
      ]
    },
    {
      "cell_type": "markdown",
      "metadata": {
        "id": "5gfTx-Xy-dwV"
      },
      "source": [
        "#### Идея."
      ]
    },
    {
      "cell_type": "markdown",
      "metadata": {
        "id": "2362l78K-dwW"
      },
      "source": [
        "Пусть на основе выборки $X_1,$ $\\ldots$, $X_n$ мы каким-то способом получили точечную оценку неизвестного параметра $\\theta$ и обозначили её $\\hat{\\theta}$. Теперь наша цель состоит в том, чтобы построить асимптотический доверительный интервал для $\\theta$. Bootstrap предлагает оценить дисперсию $\\hat{\\theta}$ на основе тех же данных, на которых была получена сама оценка $\\hat{\\theta}$."
      ]
    },
    {
      "cell_type": "markdown",
      "metadata": {
        "id": "HzP_pB7u-dwW"
      },
      "source": [
        "> \"Pull oneself up by one's bootstraps\": *(idiomatic) To succeed only by one's own efforts or abilities.* (Wiktionary)"
      ]
    },
    {
      "cell_type": "markdown",
      "metadata": {
        "id": "GR5leWkU-dwX"
      },
      "source": [
        "---"
      ]
    },
    {
      "cell_type": "markdown",
      "metadata": {
        "id": "vdquV8do-dwX"
      },
      "source": [
        "#### Построение выборки (Sampling)."
      ]
    },
    {
      "cell_type": "markdown",
      "metadata": {
        "id": "KQlmMc0e-dwY"
      },
      "source": [
        "Вспомним, что *построением выборки (sampling)* называется выбор элементов генеральной совокупности (какого-то множетства или распределения). Случайная выборка строится путём случайного выбора наблюдений. Случайную выборку можно строить двумя способами:\n",
        "- без возвращения (without replacement, simple random sampling),\n",
        "- с возвращением (with replacement).\n",
        "\n",
        "**Вопросы на подумать:**\n",
        "1. Можно ли рассматривать построение выборки с возвращением из множества $\\{1, 2, \\ldots, 8\\}$ как процедуру последовательного подбрасывания восьмигранной кости?\n",
        "2. Когда на практике построение выборки с возвращением и без возвращения эквивалентны?"
      ]
    },
    {
      "cell_type": "markdown",
      "metadata": {
        "id": "nRKex84Q-dwZ"
      },
      "source": [
        "---"
      ]
    },
    {
      "cell_type": "markdown",
      "metadata": {
        "id": "32dDL4TN-dwZ"
      },
      "source": [
        "#### Эмпирическая функция распределения.\n",
        "\n",
        "Также вспомним, что на основе выборки можно построить оценку функции распределения, из которого были взяты наблюдения. Для этого для каждого значения $x_i$ рассчитывается его доля в выборке."
      ]
    },
    {
      "cell_type": "markdown",
      "metadata": {
        "id": "jnFMsI2l-dwa"
      },
      "source": [
        "---"
      ]
    },
    {
      "cell_type": "markdown",
      "metadata": {
        "id": "DTRiiiW3-dwa"
      },
      "source": [
        "#### Построение boostrap-выборки (Resampling)."
      ]
    },
    {
      "cell_type": "markdown",
      "metadata": {
        "id": "ti1FWeKc-dwa"
      },
      "source": [
        "*Построением boostrap-выборки (resampling)* называется **построение выборки с возвращением из эмпирического распределения**.\n",
        "\n",
        "**Пример 1:** пусть имеется набор чисел $1$, $1$, $2$, $3$, $10$, $11$, $11$, который рассматривается как выборка, взятая из какого-то распределения. Чтобы построить выборку с возвращением из эмпирического распределения, мы должны сложить эти числа в шляпу и не глядя вытаскивать их одно за другим, записывая результат и возвращая число обратно.\n",
        "\n",
        "**Формально:** пусть дана выборка $X_1$, $\\ldots$, $X_n$. Построением boostrap-выборки называется выбор номера $i$ из равновероятного на $\\{1, 2, \\ldots n\\}$ распределения и взятие $X_i$ как одного значения этой выборки.\n",
        "\n",
        "**Продолжение примера 1:** пусть мы хотим построить boostrap-выборку размера 3 для чисел из примера 1. Тогда мы можем подбросить семигранную (так как семь наблюдений) кость три раза и, например, получить:\n",
        "$$\n",
        "3, 3, 7, 1\n",
        "$$\n",
        "Тогда boostrap-выборка будет:\n",
        "$$\n",
        "2, 2, 11, 1\n",
        "$$\n",
        "\n",
        "Будем обозначать boostrap-выборку как $X_1^*$, $\\ldots$, $X_m^*$."
      ]
    },
    {
      "cell_type": "markdown",
      "metadata": {
        "id": "7lHn3gMT-dwa"
      },
      "source": [
        "---"
      ]
    },
    {
      "cell_type": "markdown",
      "metadata": {
        "id": "_KsLXctd-dwb"
      },
      "source": [
        "#### Эмпирический bootstrap.\n",
        "\n",
        "*Выборкой эмпирического bootstrap* нызвается boostrap-выборка того же размера, что и оригинальная выборка:\n",
        "\n",
        "для выборки $X_1$, $\\ldots$, $X_n$ это $X_1^*$, $\\ldots$, $X_n^*$. Тогда boostrap говорит, что $F \\approx F^*$, а дисперсия статистики, рассчитанной на основе выборки $X$, примерно равна дисперсии статистики, рассчитанной на основе $X^*$."
      ]
    },
    {
      "cell_type": "markdown",
      "metadata": {
        "id": "6ZjSMi1s-dwb"
      },
      "source": [
        "#### 1. Reverse bootstrap percentile."
      ]
    },
    {
      "cell_type": "markdown",
      "metadata": {
        "id": "yXA0gvMx-dwb"
      },
      "source": [
        "**Пример 2:** пусть дана выборка из некоторого распределения с конечным матожиданием $\\mu$:"
      ]
    },
    {
      "cell_type": "code",
      "execution_count": null,
      "metadata": {
        "id": "Yt_dQ87m-dwb"
      },
      "outputs": [],
      "source": [
        "X = [30, 37, 36, 43, 42, 43, 43, 46, 41, 42]"
      ]
    },
    {
      "cell_type": "markdown",
      "metadata": {
        "id": "mW6g2PuH-dwd"
      },
      "source": [
        "Постройте 80% доверительный интервал для $\\mu$."
      ]
    },
    {
      "cell_type": "code",
      "execution_count": null,
      "metadata": {
        "id": "lE8D418g-dwd"
      },
      "outputs": [],
      "source": [
        "import numpy as np\n",
        "import matplotlib.pyplot as plt\n",
        "import seaborn as sns\n",
        "sns.set()"
      ]
    },
    {
      "cell_type": "code",
      "execution_count": null,
      "metadata": {
        "id": "rGOA_DLJ-dwd",
        "outputId": "c63bd378-7f50-425f-ef42-3f80a8ff367a"
      },
      "outputs": [
        {
          "data": {
            "text/plain": [
              "40.3"
            ]
          },
          "execution_count": 3,
          "metadata": {},
          "output_type": "execute_result"
        }
      ],
      "source": [
        "## Шаг 1: Найдите точечную оценку неизвестного параметра\n",
        "# (ML)\n",
        "mu_hat = np.mean(X)\n",
        "mu_hat"
      ]
    },
    {
      "cell_type": "markdown",
      "metadata": {
        "id": "PykB2zoM-dwe"
      },
      "source": [
        "Мы бы хотели найти распределение величины $d = \\hat{X} - \\mu$, потому что тогда мы можем построить доверительный интервал для $\\mu$ как\n",
        "$$\n",
        "P(d_{0.9} \\le \\bar{X} - \\mu \\le d_{0.1}) = 0.8 \\Rightarrow \\mu \\in [\\bar{x} - d_{0.1}; \\bar{x} - d_{0.9}].\n",
        "$$\n",
        "\n",
        "Boostrap говорит, что распределение $d$ можно приблизить распределением $d^* = \\bar{x^*} - \\bar{x}$.\n",
        "\n",
        "Удача заключается в том, что можно сгенерировать $d^*$ сколько угодно раз, а потому возможно получить достаточно точную оценку распределения $d^*$."
      ]
    },
    {
      "cell_type": "code",
      "execution_count": null,
      "metadata": {
        "id": "t_ttwKgu-dwe",
        "outputId": "8b33a162-fe40-4006-e3cf-de9470a2883e"
      },
      "outputs": [
        {
          "data": {
            "text/plain": [
              "array([[36, 36, 43, 37, 43, 42, 43, 37, 30, 37, 42, 30, 30, 42, 43, 42,\n",
              "        30, 30, 42, 37],\n",
              "       [46, 43, 36, 42, 46, 36, 42, 41, 30, 46, 42, 43, 42, 43, 37, 43,\n",
              "        43, 36, 37, 41],\n",
              "       [43, 43, 30, 36, 43, 36, 42, 42, 43, 43, 30, 43, 42, 46, 43, 46,\n",
              "        37, 43, 46, 42],\n",
              "       [36, 42, 41, 37, 36, 37, 37, 43, 43, 42, 30, 41, 37, 43, 43, 43,\n",
              "        43, 42, 46, 42],\n",
              "       [36, 43, 43, 43, 41, 43, 42, 46, 43, 43, 42, 43, 43, 43, 37, 43,\n",
              "        42, 43, 37, 30],\n",
              "       [43, 41, 43, 41, 42, 37, 30, 43, 37, 43, 42, 46, 43, 37, 42, 43,\n",
              "        43, 46, 43, 41],\n",
              "       [43, 42, 42, 46, 30, 30, 42, 41, 41, 42, 41, 43, 37, 43, 41, 46,\n",
              "        42, 37, 46, 37],\n",
              "       [46, 42, 41, 46, 37, 43, 37, 41, 46, 43, 37, 36, 43, 36, 36, 42,\n",
              "        43, 36, 43, 46],\n",
              "       [42, 37, 43, 41, 43, 46, 42, 42, 43, 43, 43, 43, 30, 41, 46, 46,\n",
              "        42, 42, 43, 30],\n",
              "       [41, 42, 36, 43, 37, 43, 42, 36, 42, 43, 30, 43, 46, 46, 36, 43,\n",
              "        37, 46, 43, 42]])"
            ]
          },
          "execution_count": 4,
          "metadata": {},
          "output_type": "execute_result"
        }
      ],
      "source": [
        "## Шаг 2: Сгенерируйте 20 bootstrap-выборок из X и сохраните их в матрицу n x 20\n",
        "np.random.seed(123)\n",
        "bootstrap_samples = np.random.choice(X, size = (len(X), 20), replace = True)\n",
        "bootstrap_samples"
      ]
    },
    {
      "cell_type": "code",
      "execution_count": null,
      "metadata": {
        "id": "8tPwLoi0-dwf",
        "outputId": "7ff22568-69c4-4db5-da89-e5be339c6b79"
      },
      "outputs": [
        {
          "data": {
            "text/plain": [
              "array([41.2, 41.1, 39.8, 41.2, 39.8, 39.3, 39.9, 41.2, 39.8, 42.5, 37.9,\n",
              "       41.1, 39.3, 42. , 40.4, 43.7, 40.2, 40.1, 42.6, 38.8])"
            ]
          },
          "execution_count": 5,
          "metadata": {},
          "output_type": "execute_result"
        }
      ],
      "source": [
        "# Шаг 3: Рассчитайте выборочное среднее по каждой bootstrap-выборке\n",
        "bootstrap_means = np.mean(bootstrap_samples, axis = 0)\n",
        "bootstrap_means"
      ]
    },
    {
      "cell_type": "code",
      "execution_count": null,
      "metadata": {
        "id": "J1q4LB7i-dwf",
        "outputId": "688b1cc2-d267-4877-db6f-1b03c03f3f10"
      },
      "outputs": [
        {
          "data": {
            "text/plain": [
              "array([ 0.9,  0.8, -0.5,  0.9, -0.5, -1. , -0.4,  0.9, -0.5,  2.2, -2.4,\n",
              "        0.8, -1. ,  1.7,  0.1,  3.4, -0.1, -0.2,  2.3, -1.5])"
            ]
          },
          "execution_count": 6,
          "metadata": {},
          "output_type": "execute_result"
        }
      ],
      "source": [
        "# Шаг 4: Рассчитайте d*\n",
        "d_star = bootstrap_means - mu_hat\n",
        "d_star"
      ]
    },
    {
      "cell_type": "code",
      "execution_count": null,
      "metadata": {
        "id": "7amu0Ntl-dwf",
        "outputId": "049e1d50-2c88-447a-a99f-e26425621da4"
      },
      "outputs": [
        {
          "data": {
            "text/plain": [
              "array([-1.05,  2.21])"
            ]
          },
          "execution_count": 7,
          "metadata": {},
          "output_type": "execute_result"
        }
      ],
      "source": [
        "# Шаг 5: Найдите 0.1 и 0.9 квантили для d_star\n",
        "d_star_quant = np.quantile(d_star, (0.1, 0.9))\n",
        "d_star_quant"
      ]
    },
    {
      "cell_type": "code",
      "execution_count": null,
      "metadata": {
        "id": "QGItmih6-dwg",
        "outputId": "c8e36271-6b0f-428d-8bea-8e17872b7482"
      },
      "outputs": [
        {
          "name": "stdout",
          "output_type": "stream",
          "text": [
            "[ 38.089999999999996 ; 41.349999999999994 ]\n"
          ]
        }
      ],
      "source": [
        "# Шаг 6: Постройте 80%-ый доверительный интервал для mu\n",
        "LB = mu_hat - d_star_quant[1]\n",
        "UB = mu_hat - d_star_quant[0]\n",
        "print('[', LB, ';', UB, ']')"
      ]
    },
    {
      "cell_type": "markdown",
      "metadata": {
        "id": "rDW12AMG-dwg"
      },
      "source": [
        "**Пример 3:** для той же выборки постройте 90%-ый доверительный интервал для медианы."
      ]
    },
    {
      "cell_type": "code",
      "execution_count": null,
      "metadata": {
        "id": "XF8IDzSv-dwg",
        "outputId": "9bcdbf12-6686-42c5-b006-3d1773e7bac8"
      },
      "outputs": [
        {
          "name": "stdout",
          "output_type": "stream",
          "text": [
            "[ 41.0 ; 47.0 ]\n"
          ]
        }
      ],
      "source": [
        "## Шаг 1: Найдите точечную оценку неизвестного параметра\n",
        "med = np.median(X)\n",
        "## Шаг 2: Сгенерируйте 100 boostrap-выборок из X и сохраните их в матрицу n x 100\n",
        "bootstrap_samples = np.random.choice(X, size = (len(X), 100), replace = True)\n",
        "# Шаг 3: Рассчитайте выборочную медиану по каждой bootstrap-выборке\n",
        "bootstrap_medians = np.median(bootstrap_samples, axis = 0)\n",
        "# Шаг 4: Рассчитайте d*\n",
        "d_star = bootstrap_medians - med\n",
        "# Шаг 5: Найдите 0.05 и 0.95 квантили для d_star\n",
        "d_star_quant = np.quantile(d_star, (0.05, 0.95))\n",
        "# Шаг 6: Постройте 90%-ый доверительный интервал для медианы\n",
        "LB = med - d_star_quant[1]\n",
        "UB = med - d_star_quant[0]\n",
        "print('[', LB, ';', UB, ']')"
      ]
    },
    {
      "cell_type": "markdown",
      "metadata": {
        "id": "vQFUgKmB-dwj"
      },
      "source": [
        "#### 2. t-bootstrap"
      ]
    },
    {
      "cell_type": "markdown",
      "metadata": {
        "id": "8iARZEm7-dwk"
      },
      "source": [
        "**Идея:** сгенерировать не $d^*$, а\n",
        "$$\n",
        "t^* = \\dfrac{\\hat{\\theta^*} - \\hat{\\theta}}{se^{*}}\n",
        "$$"
      ]
    },
    {
      "cell_type": "markdown",
      "metadata": {
        "id": "Tk6HAJPN-dwk"
      },
      "source": [
        "**Пример 4:** для той же выборки постройте 80%-ый доверительный интервал для $\\mu$."
      ]
    },
    {
      "cell_type": "code",
      "execution_count": null,
      "metadata": {
        "id": "K6x_kYeB-dwk",
        "outputId": "6674e785-bc64-4e03-c6b9-7b31be174775"
      },
      "outputs": [
        {
          "name": "stdout",
          "output_type": "stream",
          "text": [
            "[ 36.785933431263096 ; 42.156453689875775 ]\n"
          ]
        }
      ],
      "source": [
        "## Шаг 1: Найдите точечную оценку неизвестного параметра\n",
        "x_hat = np.mean(X)\n",
        "## Шаг 2: Сгенерируйте 100 boostrap-выборок из X и сохраните их в матрицу n x 100\n",
        "bootstrap_samples = np.random.choice(X, size = (len(X), 100), replace = True)\n",
        "# Шаг 3: Рассчитайте выборочное среднее по каждой bootstrap-выборке\n",
        "bootstrap_means = np.mean(bootstrap_samples, axis = 0)\n",
        "# Шаг 4: Рассчитайте стандартную ошибку по каждой bootstrap-выборке\n",
        "bootstrap_ses = np.std(bootstrap_samples, axis = 0)\n",
        "# Шаг 5: Рассчитайте t*\n",
        "t_star = (bootstrap_means - x_hat) / bootstrap_ses\n",
        "# Шаг 6: Найдите 0.1 и 0.9 квантили для t_star\n",
        "t_star_quant = np.quantile(t_star, (0.1, 0.9))\n",
        "# Шаг 7: Постройте 80%-ый доверительный интервал для mu\n",
        "LB = x_hat - t_star_quant[1] * np.std(X)\n",
        "UB = x_hat - t_star_quant[0] * np.std(X)\n",
        "print('[', LB, ';', UB, ']')"
      ]
    },
    {
      "cell_type": "markdown",
      "metadata": {
        "id": "aa-OEXi1-dwk"
      },
      "source": [
        "#### 3. Bootstrap percentile method\n",
        "\n",
        "**!Danger:** не используйте этот метод."
      ]
    },
    {
      "cell_type": "markdown",
      "metadata": {
        "id": "sFexlt2Q-dwk"
      },
      "source": [
        "**Идея:** использовать распределение не $d^*$, а распределение $\\hat{\\theta^*}$.\n",
        "\n",
        "**Пример 5:** для той же выборки постройте 80%-ый доверительный интервал для $\\mu$."
      ]
    },
    {
      "cell_type": "code",
      "execution_count": null,
      "metadata": {
        "id": "mN8VAADJ-dwl",
        "outputId": "cb49a8bf-d6a8-4e62-9603-2623b13fc537"
      },
      "outputs": [
        {
          "name": "stdout",
          "output_type": "stream",
          "text": [
            "[ 38.7 ; 42.01 ]\n"
          ]
        }
      ],
      "source": [
        "## Шаг 1: Сгенерируйте 100 boostrap-выборок из X и сохраните их в матрицу n x 100\n",
        "bootstrap_samples = np.random.choice(X, size = (len(X), 100), replace = True)\n",
        "# Шаг 2: Рассчитайте выборочное среднее по каждой bootstrap-выборке\n",
        "bootstrap_means = np.mean(bootstrap_samples, axis = 0)\n",
        "# Шаг 3: Найдите 0.1 и 0.9 квантили для bootstrap_means\n",
        "quant = np.quantile(bootstrap_means, (0.1, 0.9))\n",
        "# Шаг 4: Постройте 80%-ый доверительный интервал для mu\n",
        "LB = quant[0]\n",
        "UB = quant[1]\n",
        "print('[', LB, ';', UB, ']')"
      ]
    },
    {
      "cell_type": "markdown",
      "metadata": {
        "id": "OpqqMvxK-dwl"
      },
      "source": [
        "**Пример 6:** покажите, насколько хорошо различные эмпирические доверительные интервалы накрывают истинное значение параметра."
      ]
    },
    {
      "cell_type": "code",
      "execution_count": null,
      "metadata": {
        "id": "tkoGG5p7-dwm"
      },
      "outputs": [],
      "source": [
        "rbp_up = 0\n",
        "tb = 0\n",
        "bpm = 0\n",
        "\n",
        "for i in range(1000):\n",
        "    Y = np.random.normal(4, 0.25, 100)\n",
        "\n",
        "    # RBP\n",
        "    mu_hat = np.mean(Y)\n",
        "    bootstrap_samples = np.random.choice(Y, size = (len(Y), 100), replace = True)\n",
        "    bootstrap_means = np.mean(bootstrap_samples, axis = 0)\n",
        "    d_star = bootstrap_means - mu_hat\n",
        "    d_star_quant = np.quantile(d_star, (0.1, 0.9))\n",
        "    LB = mu_hat - d_star_quant[1]\n",
        "    UB = mu_hat - d_star_quant[0]\n",
        "\n",
        "    if (LB <= 4) & (UB >= 4):\n",
        "        rbp_up += 1\n",
        "\n",
        "    # TB\n",
        "    x_hat = np.mean(Y)\n",
        "    bootstrap_samples = np.random.choice(Y, size = (len(Y), 100), replace = True)\n",
        "    bootstrap_means = np.mean(bootstrap_samples, axis = 0)\n",
        "    bootstrap_ses = np.std(bootstrap_samples, axis = 0)\n",
        "    t_star = (bootstrap_means - x_hat) / bootstrap_ses\n",
        "    t_star_quant = np.quantile(t_star, (0.1, 0.9))\n",
        "    LB = x_hat - t_star_quant[1] * np.std(Y)\n",
        "    UB = x_hat - t_star_quant[0] * np.std(Y)\n",
        "\n",
        "    if (LB <= 4) & (UB >= 4):\n",
        "        tb += 1\n",
        "\n",
        "    # BP\n",
        "    bootstrap_samples = np.random.choice(Y, size = (len(Y), 100), replace = True)\n",
        "    bootstrap_means = np.mean(bootstrap_samples, axis = 0)\n",
        "    quant = np.quantile(bootstrap_means, (0.1, 0.9))\n",
        "    LB = quant[0]\n",
        "    UB = quant[1]\n",
        "    if (LB <= 4) & (UB >= 4):\n",
        "        bpm += 1"
      ]
    },
    {
      "cell_type": "code",
      "execution_count": null,
      "metadata": {
        "id": "xLB34xM8-dwm",
        "outputId": "15ee5335-7c99-449a-e01f-718cf0e143fa"
      },
      "outputs": [
        {
          "data": {
            "text/plain": [
              "0.802"
            ]
          },
          "execution_count": 13,
          "metadata": {},
          "output_type": "execute_result"
        }
      ],
      "source": [
        "rbp_up / 1000"
      ]
    },
    {
      "cell_type": "code",
      "execution_count": null,
      "metadata": {
        "id": "LrBbKmyE-dwr",
        "outputId": "8f020eab-d459-4a27-9c90-3e56e40a6416"
      },
      "outputs": [
        {
          "data": {
            "text/plain": [
              "0.811"
            ]
          },
          "execution_count": 14,
          "metadata": {},
          "output_type": "execute_result"
        }
      ],
      "source": [
        "tb / 1000"
      ]
    },
    {
      "cell_type": "code",
      "execution_count": null,
      "metadata": {
        "id": "SOGMbAWi-dws",
        "outputId": "4fdffa11-ee8e-4398-88fa-deff305e52fd"
      },
      "outputs": [
        {
          "data": {
            "text/plain": [
              "0.811"
            ]
          },
          "execution_count": 15,
          "metadata": {},
          "output_type": "execute_result"
        }
      ],
      "source": [
        "bpm / 1000"
      ]
    },
    {
      "cell_type": "markdown",
      "metadata": {
        "id": "CJPGMKJ1-dws"
      },
      "source": [
        "---"
      ]
    },
    {
      "cell_type": "markdown",
      "metadata": {
        "id": "h8uvealO-dws"
      },
      "source": [
        "#### Параметрический Bootstrap."
      ]
    },
    {
      "cell_type": "markdown",
      "metadata": {
        "id": "SdAFy-Ud-dws"
      },
      "source": [
        "Совпадает с reverse bootstrap percentile за исключением того, что bootstrap-выборка набирается из параметризованного распределения."
      ]
    },
    {
      "cell_type": "markdown",
      "metadata": {
        "id": "JhYeELPe-dws"
      },
      "source": [
        "**Пример 7:** предположим, что $X_1$, $\\ldots$, $X_{300}$ -- случайная выборка из экспоненциального exp$(\\lambda)$ распределения. Пусть оказалось так, что $\\bar{X} = 2$. Постройте 95%-ый доверительный интервал для $\\lambda$."
      ]
    },
    {
      "cell_type": "code",
      "execution_count": null,
      "metadata": {
        "id": "zkKU1_31-dwt"
      },
      "outputs": [],
      "source": []
    },
    {
      "cell_type": "code",
      "execution_count": null,
      "metadata": {
        "id": "66CbNIqX-dwt",
        "outputId": "fc78acfa-2646-459b-94e1-60f80d5292ec"
      },
      "outputs": [
        {
          "name": "stdout",
          "output_type": "stream",
          "text": [
            "[ 0.4380653802655172 ; 0.5537745140281185 ]\n"
          ]
        }
      ],
      "source": [
        "## Шаг 1: Найдите точечную оценку неизвестного параметра\n",
        "lambda_hat = 1 / 2\n",
        "## Шаг 2: Сгенерируйте 1000 boostrap-выборок из X и сохраните их в матрицу n x 1000\n",
        "bootstrap_samples = np.random.exponential(1/lambda_hat, (300, 1000))\n",
        "# Шаг 3: Рассчитайте оценку lambda по каждой bootstrap-выборке\n",
        "lambda_star = 1 / np.mean(bootstrap_samples, axis = 0)\n",
        "# Шаг 4: Рассчитайте d*\n",
        "d_star = lambda_star - lambda_hat\n",
        "# Шаг 5: Найдите 0.025 и 0.975 квантили для d_star\n",
        "d_star_quant = np.quantile(d_star, (0.025, 0.975))\n",
        "# Шаг 6: Постройте 95%-ый доверительный интервал для lambda\n",
        "LB = lambda_hat - d_star_quant[1]\n",
        "UB = lambda_hat - d_star_quant[0]\n",
        "print('[', LB, ';', UB, ']')"
      ]
    },
    {
      "cell_type": "markdown",
      "metadata": {
        "id": "955WHeyp-dwt"
      },
      "source": [
        "---"
      ]
    },
    {
      "cell_type": "markdown",
      "metadata": {
        "id": "idInRATv-dwt"
      },
      "source": [
        "#### Источники мудрости:\n",
        "[1] [Tim Hesterberg \"What Teachers Should Know about the Bootstrap:Resampling in the Undergraduate StatisticsCurriculum?\"](https://arxiv.org/pdf/1411.5279.pdf)\n",
        "\n",
        "[2] [Jeremy Orloff, Jonathan Bloom \"Bootstrap Confidence Intervals\"](https://ocw.mit.edu/courses/mathematics/18-05-introduction-to-probability-and-statistics-spring-2014/readings/MIT18_05S14_Reading24.pdf)\n",
        "\n",
        "Список рекомендуемой литературы\n",
        "Ивченко Г. И., Медведев Ю. И., Введение в математическую статистику (ссылка);\n",
        "М. Б. Лагутин Наглядная математическая статистика (ссылка);\n",
        "Бородин А. Н., Элементарный курс теории вероятностей и математической статистики(ссылка);\n",
        "Боровков А. А., Математическая статистика (ссылка);\n",
        "Larry A. Wasserman All of Statistics: A Concise Course in Statistical Inference (ссылка);\n",
        "Натан А. А., Горбачев О. Г., Гуз С. А., Математическая статистика (ссылка);\n",
        "Ушаков В. Г., конспекты лекций по математической статистике (ВМК МГУ, ссылка);\n",
        "Пучкин Н., конспекты лекций по статистической теории обучения (отсюда можно взять неравенства концентрации, ссылка).\n",
        "\n",
        "Курсы\n",
        "Zhou Fan (Stanford University) ссылка;\n",
        "Philippe Rigollet (MIT) ссылка;\n",
        "Larry Wasserman (Carnegie Mellon University) ссылка;\n"
      ]
    }
  ],
  "metadata": {
    "kernelspec": {
      "display_name": "Python 3",
      "language": "python",
      "name": "python3"
    },
    "language_info": {
      "codemirror_mode": {
        "name": "ipython",
        "version": 3
      },
      "file_extension": ".py",
      "mimetype": "text/x-python",
      "name": "python",
      "nbconvert_exporter": "python",
      "pygments_lexer": "ipython3",
      "version": "3.8.3"
    },
    "colab": {
      "provenance": [],
      "include_colab_link": true
    }
  },
  "nbformat": 4,
  "nbformat_minor": 0
}