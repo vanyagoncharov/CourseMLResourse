{
  "nbformat": 4,
  "nbformat_minor": 0,
  "metadata": {
    "colab": {
      "provenance": [],
      "include_colab_link": true
    },
    "kernelspec": {
      "name": "python3",
      "display_name": "Python 3"
    },
    "language_info": {
      "name": "python"
    }
  },
  "cells": [
    {
      "cell_type": "markdown",
      "metadata": {
        "id": "view-in-github",
        "colab_type": "text"
      },
      "source": [
        "<a href=\"https://colab.research.google.com/github/vanyagoncharov/CourseMLResourse/blob/main/DEMO_%D0%A0%D0%B5%D0%B3%D1%80%D0%B5%D1%81%D1%81%D0%B8%D0%B8_Linear_LASSO_Ridge_ElasticNet_21_07.ipynb\" target=\"_parent\"><img src=\"https://colab.research.google.com/assets/colab-badge.svg\" alt=\"Open In Colab\"/></a>"
      ]
    },
    {
      "cell_type": "code",
      "source": [
        "# Импорт библиотек\n",
        "import numpy as np\n",
        "import pandas as pd\n",
        "\n",
        "import plotly.graph_objects as go\n",
        "import matplotlib.pyplot as plt\n",
        "import seaborn as sns\n",
        "\n",
        "from sklearn.datasets import make_regression\n",
        "\n",
        "from sklearn.model_selection import train_test_split\n",
        "\n",
        "from sklearn.linear_model import LinearRegression, Lasso, Ridge\n",
        "\n",
        "from sklearn.preprocessing import StandardScaler\n",
        "\n",
        "from sklearn.metrics import mean_absolute_error, mean_squared_error\n"
      ],
      "metadata": {
        "id": "voSAalzOGKJh"
      },
      "execution_count": null,
      "outputs": []
    },
    {
      "cell_type": "markdown",
      "source": [
        "# Функции, которые используются в ноутбуке"
      ],
      "metadata": {
        "id": "kRhKfjQ4n_Gm"
      }
    },
    {
      "cell_type": "code",
      "source": [
        "# функция для изучения данных\n",
        "def total_describe(data, info=True, describe=True, head=True):\n",
        "    if info:\n",
        "        print('Общая информация:')\n",
        "        print()\n",
        "        print(data.info())\n",
        "        print('____________________________________________________________________')\n",
        "        print()\n",
        "    if describe:\n",
        "        print('Описание числовых значений:')\n",
        "        print()\n",
        "        print(data.describe(include='all'))\n",
        "        print('____________________________________________________________________')\n",
        "        print()\n",
        "    if head:\n",
        "        print('Первые несколько строк:')\n",
        "        return(data.head())"
      ],
      "metadata": {
        "id": "cCD1wfiin-Fw"
      },
      "execution_count": null,
      "outputs": []
    },
    {
      "cell_type": "markdown",
      "source": [
        "# 1 способ создания данных"
      ],
      "metadata": {
        "id": "tlLSWNfUmc8g"
      }
    },
    {
      "cell_type": "code",
      "source": [
        "\n",
        "# Устанавливаем seed для воспроизводимости\n",
        "np.random.seed(42)\n",
        "n = 100\n",
        "noise = 3*np.random.uniform(n)\n",
        "x11 = np.random.normal(loc=100000, scale=1000.0, size=n)\n",
        "x12 = np.random.power(2)\n",
        "# x13 = np.random.normal(loc=0.0, scale=1.0, size=n)\n",
        "# x14 = np.random.normal(loc=0.0, scale=1.0, size=n)\n",
        "\n",
        "x2 = 2 * x11 + np.random.rand(n)\n",
        "# x3 = np.random.rand(n)\n",
        "# x4 = np.random.rand(n)\n",
        "# x5 = np.random.rand(n)\n",
        "# x3 = 3 * x12 + np.random.rand(n) * 0.1\n",
        "# x4 = 4 * x3 + np.random.rand(n) * 0.1\n",
        "# x5 = 6 * x14 + np.random.rand(n) * 0.1\n",
        "\n",
        "# Целевая переменная y зависит от x1 и x2 с добавлением случайного шума\n",
        "# y = 3 * x11 + 5 * x12 + x13 + x14 + noise\n",
        "y = 3 * x11 + x2 + x12 + noise\n",
        "\n",
        "\n",
        "# Создание DataFrame из данных\n",
        "df = pd.DataFrame({'x11': x11,\n",
        "                  #  'x12': x2, 'x13':x13, 'x14':x14,\n",
        "                   'x2':x2,\n",
        "                  #  'x3':x3, 'x4':x4, 'x5':x5,\n",
        "                   'y': y\n",
        "                   })\n",
        "\n",
        "# Вывод первых пяти строк данных\n",
        "df.head()"
      ],
      "metadata": {
        "colab": {
          "base_uri": "https://localhost:8080/"
        },
        "id": "bphzOTz6a3Xx",
        "outputId": "d1f35f2d-0f86-456b-c254-1ef71c71cfee"
      },
      "execution_count": null,
      "outputs": [
        {
          "output_type": "execute_result",
          "data": {
            "text/plain": [
              "             x11             x2              y\n",
              "0   98888.119882  197776.603394  494630.563086\n",
              "1  100318.902185  200638.776151  501785.082752\n",
              "2  100279.041292  200559.045032  501585.768955\n",
              "3  101010.515285  202021.282352  505242.428253\n",
              "4   99419.121866  198838.740980  497285.706625"
            ],
            "text/html": [
              "\n",
              "\n",
              "  <div id=\"df-d48469f2-582c-4fbf-a7eb-905fc8b9fb4d\">\n",
              "    <div class=\"colab-df-container\">\n",
              "      <div>\n",
              "<style scoped>\n",
              "    .dataframe tbody tr th:only-of-type {\n",
              "        vertical-align: middle;\n",
              "    }\n",
              "\n",
              "    .dataframe tbody tr th {\n",
              "        vertical-align: top;\n",
              "    }\n",
              "\n",
              "    .dataframe thead th {\n",
              "        text-align: right;\n",
              "    }\n",
              "</style>\n",
              "<table border=\"1\" class=\"dataframe\">\n",
              "  <thead>\n",
              "    <tr style=\"text-align: right;\">\n",
              "      <th></th>\n",
              "      <th>x11</th>\n",
              "      <th>x2</th>\n",
              "      <th>y</th>\n",
              "    </tr>\n",
              "  </thead>\n",
              "  <tbody>\n",
              "    <tr>\n",
              "      <th>0</th>\n",
              "      <td>98888.119882</td>\n",
              "      <td>197776.603394</td>\n",
              "      <td>494630.563086</td>\n",
              "    </tr>\n",
              "    <tr>\n",
              "      <th>1</th>\n",
              "      <td>100318.902185</td>\n",
              "      <td>200638.776151</td>\n",
              "      <td>501785.082752</td>\n",
              "    </tr>\n",
              "    <tr>\n",
              "      <th>2</th>\n",
              "      <td>100279.041292</td>\n",
              "      <td>200559.045032</td>\n",
              "      <td>501585.768955</td>\n",
              "    </tr>\n",
              "    <tr>\n",
              "      <th>3</th>\n",
              "      <td>101010.515285</td>\n",
              "      <td>202021.282352</td>\n",
              "      <td>505242.428253</td>\n",
              "    </tr>\n",
              "    <tr>\n",
              "      <th>4</th>\n",
              "      <td>99419.121866</td>\n",
              "      <td>198838.740980</td>\n",
              "      <td>497285.706625</td>\n",
              "    </tr>\n",
              "  </tbody>\n",
              "</table>\n",
              "</div>\n",
              "      <button class=\"colab-df-convert\" onclick=\"convertToInteractive('df-d48469f2-582c-4fbf-a7eb-905fc8b9fb4d')\"\n",
              "              title=\"Convert this dataframe to an interactive table.\"\n",
              "              style=\"display:none;\">\n",
              "\n",
              "  <svg xmlns=\"http://www.w3.org/2000/svg\" height=\"24px\"viewBox=\"0 0 24 24\"\n",
              "       width=\"24px\">\n",
              "    <path d=\"M0 0h24v24H0V0z\" fill=\"none\"/>\n",
              "    <path d=\"M18.56 5.44l.94 2.06.94-2.06 2.06-.94-2.06-.94-.94-2.06-.94 2.06-2.06.94zm-11 1L8.5 8.5l.94-2.06 2.06-.94-2.06-.94L8.5 2.5l-.94 2.06-2.06.94zm10 10l.94 2.06.94-2.06 2.06-.94-2.06-.94-.94-2.06-.94 2.06-2.06.94z\"/><path d=\"M17.41 7.96l-1.37-1.37c-.4-.4-.92-.59-1.43-.59-.52 0-1.04.2-1.43.59L10.3 9.45l-7.72 7.72c-.78.78-.78 2.05 0 2.83L4 21.41c.39.39.9.59 1.41.59.51 0 1.02-.2 1.41-.59l7.78-7.78 2.81-2.81c.8-.78.8-2.07 0-2.86zM5.41 20L4 18.59l7.72-7.72 1.47 1.35L5.41 20z\"/>\n",
              "  </svg>\n",
              "      </button>\n",
              "\n",
              "\n",
              "\n",
              "    <div id=\"df-dc0b689f-0603-4503-82fe-2aac67fe2e0b\">\n",
              "      <button class=\"colab-df-quickchart\" onclick=\"quickchart('df-dc0b689f-0603-4503-82fe-2aac67fe2e0b')\"\n",
              "              title=\"Suggest charts.\"\n",
              "              style=\"display:none;\">\n",
              "\n",
              "<svg xmlns=\"http://www.w3.org/2000/svg\" height=\"24px\"viewBox=\"0 0 24 24\"\n",
              "     width=\"24px\">\n",
              "    <g>\n",
              "        <path d=\"M19 3H5c-1.1 0-2 .9-2 2v14c0 1.1.9 2 2 2h14c1.1 0 2-.9 2-2V5c0-1.1-.9-2-2-2zM9 17H7v-7h2v7zm4 0h-2V7h2v10zm4 0h-2v-4h2v4z\"/>\n",
              "    </g>\n",
              "</svg>\n",
              "      </button>\n",
              "    </div>\n",
              "\n",
              "<style>\n",
              "  .colab-df-quickchart {\n",
              "    background-color: #E8F0FE;\n",
              "    border: none;\n",
              "    border-radius: 50%;\n",
              "    cursor: pointer;\n",
              "    display: none;\n",
              "    fill: #1967D2;\n",
              "    height: 32px;\n",
              "    padding: 0 0 0 0;\n",
              "    width: 32px;\n",
              "  }\n",
              "\n",
              "  .colab-df-quickchart:hover {\n",
              "    background-color: #E2EBFA;\n",
              "    box-shadow: 0px 1px 2px rgba(60, 64, 67, 0.3), 0px 1px 3px 1px rgba(60, 64, 67, 0.15);\n",
              "    fill: #174EA6;\n",
              "  }\n",
              "\n",
              "  [theme=dark] .colab-df-quickchart {\n",
              "    background-color: #3B4455;\n",
              "    fill: #D2E3FC;\n",
              "  }\n",
              "\n",
              "  [theme=dark] .colab-df-quickchart:hover {\n",
              "    background-color: #434B5C;\n",
              "    box-shadow: 0px 1px 3px 1px rgba(0, 0, 0, 0.15);\n",
              "    filter: drop-shadow(0px 1px 2px rgba(0, 0, 0, 0.3));\n",
              "    fill: #FFFFFF;\n",
              "  }\n",
              "</style>\n",
              "\n",
              "    <script>\n",
              "      async function quickchart(key) {\n",
              "        const containerElement = document.querySelector('#' + key);\n",
              "        const charts = await google.colab.kernel.invokeFunction(\n",
              "            'suggestCharts', [key], {});\n",
              "      }\n",
              "    </script>\n",
              "\n",
              "      <script>\n",
              "\n",
              "function displayQuickchartButton(domScope) {\n",
              "  let quickchartButtonEl =\n",
              "    domScope.querySelector('#df-dc0b689f-0603-4503-82fe-2aac67fe2e0b button.colab-df-quickchart');\n",
              "  quickchartButtonEl.style.display =\n",
              "    google.colab.kernel.accessAllowed ? 'block' : 'none';\n",
              "}\n",
              "\n",
              "        displayQuickchartButton(document);\n",
              "      </script>\n",
              "      <style>\n",
              "    .colab-df-container {\n",
              "      display:flex;\n",
              "      flex-wrap:wrap;\n",
              "      gap: 12px;\n",
              "    }\n",
              "\n",
              "    .colab-df-convert {\n",
              "      background-color: #E8F0FE;\n",
              "      border: none;\n",
              "      border-radius: 50%;\n",
              "      cursor: pointer;\n",
              "      display: none;\n",
              "      fill: #1967D2;\n",
              "      height: 32px;\n",
              "      padding: 0 0 0 0;\n",
              "      width: 32px;\n",
              "    }\n",
              "\n",
              "    .colab-df-convert:hover {\n",
              "      background-color: #E2EBFA;\n",
              "      box-shadow: 0px 1px 2px rgba(60, 64, 67, 0.3), 0px 1px 3px 1px rgba(60, 64, 67, 0.15);\n",
              "      fill: #174EA6;\n",
              "    }\n",
              "\n",
              "    [theme=dark] .colab-df-convert {\n",
              "      background-color: #3B4455;\n",
              "      fill: #D2E3FC;\n",
              "    }\n",
              "\n",
              "    [theme=dark] .colab-df-convert:hover {\n",
              "      background-color: #434B5C;\n",
              "      box-shadow: 0px 1px 3px 1px rgba(0, 0, 0, 0.15);\n",
              "      filter: drop-shadow(0px 1px 2px rgba(0, 0, 0, 0.3));\n",
              "      fill: #FFFFFF;\n",
              "    }\n",
              "  </style>\n",
              "\n",
              "      <script>\n",
              "        const buttonEl =\n",
              "          document.querySelector('#df-d48469f2-582c-4fbf-a7eb-905fc8b9fb4d button.colab-df-convert');\n",
              "        buttonEl.style.display =\n",
              "          google.colab.kernel.accessAllowed ? 'block' : 'none';\n",
              "\n",
              "        async function convertToInteractive(key) {\n",
              "          const element = document.querySelector('#df-d48469f2-582c-4fbf-a7eb-905fc8b9fb4d');\n",
              "          const dataTable =\n",
              "            await google.colab.kernel.invokeFunction('convertToInteractive',\n",
              "                                                     [key], {});\n",
              "          if (!dataTable) return;\n",
              "\n",
              "          const docLinkHtml = 'Like what you see? Visit the ' +\n",
              "            '<a target=\"_blank\" href=https://colab.research.google.com/notebooks/data_table.ipynb>data table notebook</a>'\n",
              "            + ' to learn more about interactive tables.';\n",
              "          element.innerHTML = '';\n",
              "          dataTable['output_type'] = 'display_data';\n",
              "          await google.colab.output.renderOutput(dataTable, element);\n",
              "          const docLink = document.createElement('div');\n",
              "          docLink.innerHTML = docLinkHtml;\n",
              "          element.appendChild(docLink);\n",
              "        }\n",
              "      </script>\n",
              "    </div>\n",
              "  </div>\n"
            ]
          },
          "metadata": {},
          "execution_count": 3
        }
      ]
    },
    {
      "cell_type": "markdown",
      "source": [
        "# 2 способ создания данных"
      ],
      "metadata": {
        "id": "b4b5dGdMmlAp"
      }
    },
    {
      "cell_type": "code",
      "source": [
        "# генерируем данные для X и y\n",
        "N = 1\n",
        "X, y = make_regression(n_samples=10000,n_features = N, noise=100, random_state=0)\n",
        "# Create a DataFrame from the X array\n",
        "list_features=['feature'+str(i) for i in range(1, N+1)]\n",
        "\n",
        "df = pd.DataFrame(X, columns=list_features)\n",
        "df['feature_new'] = df['feature1'].map(lambda x: x*2+np.random.rand())\n",
        "df.head()"
      ],
      "metadata": {
        "colab": {
          "base_uri": "https://localhost:8080/",
          "height": 206
        },
        "id": "JTQNSE1OlIgQ",
        "outputId": "cf2d8119-deb9-40f9-b4ef-a35f9d7929f2"
      },
      "execution_count": null,
      "outputs": [
        {
          "output_type": "execute_result",
          "data": {
            "text/plain": [
              "   feature1  feature_new\n",
              "0  0.582624     1.810721\n",
              "1 -1.310930    -2.444750\n",
              "2 -0.762516    -0.584574\n",
              "3  0.177450     1.308829\n",
              "4 -1.306872    -1.698879"
            ],
            "text/html": [
              "\n",
              "\n",
              "  <div id=\"df-308ec8d2-c358-4c1c-a983-622516c2228c\">\n",
              "    <div class=\"colab-df-container\">\n",
              "      <div>\n",
              "<style scoped>\n",
              "    .dataframe tbody tr th:only-of-type {\n",
              "        vertical-align: middle;\n",
              "    }\n",
              "\n",
              "    .dataframe tbody tr th {\n",
              "        vertical-align: top;\n",
              "    }\n",
              "\n",
              "    .dataframe thead th {\n",
              "        text-align: right;\n",
              "    }\n",
              "</style>\n",
              "<table border=\"1\" class=\"dataframe\">\n",
              "  <thead>\n",
              "    <tr style=\"text-align: right;\">\n",
              "      <th></th>\n",
              "      <th>feature1</th>\n",
              "      <th>feature_new</th>\n",
              "    </tr>\n",
              "  </thead>\n",
              "  <tbody>\n",
              "    <tr>\n",
              "      <th>0</th>\n",
              "      <td>0.582624</td>\n",
              "      <td>1.810721</td>\n",
              "    </tr>\n",
              "    <tr>\n",
              "      <th>1</th>\n",
              "      <td>-1.310930</td>\n",
              "      <td>-2.444750</td>\n",
              "    </tr>\n",
              "    <tr>\n",
              "      <th>2</th>\n",
              "      <td>-0.762516</td>\n",
              "      <td>-0.584574</td>\n",
              "    </tr>\n",
              "    <tr>\n",
              "      <th>3</th>\n",
              "      <td>0.177450</td>\n",
              "      <td>1.308829</td>\n",
              "    </tr>\n",
              "    <tr>\n",
              "      <th>4</th>\n",
              "      <td>-1.306872</td>\n",
              "      <td>-1.698879</td>\n",
              "    </tr>\n",
              "  </tbody>\n",
              "</table>\n",
              "</div>\n",
              "      <button class=\"colab-df-convert\" onclick=\"convertToInteractive('df-308ec8d2-c358-4c1c-a983-622516c2228c')\"\n",
              "              title=\"Convert this dataframe to an interactive table.\"\n",
              "              style=\"display:none;\">\n",
              "\n",
              "  <svg xmlns=\"http://www.w3.org/2000/svg\" height=\"24px\"viewBox=\"0 0 24 24\"\n",
              "       width=\"24px\">\n",
              "    <path d=\"M0 0h24v24H0V0z\" fill=\"none\"/>\n",
              "    <path d=\"M18.56 5.44l.94 2.06.94-2.06 2.06-.94-2.06-.94-.94-2.06-.94 2.06-2.06.94zm-11 1L8.5 8.5l.94-2.06 2.06-.94-2.06-.94L8.5 2.5l-.94 2.06-2.06.94zm10 10l.94 2.06.94-2.06 2.06-.94-2.06-.94-.94-2.06-.94 2.06-2.06.94z\"/><path d=\"M17.41 7.96l-1.37-1.37c-.4-.4-.92-.59-1.43-.59-.52 0-1.04.2-1.43.59L10.3 9.45l-7.72 7.72c-.78.78-.78 2.05 0 2.83L4 21.41c.39.39.9.59 1.41.59.51 0 1.02-.2 1.41-.59l7.78-7.78 2.81-2.81c.8-.78.8-2.07 0-2.86zM5.41 20L4 18.59l7.72-7.72 1.47 1.35L5.41 20z\"/>\n",
              "  </svg>\n",
              "      </button>\n",
              "\n",
              "\n",
              "\n",
              "    <div id=\"df-67026be3-5ada-40da-98fd-8dfeb5d278dc\">\n",
              "      <button class=\"colab-df-quickchart\" onclick=\"quickchart('df-67026be3-5ada-40da-98fd-8dfeb5d278dc')\"\n",
              "              title=\"Suggest charts.\"\n",
              "              style=\"display:none;\">\n",
              "\n",
              "<svg xmlns=\"http://www.w3.org/2000/svg\" height=\"24px\"viewBox=\"0 0 24 24\"\n",
              "     width=\"24px\">\n",
              "    <g>\n",
              "        <path d=\"M19 3H5c-1.1 0-2 .9-2 2v14c0 1.1.9 2 2 2h14c1.1 0 2-.9 2-2V5c0-1.1-.9-2-2-2zM9 17H7v-7h2v7zm4 0h-2V7h2v10zm4 0h-2v-4h2v4z\"/>\n",
              "    </g>\n",
              "</svg>\n",
              "      </button>\n",
              "    </div>\n",
              "\n",
              "<style>\n",
              "  .colab-df-quickchart {\n",
              "    background-color: #E8F0FE;\n",
              "    border: none;\n",
              "    border-radius: 50%;\n",
              "    cursor: pointer;\n",
              "    display: none;\n",
              "    fill: #1967D2;\n",
              "    height: 32px;\n",
              "    padding: 0 0 0 0;\n",
              "    width: 32px;\n",
              "  }\n",
              "\n",
              "  .colab-df-quickchart:hover {\n",
              "    background-color: #E2EBFA;\n",
              "    box-shadow: 0px 1px 2px rgba(60, 64, 67, 0.3), 0px 1px 3px 1px rgba(60, 64, 67, 0.15);\n",
              "    fill: #174EA6;\n",
              "  }\n",
              "\n",
              "  [theme=dark] .colab-df-quickchart {\n",
              "    background-color: #3B4455;\n",
              "    fill: #D2E3FC;\n",
              "  }\n",
              "\n",
              "  [theme=dark] .colab-df-quickchart:hover {\n",
              "    background-color: #434B5C;\n",
              "    box-shadow: 0px 1px 3px 1px rgba(0, 0, 0, 0.15);\n",
              "    filter: drop-shadow(0px 1px 2px rgba(0, 0, 0, 0.3));\n",
              "    fill: #FFFFFF;\n",
              "  }\n",
              "</style>\n",
              "\n",
              "    <script>\n",
              "      async function quickchart(key) {\n",
              "        const containerElement = document.querySelector('#' + key);\n",
              "        const charts = await google.colab.kernel.invokeFunction(\n",
              "            'suggestCharts', [key], {});\n",
              "      }\n",
              "    </script>\n",
              "\n",
              "      <script>\n",
              "\n",
              "function displayQuickchartButton(domScope) {\n",
              "  let quickchartButtonEl =\n",
              "    domScope.querySelector('#df-67026be3-5ada-40da-98fd-8dfeb5d278dc button.colab-df-quickchart');\n",
              "  quickchartButtonEl.style.display =\n",
              "    google.colab.kernel.accessAllowed ? 'block' : 'none';\n",
              "}\n",
              "\n",
              "        displayQuickchartButton(document);\n",
              "      </script>\n",
              "      <style>\n",
              "    .colab-df-container {\n",
              "      display:flex;\n",
              "      flex-wrap:wrap;\n",
              "      gap: 12px;\n",
              "    }\n",
              "\n",
              "    .colab-df-convert {\n",
              "      background-color: #E8F0FE;\n",
              "      border: none;\n",
              "      border-radius: 50%;\n",
              "      cursor: pointer;\n",
              "      display: none;\n",
              "      fill: #1967D2;\n",
              "      height: 32px;\n",
              "      padding: 0 0 0 0;\n",
              "      width: 32px;\n",
              "    }\n",
              "\n",
              "    .colab-df-convert:hover {\n",
              "      background-color: #E2EBFA;\n",
              "      box-shadow: 0px 1px 2px rgba(60, 64, 67, 0.3), 0px 1px 3px 1px rgba(60, 64, 67, 0.15);\n",
              "      fill: #174EA6;\n",
              "    }\n",
              "\n",
              "    [theme=dark] .colab-df-convert {\n",
              "      background-color: #3B4455;\n",
              "      fill: #D2E3FC;\n",
              "    }\n",
              "\n",
              "    [theme=dark] .colab-df-convert:hover {\n",
              "      background-color: #434B5C;\n",
              "      box-shadow: 0px 1px 3px 1px rgba(0, 0, 0, 0.15);\n",
              "      filter: drop-shadow(0px 1px 2px rgba(0, 0, 0, 0.3));\n",
              "      fill: #FFFFFF;\n",
              "    }\n",
              "  </style>\n",
              "\n",
              "      <script>\n",
              "        const buttonEl =\n",
              "          document.querySelector('#df-308ec8d2-c358-4c1c-a983-622516c2228c button.colab-df-convert');\n",
              "        buttonEl.style.display =\n",
              "          google.colab.kernel.accessAllowed ? 'block' : 'none';\n",
              "\n",
              "        async function convertToInteractive(key) {\n",
              "          const element = document.querySelector('#df-308ec8d2-c358-4c1c-a983-622516c2228c');\n",
              "          const dataTable =\n",
              "            await google.colab.kernel.invokeFunction('convertToInteractive',\n",
              "                                                     [key], {});\n",
              "          if (!dataTable) return;\n",
              "\n",
              "          const docLinkHtml = 'Like what you see? Visit the ' +\n",
              "            '<a target=\"_blank\" href=https://colab.research.google.com/notebooks/data_table.ipynb>data table notebook</a>'\n",
              "            + ' to learn more about interactive tables.';\n",
              "          element.innerHTML = '';\n",
              "          dataTable['output_type'] = 'display_data';\n",
              "          await google.colab.output.renderOutput(dataTable, element);\n",
              "          const docLink = document.createElement('div');\n",
              "          docLink.innerHTML = docLinkHtml;\n",
              "          element.appendChild(docLink);\n",
              "        }\n",
              "      </script>\n",
              "    </div>\n",
              "  </div>\n"
            ]
          },
          "metadata": {},
          "execution_count": 4
        }
      ]
    },
    {
      "cell_type": "markdown",
      "source": [
        "# Подготовка данных"
      ],
      "metadata": {
        "id": "QOLXC9WFmouJ"
      }
    },
    {
      "cell_type": "code",
      "source": [
        "features = list(df.columns)\n",
        "target = 'y'\n",
        "try:\n",
        "  features.remove(target)\n",
        "except Exception as e:\n",
        "  print(e)"
      ],
      "metadata": {
        "id": "vK-3faUacTJF",
        "colab": {
          "base_uri": "https://localhost:8080/"
        },
        "outputId": "475bbcda-a241-4c4e-f6a9-c5af6c82736c"
      },
      "execution_count": null,
      "outputs": [
        {
          "output_type": "stream",
          "name": "stdout",
          "text": [
            "list.remove(x): x not in list\n"
          ]
        }
      ]
    },
    {
      "cell_type": "code",
      "source": [
        "X = df[features]\n",
        "try:\n",
        "  y = df[target]\n",
        "except Exception as e:\n",
        "  print(e)"
      ],
      "metadata": {
        "id": "rM_vQKYTb944",
        "colab": {
          "base_uri": "https://localhost:8080/"
        },
        "outputId": "b8b36ea9-80cb-4ede-9f72-640143cae24d"
      },
      "execution_count": null,
      "outputs": [
        {
          "output_type": "stream",
          "name": "stdout",
          "text": [
            "'y'\n"
          ]
        }
      ]
    },
    {
      "cell_type": "code",
      "source": [
        "# Расчет матрицы парных корреляций\n",
        "\n",
        "correlation_matrix = X.corr()\n",
        "\n",
        "# Визуализация матрицы парных корреляций\n",
        "plt.figure(figsize=(10, 5))\n",
        "sns.heatmap(correlation_matrix, annot=True, cmap='coolwarm')\n",
        "plt.title('Матрица парных корреляций')\n",
        "plt.show()"
      ],
      "metadata": {
        "colab": {
          "base_uri": "https://localhost:8080/",
          "height": 468
        },
        "id": "KQi3nTxxpiCM",
        "outputId": "a4c5a0e1-6ea3-4ac6-fb30-584117d489db"
      },
      "execution_count": null,
      "outputs": [
        {
          "output_type": "display_data",
          "data": {
            "text/plain": [
              "<Figure size 1000x500 with 2 Axes>"
            ],
            "image/png": "[encoded data removed]"
          },
          "metadata": {}
        }
      ]
    },
    {
      "cell_type": "code",
      "source": [
        "# разделение данных на train и test\n",
        "X_train, X_test, y_train, y_test = train_test_split(X, y, test_size=0.3, random_state=0)"
      ],
      "metadata": {
        "id": "Tpd9uyuyyh91"
      },
      "execution_count": null,
      "outputs": []
    },
    {
      "cell_type": "code",
      "source": [
        "# Нормализация признаков для лучшей сходимости. Рассказать про важность нормализации именно для регуляризации\n",
        "scaler = StandardScaler()\n",
        "X_train_scaled = scaler.fit_transform(X_train)\n",
        "X_test_scaled = scaler.transform(X_test)"
      ],
      "metadata": {
        "id": "ZmtR26100GDN"
      },
      "execution_count": null,
      "outputs": []
    },
    {
      "cell_type": "code",
      "source": [
        "# задаем интервал перебора для alpha\n",
        "# альфа зависит от размера выборки\n",
        "\n",
        "start = 0.0      # Начальное значение диапазона\n",
        "stop = 1000       # Конечное значение диапазона (не включается в результат)\n",
        "step = 10       # Шаг между значениями\n",
        "float_range = np.arange(start, stop, step)\n",
        "print(float_range)"
      ],
      "metadata": {
        "colab": {
          "base_uri": "https://localhost:8080/"
        },
        "id": "hIhku_FDWh17",
        "outputId": "8d1c92e0-34d1-48cc-ac26-9c18c3fc824f"
      },
      "execution_count": null,
      "outputs": [
        {
          "output_type": "stream",
          "name": "stdout",
          "text": [
            "[  0.  10.  20.  30.  40.  50.  60.  70.  80.  90. 100. 110. 120. 130.\n",
            " 140. 150. 160. 170. 180. 190. 200. 210. 220. 230. 240. 250. 260. 270.\n",
            " 280. 290. 300. 310. 320. 330. 340. 350. 360. 370. 380. 390. 400. 410.\n",
            " 420. 430. 440. 450. 460. 470. 480. 490. 500. 510. 520. 530. 540. 550.\n",
            " 560. 570. 580. 590. 600. 610. 620. 630. 640. 650. 660. 670. 680. 690.\n",
            " 700. 710. 720. 730. 740. 750. 760. 770. 780. 790. 800. 810. 820. 830.\n",
            " 840. 850. 860. 870. 880. 890. 900. 910. 920. 930. 940. 950. 960. 970.\n",
            " 980. 990.]\n"
          ]
        }
      ]
    },
    {
      "cell_type": "markdown",
      "source": [
        "# RIDGE  регрессия"
      ],
      "metadata": {
        "id": "O5qvQ1iWgGkg"
      }
    },
    {
      "cell_type": "code",
      "source": [
        "R_2_scores = []\n",
        "avg_coefficients = []\n",
        "mae_list = []\n",
        "mse_list = []\n",
        "for alpha in float_range:\n",
        "\n",
        "  if alpha == 0:\n",
        "    model = LinearRegression()\n",
        "  else:\n",
        "    model = Ridge(alpha=alpha, max_iter=1000) # alpha — величина регуляризации\n",
        "  # Обучение модели на обучающих данных.\n",
        "  model.fit(X_train_scaled, y_train)\n",
        "  y_pred_test = model.predict(X_test_scaled)\n",
        "  # Оценка качества модели на тестовых данных.\n",
        "  # mae = mean_absolute_error(y_test, y_pred_test )\n",
        "  # mae_list.append(mae)\n",
        "  mse = mean_squared_error(y_test, y_pred_test )\n",
        "  mse_list.append(mse)\n",
        "  # R_2_score = model.score(X_test, y_test)\n",
        "  # R_2_scores.append(R_2_score)\n",
        "  # print(\"R^2 score on test data:\", score)\n",
        "\n",
        "  # Веса (коэффициенты) модели с L1-регуляризацией.\n",
        "  coefficients = model.coef_\n",
        "  # avg_coefficient = np.mean(coefficients)\n",
        "  avg_coefficients.append(coefficients)\n",
        "  # print(\"Coefficients (weights) with L1 regularization:\")\n",
        "  # print(coefficients)\n"
      ],
      "metadata": {
        "id": "16kmqplC_Qo_"
      },
      "execution_count": null,
      "outputs": []
    },
    {
      "cell_type": "code",
      "source": [
        "avg_coefficients = np.transpose(avg_coefficients)"
      ],
      "metadata": {
        "id": "kI3Bs76kY0ah"
      },
      "execution_count": null,
      "outputs": []
    },
    {
      "cell_type": "code",
      "source": [
        "x = float_range\n",
        "y = avg_coefficients\n",
        "selected_y = y[0]\n",
        "# Create traces\n",
        "fig = go.Figure()\n",
        "for i, feature in enumerate(features):\n",
        "# for i in range(10):\n",
        "  selected_y = y[i]\n",
        "  fig.add_trace(go.Scatter(x=x, y=selected_y,\n",
        "                mode='lines',\n",
        "                name=feature))\n",
        "\n",
        "\n",
        "fig.add_trace(go.Scatter(x=x, y=mse_list,\n",
        "                mode='lines',\n",
        "                name='mse'))\n",
        "fig.show()\n",
        "# график интерактивный (нажмите мышкой на feature_new, feature1, mse)"
      ],
      "metadata": {
        "colab": {
          "base_uri": "https://localhost:8080/",
          "height": 542
        },
        "id": "w9ZbzzXaW9-8",
        "outputId": "492d4548-9171-4ac7-f49a-9834a1a60b54"
      },
      "execution_count": null,
      "outputs": [
        {
          "output_type": "display_data",
          "data": {
            "text/html": [
              "<html>\n",
              "<head><meta charset=\"utf-8\" /></head>\n",
              "<body>\n",
              "    <div>            <script src=\"https://cdnjs.cloudflare.com/ajax/libs/mathjax/2.7.5/MathJax.js?config=TeX-AMS-MML_SVG\"></script><script type=\"text/javascript\">if (window.MathJax && window.MathJax.Hub && window.MathJax.Hub.Config) {window.MathJax.Hub.Config({SVG: {font: \"STIX-Web\"}});}</script>                <script type=\"text/javascript\">window.PlotlyConfig = {MathJaxConfig: 'local'};</script>\n",
              "        <script src=\"https://cdn.plot.ly/plotly-2.18.2.min.js\"></script>                <div id=\"ef69adf7-d2d0-4a46-8e8d-731de80c1362\" class=\"plotly-graph-div\" style=\"height:525px; width:100%;\"></div>            <script type=\"text/javascript\">                                    window.PLOTLYENV=window.PLOTLYENV || {};                                    if (document.getElementById(\"ef69adf7-d2d0-4a46-8e8d-731de80c1362\")) {                    Plotly.newPlot(                        \"ef69adf7-d2d0-4a46-8e8d-731de80c1362\",                        [{\"mode\":\"lines\",\"name\":\"feature1\",\"x\":[0.0,10.0,20.0,30.0,40.0,50.0,60.0,70.0,80.0,90.0,100.0,110.0,120.0,130.0,140.0,150.0,160.0,170.0,180.0,190.0,200.0,210.0,220.0,230.0,240.0,250.0,260.0,270.0,280.0,290.0,300.0,310.0,320.0,330.0,340.0,350.0,360.0,370.0,380.0,390.0,400.0,410.0,420.0,430.0,440.0,450.0,460.0,470.0,480.0,490.0,500.0,510.0,520.0,530.0,540.0,550.0,560.0,570.0,580.0,590.0,600.0,610.0,620.0,630.0,640.0,650.0,660.0,670.0,680.0,690.0,700.0,710.0,720.0,730.0,740.0,750.0,760.0,770.0,780.0,790.0,800.0,810.0,820.0,830.0,840.0,850.0,860.0,870.0,880.0,890.0,900.0,910.0,920.0,930.0,940.0,950.0,960.0,970.0,980.0,990.0],\"y\":[17.337095913113938,15.72785029885926,14.462183403577384,13.440520688609421,12.598375997032607,11.892147205733933,11.291295241030461,10.773792900141123,10.323352486374048,9.927670746121443,9.577280699223039,9.264778866413096,8.984292100289382,8.731101606091666,8.501372617743812,8.29195663992306,8.100244503081427,7.924055624769091,7.761553479969866,7.611180318241297,7.4716062018351765,7.341688828912617,7.220441569712869,7.107007821498873,7.00064027144678,6.900684005524075,6.806562656132897,6.717766969289317,6.63384531223883,6.554395747847667,6.479059382140708,6.407514752606745,6.339473072134752,6.274674180148775,6.212883081226562,6.153886974099439,6.097492691851093,6.043524488415739,5.991822117923367,5.942239162666899,5.894641572936677,5.84890638804951,5.804920612871792,5.762580228219269,5.721789316883773,5.682459289826527,5.644508199395304,5.607860128357635,5.572444645161864,5.538196317199365,5.505054274988377,5.472961821170894,5.441866079037244,5.411717675993618,5.382470457985576,5.354081231402481,5.326509529425907,5.299717400163545,5.273669214234645,5.248331489755216,5.22367273291438,5.199663292545217,5.176275227277589,5.153482184020983,5.131259286665864,5.109583034014818,5.088431206062849,5.067782777840521,5.04761784011768,5.027917526338405,5.008663945223647,4.9898401185349615,4.971429923544065,4.953418039798428,4.935789899813033,4.918531643354671,4.9016300750170645,4.885072624813755,4.868847311541129,4.852942708687216,4.837347912682013,4.82205251330411,4.807046566074357,4.792320566482937,4.777865425909128,4.763672449105568,4.749733313129679,4.736040047614869,4.722585016283186,4.7093608996091945,4.696360678552336,4.683577619281738,4.6710052588233895,4.658637391565637,4.646468056563437,4.634491525586887,4.6227022918635745,4.611095059468262,4.599664733316786,4.58840640972449],\"type\":\"scatter\"},{\"mode\":\"lines\",\"name\":\"feature_new\",\"x\":[0.0,10.0,20.0,30.0,40.0,50.0,60.0,70.0,80.0,90.0,100.0,110.0,120.0,130.0,140.0,150.0,160.0,170.0,180.0,190.0,200.0,210.0,220.0,230.0,240.0,250.0,260.0,270.0,280.0,290.0,300.0,310.0,320.0,330.0,340.0,350.0,360.0,370.0,380.0,390.0,400.0,410.0,420.0,430.0,440.0,450.0,460.0,470.0,480.0,490.0,500.0,510.0,520.0,530.0,540.0,550.0,560.0,570.0,580.0,590.0,600.0,610.0,620.0,630.0,640.0,650.0,660.0,670.0,680.0,690.0,700.0,710.0,720.0,730.0,740.0,750.0,760.0,770.0,780.0,790.0,800.0,810.0,820.0,830.0,840.0,850.0,860.0,870.0,880.0,890.0,900.0,910.0,920.0,930.0,940.0,950.0,960.0,970.0,980.0,990.0],\"y\":[-9.494436086926296,-7.890817902113179,-6.63077036624151,-5.614718957999235,-4.778177537760746,-4.077543999660701,-3.4822792872144794,-2.9703562147901947,-2.525487102796175,-2.1353687146760314,-1.790534087272269,-1.4835797582734753,-1.2086325971834564,-0.9609738260999159,-0.736768695756711,-0.5328687275933145,-0.34666476877637015,-0.17597625352325563,-0.018966673437724103,0.125921705349829,0.26001880406169525,0.38446690805760575,0.5002526306657488,0.608232558237049,0.7091539872554913,0.8036718154598367,0.8923623942001251,0.9757349612582465,1.0542411332322892,1.1282828311450606,1.1982189329060158,1.2643708850058417,1.3270274585800248,1.386448798273796,1.442869883623355,1.496503500055836,1.5475427986903574,1.5961635098397193,1.6425258636649824,1.6867762622081683,1.7290487395576233,1.7694662408187964,1.8081417455909987,1.8451792575674628,1.88067467850847,1.9147165820478904,1.9473869004758746,1.9787615357054997,2.0089109040115645,2.0379004227682227,2.065790946265007,2.0926391567097857,2.1184979157040433,2.143416580775204,2.167441290952982,2.1906152248648025,2.212978834387251,2.234570056512027,2.2554245057603555,2.2755756491976498,2.2950549658570116,2.313892092168251,2.332114954804921,2.34974989220133,2.3668217658510606,2.383354062375679,2.3993689872443045,2.4148875509303327,2.4299296482075716,2.4445141312151604,2.4586588768547903,2.4723808490268437,2.485696156160695,2.4986201044489933,2.511167247155762,2.5233514303319793,2.535185835240313,2.546683017762114,2.5578549450342463,2.56871302954017,2.5792681608594763,2.5895307352611465,2.5995106833097377,2.6092174956381964,2.6186602470279703,2.6278476189246005,2.6367879205061855,2.6454891084120478,2.6539588052299523,2.6622043168321112,2.670232648642685,2.678050520912872,2.685664383073584,2.693080427229844,2.700304600856411,2.707342618749113,2.7141999742823884,2.7208819500194807,2.727393627718413,2.7337398977734324],\"type\":\"scatter\"},{\"mode\":\"lines\",\"name\":\"mse\",\"x\":[0.0,10.0,20.0,30.0,40.0,50.0,60.0,70.0,80.0,90.0,100.0,110.0,120.0,130.0,140.0,150.0,160.0,170.0,180.0,190.0,200.0,210.0,220.0,230.0,240.0,250.0,260.0,270.0,280.0,290.0,300.0,310.0,320.0,330.0,340.0,350.0,360.0,370.0,380.0,390.0,400.0,410.0,420.0,430.0,440.0,450.0,460.0,470.0,480.0,490.0,500.0,510.0,520.0,530.0,540.0,550.0,560.0,570.0,580.0,590.0,600.0,610.0,620.0,630.0,640.0,650.0,660.0,670.0,680.0,690.0,700.0,710.0,720.0,730.0,740.0,750.0,760.0,770.0,780.0,790.0,800.0,810.0,820.0,830.0,840.0,850.0,860.0,870.0,880.0,890.0,900.0,910.0,920.0,930.0,940.0,950.0,960.0,970.0,980.0,990.0],\"y\":[10352.796558578046,10351.303693973536,10350.210992072482,10349.382808833461,10348.73762151015,10348.223767169957,10347.807062137557,10347.464063546313,10347.178201602446,10346.937458347515,10346.732920637538,10346.557848070986,10346.40705523824,10346.276491895807,10346.162951238952,10346.063863126583,10345.977144886932,10345.90109192495,10345.834296334751,10345.775585537434,10345.723975450725,10345.678634347501,10345.638854674702,10345.604030869026,10345.573641738507,10345.547236354796,10345.52442266986,10345.504858265014,10345.488242782332,10345.474311693499,10345.46283113929,10345.453593631946,10345.446414457274,10345.441128647595,10345.437588422965,10345.435661018579,10345.435226832295,10345.43617783871,10345.43841622629,10345.44185322186,10345.446408073225,10345.452007165686,10345.458583252415,10345.46607478199,10345.474425309088,10345.48358297666,10345.493500059632,10345.504132561893,10345.515439859353,10345.527384383166,10345.539931337862,10345.55304845007,10345.566705743986,10345.580875340347,10345.59553127611,10345.610649342369,10345.626206938417,10345.642182940119,10345.658557580948,10345.67531234436,10345.692429866185,10345.70989384603,10345.727688966716,10345.745800820909,10345.764215844212,10345.782921254075,10345.801904993928,10345.821155682028,10345.840662564578,10345.860415472678,10345.88040478278,10345.900621380291,10345.92105662608,10345.941702325552,10345.962550700127,10345.983594360892,10346.004826284212,10346.026239789158,10346.047828516588,10346.069586409742,10346.09150769622,10346.113586871237,10346.135818682054,10346.15819811347,10346.18072037431,10346.20338088484,10346.226175264994,10346.249099323411,10346.27214904716,10346.295320592146,10346.318610274118,10346.342014560267,10346.365530061323,10346.389153524155,10346.412881824834,10346.436711962098,10346.46064105123,10346.484666318278,10346.508785094642,10346.532994811952],\"type\":\"scatter\"}],                        {\"template\":{\"data\":{\"histogram2dcontour\":[{\"type\":\"histogram2dcontour\",\"colorbar\":{\"outlinewidth\":0,\"ticks\":\"\"},\"colorscale\":[[0.0,\"#0d0887\"],[0.1111111111111111,\"#46039f\"],[0.2222222222222222,\"#7201a8\"],[0.3333333333333333,\"#9c179e\"],[0.4444444444444444,\"#bd3786\"],[0.5555555555555556,\"#d8576b\"],[0.6666666666666666,\"#ed7953\"],[0.7777777777777778,\"#fb9f3a\"],[0.8888888888888888,\"#fdca26\"],[1.0,\"#f0f921\"]]}],\"choropleth\":[{\"type\":\"choropleth\",\"colorbar\":{\"outlinewidth\":0,\"ticks\":\"\"}}],\"histogram2d\":[{\"type\":\"histogram2d\",\"colorbar\":{\"outlinewidth\":0,\"ticks\":\"\"},\"colorscale\":[[0.0,\"#0d0887\"],[0.1111111111111111,\"#46039f\"],[0.2222222222222222,\"#7201a8\"],[0.3333333333333333,\"#9c179e\"],[0.4444444444444444,\"#bd3786\"],[0.5555555555555556,\"#d8576b\"],[0.6666666666666666,\"#ed7953\"],[0.7777777777777778,\"#fb9f3a\"],[0.8888888888888888,\"#fdca26\"],[1.0,\"#f0f921\"]]}],\"heatmap\":[{\"type\":\"heatmap\",\"colorbar\":{\"outlinewidth\":0,\"ticks\":\"\"},\"colorscale\":[[0.0,\"#0d0887\"],[0.1111111111111111,\"#46039f\"],[0.2222222222222222,\"#7201a8\"],[0.3333333333333333,\"#9c179e\"],[0.4444444444444444,\"#bd3786\"],[0.5555555555555556,\"#d8576b\"],[0.6666666666666666,\"#ed7953\"],[0.7777777777777778,\"#fb9f3a\"],[0.8888888888888888,\"#fdca26\"],[1.0,\"#f0f921\"]]}],\"heatmapgl\":[{\"type\":\"heatmapgl\",\"colorbar\":{\"outlinewidth\":0,\"ticks\":\"\"},\"colorscale\":[[0.0,\"#0d0887\"],[0.1111111111111111,\"#46039f\"],[0.2222222222222222,\"#7201a8\"],[0.3333333333333333,\"#9c179e\"],[0.4444444444444444,\"#bd3786\"],[0.5555555555555556,\"#d8576b\"],[0.6666666666666666,\"#ed7953\"],[0.7777777777777778,\"#fb9f3a\"],[0.8888888888888888,\"#fdca26\"],[1.0,\"#f0f921\"]]}],\"contourcarpet\":[{\"type\":\"contourcarpet\",\"colorbar\":{\"outlinewidth\":0,\"ticks\":\"\"}}],\"contour\":[{\"type\":\"contour\",\"colorbar\":{\"outlinewidth\":0,\"ticks\":\"\"},\"colorscale\":[[0.0,\"#0d0887\"],[0.1111111111111111,\"#46039f\"],[0.2222222222222222,\"#7201a8\"],[0.3333333333333333,\"#9c179e\"],[0.4444444444444444,\"#bd3786\"],[0.5555555555555556,\"#d8576b\"],[0.6666666666666666,\"#ed7953\"],[0.7777777777777778,\"#fb9f3a\"],[0.8888888888888888,\"#fdca26\"],[1.0,\"#f0f921\"]]}],\"surface\":[{\"type\":\"surface\",\"colorbar\":{\"outlinewidth\":0,\"ticks\":\"\"},\"colorscale\":[[0.0,\"#0d0887\"],[0.1111111111111111,\"#46039f\"],[0.2222222222222222,\"#7201a8\"],[0.3333333333333333,\"#9c179e\"],[0.4444444444444444,\"#bd3786\"],[0.5555555555555556,\"#d8576b\"],[0.6666666666666666,\"#ed7953\"],[0.7777777777777778,\"#fb9f3a\"],[0.8888888888888888,\"#fdca26\"],[1.0,\"#f0f921\"]]}],\"mesh3d\":[{\"type\":\"mesh3d\",\"colorbar\":{\"outlinewidth\":0,\"ticks\":\"\"}}],\"scatter\":[{\"fillpattern\":{\"fillmode\":\"overlay\",\"size\":10,\"solidity\":0.2},\"type\":\"scatter\"}],\"parcoords\":[{\"type\":\"parcoords\",\"line\":{\"colorbar\":{\"outlinewidth\":0,\"ticks\":\"\"}}}],\"scatterpolargl\":[{\"type\":\"scatterpolargl\",\"marker\":{\"colorbar\":{\"outlinewidth\":0,\"ticks\":\"\"}}}],\"bar\":[{\"error_x\":{\"color\":\"#2a3f5f\"},\"error_y\":{\"color\":\"#2a3f5f\"},\"marker\":{\"line\":{\"color\":\"#E5ECF6\",\"width\":0.5},\"pattern\":{\"fillmode\":\"overlay\",\"size\":10,\"solidity\":0.2}},\"type\":\"bar\"}],\"scattergeo\":[{\"type\":\"scattergeo\",\"marker\":{\"colorbar\":{\"outlinewidth\":0,\"ticks\":\"\"}}}],\"scatterpolar\":[{\"type\":\"scatterpolar\",\"marker\":{\"colorbar\":{\"outlinewidth\":0,\"ticks\":\"\"}}}],\"histogram\":[{\"marker\":{\"pattern\":{\"fillmode\":\"overlay\",\"size\":10,\"solidity\":0.2}},\"type\":\"histogram\"}],\"scattergl\":[{\"type\":\"scattergl\",\"marker\":{\"colorbar\":{\"outlinewidth\":0,\"ticks\":\"\"}}}],\"scatter3d\":[{\"type\":\"scatter3d\",\"line\":{\"colorbar\":{\"outlinewidth\":0,\"ticks\":\"\"}},\"marker\":{\"colorbar\":{\"outlinewidth\":0,\"ticks\":\"\"}}}],\"scattermapbox\":[{\"type\":\"scattermapbox\",\"marker\":{\"colorbar\":{\"outlinewidth\":0,\"ticks\":\"\"}}}],\"scatterternary\":[{\"type\":\"scatterternary\",\"marker\":{\"colorbar\":{\"outlinewidth\":0,\"ticks\":\"\"}}}],\"scattercarpet\":[{\"type\":\"scattercarpet\",\"marker\":{\"colorbar\":{\"outlinewidth\":0,\"ticks\":\"\"}}}],\"carpet\":[{\"aaxis\":{\"endlinecolor\":\"#2a3f5f\",\"gridcolor\":\"white\",\"linecolor\":\"white\",\"minorgridcolor\":\"white\",\"startlinecolor\":\"#2a3f5f\"},\"baxis\":{\"endlinecolor\":\"#2a3f5f\",\"gridcolor\":\"white\",\"linecolor\":\"white\",\"minorgridcolor\":\"white\",\"startlinecolor\":\"#2a3f5f\"},\"type\":\"carpet\"}],\"table\":[{\"cells\":{\"fill\":{\"color\":\"#EBF0F8\"},\"line\":{\"color\":\"white\"}},\"header\":{\"fill\":{\"color\":\"#C8D4E3\"},\"line\":{\"color\":\"white\"}},\"type\":\"table\"}],\"barpolar\":[{\"marker\":{\"line\":{\"color\":\"#E5ECF6\",\"width\":0.5},\"pattern\":{\"fillmode\":\"overlay\",\"size\":10,\"solidity\":0.2}},\"type\":\"barpolar\"}],\"pie\":[{\"automargin\":true,\"type\":\"pie\"}]},\"layout\":{\"autotypenumbers\":\"strict\",\"colorway\":[\"#636efa\",\"#EF553B\",\"#00cc96\",\"#ab63fa\",\"#FFA15A\",\"#19d3f3\",\"#FF6692\",\"#B6E880\",\"#FF97FF\",\"#FECB52\"],\"font\":{\"color\":\"#2a3f5f\"},\"hovermode\":\"closest\",\"hoverlabel\":{\"align\":\"left\"},\"paper_bgcolor\":\"white\",\"plot_bgcolor\":\"#E5ECF6\",\"polar\":{\"bgcolor\":\"#E5ECF6\",\"angularaxis\":{\"gridcolor\":\"white\",\"linecolor\":\"white\",\"ticks\":\"\"},\"radialaxis\":{\"gridcolor\":\"white\",\"linecolor\":\"white\",\"ticks\":\"\"}},\"ternary\":{\"bgcolor\":\"#E5ECF6\",\"aaxis\":{\"gridcolor\":\"white\",\"linecolor\":\"white\",\"ticks\":\"\"},\"baxis\":{\"gridcolor\":\"white\",\"linecolor\":\"white\",\"ticks\":\"\"},\"caxis\":{\"gridcolor\":\"white\",\"linecolor\":\"white\",\"ticks\":\"\"}},\"coloraxis\":{\"colorbar\":{\"outlinewidth\":0,\"ticks\":\"\"}},\"colorscale\":{\"sequential\":[[0.0,\"#0d0887\"],[0.1111111111111111,\"#46039f\"],[0.2222222222222222,\"#7201a8\"],[0.3333333333333333,\"#9c179e\"],[0.4444444444444444,\"#bd3786\"],[0.5555555555555556,\"#d8576b\"],[0.6666666666666666,\"#ed7953\"],[0.7777777777777778,\"#fb9f3a\"],[0.8888888888888888,\"#fdca26\"],[1.0,\"#f0f921\"]],\"sequentialminus\":[[0.0,\"#0d0887\"],[0.1111111111111111,\"#46039f\"],[0.2222222222222222,\"#7201a8\"],[0.3333333333333333,\"#9c179e\"],[0.4444444444444444,\"#bd3786\"],[0.5555555555555556,\"#d8576b\"],[0.6666666666666666,\"#ed7953\"],[0.7777777777777778,\"#fb9f3a\"],[0.8888888888888888,\"#fdca26\"],[1.0,\"#f0f921\"]],\"diverging\":[[0,\"#8e0152\"],[0.1,\"#c51b7d\"],[0.2,\"#de77ae\"],[0.3,\"#f1b6da\"],[0.4,\"#fde0ef\"],[0.5,\"#f7f7f7\"],[0.6,\"#e6f5d0\"],[0.7,\"#b8e186\"],[0.8,\"#7fbc41\"],[0.9,\"#4d9221\"],[1,\"#276419\"]]},\"xaxis\":{\"gridcolor\":\"white\",\"linecolor\":\"white\",\"ticks\":\"\",\"title\":{\"standoff\":15},\"zerolinecolor\":\"white\",\"automargin\":true,\"zerolinewidth\":2},\"yaxis\":{\"gridcolor\":\"white\",\"linecolor\":\"white\",\"ticks\":\"\",\"title\":{\"standoff\":15},\"zerolinecolor\":\"white\",\"automargin\":true,\"zerolinewidth\":2},\"scene\":{\"xaxis\":{\"backgroundcolor\":\"#E5ECF6\",\"gridcolor\":\"white\",\"linecolor\":\"white\",\"showbackground\":true,\"ticks\":\"\",\"zerolinecolor\":\"white\",\"gridwidth\":2},\"yaxis\":{\"backgroundcolor\":\"#E5ECF6\",\"gridcolor\":\"white\",\"linecolor\":\"white\",\"showbackground\":true,\"ticks\":\"\",\"zerolinecolor\":\"white\",\"gridwidth\":2},\"zaxis\":{\"backgroundcolor\":\"#E5ECF6\",\"gridcolor\":\"white\",\"linecolor\":\"white\",\"showbackground\":true,\"ticks\":\"\",\"zerolinecolor\":\"white\",\"gridwidth\":2}},\"shapedefaults\":{\"line\":{\"color\":\"#2a3f5f\"}},\"annotationdefaults\":{\"arrowcolor\":\"#2a3f5f\",\"arrowhead\":0,\"arrowwidth\":1},\"geo\":{\"bgcolor\":\"white\",\"landcolor\":\"#E5ECF6\",\"subunitcolor\":\"white\",\"showland\":true,\"showlakes\":true,\"lakecolor\":\"white\"},\"title\":{\"x\":0.05},\"mapbox\":{\"style\":\"light\"}}}},                        {\"responsive\": true}                    ).then(function(){\n",
              "                            \n",
              "var gd = document.getElementById('ef69adf7-d2d0-4a46-8e8d-731de80c1362');\n",
              "var x = new MutationObserver(function (mutations, observer) {{\n",
              "        var display = window.getComputedStyle(gd).display;\n",
              "        if (!display || display === 'none') {{\n",
              "            console.log([gd, 'removed!']);\n",
              "            Plotly.purge(gd);\n",
              "            observer.disconnect();\n",
              "        }}\n",
              "}});\n",
              "\n",
              "// Listen for the removal of the full notebook cells\n",
              "var notebookContainer = gd.closest('#notebook-container');\n",
              "if (notebookContainer) {{\n",
              "    x.observe(notebookContainer, {childList: true});\n",
              "}}\n",
              "\n",
              "// Listen for the clearing of the current output cell\n",
              "var outputEl = gd.closest('.output');\n",
              "if (outputEl) {{\n",
              "    x.observe(outputEl, {childList: true});\n",
              "}}\n",
              "\n",
              "                        })                };                            </script>        </div>\n",
              "</body>\n",
              "</html>"
            ]
          },
          "metadata": {}
        }
      ]
    },
    {
      "cell_type": "markdown",
      "source": [
        "По графику видно, что оптимальным коэффициентом регуляризации является значение 100, где достигается наименьшая ошибка"
      ],
      "metadata": {
        "id": "zCENid_bxGYa"
      }
    },
    {
      "cell_type": "markdown",
      "source": [
        "# LASSO  регрессия"
      ],
      "metadata": {
        "id": "LPzvhNLkqJjL"
      }
    },
    {
      "cell_type": "code",
      "source": [
        "start = 0.0      # Начальное значение диапазона\n",
        "stop = 0.2     # Конечное значение диапазона (не включается в результат)\n",
        "step = 0.001       # Шаг между значениями\n",
        "\n",
        "float_range = np.arange(start, stop, step)\n"
      ],
      "metadata": {
        "id": "i5h6eZc4qs5e"
      },
      "execution_count": null,
      "outputs": []
    },
    {
      "cell_type": "code",
      "source": [
        "R_2_scores = []\n",
        "avg_coefficients = []\n",
        "mae_list = []\n",
        "mse_list = []\n",
        "\n",
        "# Нормализация признаков для лучшей сходимости.\n",
        "scaler = StandardScaler()\n",
        "X_train_scaled = scaler.fit_transform(X_train)\n",
        "X_test_scaled = scaler.transform(X_test)\n",
        "\n",
        "for alpha in float_range:\n",
        "\n",
        "  if alpha == 0:\n",
        "    model = LinearRegression()\n",
        "  else:\n",
        "    model = Lasso(alpha=alpha, max_iter=1000)\n",
        "  # Обучение модели на обучающих данных.\n",
        "  model.fit(X_train_scaled, y_train)\n",
        "  y_pred_test = model.predict(X_test_scaled)\n",
        "  # Оценка качества модели на тестовых данных.\n",
        "  # mae = mean_absolute_error(y_test, y_pred_test )\n",
        "  # mae_list.append(mae)\n",
        "  mse = mean_squared_error(y_test, y_pred_test )\n",
        "  mse_list.append(mse)\n",
        "  # R_2_score = model.score(X_test, y_test)\n",
        "  # R_2_scores.append(R_2_score)\n",
        "  # print(\"R^2 score on test data:\", score)\n",
        "\n",
        "  # Веса (коэффициенты) модели с L1-регуляризацией.\n",
        "  coefficients = model.coef_\n",
        "  # avg_coefficient = np.mean(coefficients)\n",
        "  avg_coefficients.append(coefficients)\n",
        "  # print(\"Coefficients (weights) with L1 regularization:\")\n",
        "  # print(coefficients)\n",
        "avg_coefficients = np.transpose(avg_coefficients)\n"
      ],
      "metadata": {
        "id": "umU3XWuVqLKH"
      },
      "execution_count": null,
      "outputs": []
    },
    {
      "cell_type": "code",
      "source": [
        "x = float_range\n",
        "y = avg_coefficients\n",
        "selected_y = y[0]\n",
        "# Create traces\n",
        "fig = go.Figure()\n",
        "for i, feature in enumerate(features):\n",
        "# for i in range(10):\n",
        "  selected_y = y[i]\n",
        "  fig.add_trace(go.Scatter(x=x, y=selected_y,\n",
        "                mode='lines',\n",
        "                name=feature))\n",
        "fig.add_trace(go.Scatter(x=x, y=mse_list,\n",
        "                mode='lines',\n",
        "                name='mse'))\n",
        "fig.show()\n",
        "# график интерактивный (нажмите мышкой на feature_new, feature1, mse)"
      ],
      "metadata": {
        "colab": {
          "base_uri": "https://localhost:8080/",
          "height": 542
        },
        "id": "0p6A-XfiqRtQ",
        "outputId": "ad119893-3a64-42e9-ef64-14f43716b560"
      },
      "execution_count": null,
      "outputs": [
        {
          "output_type": "display_data",
          "data": {
            "text/html": [
              "<html>\n",
              "<head><meta charset=\"utf-8\" /></head>\n",
              "<body>\n",
              "    <div>            <script src=\"https://cdnjs.cloudflare.com/ajax/libs/mathjax/2.7.5/MathJax.js?config=TeX-AMS-MML_SVG\"></script><script type=\"text/javascript\">if (window.MathJax && window.MathJax.Hub && window.MathJax.Hub.Config) {window.MathJax.Hub.Config({SVG: {font: \"STIX-Web\"}});}</script>                <script type=\"text/javascript\">window.PlotlyConfig = {MathJaxConfig: 'local'};</script>\n",
              "        <script src=\"https://cdn.plot.ly/plotly-2.18.2.min.js\"></script>                <div id=\"6d0ff171-9ebb-4985-8b58-fa8423e5309e\" class=\"plotly-graph-div\" style=\"height:525px; width:100%;\"></div>            <script type=\"text/javascript\">                                    window.PLOTLYENV=window.PLOTLYENV || {};                                    if (document.getElementById(\"6d0ff171-9ebb-4985-8b58-fa8423e5309e\")) {                    Plotly.newPlot(                        \"6d0ff171-9ebb-4985-8b58-fa8423e5309e\",                        [{\"mode\":\"lines\",\"name\":\"feature1\",\"x\":[0.0,0.001,0.002,0.003,0.004,0.005,0.006,0.007,0.008,0.009000000000000001,0.01,0.011,0.012,0.013000000000000001,0.014,0.015,0.016,0.017,0.018000000000000002,0.019,0.02,0.021,0.022,0.023,0.024,0.025,0.026000000000000002,0.027,0.028,0.029,0.03,0.031,0.032,0.033,0.034,0.035,0.036000000000000004,0.037,0.038,0.039,0.04,0.041,0.042,0.043000000000000003,0.044,0.045,0.046,0.047,0.048,0.049,0.05,0.051000000000000004,0.052000000000000005,0.053,0.054,0.055,0.056,0.057,0.058,0.059000000000000004,0.06,0.061,0.062,0.063,0.064,0.065,0.066,0.067,0.068,0.069,0.07,0.07100000000000001,0.07200000000000001,0.073,0.074,0.075,0.076,0.077,0.078,0.079,0.08,0.081,0.082,0.083,0.084,0.085,0.08600000000000001,0.08700000000000001,0.088,0.089,0.09,0.091,0.092,0.093,0.094,0.095,0.096,0.097,0.098,0.099,0.1,0.101,0.10200000000000001,0.10300000000000001,0.10400000000000001,0.105,0.106,0.107,0.108,0.109,0.11,0.111,0.112,0.113,0.114,0.115,0.116,0.117,0.11800000000000001,0.11900000000000001,0.12,0.121,0.122,0.123,0.124,0.125,0.126,0.127,0.128,0.129,0.13,0.131,0.132,0.133,0.134,0.135,0.136,0.137,0.138,0.139,0.14,0.14100000000000001,0.14200000000000002,0.14300000000000002,0.14400000000000002,0.145,0.146,0.147,0.148,0.149,0.15,0.151,0.152,0.153,0.154,0.155,0.156,0.157,0.158,0.159,0.16,0.161,0.162,0.163,0.164,0.165,0.166,0.167,0.168,0.169,0.17,0.171,0.17200000000000001,0.17300000000000001,0.17400000000000002,0.17500000000000002,0.176,0.177,0.178,0.179,0.18,0.181,0.182,0.183,0.184,0.185,0.186,0.187,0.188,0.189,0.19,0.191,0.192,0.193,0.194,0.195,0.196,0.197,0.198,0.199],\"y\":[17.337095913113938,17.241193922489835,17.14530080863591,17.049389943825688,16.953494669121053,16.85759905516475,16.761711477075544,16.665794924599872,16.56987614717644,16.473986280351042,16.378015246659857,16.282114323337495,16.186320441180744,16.0902979298796,15.994402380602546,15.898457290793097,15.802690933777841,15.706653454059609,15.610818772382123,15.514953827927119,15.419057284935304,15.323127762360299,15.22716383365812,15.131494930408001,15.035474770886985,14.939416467109377,14.8436949204328,14.747574742702813,14.651819513765595,14.556052736152592,14.459843846042306,14.36404185383289,14.268228123459034,14.17240272234578,14.076565745573822,13.980717318139991,13.884857597361185,13.788455125897556,13.692559344264883,13.596652735305057,13.500735619516373,13.405397697586046,13.309475673298772,13.213544597902501,13.117604993950769,13.021657445916528,12.925702604561195,12.829741191566264,12.733774004440146,12.637801921717335,12.541825908464046,12.445847022109088,12.349866418615811,12.254647379047885,12.158683087272198,12.062721154371937,11.96676316585257,11.870810839608634,11.77486603439469,11.67893075878096,11.583007180618912,11.48709763704558,11.391204645053698,11.295330912659276,11.19947935069779,11.103653085282566,11.007855470960658,10.912090104602958,10.815386190376673,10.719687176803722,10.624033759152494,10.528430759328641,10.432883330379731,10.33841094271276,10.242995673481627,10.14865147396403,10.053387043052998,9.959184593651845,9.864091557425283,9.769094920237537,9.674202759221933,9.57942366895384,9.484766791061576,9.390241845429083,9.294949429062065,9.200741156185488,9.10581899042786,9.011117836758677,8.916665320693642,8.821640471098231,8.726968242416435,8.63187208894237,8.537302186500199,8.442560646383434,8.347865265585407,8.252741101816373,8.157766060240675,8.063245320757556,7.96866356213556,7.8739573734595325,7.8423687951132575,7.841368795113256,7.840368795113258,7.839368795113257,7.838368795113259,7.837368795113258,7.836368795113256,7.835368795113258,7.8343687951132575,7.833368795113259,7.832368795113258,7.8313687951132565,7.830368795113258,7.829368795113258,7.828368795113257,7.827368795113258,7.826368795113257,7.825368795113258,7.824368795113258,7.8233687951132564,7.822368795113258,7.821368795113257,7.820368795113257,7.819368795113258,7.818368795113257,7.817368795113258,7.816368795113258,7.815368795113257,7.814368795113258,7.813368795113257,7.812368795113257,7.811368795113258,7.810368795113257,7.809368795113258,7.808368795113257,7.807368795113257,7.806368795113258,7.8053687951132575,7.804368795113257,7.803368795113258,7.802368795113257,7.801368795113258,7.800368795113258,7.799368795113257,7.798368795113257,7.7973687951132575,7.796368795113257,7.795368795113258,7.794368795113257,7.793368795113258,7.792368795113258,7.791368795113257,7.790368795113258,7.7893687951132575,7.788368795113259,7.787368795113258,7.786368795113257,7.785368795113256,7.784368795113258,7.783368795113257,7.782368795113258,7.7813687951132575,7.780368795113256,7.779368795113258,7.778368795113257,7.777368795113258,7.776368795113258,7.775368795113257,7.774368795113258,7.7733687951132575,7.772368795113257,7.771368795113258,7.7703687951132565,7.769368795113258,7.768368795113258,7.767368795113256,7.766368795113258,7.7653687951132575,7.764368795113257,7.763368795113258,7.762368795113257,7.761368795113259,7.760368795113257,7.759368795113257,7.758368795113258,7.757368795113257,7.756368795113257,7.755368795113258,7.754368795113257,7.753368795113258,7.752368795113257,7.751368795113257,7.750368795113258,7.7493687951132575,7.748368795113257,7.747368795113257,7.746368795113257,7.745368795113258,7.744368795113258,7.743368795113257],\"type\":\"scatter\"},{\"mode\":\"lines\",\"name\":\"feature_new\",\"x\":[0.0,0.001,0.002,0.003,0.004,0.005,0.006,0.007,0.008,0.009000000000000001,0.01,0.011,0.012,0.013000000000000001,0.014,0.015,0.016,0.017,0.018000000000000002,0.019,0.02,0.021,0.022,0.023,0.024,0.025,0.026000000000000002,0.027,0.028,0.029,0.03,0.031,0.032,0.033,0.034,0.035,0.036000000000000004,0.037,0.038,0.039,0.04,0.041,0.042,0.043000000000000003,0.044,0.045,0.046,0.047,0.048,0.049,0.05,0.051000000000000004,0.052000000000000005,0.053,0.054,0.055,0.056,0.057,0.058,0.059000000000000004,0.06,0.061,0.062,0.063,0.064,0.065,0.066,0.067,0.068,0.069,0.07,0.07100000000000001,0.07200000000000001,0.073,0.074,0.075,0.076,0.077,0.078,0.079,0.08,0.081,0.082,0.083,0.084,0.085,0.08600000000000001,0.08700000000000001,0.088,0.089,0.09,0.091,0.092,0.093,0.094,0.095,0.096,0.097,0.098,0.099,0.1,0.101,0.10200000000000001,0.10300000000000001,0.10400000000000001,0.105,0.106,0.107,0.108,0.109,0.11,0.111,0.112,0.113,0.114,0.115,0.116,0.117,0.11800000000000001,0.11900000000000001,0.12,0.121,0.122,0.123,0.124,0.125,0.126,0.127,0.128,0.129,0.13,0.131,0.132,0.133,0.134,0.135,0.136,0.137,0.138,0.139,0.14,0.14100000000000001,0.14200000000000002,0.14300000000000002,0.14400000000000002,0.145,0.146,0.147,0.148,0.149,0.15,0.151,0.152,0.153,0.154,0.155,0.156,0.157,0.158,0.159,0.16,0.161,0.162,0.163,0.164,0.165,0.166,0.167,0.168,0.169,0.17,0.171,0.17200000000000001,0.17300000000000001,0.17400000000000002,0.17500000000000002,0.176,0.177,0.178,0.179,0.18,0.181,0.182,0.183,0.184,0.185,0.186,0.187,0.188,0.189,0.19,0.191,0.192,0.193,0.194,0.195,0.196,0.197,0.198,0.199],\"y\":[-9.494436086926296,-9.398541242857878,-9.302655182337277,-9.206751557277942,-9.110863358599532,-9.014974824232212,-8.919094241340668,-8.823184988346789,-8.727273533771177,-8.63139068617936,-8.535427524122518,-8.439533736147206,-8.343745865209215,-8.2477317661516,-8.151843295784284,-8.0559058051509,-7.960145170290003,-7.864116260011098,-7.768288018022062,-7.672429831070109,-7.576540377423849,-7.480618290540435,-7.384662158857201,-7.288997954318406,-7.192986182342927,-7.096936666695409,-7.001220371582558,-6.905109631772494,-6.809360008124431,-6.713598957082832,-6.617400436534946,-6.5216045407146925,-6.425797030002232,-6.32997797111451,-6.234147458133702,-6.138305614743945,-6.042452596610019,-5.946062527667561,-5.850173827384783,-5.754274413481616,-5.6583646030905435,-5.563027903961458,-5.467113236620022,-5.371189613222805,-5.275257550835581,-5.179317627793264,-5.083370488023093,-4.987416845627567,-4.891457489739812,-4.795493289668097,-4.699525200343672,-4.603554268090406,-4.5075816367319215,-4.412362571482689,-4.316406080538883,-4.220451923697989,-4.124501669814761,-4.02855701874271,-3.9326198097160536,-3.836692030211355,-3.7407758253136745,-3.644873507615816,-3.5489875676774902,-3.453120685075579,-3.3572757400764455,-3.2614558259635107,-3.16566426205493,-3.069904607447867,-2.9732162614438873,-2.8775222627958024,-2.7818733812287486,-2.6862743880095423,-2.5907303820693026,-2.496250127508497,-2.4008368933669364,-2.3064834807451478,-2.2112195008450497,-2.1170063497038516,-2.0219119645301116,-1.926912966028716,-1.8320173465082958,-1.7372336102854358,-1.6425708029846158,-1.5480385424131944,-1.4527468709556548,-1.3585279574961946,-1.263602648338498,-1.1688960302375107,-1.0744354385904262,-0.9794085239633196,-0.8847305270843709,-0.7896330573999367,-0.6950563121476789,-0.6003097317307827,-0.5056088258752305,-0.4104836400552288,-0.31550601037239917,-0.22097791177807713,-0.12638943485759907,-0.03167783462656137,-0.0,-0.0,-0.0,-0.0,-0.0,-0.0,-0.0,-0.0,-0.0,-0.0,-0.0,-0.0,-0.0,-0.0,-0.0,-0.0,-0.0,-0.0,-0.0,-0.0,-0.0,-0.0,-0.0,-0.0,-0.0,-0.0,-0.0,-0.0,-0.0,-0.0,-0.0,-0.0,-0.0,-0.0,-0.0,-0.0,-0.0,-0.0,-0.0,-0.0,-0.0,-0.0,-0.0,-0.0,-0.0,-0.0,-0.0,-0.0,-0.0,-0.0,-0.0,-0.0,-0.0,-0.0,-0.0,-0.0,-0.0,-0.0,-0.0,-0.0,-0.0,-0.0,-0.0,-0.0,-0.0,-0.0,-0.0,-0.0,-0.0,-0.0,-0.0,-0.0,-0.0,-0.0,-0.0,-0.0,-0.0,-0.0,-0.0,-0.0,-0.0,-0.0,-0.0,-0.0,-0.0,-0.0,-0.0,-0.0,-0.0,-0.0,-0.0,-0.0,-0.0,-0.0,-0.0,-0.0,-0.0,-0.0,-0.0,-0.0],\"type\":\"scatter\"},{\"mode\":\"lines\",\"name\":\"mse\",\"x\":[0.0,0.001,0.002,0.003,0.004,0.005,0.006,0.007,0.008,0.009000000000000001,0.01,0.011,0.012,0.013000000000000001,0.014,0.015,0.016,0.017,0.018000000000000002,0.019,0.02,0.021,0.022,0.023,0.024,0.025,0.026000000000000002,0.027,0.028,0.029,0.03,0.031,0.032,0.033,0.034,0.035,0.036000000000000004,0.037,0.038,0.039,0.04,0.041,0.042,0.043000000000000003,0.044,0.045,0.046,0.047,0.048,0.049,0.05,0.051000000000000004,0.052000000000000005,0.053,0.054,0.055,0.056,0.057,0.058,0.059000000000000004,0.06,0.061,0.062,0.063,0.064,0.065,0.066,0.067,0.068,0.069,0.07,0.07100000000000001,0.07200000000000001,0.073,0.074,0.075,0.076,0.077,0.078,0.079,0.08,0.081,0.082,0.083,0.084,0.085,0.08600000000000001,0.08700000000000001,0.088,0.089,0.09,0.091,0.092,0.093,0.094,0.095,0.096,0.097,0.098,0.099,0.1,0.101,0.10200000000000001,0.10300000000000001,0.10400000000000001,0.105,0.106,0.107,0.108,0.109,0.11,0.111,0.112,0.113,0.114,0.115,0.116,0.117,0.11800000000000001,0.11900000000000001,0.12,0.121,0.122,0.123,0.124,0.125,0.126,0.127,0.128,0.129,0.13,0.131,0.132,0.133,0.134,0.135,0.136,0.137,0.138,0.139,0.14,0.14100000000000001,0.14200000000000002,0.14300000000000002,0.14400000000000002,0.145,0.146,0.147,0.148,0.149,0.15,0.151,0.152,0.153,0.154,0.155,0.156,0.157,0.158,0.159,0.16,0.161,0.162,0.163,0.164,0.165,0.166,0.167,0.168,0.169,0.17,0.171,0.17200000000000001,0.17300000000000001,0.17400000000000002,0.17500000000000002,0.176,0.177,0.178,0.179,0.18,0.181,0.182,0.183,0.184,0.185,0.186,0.187,0.188,0.189,0.19,0.191,0.192,0.193,0.194,0.195,0.196,0.197,0.198,0.199],\"y\":[10352.796558578046,10352.702844925227,10352.609520856744,10352.516561991146,10352.423998803853,10352.331816713313,10352.240023259874,10352.148585190895,10352.057526708782,10351.96687548828,10351.876533872752,10351.786635963188,10351.697213286248,10351.607971800191,10351.519222958028,10351.430812703215,10351.342938019487,10351.255211528678,10351.168040441788,10351.081224601494,10350.99476323801,10350.908655564688,10350.822900778769,10350.737773612353,10350.652734949466,10350.56804721464,10350.484018605544,10350.400044376383,10350.316750020918,10350.233826620462,10350.15092767255,10350.06873858262,10349.986920802328,10349.905474524074,10349.824399961042,10349.74369734843,10349.663366944727,10349.582995707073,10349.503401798418,10349.424180965145,10349.345333580888,10349.267308913306,10349.189218674197,10349.11150322736,10349.034163071854,10348.957198744685,10348.880610822804,10348.804399925222,10348.72856671521,10348.65311190259,10348.578036246132,10348.503340556057,10348.429025696634,10348.35563687131,10348.28209474393,10348.208936231365,10348.136162419356,10348.06377446105,10347.991773580297,10347.920161075026,10347.848938320816,10347.778106774578,10347.7076679784,10347.637623563553,10347.567975254646,10347.498724873958,10347.429874345946,10347.36142570193,10347.29274265084,10347.225101664768,10347.157870040794,10347.091050341673,10347.024645266216,10346.959301889165,10346.893733359753,10346.829214597925,10346.764491174717,10346.700802347152,10346.636933187861,10346.573498113645,10346.510500904504,10346.447945528087,10346.385836147745,10346.324177130902,10346.26243409855,10346.201705759871,10346.140928246203,10346.080652838085,10346.020892885721,10345.961175116001,10345.90203255713,10345.843022234909,10345.784682369875,10345.726617856557,10345.668951236255,10345.61142098106,10345.554347424359,10345.49789413171,10345.441778649198,10345.385967833947,10345.366992841318,10345.371467256438,10345.375943648665,10345.380422017999,10345.38490236444,10345.38938468799,10345.393868988647,10345.398355266412,10345.402843521284,10345.407333753263,10345.41182596235,10345.416320148544,10345.420816311846,10345.425314452257,10345.429814569774,10345.4343166644,10345.438820736132,10345.44332678497,10345.447834810919,10345.452344813975,10345.456856794137,10345.461370751407,10345.465886685784,10345.47040459727,10345.474924485863,10345.479446351563,10345.483970194373,10345.488496014286,10345.49302381131,10345.49755358544,10345.502085336677,10345.506619065023,10345.511154770478,10345.515692453038,10345.520232112709,10345.524773749483,10345.529317363367,10345.533862954357,10345.538410522457,10345.542960067662,10345.547511589975,10345.552065089398,10345.556620565925,10345.561178019561,10345.565737450306,10345.570298858158,10345.574862243117,10345.579427605184,10345.583994944356,10345.588564260639,10345.593135554029,10345.597708824525,10345.602284072129,10345.606861296841,10345.61144049866,10345.616021677588,10345.62060483362,10345.625189966764,10345.629777077014,10345.634366164371,10345.638957228835,10345.643550270408,10345.648145289088,10345.652742284876,10345.657341257769,10345.661942207773,10345.666545134882,10345.6711500391,10345.675756920426,10345.680365778859,10345.684976614399,10345.689589427046,10345.694204216801,10345.698820983664,10345.703439727635,10345.708060448713,10345.712683146898,10345.71730782219,10345.721934474592,10345.726563104101,10345.731193710717,10345.73582629444,10345.74046085527,10345.745097393208,10345.749735908255,10345.754376400408,10345.75901886967,10345.763663316038,10345.768309739513,10345.772958140098,10345.77760851779,10345.782260872587,10345.786915204493,10345.79157151351,10345.79622979963,10345.80089006286,10345.805552303194,10345.81021652064,10345.814882715193,10345.81955088685],\"type\":\"scatter\"}],                        {\"template\":{\"data\":{\"histogram2dcontour\":[{\"type\":\"histogram2dcontour\",\"colorbar\":{\"outlinewidth\":0,\"ticks\":\"\"},\"colorscale\":[[0.0,\"#0d0887\"],[0.1111111111111111,\"#46039f\"],[0.2222222222222222,\"#7201a8\"],[0.3333333333333333,\"#9c179e\"],[0.4444444444444444,\"#bd3786\"],[0.5555555555555556,\"#d8576b\"],[0.6666666666666666,\"#ed7953\"],[0.7777777777777778,\"#fb9f3a\"],[0.8888888888888888,\"#fdca26\"],[1.0,\"#f0f921\"]]}],\"choropleth\":[{\"type\":\"choropleth\",\"colorbar\":{\"outlinewidth\":0,\"ticks\":\"\"}}],\"histogram2d\":[{\"type\":\"histogram2d\",\"colorbar\":{\"outlinewidth\":0,\"ticks\":\"\"},\"colorscale\":[[0.0,\"#0d0887\"],[0.1111111111111111,\"#46039f\"],[0.2222222222222222,\"#7201a8\"],[0.3333333333333333,\"#9c179e\"],[0.4444444444444444,\"#bd3786\"],[0.5555555555555556,\"#d8576b\"],[0.6666666666666666,\"#ed7953\"],[0.7777777777777778,\"#fb9f3a\"],[0.8888888888888888,\"#fdca26\"],[1.0,\"#f0f921\"]]}],\"heatmap\":[{\"type\":\"heatmap\",\"colorbar\":{\"outlinewidth\":0,\"ticks\":\"\"},\"colorscale\":[[0.0,\"#0d0887\"],[0.1111111111111111,\"#46039f\"],[0.2222222222222222,\"#7201a8\"],[0.3333333333333333,\"#9c179e\"],[0.4444444444444444,\"#bd3786\"],[0.5555555555555556,\"#d8576b\"],[0.6666666666666666,\"#ed7953\"],[0.7777777777777778,\"#fb9f3a\"],[0.8888888888888888,\"#fdca26\"],[1.0,\"#f0f921\"]]}],\"heatmapgl\":[{\"type\":\"heatmapgl\",\"colorbar\":{\"outlinewidth\":0,\"ticks\":\"\"},\"colorscale\":[[0.0,\"#0d0887\"],[0.1111111111111111,\"#46039f\"],[0.2222222222222222,\"#7201a8\"],[0.3333333333333333,\"#9c179e\"],[0.4444444444444444,\"#bd3786\"],[0.5555555555555556,\"#d8576b\"],[0.6666666666666666,\"#ed7953\"],[0.7777777777777778,\"#fb9f3a\"],[0.8888888888888888,\"#fdca26\"],[1.0,\"#f0f921\"]]}],\"contourcarpet\":[{\"type\":\"contourcarpet\",\"colorbar\":{\"outlinewidth\":0,\"ticks\":\"\"}}],\"contour\":[{\"type\":\"contour\",\"colorbar\":{\"outlinewidth\":0,\"ticks\":\"\"},\"colorscale\":[[0.0,\"#0d0887\"],[0.1111111111111111,\"#46039f\"],[0.2222222222222222,\"#7201a8\"],[0.3333333333333333,\"#9c179e\"],[0.4444444444444444,\"#bd3786\"],[0.5555555555555556,\"#d8576b\"],[0.6666666666666666,\"#ed7953\"],[0.7777777777777778,\"#fb9f3a\"],[0.8888888888888888,\"#fdca26\"],[1.0,\"#f0f921\"]]}],\"surface\":[{\"type\":\"surface\",\"colorbar\":{\"outlinewidth\":0,\"ticks\":\"\"},\"colorscale\":[[0.0,\"#0d0887\"],[0.1111111111111111,\"#46039f\"],[0.2222222222222222,\"#7201a8\"],[0.3333333333333333,\"#9c179e\"],[0.4444444444444444,\"#bd3786\"],[0.5555555555555556,\"#d8576b\"],[0.6666666666666666,\"#ed7953\"],[0.7777777777777778,\"#fb9f3a\"],[0.8888888888888888,\"#fdca26\"],[1.0,\"#f0f921\"]]}],\"mesh3d\":[{\"type\":\"mesh3d\",\"colorbar\":{\"outlinewidth\":0,\"ticks\":\"\"}}],\"scatter\":[{\"fillpattern\":{\"fillmode\":\"overlay\",\"size\":10,\"solidity\":0.2},\"type\":\"scatter\"}],\"parcoords\":[{\"type\":\"parcoords\",\"line\":{\"colorbar\":{\"outlinewidth\":0,\"ticks\":\"\"}}}],\"scatterpolargl\":[{\"type\":\"scatterpolargl\",\"marker\":{\"colorbar\":{\"outlinewidth\":0,\"ticks\":\"\"}}}],\"bar\":[{\"error_x\":{\"color\":\"#2a3f5f\"},\"error_y\":{\"color\":\"#2a3f5f\"},\"marker\":{\"line\":{\"color\":\"#E5ECF6\",\"width\":0.5},\"pattern\":{\"fillmode\":\"overlay\",\"size\":10,\"solidity\":0.2}},\"type\":\"bar\"}],\"scattergeo\":[{\"type\":\"scattergeo\",\"marker\":{\"colorbar\":{\"outlinewidth\":0,\"ticks\":\"\"}}}],\"scatterpolar\":[{\"type\":\"scatterpolar\",\"marker\":{\"colorbar\":{\"outlinewidth\":0,\"ticks\":\"\"}}}],\"histogram\":[{\"marker\":{\"pattern\":{\"fillmode\":\"overlay\",\"size\":10,\"solidity\":0.2}},\"type\":\"histogram\"}],\"scattergl\":[{\"type\":\"scattergl\",\"marker\":{\"colorbar\":{\"outlinewidth\":0,\"ticks\":\"\"}}}],\"scatter3d\":[{\"type\":\"scatter3d\",\"line\":{\"colorbar\":{\"outlinewidth\":0,\"ticks\":\"\"}},\"marker\":{\"colorbar\":{\"outlinewidth\":0,\"ticks\":\"\"}}}],\"scattermapbox\":[{\"type\":\"scattermapbox\",\"marker\":{\"colorbar\":{\"outlinewidth\":0,\"ticks\":\"\"}}}],\"scatterternary\":[{\"type\":\"scatterternary\",\"marker\":{\"colorbar\":{\"outlinewidth\":0,\"ticks\":\"\"}}}],\"scattercarpet\":[{\"type\":\"scattercarpet\",\"marker\":{\"colorbar\":{\"outlinewidth\":0,\"ticks\":\"\"}}}],\"carpet\":[{\"aaxis\":{\"endlinecolor\":\"#2a3f5f\",\"gridcolor\":\"white\",\"linecolor\":\"white\",\"minorgridcolor\":\"white\",\"startlinecolor\":\"#2a3f5f\"},\"baxis\":{\"endlinecolor\":\"#2a3f5f\",\"gridcolor\":\"white\",\"linecolor\":\"white\",\"minorgridcolor\":\"white\",\"startlinecolor\":\"#2a3f5f\"},\"type\":\"carpet\"}],\"table\":[{\"cells\":{\"fill\":{\"color\":\"#EBF0F8\"},\"line\":{\"color\":\"white\"}},\"header\":{\"fill\":{\"color\":\"#C8D4E3\"},\"line\":{\"color\":\"white\"}},\"type\":\"table\"}],\"barpolar\":[{\"marker\":{\"line\":{\"color\":\"#E5ECF6\",\"width\":0.5},\"pattern\":{\"fillmode\":\"overlay\",\"size\":10,\"solidity\":0.2}},\"type\":\"barpolar\"}],\"pie\":[{\"automargin\":true,\"type\":\"pie\"}]},\"layout\":{\"autotypenumbers\":\"strict\",\"colorway\":[\"#636efa\",\"#EF553B\",\"#00cc96\",\"#ab63fa\",\"#FFA15A\",\"#19d3f3\",\"#FF6692\",\"#B6E880\",\"#FF97FF\",\"#FECB52\"],\"font\":{\"color\":\"#2a3f5f\"},\"hovermode\":\"closest\",\"hoverlabel\":{\"align\":\"left\"},\"paper_bgcolor\":\"white\",\"plot_bgcolor\":\"#E5ECF6\",\"polar\":{\"bgcolor\":\"#E5ECF6\",\"angularaxis\":{\"gridcolor\":\"white\",\"linecolor\":\"white\",\"ticks\":\"\"},\"radialaxis\":{\"gridcolor\":\"white\",\"linecolor\":\"white\",\"ticks\":\"\"}},\"ternary\":{\"bgcolor\":\"#E5ECF6\",\"aaxis\":{\"gridcolor\":\"white\",\"linecolor\":\"white\",\"ticks\":\"\"},\"baxis\":{\"gridcolor\":\"white\",\"linecolor\":\"white\",\"ticks\":\"\"},\"caxis\":{\"gridcolor\":\"white\",\"linecolor\":\"white\",\"ticks\":\"\"}},\"coloraxis\":{\"colorbar\":{\"outlinewidth\":0,\"ticks\":\"\"}},\"colorscale\":{\"sequential\":[[0.0,\"#0d0887\"],[0.1111111111111111,\"#46039f\"],[0.2222222222222222,\"#7201a8\"],[0.3333333333333333,\"#9c179e\"],[0.4444444444444444,\"#bd3786\"],[0.5555555555555556,\"#d8576b\"],[0.6666666666666666,\"#ed7953\"],[0.7777777777777778,\"#fb9f3a\"],[0.8888888888888888,\"#fdca26\"],[1.0,\"#f0f921\"]],\"sequentialminus\":[[0.0,\"#0d0887\"],[0.1111111111111111,\"#46039f\"],[0.2222222222222222,\"#7201a8\"],[0.3333333333333333,\"#9c179e\"],[0.4444444444444444,\"#bd3786\"],[0.5555555555555556,\"#d8576b\"],[0.6666666666666666,\"#ed7953\"],[0.7777777777777778,\"#fb9f3a\"],[0.8888888888888888,\"#fdca26\"],[1.0,\"#f0f921\"]],\"diverging\":[[0,\"#8e0152\"],[0.1,\"#c51b7d\"],[0.2,\"#de77ae\"],[0.3,\"#f1b6da\"],[0.4,\"#fde0ef\"],[0.5,\"#f7f7f7\"],[0.6,\"#e6f5d0\"],[0.7,\"#b8e186\"],[0.8,\"#7fbc41\"],[0.9,\"#4d9221\"],[1,\"#276419\"]]},\"xaxis\":{\"gridcolor\":\"white\",\"linecolor\":\"white\",\"ticks\":\"\",\"title\":{\"standoff\":15},\"zerolinecolor\":\"white\",\"automargin\":true,\"zerolinewidth\":2},\"yaxis\":{\"gridcolor\":\"white\",\"linecolor\":\"white\",\"ticks\":\"\",\"title\":{\"standoff\":15},\"zerolinecolor\":\"white\",\"automargin\":true,\"zerolinewidth\":2},\"scene\":{\"xaxis\":{\"backgroundcolor\":\"#E5ECF6\",\"gridcolor\":\"white\",\"linecolor\":\"white\",\"showbackground\":true,\"ticks\":\"\",\"zerolinecolor\":\"white\",\"gridwidth\":2},\"yaxis\":{\"backgroundcolor\":\"#E5ECF6\",\"gridcolor\":\"white\",\"linecolor\":\"white\",\"showbackground\":true,\"ticks\":\"\",\"zerolinecolor\":\"white\",\"gridwidth\":2},\"zaxis\":{\"backgroundcolor\":\"#E5ECF6\",\"gridcolor\":\"white\",\"linecolor\":\"white\",\"showbackground\":true,\"ticks\":\"\",\"zerolinecolor\":\"white\",\"gridwidth\":2}},\"shapedefaults\":{\"line\":{\"color\":\"#2a3f5f\"}},\"annotationdefaults\":{\"arrowcolor\":\"#2a3f5f\",\"arrowhead\":0,\"arrowwidth\":1},\"geo\":{\"bgcolor\":\"white\",\"landcolor\":\"#E5ECF6\",\"subunitcolor\":\"white\",\"showland\":true,\"showlakes\":true,\"lakecolor\":\"white\"},\"title\":{\"x\":0.05},\"mapbox\":{\"style\":\"light\"}}}},                        {\"responsive\": true}                    ).then(function(){\n",
              "                            \n",
              "var gd = document.getElementById('6d0ff171-9ebb-4985-8b58-fa8423e5309e');\n",
              "var x = new MutationObserver(function (mutations, observer) {{\n",
              "        var display = window.getComputedStyle(gd).display;\n",
              "        if (!display || display === 'none') {{\n",
              "            console.log([gd, 'removed!']);\n",
              "            Plotly.purge(gd);\n",
              "            observer.disconnect();\n",
              "        }}\n",
              "}});\n",
              "\n",
              "// Listen for the removal of the full notebook cells\n",
              "var notebookContainer = gd.closest('#notebook-container');\n",
              "if (notebookContainer) {{\n",
              "    x.observe(notebookContainer, {childList: true});\n",
              "}}\n",
              "\n",
              "// Listen for the clearing of the current output cell\n",
              "var outputEl = gd.closest('.output');\n",
              "if (outputEl) {{\n",
              "    x.observe(outputEl, {childList: true});\n",
              "}}\n",
              "\n",
              "                        })                };                            </script>        </div>\n",
              "</body>\n",
              "</html>"
            ]
          },
          "metadata": {}
        }
      ]
    },
    {
      "cell_type": "markdown",
      "source": [
        "По графику видно, что оптимальным коэффициентом регуляризации является значение 0.022, где достигается наименьшая ошибка"
      ],
      "metadata": {
        "id": "YXqhDWn4wrnp"
      }
    },
    {
      "cell_type": "markdown",
      "source": [
        "# Сравним как работает линейная регрессия и регрессии с регуляризацией для оптимального значения параметра регуляризации"
      ],
      "metadata": {
        "id": "JlpmI42QrCeU"
      }
    },
    {
      "cell_type": "code",
      "source": [
        "# построим линейную регрессию\n",
        "model = LinearRegression()\n",
        "model.fit(X_train_scaled, y_train)\n",
        "y_pred_test = model.predict(X_test_scaled)\n",
        "y_pred_train = model.predict(X_train_scaled)\n",
        "\n",
        "mse_test = mean_squared_error(y_test, y_pred_test )\n",
        "\n",
        "mse_train = mean_squared_error(y_train, y_pred_train )\n",
        "\n",
        "coefficients = model.coef_"
      ],
      "metadata": {
        "id": "tos9phQrH7uS"
      },
      "execution_count": null,
      "outputs": []
    },
    {
      "cell_type": "code",
      "source": [
        "model.intercept_"
      ],
      "metadata": {
        "colab": {
          "base_uri": "https://localhost:8080/"
        },
        "id": "webjRfvTfpuW",
        "outputId": "9627d012-537d-4aa8-c57f-48f642512b71"
      },
      "execution_count": null,
      "outputs": [
        {
          "output_type": "execute_result",
          "data": {
            "text/plain": [
              "-1.2639155750313074"
            ]
          },
          "metadata": {},
          "execution_count": 18
        }
      ]
    },
    {
      "cell_type": "code",
      "source": [
        "mse_test, mse_train"
      ],
      "metadata": {
        "colab": {
          "base_uri": "https://localhost:8080/"
        },
        "id": "nxYmGqy_IBhy",
        "outputId": "396b0961-6703-4a4a-c764-bbaee2fcebf2"
      },
      "execution_count": null,
      "outputs": [
        {
          "output_type": "execute_result",
          "data": {
            "text/plain": [
              "(10352.796558578046, 9869.831044131317)"
            ]
          },
          "metadata": {},
          "execution_count": 19
        }
      ]
    },
    {
      "cell_type": "code",
      "source": [
        "coefficients"
      ],
      "metadata": {
        "colab": {
          "base_uri": "https://localhost:8080/"
        },
        "id": "3Qm_Vro1IEZc",
        "outputId": "6bea4de3-8170-450c-8a23-41610f3d6a9f"
      },
      "execution_count": null,
      "outputs": [
        {
          "output_type": "execute_result",
          "data": {
            "text/plain": [
              "array([17.33709591, -9.49443609])"
            ]
          },
          "metadata": {},
          "execution_count": 20
        }
      ]
    },
    {
      "cell_type": "markdown",
      "source": [
        "мы получили модель y = -1.2639155750313078 + 17.33709591 * feature1 - 9.49443609 * feature_new\n",
        "\n",
        "В данных наблюдается мультиколлинеарность, возможно по этой причине коэффициенты слишком высокие\n",
        "\n",
        "\n",
        "Проведем регуляризацию L1 и L2\n",
        "\n",
        "\n",
        "\n",
        "\n"
      ],
      "metadata": {
        "id": "Cpip6OIarOxv"
      }
    },
    {
      "cell_type": "code",
      "source": [
        "# построим регрессию Лассо с оптимальным параметром регуляризации, который мы подобрали перебором\n",
        "model_reg = Lasso(alpha=0.022, max_iter=1000) # alpha — величина регуляризации\n",
        "\n",
        "# обучение\n",
        "model_reg.fit(X_train_scaled, y_train)\n",
        "y_pred_test = model_reg.predict(X_test_scaled)\n",
        "y_pred_train = model_reg.predict(X_train_scaled)\n",
        "\n",
        "mse_test = mean_squared_error(y_test, y_pred_test )\n",
        "\n",
        "mse_train = mean_squared_error(y_train, y_pred_train )\n",
        "\n",
        "coefficients = model_reg.coef_"
      ],
      "metadata": {
        "id": "At2ahwkpHGHj"
      },
      "execution_count": null,
      "outputs": []
    },
    {
      "cell_type": "code",
      "source": [
        "mse_test, mse_train"
      ],
      "metadata": {
        "colab": {
          "base_uri": "https://localhost:8080/"
        },
        "id": "gRRZpZBtHz-k",
        "outputId": "bd766f3a-a852-4511-d9f4-b89590eb3c04"
      },
      "execution_count": null,
      "outputs": [
        {
          "output_type": "execute_result",
          "data": {
            "text/plain": [
              "(10350.822900778769, 9869.924541536508)"
            ]
          },
          "metadata": {},
          "execution_count": 22
        }
      ]
    },
    {
      "cell_type": "code",
      "source": [
        "model.intercept_"
      ],
      "metadata": {
        "colab": {
          "base_uri": "https://localhost:8080/"
        },
        "id": "hRZ5vYIhf4pV",
        "outputId": "0f5ae620-0e1e-4e35-9c79-dc0f2360ff06"
      },
      "execution_count": null,
      "outputs": [
        {
          "output_type": "execute_result",
          "data": {
            "text/plain": [
              "-1.2639155750313074"
            ]
          },
          "metadata": {},
          "execution_count": 23
        }
      ]
    },
    {
      "cell_type": "code",
      "source": [
        "coefficients"
      ],
      "metadata": {
        "colab": {
          "base_uri": "https://localhost:8080/"
        },
        "id": "nQllMu_sH3N6",
        "outputId": "faf28f63-4bed-4cc2-e4a3-0cfaa2453702"
      },
      "execution_count": null,
      "outputs": [
        {
          "output_type": "execute_result",
          "data": {
            "text/plain": [
              "array([15.22716383, -7.38466216])"
            ]
          },
          "metadata": {},
          "execution_count": 24
        }
      ]
    },
    {
      "cell_type": "markdown",
      "source": [
        "ТО есть мы получили модель y = -1.2639155750313078 + 0 * feature1 + 8.04766423 * feature_new\n",
        "\n",
        "y = -1.2639155750313078 + 8.04766423 * feature_new"
      ],
      "metadata": {
        "id": "F63b48-jruxy"
      }
    },
    {
      "cell_type": "code",
      "source": [
        "# построим регрессию Лассо с оптимальным параметром регуляризации, который мы подобрали перебором\n",
        "model_reg = Ridge(alpha=100, max_iter=1000) # alpha — величина регуляризации\n",
        "\n",
        "# обучение\n",
        "model_reg.fit(X_train_scaled, y_train)\n",
        "y_pred_test = model_reg.predict(X_test_scaled)\n",
        "y_pred_train = model_reg.predict(X_train_scaled)\n",
        "\n",
        "mse_test = mean_squared_error(y_test, y_pred_test )\n",
        "\n",
        "mse_train = mean_squared_error(y_train, y_pred_train )\n",
        "\n",
        "coefficients = model_reg.coef_"
      ],
      "metadata": {
        "id": "k6MNVZ5WxsRF"
      },
      "execution_count": null,
      "outputs": []
    },
    {
      "cell_type": "code",
      "source": [
        "mse_test, mse_train"
      ],
      "metadata": {
        "colab": {
          "base_uri": "https://localhost:8080/"
        },
        "id": "6Jh-klZvx3Pn",
        "outputId": "6d8e67e3-60e4-4c31-e3e5-bc1a21163972"
      },
      "execution_count": null,
      "outputs": [
        {
          "output_type": "execute_result",
          "data": {
            "text/plain": [
              "(10346.732920637538, 9871.089787382929)"
            ]
          },
          "metadata": {},
          "execution_count": 26
        }
      ]
    },
    {
      "cell_type": "code",
      "source": [
        "model.intercept_"
      ],
      "metadata": {
        "colab": {
          "base_uri": "https://localhost:8080/"
        },
        "id": "gUHlVoATx4tN",
        "outputId": "65f5e7e4-3b2d-4d7e-9eb6-7f0e804a6769"
      },
      "execution_count": null,
      "outputs": [
        {
          "output_type": "execute_result",
          "data": {
            "text/plain": [
              "-1.2639155750313074"
            ]
          },
          "metadata": {},
          "execution_count": 27
        }
      ]
    },
    {
      "cell_type": "code",
      "source": [
        "coefficients"
      ],
      "metadata": {
        "colab": {
          "base_uri": "https://localhost:8080/"
        },
        "id": "9EKB2V14x4w4",
        "outputId": "71e3f140-b4f3-4343-85b0-14270df51da3"
      },
      "execution_count": null,
      "outputs": [
        {
          "output_type": "execute_result",
          "data": {
            "text/plain": [
              "array([ 9.5772807 , -1.79053409])"
            ]
          },
          "metadata": {},
          "execution_count": 28
        }
      ]
    },
    {
      "cell_type": "markdown",
      "source": [
        "ТО есть мы получили модель y = -1.2639155750313078 + 1.42333813 * feature1 + 6.56739487 * feature_new"
      ],
      "metadata": {
        "id": "2wh6nZjxx-Vt"
      }
    },
    {
      "cell_type": "markdown",
      "source": [
        "Модель с регуляризацией L1 занулила коэффициент при feature1, модель с L2 регуляризацией снизила коэффициент"
      ],
      "metadata": {
        "id": "F4EU-9iYvmbz"
      }
    }
  ]
}