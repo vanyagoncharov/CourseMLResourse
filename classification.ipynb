{
  "cells": [
    {
      "cell_type": "markdown",
      "metadata": {
        "id": "view-in-github",
        "colab_type": "text"
      },
      "source": [
        "<a href=\"https://colab.research.google.com/github/vanyagoncharov/CourseMLResourse/blob/main/classification.ipynb\" target=\"_parent\"><img src=\"https://colab.research.google.com/assets/colab-badge.svg\" alt=\"Open In Colab\"/></a>"
      ]
    },
    {
      "cell_type": "code",
      "execution_count": null,
      "metadata": {
        "id": "48q5CDb6I9dO"
      },
      "outputs": [],
      "source": [
        "import numpy as np\n",
        "import pandas as pd\n",
        "\n",
        "\n",
        "# from sklearn.datasets import make_classification\n",
        "from sklearn import datasets\n",
        "\n",
        "from sklearn.neighbors import KNeighborsClassifier\n",
        "from sklearn.linear_model import LogisticRegression\n",
        "from sklearn.svm import SVC\n",
        "\n",
        "\n",
        "from mlxtend.plotting import plot_decision_regions  # требуется установка mlxtend\n",
        "\n",
        "from sklearn.metrics import precision_score, recall_score, roc_auc_score, roc_curve\n",
        "\n",
        "from sklearn.model_selection import cross_val_score\n",
        "from sklearn.model_selection import GridSearchCV\n",
        "from sklearn.model_selection import RandomizedSearchCV\n",
        "\n",
        "from sklearn.model_selection import train_test_split\n",
        "\n",
        "from sklearn.preprocessing import StandardScaler\n",
        "\n",
        "\n",
        "import matplotlib.pyplot as plt\n",
        "import seaborn as sns\n",
        "\n",
        "import zipfile"
      ]
    },
    {
      "cell_type": "code",
      "execution_count": null,
      "metadata": {
        "id": "78iFDZ0ZGrXs"
      },
      "outputs": [],
      "source": [
        "pd.set_option('display.max_columns', 50)\n",
        "pd.set_option('display.max_rows', 20)\n",
        "pd.options.display.float_format = '{:.5f}'.format\n",
        "pd.options.mode.use_inf_as_na = True\n",
        "\n",
        "\n",
        "\n",
        "%config InlineBackend.figure_format = 'svg'\n",
        "%matplotlib inline"
      ]
    },
    {
      "cell_type": "markdown",
      "metadata": {
        "id": "2Ta7i9dnFqPl"
      },
      "source": [
        "# Загрузка датасетов"
      ]
    },
    {
      "cell_type": "code",
      "execution_count": null,
      "metadata": {
        "id": "IeV3o8JuFtFG"
      },
      "outputs": [],
      "source": [
        "# рак груди\n",
        "# from sklearn import datasets\n",
        "# data = datasets.load_breast_cancer()\n",
        "# X = pd.DataFrame(data[\"data\"],\n",
        "# columns=data[\"feature_names\"])\n",
        "# y = data[\"target\"]"
      ]
    },
    {
      "cell_type": "code",
      "execution_count": null,
      "metadata": {
        "id": "8KRM4NmqFxk1"
      },
      "outputs": [],
      "source": [
        "# титаник\n",
        "# import seaborn as sns\n",
        "# df = sns.load_dataset('titanic')\n",
        "# X = df.drop(columns='survived')\n",
        "# y = df[\"survived\"]"
      ]
    },
    {
      "cell_type": "code",
      "execution_count": null,
      "metadata": {
        "id": "Hy33DjiyG4Pd"
      },
      "outputs": [],
      "source": [
        "# # Чтобы считывание данных с каггла заработало, нужно устновить kaggle\n",
        "# !pip install kaggle -q\n"
      ]
    },
    {
      "cell_type": "markdown",
      "metadata": {
        "id": "2qS2I31_JuV3"
      },
      "source": [
        "\n",
        "После необходимо скачать `kaggle.json` со своего профиля `kaggle`,\n",
        " для этого необходимо зайти в `setting`, далее найти раздел `API` и нажать на кнопку `create new token`\n",
        "\n",
        "kaggle.json положить на гугл диск в root/.kaggle/kaggle.json\n",
        " и тогда скачивание датасетов заработает\n",
        "\n",
        " Минус такого подхода:\n",
        " у меня в каждой новой сессии приходится по-новой kaggle.json сохранять\n",
        "\n",
        " Альтернативный подход: скачать данные с kaggle заранее - положить архив или csv файл на гугл диск и считывать данные с гугл диска"
      ]
    },
    {
      "cell_type": "code",
      "execution_count": null,
      "metadata": {
        "id": "M0l6nB2yF1rm",
        "colab": {
          "base_uri": "https://localhost:8080/"
        },
        "outputId": "ee5b7284-9571-41dd-8fe9-5c57fbd27817"
      },
      "outputs": [
        {
          "output_type": "stream",
          "name": "stdout",
          "text": [
            "Warning: Your Kaggle API key is readable by other users on this system! To fix this, you can run 'chmod 600 /root/.kaggle/kaggle.json'\n",
            "playground-series-s3e12.zip: Skipping, found more recently modified local copy (use --force to force download)\n"
          ]
        }
      ],
      "source": [
        "# https://www.kaggle.com/competitions/playground-series-s3e12/data?s\n",
        "# elect=train.csv\n",
        "\n",
        "!kaggle competitions download -c playground-series-s3e12\n",
        "\n",
        "zip_ref = zipfile.ZipFile('playground-series-s3e12.zip', 'r')\n",
        "zip_ref.extractall()\n",
        "zip_ref.close()\n",
        "df = pd.read_csv('train.csv')\n",
        "X = df.drop(columns=['id', 'target'])\n",
        "y = df['target']"
      ]
    },
    {
      "cell_type": "code",
      "execution_count": null,
      "metadata": {
        "id": "sGLEUWIpF43G"
      },
      "outputs": [],
      "source": [
        "# https://www.kaggle.com/competitions/playground-series-s3e10/data?s\n",
        "# elect=train.csv\n",
        "\n",
        "# !kaggle competitions download -c playground-series-s3e10\n",
        "# # разархивируем\n",
        "# print('а теперь будем разархивировать')\n",
        "# zip_ref = zipfile.ZipFile('playground-series-s3e10.zip', 'r')\n",
        "# zip_ref.extractall()\n",
        "# zip_ref.close()\n",
        "# # считаем данные\n",
        "# df = pd.read_csv('train.csv')\n",
        "# X = df.drop(columns=['id', 'Class'])\n",
        "# y = df['Class']\n"
      ]
    },
    {
      "cell_type": "code",
      "execution_count": null,
      "metadata": {
        "id": "r6saOxDIH4IE"
      },
      "outputs": [],
      "source": []
    },
    {
      "cell_type": "code",
      "execution_count": null,
      "metadata": {
        "id": "Ymc8c-WPfrLY"
      },
      "outputs": [],
      "source": [
        "# загрузим датасет с ирисами\n",
        "# data = datasets.load_breast_cancer()\n",
        "# X = pd.DataFrame(data[\"data\"], columns=data[\"feature_names\"])\n",
        "# y = data[\"target\"]"
      ]
    },
    {
      "cell_type": "markdown",
      "metadata": {
        "id": "UF6N-GeAmAq7"
      },
      "source": [
        "#EDA"
      ]
    },
    {
      "cell_type": "code",
      "execution_count": null,
      "metadata": {
        "id": "COH1fAXPmAEl",
        "colab": {
          "base_uri": "https://localhost:8080/"
        },
        "outputId": "4efc12bd-a304-4d55-d8df-b0eb79011a74"
      },
      "outputs": [
        {
          "output_type": "stream",
          "name": "stdout",
          "text": [
            "В датасете: 414 строк\n",
            "\n",
            " В датасете 6 столбцов, из них :\n",
            "float64    4\n",
            "int64      2\n",
            "dtype: int64\n"
          ]
        }
      ],
      "source": [
        "# Размер датасета\n",
        "print(f\"В датасете: {X.shape[0]} строк\")\n",
        "\n",
        "# Information about columns and data types\n",
        "print(f\"\\n В датасете {X.shape[1]} столбцов, из них :\")\n",
        "print(X.dtypes.value_counts())"
      ]
    },
    {
      "cell_type": "code",
      "source": [
        "X.dtypes"
      ],
      "metadata": {
        "id": "omsEbXHpdyBE",
        "colab": {
          "base_uri": "https://localhost:8080/"
        },
        "outputId": "b10071fa-9d49-4ceb-98d9-faf0cdfa0828"
      },
      "execution_count": null,
      "outputs": [
        {
          "output_type": "execute_result",
          "data": {
            "text/plain": [
              "gravity    float64\n",
              "ph         float64\n",
              "osmo         int64\n",
              "cond       float64\n",
              "urea         int64\n",
              "calc       float64\n",
              "dtype: object"
            ]
          },
          "metadata": {},
          "execution_count": 238
        }
      ]
    },
    {
      "cell_type": "code",
      "execution_count": null,
      "metadata": {
        "id": "ZnE_XpwZtHHv",
        "colab": {
          "base_uri": "https://localhost:8080/",
          "height": 273
        },
        "outputId": "7a993c95-b4a7-4b00-adcc-b06638755289"
      },
      "outputs": [
        {
          "output_type": "stream",
          "name": "stdout",
          "text": [
            "\n",
            " Статистика по столбцам:\n"
          ]
        },
        {
          "output_type": "execute_result",
          "data": {
            "text/plain": [
              "            count      mean       std       min       25%       50%       75%  \\\n",
              "gravity 414.00000   1.01789   0.00667   1.00500   1.01200   1.01800   1.02200   \n",
              "ph      414.00000   5.95546   0.64226   4.76000   5.53000   5.74000   6.28000   \n",
              "osmo    414.00000 651.54589 234.67657 187.00000 455.25000 679.50000 840.00000   \n",
              "cond    414.00000  21.43792   7.51475   5.10000  15.50000  22.20000  27.60000   \n",
              "urea    414.00000 278.65700 136.44225  10.00000 170.00000 277.00000 385.00000   \n",
              "calc    414.00000   4.11464   3.21764   0.17000   1.45000   3.13000   6.63000   \n",
              "\n",
              "               max  \n",
              "gravity    1.04000  \n",
              "ph         7.94000  \n",
              "osmo    1236.00000  \n",
              "cond      38.00000  \n",
              "urea     620.00000  \n",
              "calc      14.34000  "
            ],
            "text/html": [
              "\n",
              "\n",
              "  <div id=\"df-638a58b4-7982-40d2-a0a6-0696f0ed6c9f\">\n",
              "    <div class=\"colab-df-container\">\n",
              "      <div>\n",
              "<style scoped>\n",
              "    .dataframe tbody tr th:only-of-type {\n",
              "        vertical-align: middle;\n",
              "    }\n",
              "\n",
              "    .dataframe tbody tr th {\n",
              "        vertical-align: top;\n",
              "    }\n",
              "\n",
              "    .dataframe thead th {\n",
              "        text-align: right;\n",
              "    }\n",
              "</style>\n",
              "<table border=\"1\" class=\"dataframe\">\n",
              "  <thead>\n",
              "    <tr style=\"text-align: right;\">\n",
              "      <th></th>\n",
              "      <th>count</th>\n",
              "      <th>mean</th>\n",
              "      <th>std</th>\n",
              "      <th>min</th>\n",
              "      <th>25%</th>\n",
              "      <th>50%</th>\n",
              "      <th>75%</th>\n",
              "      <th>max</th>\n",
              "    </tr>\n",
              "  </thead>\n",
              "  <tbody>\n",
              "    <tr>\n",
              "      <th>gravity</th>\n",
              "      <td>414.00000</td>\n",
              "      <td>1.01789</td>\n",
              "      <td>0.00667</td>\n",
              "      <td>1.00500</td>\n",
              "      <td>1.01200</td>\n",
              "      <td>1.01800</td>\n",
              "      <td>1.02200</td>\n",
              "      <td>1.04000</td>\n",
              "    </tr>\n",
              "    <tr>\n",
              "      <th>ph</th>\n",
              "      <td>414.00000</td>\n",
              "      <td>5.95546</td>\n",
              "      <td>0.64226</td>\n",
              "      <td>4.76000</td>\n",
              "      <td>5.53000</td>\n",
              "      <td>5.74000</td>\n",
              "      <td>6.28000</td>\n",
              "      <td>7.94000</td>\n",
              "    </tr>\n",
              "    <tr>\n",
              "      <th>osmo</th>\n",
              "      <td>414.00000</td>\n",
              "      <td>651.54589</td>\n",
              "      <td>234.67657</td>\n",
              "      <td>187.00000</td>\n",
              "      <td>455.25000</td>\n",
              "      <td>679.50000</td>\n",
              "      <td>840.00000</td>\n",
              "      <td>1236.00000</td>\n",
              "    </tr>\n",
              "    <tr>\n",
              "      <th>cond</th>\n",
              "      <td>414.00000</td>\n",
              "      <td>21.43792</td>\n",
              "      <td>7.51475</td>\n",
              "      <td>5.10000</td>\n",
              "      <td>15.50000</td>\n",
              "      <td>22.20000</td>\n",
              "      <td>27.60000</td>\n",
              "      <td>38.00000</td>\n",
              "    </tr>\n",
              "    <tr>\n",
              "      <th>urea</th>\n",
              "      <td>414.00000</td>\n",
              "      <td>278.65700</td>\n",
              "      <td>136.44225</td>\n",
              "      <td>10.00000</td>\n",
              "      <td>170.00000</td>\n",
              "      <td>277.00000</td>\n",
              "      <td>385.00000</td>\n",
              "      <td>620.00000</td>\n",
              "    </tr>\n",
              "    <tr>\n",
              "      <th>calc</th>\n",
              "      <td>414.00000</td>\n",
              "      <td>4.11464</td>\n",
              "      <td>3.21764</td>\n",
              "      <td>0.17000</td>\n",
              "      <td>1.45000</td>\n",
              "      <td>3.13000</td>\n",
              "      <td>6.63000</td>\n",
              "      <td>14.34000</td>\n",
              "    </tr>\n",
              "  </tbody>\n",
              "</table>\n",
              "</div>\n",
              "      <button class=\"colab-df-convert\" onclick=\"convertToInteractive('df-638a58b4-7982-40d2-a0a6-0696f0ed6c9f')\"\n",
              "              title=\"Convert this dataframe to an interactive table.\"\n",
              "              style=\"display:none;\">\n",
              "\n",
              "  <svg xmlns=\"http://www.w3.org/2000/svg\" height=\"24px\"viewBox=\"0 0 24 24\"\n",
              "       width=\"24px\">\n",
              "    <path d=\"M0 0h24v24H0V0z\" fill=\"none\"/>\n",
              "    <path d=\"M18.56 5.44l.94 2.06.94-2.06 2.06-.94-2.06-.94-.94-2.06-.94 2.06-2.06.94zm-11 1L8.5 8.5l.94-2.06 2.06-.94-2.06-.94L8.5 2.5l-.94 2.06-2.06.94zm10 10l.94 2.06.94-2.06 2.06-.94-2.06-.94-.94-2.06-.94 2.06-2.06.94z\"/><path d=\"M17.41 7.96l-1.37-1.37c-.4-.4-.92-.59-1.43-.59-.52 0-1.04.2-1.43.59L10.3 9.45l-7.72 7.72c-.78.78-.78 2.05 0 2.83L4 21.41c.39.39.9.59 1.41.59.51 0 1.02-.2 1.41-.59l7.78-7.78 2.81-2.81c.8-.78.8-2.07 0-2.86zM5.41 20L4 18.59l7.72-7.72 1.47 1.35L5.41 20z\"/>\n",
              "  </svg>\n",
              "      </button>\n",
              "\n",
              "\n",
              "\n",
              "    <div id=\"df-7a9547a2-0bfd-4298-9e30-eb0b4e550f99\">\n",
              "      <button class=\"colab-df-quickchart\" onclick=\"quickchart('df-7a9547a2-0bfd-4298-9e30-eb0b4e550f99')\"\n",
              "              title=\"Suggest charts.\"\n",
              "              style=\"display:none;\">\n",
              "\n",
              "<svg xmlns=\"http://www.w3.org/2000/svg\" height=\"24px\"viewBox=\"0 0 24 24\"\n",
              "     width=\"24px\">\n",
              "    <g>\n",
              "        <path d=\"M19 3H5c-1.1 0-2 .9-2 2v14c0 1.1.9 2 2 2h14c1.1 0 2-.9 2-2V5c0-1.1-.9-2-2-2zM9 17H7v-7h2v7zm4 0h-2V7h2v10zm4 0h-2v-4h2v4z\"/>\n",
              "    </g>\n",
              "</svg>\n",
              "      </button>\n",
              "    </div>\n",
              "\n",
              "<style>\n",
              "  .colab-df-quickchart {\n",
              "    background-color: #E8F0FE;\n",
              "    border: none;\n",
              "    border-radius: 50%;\n",
              "    cursor: pointer;\n",
              "    display: none;\n",
              "    fill: #1967D2;\n",
              "    height: 32px;\n",
              "    padding: 0 0 0 0;\n",
              "    width: 32px;\n",
              "  }\n",
              "\n",
              "  .colab-df-quickchart:hover {\n",
              "    background-color: #E2EBFA;\n",
              "    box-shadow: 0px 1px 2px rgba(60, 64, 67, 0.3), 0px 1px 3px 1px rgba(60, 64, 67, 0.15);\n",
              "    fill: #174EA6;\n",
              "  }\n",
              "\n",
              "  [theme=dark] .colab-df-quickchart {\n",
              "    background-color: #3B4455;\n",
              "    fill: #D2E3FC;\n",
              "  }\n",
              "\n",
              "  [theme=dark] .colab-df-quickchart:hover {\n",
              "    background-color: #434B5C;\n",
              "    box-shadow: 0px 1px 3px 1px rgba(0, 0, 0, 0.15);\n",
              "    filter: drop-shadow(0px 1px 2px rgba(0, 0, 0, 0.3));\n",
              "    fill: #FFFFFF;\n",
              "  }\n",
              "</style>\n",
              "\n",
              "    <script>\n",
              "      async function quickchart(key) {\n",
              "        const containerElement = document.querySelector('#' + key);\n",
              "        const charts = await google.colab.kernel.invokeFunction(\n",
              "            'suggestCharts', [key], {});\n",
              "      }\n",
              "    </script>\n",
              "\n",
              "      <script>\n",
              "\n",
              "function displayQuickchartButton(domScope) {\n",
              "  let quickchartButtonEl =\n",
              "    domScope.querySelector('#df-7a9547a2-0bfd-4298-9e30-eb0b4e550f99 button.colab-df-quickchart');\n",
              "  quickchartButtonEl.style.display =\n",
              "    google.colab.kernel.accessAllowed ? 'block' : 'none';\n",
              "}\n",
              "\n",
              "        displayQuickchartButton(document);\n",
              "      </script>\n",
              "      <style>\n",
              "    .colab-df-container {\n",
              "      display:flex;\n",
              "      flex-wrap:wrap;\n",
              "      gap: 12px;\n",
              "    }\n",
              "\n",
              "    .colab-df-convert {\n",
              "      background-color: #E8F0FE;\n",
              "      border: none;\n",
              "      border-radius: 50%;\n",
              "      cursor: pointer;\n",
              "      display: none;\n",
              "      fill: #1967D2;\n",
              "      height: 32px;\n",
              "      padding: 0 0 0 0;\n",
              "      width: 32px;\n",
              "    }\n",
              "\n",
              "    .colab-df-convert:hover {\n",
              "      background-color: #E2EBFA;\n",
              "      box-shadow: 0px 1px 2px rgba(60, 64, 67, 0.3), 0px 1px 3px 1px rgba(60, 64, 67, 0.15);\n",
              "      fill: #174EA6;\n",
              "    }\n",
              "\n",
              "    [theme=dark] .colab-df-convert {\n",
              "      background-color: #3B4455;\n",
              "      fill: #D2E3FC;\n",
              "    }\n",
              "\n",
              "    [theme=dark] .colab-df-convert:hover {\n",
              "      background-color: #434B5C;\n",
              "      box-shadow: 0px 1px 3px 1px rgba(0, 0, 0, 0.15);\n",
              "      filter: drop-shadow(0px 1px 2px rgba(0, 0, 0, 0.3));\n",
              "      fill: #FFFFFF;\n",
              "    }\n",
              "  </style>\n",
              "\n",
              "      <script>\n",
              "        const buttonEl =\n",
              "          document.querySelector('#df-638a58b4-7982-40d2-a0a6-0696f0ed6c9f button.colab-df-convert');\n",
              "        buttonEl.style.display =\n",
              "          google.colab.kernel.accessAllowed ? 'block' : 'none';\n",
              "\n",
              "        async function convertToInteractive(key) {\n",
              "          const element = document.querySelector('#df-638a58b4-7982-40d2-a0a6-0696f0ed6c9f');\n",
              "          const dataTable =\n",
              "            await google.colab.kernel.invokeFunction('convertToInteractive',\n",
              "                                                     [key], {});\n",
              "          if (!dataTable) return;\n",
              "\n",
              "          const docLinkHtml = 'Like what you see? Visit the ' +\n",
              "            '<a target=\"_blank\" href=https://colab.research.google.com/notebooks/data_table.ipynb>data table notebook</a>'\n",
              "            + ' to learn more about interactive tables.';\n",
              "          element.innerHTML = '';\n",
              "          dataTable['output_type'] = 'display_data';\n",
              "          await google.colab.output.renderOutput(dataTable, element);\n",
              "          const docLink = document.createElement('div');\n",
              "          docLink.innerHTML = docLinkHtml;\n",
              "          element.appendChild(docLink);\n",
              "        }\n",
              "      </script>\n",
              "    </div>\n",
              "  </div>\n"
            ]
          },
          "metadata": {},
          "execution_count": 239
        }
      ],
      "source": [
        "print(\"\\n Статистика по столбцам:\")\n",
        "X.describe().T"
      ]
    },
    {
      "cell_type": "code",
      "execution_count": null,
      "metadata": {
        "id": "llAiD05eu2SQ",
        "colab": {
          "base_uri": "https://localhost:8080/",
          "height": 535
        },
        "outputId": "b42a8a83-5dfd-4936-c3b7-1124cbc84be7"
      },
      "outputs": [
        {
          "output_type": "display_data",
          "data": {
            "text/plain": [
              "<Figure size 1000x600 with 1 Axes>"
            ],
            "image/svg+xml": "<?xml version=\"1.0\" encoding=\"utf-8\" standalone=\"no\"?>\n<!DOCTYPE svg PUBLIC \"-//W3C//DTD SVG 1.1//EN\"\n  \"http://www.w3.org/Graphics/SVG/1.1/DTD/svg11.dtd\">\n<svg xmlns:xlink=\"http://www.w3.org/1999/xlink\" width=\"604.85pt\" height=\"385.719489pt\" viewBox=\"0 0 604.85 385.719489\" xmlns=\"http://www.w3.org/2000/svg\" version=\"1.1\">\n <metadata>\n  <rdf:RDF xmlns:dc=\"http://purl.org/dc/elements/1.1/\" xmlns:cc=\"http://creativecommons.org/ns#\" xmlns:rdf=\"http://www.w3.org/1999/02/22-rdf-syntax-ns#\">\n   <cc:Work>\n    <dc:type rdf:resource=\"http://purl.org/dc/dcmitype/StillImage\"/>\n    <dc:date>2023-07-26T15:40:17.590925</dc:date>\n    <dc:format>image/svg+xml</dc:format>\n    <dc:creator>\n     <cc:Agent>\n      <dc:title>Matplotlib v3.7.1, https://matplotlib.org/</dc:title>\n     </cc:Agent>\n    </dc:creator>\n   </cc:Work>\n  </rdf:RDF>\n </metadata>\n <defs>\n  <style type=\"text/css\">*{stroke-linejoin: round; stroke-linecap: butt}</style>\n </defs>\n <g id=\"figure_1\">\n  <g id=\"patch_1\">\n   <path d=\"M 0 385.719489 \nL 604.85 385.719489 \nL 604.85 0 \nL 0 0 \nz\n\" style=\"fill: #ffffff\"/>\n  </g>\n  <g id=\"axes_1\">\n   <g id=\"patch_2\">\n    <path d=\"M 39.65 339.84 \nL 597.65 339.84 \nL 597.65 7.2 \nL 39.65 7.2 \nz\n\" style=\"fill: #ffffff\"/>\n   </g>\n   <g id=\"patch_3\">\n    <path d=\"M 48.95 324.513968 \nL 123.35 324.513968 \nL 123.35 324.511521 \nL 48.95 324.511521 \nL 48.95 324.513968 \nz\n\" clip-path=\"url(#p332de76de1)\" style=\"fill: #3274a1; stroke: #3d3d3d; stroke-width: 1.5; stroke-linejoin: miter\"/>\n   </g>\n   <g id=\"patch_4\">\n    <path d=\"M 141.95 323.408441 \nL 216.35 323.408441 \nL 216.35 323.224921 \nL 141.95 323.224921 \nL 141.95 323.408441 \nz\n\" clip-path=\"url(#p332de76de1)\" style=\"fill: #e1812c; stroke: #3d3d3d; stroke-width: 1.5; stroke-linejoin: miter\"/>\n   </g>\n   <g id=\"patch_5\">\n    <path d=\"M 234.95 213.364723 \nL 309.35 213.364723 \nL 309.35 119.218764 \nL 234.95 119.218764 \nL 234.95 213.364723 \nz\n\" clip-path=\"url(#p332de76de1)\" style=\"fill: #3a923a; stroke: #3d3d3d; stroke-width: 1.5; stroke-linejoin: miter\"/>\n   </g>\n   <g id=\"patch_6\">\n    <path d=\"M 327.95 320.968843 \nL 402.35 320.968843 \nL 402.35 318.008048 \nL 327.95 318.008048 \nL 327.95 320.968843 \nz\n\" clip-path=\"url(#p332de76de1)\" style=\"fill: #c03d3e; stroke: #3d3d3d; stroke-width: 1.5; stroke-linejoin: miter\"/>\n   </g>\n   <g id=\"patch_7\">\n    <path d=\"M 420.95 283.163644 \nL 495.35 283.163644 \nL 495.35 230.554466 \nL 420.95 230.554466 \nL 420.95 283.163644 \nz\n\" clip-path=\"url(#p332de76de1)\" style=\"fill: #9372b2; stroke: #3d3d3d; stroke-width: 1.5; stroke-linejoin: miter\"/>\n   </g>\n   <g id=\"patch_8\">\n    <path d=\"M 513.95 324.406792 \nL 588.35 324.406792 \nL 588.35 323.139278 \nL 513.95 323.139278 \nL 513.95 324.406792 \nz\n\" clip-path=\"url(#p332de76de1)\" style=\"fill: #845b53; stroke: #3d3d3d; stroke-width: 1.5; stroke-linejoin: miter\"/>\n   </g>\n   <g id=\"matplotlib.axis_1\">\n    <g id=\"xtick_1\">\n     <g id=\"line2d_1\">\n      <defs>\n       <path id=\"mc0aa703743\" d=\"M 0 0 \nL 0 3.5 \n\" style=\"stroke: #000000; stroke-width: 0.8\"/>\n      </defs>\n      <g>\n       <use xlink:href=\"#mc0aa703743\" x=\"86.15\" y=\"339.84\" style=\"stroke: #000000; stroke-width: 0.8\"/>\n      </g>\n     </g>\n     <g id=\"text_1\">\n      <!-- gravity -->\n      <g transform=\"translate(75.683162 377.048928) rotate(-45) scale(0.1 -0.1)\">\n       <defs>\n        <path id=\"DejaVuSans-67\" d=\"M 2906 1791 \nQ 2906 2416 2648 2759 \nQ 2391 3103 1925 3103 \nQ 1463 3103 1205 2759 \nQ 947 2416 947 1791 \nQ 947 1169 1205 825 \nQ 1463 481 1925 481 \nQ 2391 481 2648 825 \nQ 2906 1169 2906 1791 \nz\nM 3481 434 \nQ 3481 -459 3084 -895 \nQ 2688 -1331 1869 -1331 \nQ 1566 -1331 1297 -1286 \nQ 1028 -1241 775 -1147 \nL 775 -588 \nQ 1028 -725 1275 -790 \nQ 1522 -856 1778 -856 \nQ 2344 -856 2625 -561 \nQ 2906 -266 2906 331 \nL 2906 616 \nQ 2728 306 2450 153 \nQ 2172 0 1784 0 \nQ 1141 0 747 490 \nQ 353 981 353 1791 \nQ 353 2603 747 3093 \nQ 1141 3584 1784 3584 \nQ 2172 3584 2450 3431 \nQ 2728 3278 2906 2969 \nL 2906 3500 \nL 3481 3500 \nL 3481 434 \nz\n\" transform=\"scale(0.015625)\"/>\n        <path id=\"DejaVuSans-72\" d=\"M 2631 2963 \nQ 2534 3019 2420 3045 \nQ 2306 3072 2169 3072 \nQ 1681 3072 1420 2755 \nQ 1159 2438 1159 1844 \nL 1159 0 \nL 581 0 \nL 581 3500 \nL 1159 3500 \nL 1159 2956 \nQ 1341 3275 1631 3429 \nQ 1922 3584 2338 3584 \nQ 2397 3584 2469 3576 \nQ 2541 3569 2628 3553 \nL 2631 2963 \nz\n\" transform=\"scale(0.015625)\"/>\n        <path id=\"DejaVuSans-61\" d=\"M 2194 1759 \nQ 1497 1759 1228 1600 \nQ 959 1441 959 1056 \nQ 959 750 1161 570 \nQ 1363 391 1709 391 \nQ 2188 391 2477 730 \nQ 2766 1069 2766 1631 \nL 2766 1759 \nL 2194 1759 \nz\nM 3341 1997 \nL 3341 0 \nL 2766 0 \nL 2766 531 \nQ 2569 213 2275 61 \nQ 1981 -91 1556 -91 \nQ 1019 -91 701 211 \nQ 384 513 384 1019 \nQ 384 1609 779 1909 \nQ 1175 2209 1959 2209 \nL 2766 2209 \nL 2766 2266 \nQ 2766 2663 2505 2880 \nQ 2244 3097 1772 3097 \nQ 1472 3097 1187 3025 \nQ 903 2953 641 2809 \nL 641 3341 \nQ 956 3463 1253 3523 \nQ 1550 3584 1831 3584 \nQ 2591 3584 2966 3190 \nQ 3341 2797 3341 1997 \nz\n\" transform=\"scale(0.015625)\"/>\n        <path id=\"DejaVuSans-76\" d=\"M 191 3500 \nL 800 3500 \nL 1894 563 \nL 2988 3500 \nL 3597 3500 \nL 2284 0 \nL 1503 0 \nL 191 3500 \nz\n\" transform=\"scale(0.015625)\"/>\n        <path id=\"DejaVuSans-69\" d=\"M 603 3500 \nL 1178 3500 \nL 1178 0 \nL 603 0 \nL 603 3500 \nz\nM 603 4863 \nL 1178 4863 \nL 1178 4134 \nL 603 4134 \nL 603 4863 \nz\n\" transform=\"scale(0.015625)\"/>\n        <path id=\"DejaVuSans-74\" d=\"M 1172 4494 \nL 1172 3500 \nL 2356 3500 \nL 2356 3053 \nL 1172 3053 \nL 1172 1153 \nQ 1172 725 1289 603 \nQ 1406 481 1766 481 \nL 2356 481 \nL 2356 0 \nL 1766 0 \nQ 1100 0 847 248 \nQ 594 497 594 1153 \nL 594 3053 \nL 172 3053 \nL 172 3500 \nL 594 3500 \nL 594 4494 \nL 1172 4494 \nz\n\" transform=\"scale(0.015625)\"/>\n        <path id=\"DejaVuSans-79\" d=\"M 2059 -325 \nQ 1816 -950 1584 -1140 \nQ 1353 -1331 966 -1331 \nL 506 -1331 \nL 506 -850 \nL 844 -850 \nQ 1081 -850 1212 -737 \nQ 1344 -625 1503 -206 \nL 1606 56 \nL 191 3500 \nL 800 3500 \nL 1894 763 \nL 2988 3500 \nL 3597 3500 \nL 2059 -325 \nz\n\" transform=\"scale(0.015625)\"/>\n       </defs>\n       <use xlink:href=\"#DejaVuSans-67\"/>\n       <use xlink:href=\"#DejaVuSans-72\" x=\"63.476562\"/>\n       <use xlink:href=\"#DejaVuSans-61\" x=\"104.589844\"/>\n       <use xlink:href=\"#DejaVuSans-76\" x=\"165.869141\"/>\n       <use xlink:href=\"#DejaVuSans-69\" x=\"225.048828\"/>\n       <use xlink:href=\"#DejaVuSans-74\" x=\"252.832031\"/>\n       <use xlink:href=\"#DejaVuSans-79\" x=\"292.041016\"/>\n      </g>\n     </g>\n    </g>\n    <g id=\"xtick_2\">\n     <g id=\"line2d_2\">\n      <g>\n       <use xlink:href=\"#mc0aa703743\" x=\"179.15\" y=\"339.84\" style=\"stroke: #000000; stroke-width: 0.8\"/>\n      </g>\n     </g>\n     <g id=\"text_2\">\n      <!-- ph -->\n      <g transform=\"translate(176.616017 361.183219) rotate(-45) scale(0.1 -0.1)\">\n       <defs>\n        <path id=\"DejaVuSans-70\" d=\"M 1159 525 \nL 1159 -1331 \nL 581 -1331 \nL 581 3500 \nL 1159 3500 \nL 1159 2969 \nQ 1341 3281 1617 3432 \nQ 1894 3584 2278 3584 \nQ 2916 3584 3314 3078 \nQ 3713 2572 3713 1747 \nQ 3713 922 3314 415 \nQ 2916 -91 2278 -91 \nQ 1894 -91 1617 61 \nQ 1341 213 1159 525 \nz\nM 3116 1747 \nQ 3116 2381 2855 2742 \nQ 2594 3103 2138 3103 \nQ 1681 3103 1420 2742 \nQ 1159 2381 1159 1747 \nQ 1159 1113 1420 752 \nQ 1681 391 2138 391 \nQ 2594 391 2855 752 \nQ 3116 1113 3116 1747 \nz\n\" transform=\"scale(0.015625)\"/>\n        <path id=\"DejaVuSans-68\" d=\"M 3513 2113 \nL 3513 0 \nL 2938 0 \nL 2938 2094 \nQ 2938 2591 2744 2837 \nQ 2550 3084 2163 3084 \nQ 1697 3084 1428 2787 \nQ 1159 2491 1159 1978 \nL 1159 0 \nL 581 0 \nL 581 4863 \nL 1159 4863 \nL 1159 2956 \nQ 1366 3272 1645 3428 \nQ 1925 3584 2291 3584 \nQ 2894 3584 3203 3211 \nQ 3513 2838 3513 2113 \nz\n\" transform=\"scale(0.015625)\"/>\n       </defs>\n       <use xlink:href=\"#DejaVuSans-70\"/>\n       <use xlink:href=\"#DejaVuSans-68\" x=\"63.476562\"/>\n      </g>\n     </g>\n    </g>\n    <g id=\"xtick_3\">\n     <g id=\"line2d_3\">\n      <g>\n       <use xlink:href=\"#mc0aa703743\" x=\"272.15\" y=\"339.84\" style=\"stroke: #000000; stroke-width: 0.8\"/>\n      </g>\n     </g>\n     <g id=\"text_3\">\n      <!-- osmo -->\n      <g transform=\"translate(264.48894 371.437372) rotate(-45) scale(0.1 -0.1)\">\n       <defs>\n        <path id=\"DejaVuSans-6f\" d=\"M 1959 3097 \nQ 1497 3097 1228 2736 \nQ 959 2375 959 1747 \nQ 959 1119 1226 758 \nQ 1494 397 1959 397 \nQ 2419 397 2687 759 \nQ 2956 1122 2956 1747 \nQ 2956 2369 2687 2733 \nQ 2419 3097 1959 3097 \nz\nM 1959 3584 \nQ 2709 3584 3137 3096 \nQ 3566 2609 3566 1747 \nQ 3566 888 3137 398 \nQ 2709 -91 1959 -91 \nQ 1206 -91 779 398 \nQ 353 888 353 1747 \nQ 353 2609 779 3096 \nQ 1206 3584 1959 3584 \nz\n\" transform=\"scale(0.015625)\"/>\n        <path id=\"DejaVuSans-73\" d=\"M 2834 3397 \nL 2834 2853 \nQ 2591 2978 2328 3040 \nQ 2066 3103 1784 3103 \nQ 1356 3103 1142 2972 \nQ 928 2841 928 2578 \nQ 928 2378 1081 2264 \nQ 1234 2150 1697 2047 \nL 1894 2003 \nQ 2506 1872 2764 1633 \nQ 3022 1394 3022 966 \nQ 3022 478 2636 193 \nQ 2250 -91 1575 -91 \nQ 1294 -91 989 -36 \nQ 684 19 347 128 \nL 347 722 \nQ 666 556 975 473 \nQ 1284 391 1588 391 \nQ 1994 391 2212 530 \nQ 2431 669 2431 922 \nQ 2431 1156 2273 1281 \nQ 2116 1406 1581 1522 \nL 1381 1569 \nQ 847 1681 609 1914 \nQ 372 2147 372 2553 \nQ 372 3047 722 3315 \nQ 1072 3584 1716 3584 \nQ 2034 3584 2315 3537 \nQ 2597 3491 2834 3397 \nz\n\" transform=\"scale(0.015625)\"/>\n        <path id=\"DejaVuSans-6d\" d=\"M 3328 2828 \nQ 3544 3216 3844 3400 \nQ 4144 3584 4550 3584 \nQ 5097 3584 5394 3201 \nQ 5691 2819 5691 2113 \nL 5691 0 \nL 5113 0 \nL 5113 2094 \nQ 5113 2597 4934 2840 \nQ 4756 3084 4391 3084 \nQ 3944 3084 3684 2787 \nQ 3425 2491 3425 1978 \nL 3425 0 \nL 2847 0 \nL 2847 2094 \nQ 2847 2600 2669 2842 \nQ 2491 3084 2119 3084 \nQ 1678 3084 1418 2786 \nQ 1159 2488 1159 1978 \nL 1159 0 \nL 581 0 \nL 581 3500 \nL 1159 3500 \nL 1159 2956 \nQ 1356 3278 1631 3431 \nQ 1906 3584 2284 3584 \nQ 2666 3584 2933 3390 \nQ 3200 3197 3328 2828 \nz\n\" transform=\"scale(0.015625)\"/>\n       </defs>\n       <use xlink:href=\"#DejaVuSans-6f\"/>\n       <use xlink:href=\"#DejaVuSans-73\" x=\"61.181641\"/>\n       <use xlink:href=\"#DejaVuSans-6d\" x=\"113.28125\"/>\n       <use xlink:href=\"#DejaVuSans-6f\" x=\"210.693359\"/>\n      </g>\n     </g>\n    </g>\n    <g id=\"xtick_4\">\n     <g id=\"line2d_4\">\n      <g>\n       <use xlink:href=\"#mc0aa703743\" x=\"365.15\" y=\"339.84\" style=\"stroke: #000000; stroke-width: 0.8\"/>\n      </g>\n     </g>\n     <g id=\"text_4\">\n      <!-- cond -->\n      <g transform=\"translate(358.508721 369.397811) rotate(-45) scale(0.1 -0.1)\">\n       <defs>\n        <path id=\"DejaVuSans-63\" d=\"M 3122 3366 \nL 3122 2828 \nQ 2878 2963 2633 3030 \nQ 2388 3097 2138 3097 \nQ 1578 3097 1268 2742 \nQ 959 2388 959 1747 \nQ 959 1106 1268 751 \nQ 1578 397 2138 397 \nQ 2388 397 2633 464 \nQ 2878 531 3122 666 \nL 3122 134 \nQ 2881 22 2623 -34 \nQ 2366 -91 2075 -91 \nQ 1284 -91 818 406 \nQ 353 903 353 1747 \nQ 353 2603 823 3093 \nQ 1294 3584 2113 3584 \nQ 2378 3584 2631 3529 \nQ 2884 3475 3122 3366 \nz\n\" transform=\"scale(0.015625)\"/>\n        <path id=\"DejaVuSans-6e\" d=\"M 3513 2113 \nL 3513 0 \nL 2938 0 \nL 2938 2094 \nQ 2938 2591 2744 2837 \nQ 2550 3084 2163 3084 \nQ 1697 3084 1428 2787 \nQ 1159 2491 1159 1978 \nL 1159 0 \nL 581 0 \nL 581 3500 \nL 1159 3500 \nL 1159 2956 \nQ 1366 3272 1645 3428 \nQ 1925 3584 2291 3584 \nQ 2894 3584 3203 3211 \nQ 3513 2838 3513 2113 \nz\n\" transform=\"scale(0.015625)\"/>\n        <path id=\"DejaVuSans-64\" d=\"M 2906 2969 \nL 2906 4863 \nL 3481 4863 \nL 3481 0 \nL 2906 0 \nL 2906 525 \nQ 2725 213 2448 61 \nQ 2172 -91 1784 -91 \nQ 1150 -91 751 415 \nQ 353 922 353 1747 \nQ 353 2572 751 3078 \nQ 1150 3584 1784 3584 \nQ 2172 3584 2448 3432 \nQ 2725 3281 2906 2969 \nz\nM 947 1747 \nQ 947 1113 1208 752 \nQ 1469 391 1925 391 \nQ 2381 391 2643 752 \nQ 2906 1113 2906 1747 \nQ 2906 2381 2643 2742 \nQ 2381 3103 1925 3103 \nQ 1469 3103 1208 2742 \nQ 947 2381 947 1747 \nz\n\" transform=\"scale(0.015625)\"/>\n       </defs>\n       <use xlink:href=\"#DejaVuSans-63\"/>\n       <use xlink:href=\"#DejaVuSans-6f\" x=\"54.980469\"/>\n       <use xlink:href=\"#DejaVuSans-6e\" x=\"116.162109\"/>\n       <use xlink:href=\"#DejaVuSans-64\" x=\"179.541016\"/>\n      </g>\n     </g>\n    </g>\n    <g id=\"xtick_5\">\n     <g id=\"line2d_5\">\n      <g>\n       <use xlink:href=\"#mc0aa703743\" x=\"458.15\" y=\"339.84\" style=\"stroke: #000000; stroke-width: 0.8\"/>\n      </g>\n     </g>\n     <g id=\"text_5\">\n      <!-- urea -->\n      <g transform=\"translate(452.144564 368.126124) rotate(-45) scale(0.1 -0.1)\">\n       <defs>\n        <path id=\"DejaVuSans-75\" d=\"M 544 1381 \nL 544 3500 \nL 1119 3500 \nL 1119 1403 \nQ 1119 906 1312 657 \nQ 1506 409 1894 409 \nQ 2359 409 2629 706 \nQ 2900 1003 2900 1516 \nL 2900 3500 \nL 3475 3500 \nL 3475 0 \nL 2900 0 \nL 2900 538 \nQ 2691 219 2414 64 \nQ 2138 -91 1772 -91 \nQ 1169 -91 856 284 \nQ 544 659 544 1381 \nz\nM 1991 3584 \nL 1991 3584 \nz\n\" transform=\"scale(0.015625)\"/>\n        <path id=\"DejaVuSans-65\" d=\"M 3597 1894 \nL 3597 1613 \nL 953 1613 \nQ 991 1019 1311 708 \nQ 1631 397 2203 397 \nQ 2534 397 2845 478 \nQ 3156 559 3463 722 \nL 3463 178 \nQ 3153 47 2828 -22 \nQ 2503 -91 2169 -91 \nQ 1331 -91 842 396 \nQ 353 884 353 1716 \nQ 353 2575 817 3079 \nQ 1281 3584 2069 3584 \nQ 2775 3584 3186 3129 \nQ 3597 2675 3597 1894 \nz\nM 3022 2063 \nQ 3016 2534 2758 2815 \nQ 2500 3097 2075 3097 \nQ 1594 3097 1305 2825 \nQ 1016 2553 972 2059 \nL 3022 2063 \nz\n\" transform=\"scale(0.015625)\"/>\n       </defs>\n       <use xlink:href=\"#DejaVuSans-75\"/>\n       <use xlink:href=\"#DejaVuSans-72\" x=\"63.378906\"/>\n       <use xlink:href=\"#DejaVuSans-65\" x=\"102.242188\"/>\n       <use xlink:href=\"#DejaVuSans-61\" x=\"163.765625\"/>\n      </g>\n     </g>\n    </g>\n    <g id=\"xtick_6\">\n     <g id=\"line2d_6\">\n      <g>\n       <use xlink:href=\"#mc0aa703743\" x=\"551.15\" y=\"339.84\" style=\"stroke: #000000; stroke-width: 0.8\"/>\n      </g>\n     </g>\n     <g id=\"text_6\">\n      <!-- calc -->\n      <g transform=\"translate(546.064355 366.286541) rotate(-45) scale(0.1 -0.1)\">\n       <defs>\n        <path id=\"DejaVuSans-6c\" d=\"M 603 4863 \nL 1178 4863 \nL 1178 0 \nL 603 0 \nL 603 4863 \nz\n\" transform=\"scale(0.015625)\"/>\n       </defs>\n       <use xlink:href=\"#DejaVuSans-63\"/>\n       <use xlink:href=\"#DejaVuSans-61\" x=\"54.980469\"/>\n       <use xlink:href=\"#DejaVuSans-6c\" x=\"116.259766\"/>\n       <use xlink:href=\"#DejaVuSans-63\" x=\"144.042969\"/>\n      </g>\n     </g>\n    </g>\n   </g>\n   <g id=\"matplotlib.axis_2\">\n    <g id=\"ytick_1\">\n     <g id=\"line2d_7\">\n      <defs>\n       <path id=\"m6f2a44db4f\" d=\"M 0 0 \nL -3.5 0 \n\" style=\"stroke: #000000; stroke-width: 0.8\"/>\n      </defs>\n      <g>\n       <use xlink:href=\"#m6f2a44db4f\" x=\"39.65\" y=\"324.761598\" style=\"stroke: #000000; stroke-width: 0.8\"/>\n      </g>\n     </g>\n     <g id=\"text_7\">\n      <!-- 0 -->\n      <g transform=\"translate(26.2875 328.560817) scale(0.1 -0.1)\">\n       <defs>\n        <path id=\"DejaVuSans-30\" d=\"M 2034 4250 \nQ 1547 4250 1301 3770 \nQ 1056 3291 1056 2328 \nQ 1056 1369 1301 889 \nQ 1547 409 2034 409 \nQ 2525 409 2770 889 \nQ 3016 1369 3016 2328 \nQ 3016 3291 2770 3770 \nQ 2525 4250 2034 4250 \nz\nM 2034 4750 \nQ 2819 4750 3233 4129 \nQ 3647 3509 3647 2328 \nQ 3647 1150 3233 529 \nQ 2819 -91 2034 -91 \nQ 1250 -91 836 529 \nQ 422 1150 422 2328 \nQ 422 3509 836 4129 \nQ 1250 4750 2034 4750 \nz\n\" transform=\"scale(0.015625)\"/>\n       </defs>\n       <use xlink:href=\"#DejaVuSans-30\"/>\n      </g>\n     </g>\n    </g>\n    <g id=\"ytick_2\">\n     <g id=\"line2d_8\">\n      <g>\n       <use xlink:href=\"#m6f2a44db4f\" x=\"39.65\" y=\"275.822828\" style=\"stroke: #000000; stroke-width: 0.8\"/>\n      </g>\n     </g>\n     <g id=\"text_8\">\n      <!-- 200 -->\n      <g transform=\"translate(13.5625 279.622047) scale(0.1 -0.1)\">\n       <defs>\n        <path id=\"DejaVuSans-32\" d=\"M 1228 531 \nL 3431 531 \nL 3431 0 \nL 469 0 \nL 469 531 \nQ 828 903 1448 1529 \nQ 2069 2156 2228 2338 \nQ 2531 2678 2651 2914 \nQ 2772 3150 2772 3378 \nQ 2772 3750 2511 3984 \nQ 2250 4219 1831 4219 \nQ 1534 4219 1204 4116 \nQ 875 4013 500 3803 \nL 500 4441 \nQ 881 4594 1212 4672 \nQ 1544 4750 1819 4750 \nQ 2544 4750 2975 4387 \nQ 3406 4025 3406 3419 \nQ 3406 3131 3298 2873 \nQ 3191 2616 2906 2266 \nQ 2828 2175 2409 1742 \nQ 1991 1309 1228 531 \nz\n\" transform=\"scale(0.015625)\"/>\n       </defs>\n       <use xlink:href=\"#DejaVuSans-32\"/>\n       <use xlink:href=\"#DejaVuSans-30\" x=\"63.623047\"/>\n       <use xlink:href=\"#DejaVuSans-30\" x=\"127.246094\"/>\n      </g>\n     </g>\n    </g>\n    <g id=\"ytick_3\">\n     <g id=\"line2d_9\">\n      <g>\n       <use xlink:href=\"#m6f2a44db4f\" x=\"39.65\" y=\"226.884058\" style=\"stroke: #000000; stroke-width: 0.8\"/>\n      </g>\n     </g>\n     <g id=\"text_9\">\n      <!-- 400 -->\n      <g transform=\"translate(13.5625 230.683277) scale(0.1 -0.1)\">\n       <defs>\n        <path id=\"DejaVuSans-34\" d=\"M 2419 4116 \nL 825 1625 \nL 2419 1625 \nL 2419 4116 \nz\nM 2253 4666 \nL 3047 4666 \nL 3047 1625 \nL 3713 1625 \nL 3713 1100 \nL 3047 1100 \nL 3047 0 \nL 2419 0 \nL 2419 1100 \nL 313 1100 \nL 313 1709 \nL 2253 4666 \nz\n\" transform=\"scale(0.015625)\"/>\n       </defs>\n       <use xlink:href=\"#DejaVuSans-34\"/>\n       <use xlink:href=\"#DejaVuSans-30\" x=\"63.623047\"/>\n       <use xlink:href=\"#DejaVuSans-30\" x=\"127.246094\"/>\n      </g>\n     </g>\n    </g>\n    <g id=\"ytick_4\">\n     <g id=\"line2d_10\">\n      <g>\n       <use xlink:href=\"#m6f2a44db4f\" x=\"39.65\" y=\"177.945288\" style=\"stroke: #000000; stroke-width: 0.8\"/>\n      </g>\n     </g>\n     <g id=\"text_10\">\n      <!-- 600 -->\n      <g transform=\"translate(13.5625 181.744507) scale(0.1 -0.1)\">\n       <defs>\n        <path id=\"DejaVuSans-36\" d=\"M 2113 2584 \nQ 1688 2584 1439 2293 \nQ 1191 2003 1191 1497 \nQ 1191 994 1439 701 \nQ 1688 409 2113 409 \nQ 2538 409 2786 701 \nQ 3034 994 3034 1497 \nQ 3034 2003 2786 2293 \nQ 2538 2584 2113 2584 \nz\nM 3366 4563 \nL 3366 3988 \nQ 3128 4100 2886 4159 \nQ 2644 4219 2406 4219 \nQ 1781 4219 1451 3797 \nQ 1122 3375 1075 2522 \nQ 1259 2794 1537 2939 \nQ 1816 3084 2150 3084 \nQ 2853 3084 3261 2657 \nQ 3669 2231 3669 1497 \nQ 3669 778 3244 343 \nQ 2819 -91 2113 -91 \nQ 1303 -91 875 529 \nQ 447 1150 447 2328 \nQ 447 3434 972 4092 \nQ 1497 4750 2381 4750 \nQ 2619 4750 2861 4703 \nQ 3103 4656 3366 4563 \nz\n\" transform=\"scale(0.015625)\"/>\n       </defs>\n       <use xlink:href=\"#DejaVuSans-36\"/>\n       <use xlink:href=\"#DejaVuSans-30\" x=\"63.623047\"/>\n       <use xlink:href=\"#DejaVuSans-30\" x=\"127.246094\"/>\n      </g>\n     </g>\n    </g>\n    <g id=\"ytick_5\">\n     <g id=\"line2d_11\">\n      <g>\n       <use xlink:href=\"#m6f2a44db4f\" x=\"39.65\" y=\"129.006518\" style=\"stroke: #000000; stroke-width: 0.8\"/>\n      </g>\n     </g>\n     <g id=\"text_11\">\n      <!-- 800 -->\n      <g transform=\"translate(13.5625 132.805737) scale(0.1 -0.1)\">\n       <defs>\n        <path id=\"DejaVuSans-38\" d=\"M 2034 2216 \nQ 1584 2216 1326 1975 \nQ 1069 1734 1069 1313 \nQ 1069 891 1326 650 \nQ 1584 409 2034 409 \nQ 2484 409 2743 651 \nQ 3003 894 3003 1313 \nQ 3003 1734 2745 1975 \nQ 2488 2216 2034 2216 \nz\nM 1403 2484 \nQ 997 2584 770 2862 \nQ 544 3141 544 3541 \nQ 544 4100 942 4425 \nQ 1341 4750 2034 4750 \nQ 2731 4750 3128 4425 \nQ 3525 4100 3525 3541 \nQ 3525 3141 3298 2862 \nQ 3072 2584 2669 2484 \nQ 3125 2378 3379 2068 \nQ 3634 1759 3634 1313 \nQ 3634 634 3220 271 \nQ 2806 -91 2034 -91 \nQ 1263 -91 848 271 \nQ 434 634 434 1313 \nQ 434 1759 690 2068 \nQ 947 2378 1403 2484 \nz\nM 1172 3481 \nQ 1172 3119 1398 2916 \nQ 1625 2713 2034 2713 \nQ 2441 2713 2670 2916 \nQ 2900 3119 2900 3481 \nQ 2900 3844 2670 4047 \nQ 2441 4250 2034 4250 \nQ 1625 4250 1398 4047 \nQ 1172 3844 1172 3481 \nz\n\" transform=\"scale(0.015625)\"/>\n       </defs>\n       <use xlink:href=\"#DejaVuSans-38\"/>\n       <use xlink:href=\"#DejaVuSans-30\" x=\"63.623047\"/>\n       <use xlink:href=\"#DejaVuSans-30\" x=\"127.246094\"/>\n      </g>\n     </g>\n    </g>\n    <g id=\"ytick_6\">\n     <g id=\"line2d_12\">\n      <g>\n       <use xlink:href=\"#m6f2a44db4f\" x=\"39.65\" y=\"80.067748\" style=\"stroke: #000000; stroke-width: 0.8\"/>\n      </g>\n     </g>\n     <g id=\"text_12\">\n      <!-- 1000 -->\n      <g transform=\"translate(7.2 83.866967) scale(0.1 -0.1)\">\n       <defs>\n        <path id=\"DejaVuSans-31\" d=\"M 794 531 \nL 1825 531 \nL 1825 4091 \nL 703 3866 \nL 703 4441 \nL 1819 4666 \nL 2450 4666 \nL 2450 531 \nL 3481 531 \nL 3481 0 \nL 794 0 \nL 794 531 \nz\n\" transform=\"scale(0.015625)\"/>\n       </defs>\n       <use xlink:href=\"#DejaVuSans-31\"/>\n       <use xlink:href=\"#DejaVuSans-30\" x=\"63.623047\"/>\n       <use xlink:href=\"#DejaVuSans-30\" x=\"127.246094\"/>\n       <use xlink:href=\"#DejaVuSans-30\" x=\"190.869141\"/>\n      </g>\n     </g>\n    </g>\n    <g id=\"ytick_7\">\n     <g id=\"line2d_13\">\n      <g>\n       <use xlink:href=\"#m6f2a44db4f\" x=\"39.65\" y=\"31.128979\" style=\"stroke: #000000; stroke-width: 0.8\"/>\n      </g>\n     </g>\n     <g id=\"text_13\">\n      <!-- 1200 -->\n      <g transform=\"translate(7.2 34.928197) scale(0.1 -0.1)\">\n       <use xlink:href=\"#DejaVuSans-31\"/>\n       <use xlink:href=\"#DejaVuSans-32\" x=\"63.623047\"/>\n       <use xlink:href=\"#DejaVuSans-30\" x=\"127.246094\"/>\n       <use xlink:href=\"#DejaVuSans-30\" x=\"190.869141\"/>\n      </g>\n     </g>\n    </g>\n   </g>\n   <g id=\"line2d_14\">\n    <path d=\"M 86.15 324.513968 \nL 86.15 324.515681 \n\" clip-path=\"url(#p332de76de1)\" style=\"fill: none; stroke: #3d3d3d; stroke-width: 1.5; stroke-linecap: square\"/>\n   </g>\n   <g id=\"line2d_15\">\n    <path d=\"M 86.15 324.511521 \nL 86.15 324.508585 \n\" clip-path=\"url(#p332de76de1)\" style=\"fill: none; stroke: #3d3d3d; stroke-width: 1.5; stroke-linecap: square\"/>\n   </g>\n   <g id=\"line2d_16\">\n    <path d=\"M 67.55 324.515681 \nL 104.75 324.515681 \n\" clip-path=\"url(#p332de76de1)\" style=\"fill: none; stroke: #3d3d3d; stroke-width: 1.5; stroke-linecap: square\"/>\n   </g>\n   <g id=\"line2d_17\">\n    <path d=\"M 67.55 324.508585 \nL 104.75 324.508585 \n\" clip-path=\"url(#p332de76de1)\" style=\"fill: none; stroke: #3d3d3d; stroke-width: 1.5; stroke-linecap: square\"/>\n   </g>\n   <g id=\"line2d_18\">\n    <defs>\n     <path id=\"m3dd75996e5\" d=\"M -0 3.535534 \nL 2.12132 0 \nL -0 -3.535534 \nL -2.12132 -0 \nz\n\" style=\"stroke: #3d3d3d; stroke-linejoin: miter\"/>\n    </defs>\n    <g clip-path=\"url(#p332de76de1)\">\n     <use xlink:href=\"#m3dd75996e5\" x=\"86.15\" y=\"324.507116\" style=\"fill: #3d3d3d; stroke: #3d3d3d; stroke-linejoin: miter\"/>\n     <use xlink:href=\"#m3dd75996e5\" x=\"86.15\" y=\"324.507116\" style=\"fill: #3d3d3d; stroke: #3d3d3d; stroke-linejoin: miter\"/>\n     <use xlink:href=\"#m3dd75996e5\" x=\"86.15\" y=\"324.507116\" style=\"fill: #3d3d3d; stroke: #3d3d3d; stroke-linejoin: miter\"/>\n    </g>\n   </g>\n   <g id=\"line2d_19\">\n    <path d=\"M 179.15 323.408441 \nL 179.15 323.596855 \n\" clip-path=\"url(#p332de76de1)\" style=\"fill: none; stroke: #3d3d3d; stroke-width: 1.5; stroke-linecap: square\"/>\n   </g>\n   <g id=\"line2d_20\">\n    <path d=\"M 179.15 323.224921 \nL 179.15 322.955757 \n\" clip-path=\"url(#p332de76de1)\" style=\"fill: none; stroke: #3d3d3d; stroke-width: 1.5; stroke-linecap: square\"/>\n   </g>\n   <g id=\"line2d_21\">\n    <path d=\"M 160.55 323.596855 \nL 197.75 323.596855 \n\" clip-path=\"url(#p332de76de1)\" style=\"fill: none; stroke: #3d3d3d; stroke-width: 1.5; stroke-linecap: square\"/>\n   </g>\n   <g id=\"line2d_22\">\n    <path d=\"M 160.55 322.955757 \nL 197.75 322.955757 \n\" clip-path=\"url(#p332de76de1)\" style=\"fill: none; stroke: #3d3d3d; stroke-width: 1.5; stroke-linecap: square\"/>\n   </g>\n   <g id=\"line2d_23\">\n    <g clip-path=\"url(#p332de76de1)\">\n     <use xlink:href=\"#m3dd75996e5\" x=\"179.15\" y=\"322.899478\" style=\"fill: #3d3d3d; stroke: #3d3d3d; stroke-linejoin: miter\"/>\n     <use xlink:href=\"#m3dd75996e5\" x=\"179.15\" y=\"322.823623\" style=\"fill: #3d3d3d; stroke: #3d3d3d; stroke-linejoin: miter\"/>\n     <use xlink:href=\"#m3dd75996e5\" x=\"179.15\" y=\"322.899478\" style=\"fill: #3d3d3d; stroke: #3d3d3d; stroke-linejoin: miter\"/>\n     <use xlink:href=\"#m3dd75996e5\" x=\"179.15\" y=\"322.828517\" style=\"fill: #3d3d3d; stroke: #3d3d3d; stroke-linejoin: miter\"/>\n     <use xlink:href=\"#m3dd75996e5\" x=\"179.15\" y=\"322.899478\" style=\"fill: #3d3d3d; stroke: #3d3d3d; stroke-linejoin: miter\"/>\n     <use xlink:href=\"#m3dd75996e5\" x=\"179.15\" y=\"322.818729\" style=\"fill: #3d3d3d; stroke: #3d3d3d; stroke-linejoin: miter\"/>\n     <use xlink:href=\"#m3dd75996e5\" x=\"179.15\" y=\"322.828517\" style=\"fill: #3d3d3d; stroke: #3d3d3d; stroke-linejoin: miter\"/>\n     <use xlink:href=\"#m3dd75996e5\" x=\"179.15\" y=\"322.899478\" style=\"fill: #3d3d3d; stroke: #3d3d3d; stroke-linejoin: miter\"/>\n     <use xlink:href=\"#m3dd75996e5\" x=\"179.15\" y=\"322.823623\" style=\"fill: #3d3d3d; stroke: #3d3d3d; stroke-linejoin: miter\"/>\n     <use xlink:href=\"#m3dd75996e5\" x=\"179.15\" y=\"322.823623\" style=\"fill: #3d3d3d; stroke: #3d3d3d; stroke-linejoin: miter\"/>\n     <use xlink:href=\"#m3dd75996e5\" x=\"179.15\" y=\"322.899478\" style=\"fill: #3d3d3d; stroke: #3d3d3d; stroke-linejoin: miter\"/>\n     <use xlink:href=\"#m3dd75996e5\" x=\"179.15\" y=\"322.828517\" style=\"fill: #3d3d3d; stroke: #3d3d3d; stroke-linejoin: miter\"/>\n    </g>\n   </g>\n   <g id=\"line2d_24\">\n    <path d=\"M 272.15 213.364723 \nL 272.15 279.003848 \n\" clip-path=\"url(#p332de76de1)\" style=\"fill: none; stroke: #3d3d3d; stroke-width: 1.5; stroke-linecap: square\"/>\n   </g>\n   <g id=\"line2d_25\">\n    <path d=\"M 272.15 119.218764 \nL 272.15 22.32 \n\" clip-path=\"url(#p332de76de1)\" style=\"fill: none; stroke: #3d3d3d; stroke-width: 1.5; stroke-linecap: square\"/>\n   </g>\n   <g id=\"line2d_26\">\n    <path d=\"M 253.55 279.003848 \nL 290.75 279.003848 \n\" clip-path=\"url(#p332de76de1)\" style=\"fill: none; stroke: #3d3d3d; stroke-width: 1.5; stroke-linecap: square\"/>\n   </g>\n   <g id=\"line2d_27\">\n    <path d=\"M 253.55 22.32 \nL 290.75 22.32 \n\" clip-path=\"url(#p332de76de1)\" style=\"fill: none; stroke: #3d3d3d; stroke-width: 1.5; stroke-linecap: square\"/>\n   </g>\n   <g id=\"line2d_28\"/>\n   <g id=\"line2d_29\">\n    <path d=\"M 365.15 320.968843 \nL 365.15 323.513659 \n\" clip-path=\"url(#p332de76de1)\" style=\"fill: none; stroke: #3d3d3d; stroke-width: 1.5; stroke-linecap: square\"/>\n   </g>\n   <g id=\"line2d_30\">\n    <path d=\"M 365.15 318.008048 \nL 365.15 315.463232 \n\" clip-path=\"url(#p332de76de1)\" style=\"fill: none; stroke: #3d3d3d; stroke-width: 1.5; stroke-linecap: square\"/>\n   </g>\n   <g id=\"line2d_31\">\n    <path d=\"M 346.55 323.513659 \nL 383.75 323.513659 \n\" clip-path=\"url(#p332de76de1)\" style=\"fill: none; stroke: #3d3d3d; stroke-width: 1.5; stroke-linecap: square\"/>\n   </g>\n   <g id=\"line2d_32\">\n    <path d=\"M 346.55 315.463232 \nL 383.75 315.463232 \n\" clip-path=\"url(#p332de76de1)\" style=\"fill: none; stroke: #3d3d3d; stroke-width: 1.5; stroke-linecap: square\"/>\n   </g>\n   <g id=\"line2d_33\"/>\n   <g id=\"line2d_34\">\n    <path d=\"M 458.15 283.163644 \nL 458.15 322.314659 \n\" clip-path=\"url(#p332de76de1)\" style=\"fill: none; stroke: #3d3d3d; stroke-width: 1.5; stroke-linecap: square\"/>\n   </g>\n   <g id=\"line2d_35\">\n    <path d=\"M 458.15 230.554466 \nL 458.15 173.051411 \n\" clip-path=\"url(#p332de76de1)\" style=\"fill: none; stroke: #3d3d3d; stroke-width: 1.5; stroke-linecap: square\"/>\n   </g>\n   <g id=\"line2d_36\">\n    <path d=\"M 439.55 322.314659 \nL 476.75 322.314659 \n\" clip-path=\"url(#p332de76de1)\" style=\"fill: none; stroke: #3d3d3d; stroke-width: 1.5; stroke-linecap: square\"/>\n   </g>\n   <g id=\"line2d_37\">\n    <path d=\"M 439.55 173.051411 \nL 476.75 173.051411 \n\" clip-path=\"url(#p332de76de1)\" style=\"fill: none; stroke: #3d3d3d; stroke-width: 1.5; stroke-linecap: square\"/>\n   </g>\n   <g id=\"line2d_38\"/>\n   <g id=\"line2d_39\">\n    <path d=\"M 551.15 324.406792 \nL 551.15 324.72 \n\" clip-path=\"url(#p332de76de1)\" style=\"fill: none; stroke: #3d3d3d; stroke-width: 1.5; stroke-linecap: square\"/>\n   </g>\n   <g id=\"line2d_40\">\n    <path d=\"M 551.15 323.139278 \nL 551.15 321.252688 \n\" clip-path=\"url(#p332de76de1)\" style=\"fill: none; stroke: #3d3d3d; stroke-width: 1.5; stroke-linecap: square\"/>\n   </g>\n   <g id=\"line2d_41\">\n    <path d=\"M 532.55 324.72 \nL 569.75 324.72 \n\" clip-path=\"url(#p332de76de1)\" style=\"fill: none; stroke: #3d3d3d; stroke-width: 1.5; stroke-linecap: square\"/>\n   </g>\n   <g id=\"line2d_42\">\n    <path d=\"M 532.55 321.252688 \nL 569.75 321.252688 \n\" clip-path=\"url(#p332de76de1)\" style=\"fill: none; stroke: #3d3d3d; stroke-width: 1.5; stroke-linecap: square\"/>\n   </g>\n   <g id=\"line2d_43\"/>\n   <g id=\"line2d_44\">\n    <path d=\"M 48.95 324.5125 \nL 123.35 324.5125 \n\" clip-path=\"url(#p332de76de1)\" style=\"fill: none; stroke: #3d3d3d; stroke-width: 1.5; stroke-linecap: square\"/>\n   </g>\n   <g id=\"line2d_45\">\n    <path d=\"M 141.95 323.357055 \nL 216.35 323.357055 \n\" clip-path=\"url(#p332de76de1)\" style=\"fill: none; stroke: #3d3d3d; stroke-width: 1.5; stroke-linecap: square\"/>\n   </g>\n   <g id=\"line2d_46\">\n    <path d=\"M 234.95 158.492127 \nL 309.35 158.492127 \n\" clip-path=\"url(#p332de76de1)\" style=\"fill: none; stroke: #3d3d3d; stroke-width: 1.5; stroke-linecap: square\"/>\n   </g>\n   <g id=\"line2d_47\">\n    <path d=\"M 327.95 319.329394 \nL 402.35 319.329394 \n\" clip-path=\"url(#p332de76de1)\" style=\"fill: none; stroke: #3d3d3d; stroke-width: 1.5; stroke-linecap: square\"/>\n   </g>\n   <g id=\"line2d_48\">\n    <path d=\"M 420.95 256.981402 \nL 495.35 256.981402 \n\" clip-path=\"url(#p332de76de1)\" style=\"fill: none; stroke: #3d3d3d; stroke-width: 1.5; stroke-linecap: square\"/>\n   </g>\n   <g id=\"line2d_49\">\n    <path d=\"M 513.95 323.995706 \nL 588.35 323.995706 \n\" clip-path=\"url(#p332de76de1)\" style=\"fill: none; stroke: #3d3d3d; stroke-width: 1.5; stroke-linecap: square\"/>\n   </g>\n   <g id=\"patch_9\">\n    <path d=\"M 39.65 339.84 \nL 39.65 7.2 \n\" style=\"fill: none; stroke: #000000; stroke-width: 0.8; stroke-linejoin: miter; stroke-linecap: square\"/>\n   </g>\n   <g id=\"patch_10\">\n    <path d=\"M 597.65 339.84 \nL 597.65 7.2 \n\" style=\"fill: none; stroke: #000000; stroke-width: 0.8; stroke-linejoin: miter; stroke-linecap: square\"/>\n   </g>\n   <g id=\"patch_11\">\n    <path d=\"M 39.65 339.84 \nL 597.65 339.84 \n\" style=\"fill: none; stroke: #000000; stroke-width: 0.8; stroke-linejoin: miter; stroke-linecap: square\"/>\n   </g>\n   <g id=\"patch_12\">\n    <path d=\"M 39.65 7.2 \nL 597.65 7.2 \n\" style=\"fill: none; stroke: #000000; stroke-width: 0.8; stroke-linejoin: miter; stroke-linecap: square\"/>\n   </g>\n  </g>\n </g>\n <defs>\n  <clipPath id=\"p332de76de1\">\n   <rect x=\"39.65\" y=\"7.2\" width=\"558\" height=\"332.64\"/>\n  </clipPath>\n </defs>\n</svg>\n"
          },
          "metadata": {}
        }
      ],
      "source": [
        "plt.figure(figsize=(10, 6))\n",
        "sns.boxplot(data=X)\n",
        "plt.xticks(rotation=45)\n",
        "plt.show()"
      ]
    },
    {
      "cell_type": "markdown",
      "metadata": {
        "id": "SRzVNwJRtU8J"
      },
      "source": [
        "**Вывод :**\n",
        "- Датасет по ирисам небольшой, содержит 150 строк и 4 столбца\n",
        "- Пропусков нет\n",
        "- Выбросов нет"
      ]
    },
    {
      "cell_type": "code",
      "execution_count": null,
      "metadata": {
        "id": "z_Ad9tZNmM4J",
        "colab": {
          "base_uri": "https://localhost:8080/"
        },
        "outputId": "1bd2d085-060b-481a-e49f-d3cc2581aa81"
      },
      "outputs": [
        {
          "output_type": "stream",
          "name": "stdout",
          "text": [
            "\n",
            "Target Class Distribution:\n"
          ]
        },
        {
          "output_type": "execute_result",
          "data": {
            "text/plain": [
              "0    230\n",
              "1    184\n",
              "Name: target, dtype: int64"
            ]
          },
          "metadata": {},
          "execution_count": 241
        }
      ],
      "source": [
        "# распределение целевой\n",
        "print(\"\\nTarget Class Distribution:\")\n",
        "pd.Series(y).value_counts()\n"
      ]
    },
    {
      "cell_type": "code",
      "execution_count": null,
      "metadata": {
        "id": "YadA-04fnHPP",
        "colab": {
          "base_uri": "https://localhost:8080/",
          "height": 396
        },
        "outputId": "a792abf7-5ffe-4abc-dd64-e20831cc8eb6"
      },
      "outputs": [
        {
          "output_type": "display_data",
          "data": {
            "text/plain": [
              "<Figure size 600x400 with 1 Axes>"
            ],
            "image/svg+xml": "<?xml version=\"1.0\" encoding=\"utf-8\" standalone=\"no\"?>\n<!DOCTYPE svg PUBLIC \"-//W3C//DTD SVG 1.1//EN\"\n  \"http://www.w3.org/Graphics/SVG/1.1/DTD/svg11.dtd\">\n<svg xmlns:xlink=\"http://www.w3.org/1999/xlink\" width=\"388.965625pt\" height=\"281.634375pt\" viewBox=\"0 0 388.965625 281.634375\" xmlns=\"http://www.w3.org/2000/svg\" version=\"1.1\">\n <metadata>\n  <rdf:RDF xmlns:dc=\"http://purl.org/dc/elements/1.1/\" xmlns:cc=\"http://creativecommons.org/ns#\" xmlns:rdf=\"http://www.w3.org/1999/02/22-rdf-syntax-ns#\">\n   <cc:Work>\n    <dc:type rdf:resource=\"http://purl.org/dc/dcmitype/StillImage\"/>\n    <dc:date>2023-07-26T15:40:17.849306</dc:date>\n    <dc:format>image/svg+xml</dc:format>\n    <dc:creator>\n     <cc:Agent>\n      <dc:title>Matplotlib v3.7.1, https://matplotlib.org/</dc:title>\n     </cc:Agent>\n    </dc:creator>\n   </cc:Work>\n  </rdf:RDF>\n </metadata>\n <defs>\n  <style type=\"text/css\">*{stroke-linejoin: round; stroke-linecap: butt}</style>\n </defs>\n <g id=\"figure_1\">\n  <g id=\"patch_1\">\n   <path d=\"M 0 281.634375 \nL 388.965625 281.634375 \nL 388.965625 0 \nL 0 0 \nz\n\" style=\"fill: #ffffff\"/>\n  </g>\n  <g id=\"axes_1\">\n   <g id=\"patch_2\">\n    <path d=\"M 46.965625 244.078125 \nL 381.765625 244.078125 \nL 381.765625 22.318125 \nL 46.965625 22.318125 \nz\n\" style=\"fill: #ffffff\"/>\n   </g>\n   <g id=\"patch_3\">\n    <path d=\"M 63.705625 244.078125 \nL 197.625625 244.078125 \nL 197.625625 32.878125 \nL 63.705625 32.878125 \nz\n\" clip-path=\"url(#p0ae3ea487c)\" style=\"fill: #3274a1\"/>\n   </g>\n   <g id=\"patch_4\">\n    <path d=\"M 231.105625 244.078125 \nL 365.025625 244.078125 \nL 365.025625 75.118125 \nL 231.105625 75.118125 \nz\n\" clip-path=\"url(#p0ae3ea487c)\" style=\"fill: #e1812c\"/>\n   </g>\n   <g id=\"matplotlib.axis_1\">\n    <g id=\"xtick_1\">\n     <g id=\"line2d_1\">\n      <defs>\n       <path id=\"m7cca271066\" d=\"M 0 0 \nL 0 3.5 \n\" style=\"stroke: #000000; stroke-width: 0.8\"/>\n      </defs>\n      <g>\n       <use xlink:href=\"#m7cca271066\" x=\"130.665625\" y=\"244.078125\" style=\"stroke: #000000; stroke-width: 0.8\"/>\n      </g>\n     </g>\n     <g id=\"text_1\">\n      <!-- 0 -->\n      <g transform=\"translate(127.484375 258.676562) scale(0.1 -0.1)\">\n       <defs>\n        <path id=\"DejaVuSans-30\" d=\"M 2034 4250 \nQ 1547 4250 1301 3770 \nQ 1056 3291 1056 2328 \nQ 1056 1369 1301 889 \nQ 1547 409 2034 409 \nQ 2525 409 2770 889 \nQ 3016 1369 3016 2328 \nQ 3016 3291 2770 3770 \nQ 2525 4250 2034 4250 \nz\nM 2034 4750 \nQ 2819 4750 3233 4129 \nQ 3647 3509 3647 2328 \nQ 3647 1150 3233 529 \nQ 2819 -91 2034 -91 \nQ 1250 -91 836 529 \nQ 422 1150 422 2328 \nQ 422 3509 836 4129 \nQ 1250 4750 2034 4750 \nz\n\" transform=\"scale(0.015625)\"/>\n       </defs>\n       <use xlink:href=\"#DejaVuSans-30\"/>\n      </g>\n     </g>\n    </g>\n    <g id=\"xtick_2\">\n     <g id=\"line2d_2\">\n      <g>\n       <use xlink:href=\"#m7cca271066\" x=\"298.065625\" y=\"244.078125\" style=\"stroke: #000000; stroke-width: 0.8\"/>\n      </g>\n     </g>\n     <g id=\"text_2\">\n      <!-- 1 -->\n      <g transform=\"translate(294.884375 258.676562) scale(0.1 -0.1)\">\n       <defs>\n        <path id=\"DejaVuSans-31\" d=\"M 794 531 \nL 1825 531 \nL 1825 4091 \nL 703 3866 \nL 703 4441 \nL 1819 4666 \nL 2450 4666 \nL 2450 531 \nL 3481 531 \nL 3481 0 \nL 794 0 \nL 794 531 \nz\n\" transform=\"scale(0.015625)\"/>\n       </defs>\n       <use xlink:href=\"#DejaVuSans-31\"/>\n      </g>\n     </g>\n    </g>\n    <g id=\"text_3\">\n     <!-- Target Class -->\n     <g transform=\"translate(184.150781 272.354687) scale(0.1 -0.1)\">\n      <defs>\n       <path id=\"DejaVuSans-54\" d=\"M -19 4666 \nL 3928 4666 \nL 3928 4134 \nL 2272 4134 \nL 2272 0 \nL 1638 0 \nL 1638 4134 \nL -19 4134 \nL -19 4666 \nz\n\" transform=\"scale(0.015625)\"/>\n       <path id=\"DejaVuSans-61\" d=\"M 2194 1759 \nQ 1497 1759 1228 1600 \nQ 959 1441 959 1056 \nQ 959 750 1161 570 \nQ 1363 391 1709 391 \nQ 2188 391 2477 730 \nQ 2766 1069 2766 1631 \nL 2766 1759 \nL 2194 1759 \nz\nM 3341 1997 \nL 3341 0 \nL 2766 0 \nL 2766 531 \nQ 2569 213 2275 61 \nQ 1981 -91 1556 -91 \nQ 1019 -91 701 211 \nQ 384 513 384 1019 \nQ 384 1609 779 1909 \nQ 1175 2209 1959 2209 \nL 2766 2209 \nL 2766 2266 \nQ 2766 2663 2505 2880 \nQ 2244 3097 1772 3097 \nQ 1472 3097 1187 3025 \nQ 903 2953 641 2809 \nL 641 3341 \nQ 956 3463 1253 3523 \nQ 1550 3584 1831 3584 \nQ 2591 3584 2966 3190 \nQ 3341 2797 3341 1997 \nz\n\" transform=\"scale(0.015625)\"/>\n       <path id=\"DejaVuSans-72\" d=\"M 2631 2963 \nQ 2534 3019 2420 3045 \nQ 2306 3072 2169 3072 \nQ 1681 3072 1420 2755 \nQ 1159 2438 1159 1844 \nL 1159 0 \nL 581 0 \nL 581 3500 \nL 1159 3500 \nL 1159 2956 \nQ 1341 3275 1631 3429 \nQ 1922 3584 2338 3584 \nQ 2397 3584 2469 3576 \nQ 2541 3569 2628 3553 \nL 2631 2963 \nz\n\" transform=\"scale(0.015625)\"/>\n       <path id=\"DejaVuSans-67\" d=\"M 2906 1791 \nQ 2906 2416 2648 2759 \nQ 2391 3103 1925 3103 \nQ 1463 3103 1205 2759 \nQ 947 2416 947 1791 \nQ 947 1169 1205 825 \nQ 1463 481 1925 481 \nQ 2391 481 2648 825 \nQ 2906 1169 2906 1791 \nz\nM 3481 434 \nQ 3481 -459 3084 -895 \nQ 2688 -1331 1869 -1331 \nQ 1566 -1331 1297 -1286 \nQ 1028 -1241 775 -1147 \nL 775 -588 \nQ 1028 -725 1275 -790 \nQ 1522 -856 1778 -856 \nQ 2344 -856 2625 -561 \nQ 2906 -266 2906 331 \nL 2906 616 \nQ 2728 306 2450 153 \nQ 2172 0 1784 0 \nQ 1141 0 747 490 \nQ 353 981 353 1791 \nQ 353 2603 747 3093 \nQ 1141 3584 1784 3584 \nQ 2172 3584 2450 3431 \nQ 2728 3278 2906 2969 \nL 2906 3500 \nL 3481 3500 \nL 3481 434 \nz\n\" transform=\"scale(0.015625)\"/>\n       <path id=\"DejaVuSans-65\" d=\"M 3597 1894 \nL 3597 1613 \nL 953 1613 \nQ 991 1019 1311 708 \nQ 1631 397 2203 397 \nQ 2534 397 2845 478 \nQ 3156 559 3463 722 \nL 3463 178 \nQ 3153 47 2828 -22 \nQ 2503 -91 2169 -91 \nQ 1331 -91 842 396 \nQ 353 884 353 1716 \nQ 353 2575 817 3079 \nQ 1281 3584 2069 3584 \nQ 2775 3584 3186 3129 \nQ 3597 2675 3597 1894 \nz\nM 3022 2063 \nQ 3016 2534 2758 2815 \nQ 2500 3097 2075 3097 \nQ 1594 3097 1305 2825 \nQ 1016 2553 972 2059 \nL 3022 2063 \nz\n\" transform=\"scale(0.015625)\"/>\n       <path id=\"DejaVuSans-74\" d=\"M 1172 4494 \nL 1172 3500 \nL 2356 3500 \nL 2356 3053 \nL 1172 3053 \nL 1172 1153 \nQ 1172 725 1289 603 \nQ 1406 481 1766 481 \nL 2356 481 \nL 2356 0 \nL 1766 0 \nQ 1100 0 847 248 \nQ 594 497 594 1153 \nL 594 3053 \nL 172 3053 \nL 172 3500 \nL 594 3500 \nL 594 4494 \nL 1172 4494 \nz\n\" transform=\"scale(0.015625)\"/>\n       <path id=\"DejaVuSans-20\" transform=\"scale(0.015625)\"/>\n       <path id=\"DejaVuSans-43\" d=\"M 4122 4306 \nL 4122 3641 \nQ 3803 3938 3442 4084 \nQ 3081 4231 2675 4231 \nQ 1875 4231 1450 3742 \nQ 1025 3253 1025 2328 \nQ 1025 1406 1450 917 \nQ 1875 428 2675 428 \nQ 3081 428 3442 575 \nQ 3803 722 4122 1019 \nL 4122 359 \nQ 3791 134 3420 21 \nQ 3050 -91 2638 -91 \nQ 1578 -91 968 557 \nQ 359 1206 359 2328 \nQ 359 3453 968 4101 \nQ 1578 4750 2638 4750 \nQ 3056 4750 3426 4639 \nQ 3797 4528 4122 4306 \nz\n\" transform=\"scale(0.015625)\"/>\n       <path id=\"DejaVuSans-6c\" d=\"M 603 4863 \nL 1178 4863 \nL 1178 0 \nL 603 0 \nL 603 4863 \nz\n\" transform=\"scale(0.015625)\"/>\n       <path id=\"DejaVuSans-73\" d=\"M 2834 3397 \nL 2834 2853 \nQ 2591 2978 2328 3040 \nQ 2066 3103 1784 3103 \nQ 1356 3103 1142 2972 \nQ 928 2841 928 2578 \nQ 928 2378 1081 2264 \nQ 1234 2150 1697 2047 \nL 1894 2003 \nQ 2506 1872 2764 1633 \nQ 3022 1394 3022 966 \nQ 3022 478 2636 193 \nQ 2250 -91 1575 -91 \nQ 1294 -91 989 -36 \nQ 684 19 347 128 \nL 347 722 \nQ 666 556 975 473 \nQ 1284 391 1588 391 \nQ 1994 391 2212 530 \nQ 2431 669 2431 922 \nQ 2431 1156 2273 1281 \nQ 2116 1406 1581 1522 \nL 1381 1569 \nQ 847 1681 609 1914 \nQ 372 2147 372 2553 \nQ 372 3047 722 3315 \nQ 1072 3584 1716 3584 \nQ 2034 3584 2315 3537 \nQ 2597 3491 2834 3397 \nz\n\" transform=\"scale(0.015625)\"/>\n      </defs>\n      <use xlink:href=\"#DejaVuSans-54\"/>\n      <use xlink:href=\"#DejaVuSans-61\" x=\"44.583984\"/>\n      <use xlink:href=\"#DejaVuSans-72\" x=\"105.863281\"/>\n      <use xlink:href=\"#DejaVuSans-67\" x=\"145.226562\"/>\n      <use xlink:href=\"#DejaVuSans-65\" x=\"208.703125\"/>\n      <use xlink:href=\"#DejaVuSans-74\" x=\"270.226562\"/>\n      <use xlink:href=\"#DejaVuSans-20\" x=\"309.435547\"/>\n      <use xlink:href=\"#DejaVuSans-43\" x=\"341.222656\"/>\n      <use xlink:href=\"#DejaVuSans-6c\" x=\"411.046875\"/>\n      <use xlink:href=\"#DejaVuSans-61\" x=\"438.830078\"/>\n      <use xlink:href=\"#DejaVuSans-73\" x=\"500.109375\"/>\n      <use xlink:href=\"#DejaVuSans-73\" x=\"552.208984\"/>\n     </g>\n    </g>\n   </g>\n   <g id=\"matplotlib.axis_2\">\n    <g id=\"ytick_1\">\n     <g id=\"line2d_3\">\n      <defs>\n       <path id=\"m7acc1741bf\" d=\"M 0 0 \nL -3.5 0 \n\" style=\"stroke: #000000; stroke-width: 0.8\"/>\n      </defs>\n      <g>\n       <use xlink:href=\"#m7acc1741bf\" x=\"46.965625\" y=\"244.078125\" style=\"stroke: #000000; stroke-width: 0.8\"/>\n      </g>\n     </g>\n     <g id=\"text_4\">\n      <!-- 0 -->\n      <g transform=\"translate(33.603125 247.877344) scale(0.1 -0.1)\">\n       <use xlink:href=\"#DejaVuSans-30\"/>\n      </g>\n     </g>\n    </g>\n    <g id=\"ytick_2\">\n     <g id=\"line2d_4\">\n      <g>\n       <use xlink:href=\"#m7acc1741bf\" x=\"46.965625\" y=\"198.165082\" style=\"stroke: #000000; stroke-width: 0.8\"/>\n      </g>\n     </g>\n     <g id=\"text_5\">\n      <!-- 50 -->\n      <g transform=\"translate(27.240625 201.9643) scale(0.1 -0.1)\">\n       <defs>\n        <path id=\"DejaVuSans-35\" d=\"M 691 4666 \nL 3169 4666 \nL 3169 4134 \nL 1269 4134 \nL 1269 2991 \nQ 1406 3038 1543 3061 \nQ 1681 3084 1819 3084 \nQ 2600 3084 3056 2656 \nQ 3513 2228 3513 1497 \nQ 3513 744 3044 326 \nQ 2575 -91 1722 -91 \nQ 1428 -91 1123 -41 \nQ 819 9 494 109 \nL 494 744 \nQ 775 591 1075 516 \nQ 1375 441 1709 441 \nQ 2250 441 2565 725 \nQ 2881 1009 2881 1497 \nQ 2881 1984 2565 2268 \nQ 2250 2553 1709 2553 \nQ 1456 2553 1204 2497 \nQ 953 2441 691 2322 \nL 691 4666 \nz\n\" transform=\"scale(0.015625)\"/>\n       </defs>\n       <use xlink:href=\"#DejaVuSans-35\"/>\n       <use xlink:href=\"#DejaVuSans-30\" x=\"63.623047\"/>\n      </g>\n     </g>\n    </g>\n    <g id=\"ytick_3\">\n     <g id=\"line2d_5\">\n      <g>\n       <use xlink:href=\"#m7acc1741bf\" x=\"46.965625\" y=\"152.252038\" style=\"stroke: #000000; stroke-width: 0.8\"/>\n      </g>\n     </g>\n     <g id=\"text_6\">\n      <!-- 100 -->\n      <g transform=\"translate(20.878125 156.051257) scale(0.1 -0.1)\">\n       <use xlink:href=\"#DejaVuSans-31\"/>\n       <use xlink:href=\"#DejaVuSans-30\" x=\"63.623047\"/>\n       <use xlink:href=\"#DejaVuSans-30\" x=\"127.246094\"/>\n      </g>\n     </g>\n    </g>\n    <g id=\"ytick_4\">\n     <g id=\"line2d_6\">\n      <g>\n       <use xlink:href=\"#m7acc1741bf\" x=\"46.965625\" y=\"106.338995\" style=\"stroke: #000000; stroke-width: 0.8\"/>\n      </g>\n     </g>\n     <g id=\"text_7\">\n      <!-- 150 -->\n      <g transform=\"translate(20.878125 110.138213) scale(0.1 -0.1)\">\n       <use xlink:href=\"#DejaVuSans-31\"/>\n       <use xlink:href=\"#DejaVuSans-35\" x=\"63.623047\"/>\n       <use xlink:href=\"#DejaVuSans-30\" x=\"127.246094\"/>\n      </g>\n     </g>\n    </g>\n    <g id=\"ytick_5\">\n     <g id=\"line2d_7\">\n      <g>\n       <use xlink:href=\"#m7acc1741bf\" x=\"46.965625\" y=\"60.425951\" style=\"stroke: #000000; stroke-width: 0.8\"/>\n      </g>\n     </g>\n     <g id=\"text_8\">\n      <!-- 200 -->\n      <g transform=\"translate(20.878125 64.22517) scale(0.1 -0.1)\">\n       <defs>\n        <path id=\"DejaVuSans-32\" d=\"M 1228 531 \nL 3431 531 \nL 3431 0 \nL 469 0 \nL 469 531 \nQ 828 903 1448 1529 \nQ 2069 2156 2228 2338 \nQ 2531 2678 2651 2914 \nQ 2772 3150 2772 3378 \nQ 2772 3750 2511 3984 \nQ 2250 4219 1831 4219 \nQ 1534 4219 1204 4116 \nQ 875 4013 500 3803 \nL 500 4441 \nQ 881 4594 1212 4672 \nQ 1544 4750 1819 4750 \nQ 2544 4750 2975 4387 \nQ 3406 4025 3406 3419 \nQ 3406 3131 3298 2873 \nQ 3191 2616 2906 2266 \nQ 2828 2175 2409 1742 \nQ 1991 1309 1228 531 \nz\n\" transform=\"scale(0.015625)\"/>\n       </defs>\n       <use xlink:href=\"#DejaVuSans-32\"/>\n       <use xlink:href=\"#DejaVuSans-30\" x=\"63.623047\"/>\n       <use xlink:href=\"#DejaVuSans-30\" x=\"127.246094\"/>\n      </g>\n     </g>\n    </g>\n    <g id=\"text_9\">\n     <!-- Count -->\n     <g transform=\"translate(14.798438 148.046562) rotate(-90) scale(0.1 -0.1)\">\n      <defs>\n       <path id=\"DejaVuSans-6f\" d=\"M 1959 3097 \nQ 1497 3097 1228 2736 \nQ 959 2375 959 1747 \nQ 959 1119 1226 758 \nQ 1494 397 1959 397 \nQ 2419 397 2687 759 \nQ 2956 1122 2956 1747 \nQ 2956 2369 2687 2733 \nQ 2419 3097 1959 3097 \nz\nM 1959 3584 \nQ 2709 3584 3137 3096 \nQ 3566 2609 3566 1747 \nQ 3566 888 3137 398 \nQ 2709 -91 1959 -91 \nQ 1206 -91 779 398 \nQ 353 888 353 1747 \nQ 353 2609 779 3096 \nQ 1206 3584 1959 3584 \nz\n\" transform=\"scale(0.015625)\"/>\n       <path id=\"DejaVuSans-75\" d=\"M 544 1381 \nL 544 3500 \nL 1119 3500 \nL 1119 1403 \nQ 1119 906 1312 657 \nQ 1506 409 1894 409 \nQ 2359 409 2629 706 \nQ 2900 1003 2900 1516 \nL 2900 3500 \nL 3475 3500 \nL 3475 0 \nL 2900 0 \nL 2900 538 \nQ 2691 219 2414 64 \nQ 2138 -91 1772 -91 \nQ 1169 -91 856 284 \nQ 544 659 544 1381 \nz\nM 1991 3584 \nL 1991 3584 \nz\n\" transform=\"scale(0.015625)\"/>\n       <path id=\"DejaVuSans-6e\" d=\"M 3513 2113 \nL 3513 0 \nL 2938 0 \nL 2938 2094 \nQ 2938 2591 2744 2837 \nQ 2550 3084 2163 3084 \nQ 1697 3084 1428 2787 \nQ 1159 2491 1159 1978 \nL 1159 0 \nL 581 0 \nL 581 3500 \nL 1159 3500 \nL 1159 2956 \nQ 1366 3272 1645 3428 \nQ 1925 3584 2291 3584 \nQ 2894 3584 3203 3211 \nQ 3513 2838 3513 2113 \nz\n\" transform=\"scale(0.015625)\"/>\n      </defs>\n      <use xlink:href=\"#DejaVuSans-43\"/>\n      <use xlink:href=\"#DejaVuSans-6f\" x=\"69.824219\"/>\n      <use xlink:href=\"#DejaVuSans-75\" x=\"131.005859\"/>\n      <use xlink:href=\"#DejaVuSans-6e\" x=\"194.384766\"/>\n      <use xlink:href=\"#DejaVuSans-74\" x=\"257.763672\"/>\n     </g>\n    </g>\n   </g>\n   <g id=\"patch_5\">\n    <path d=\"M 46.965625 244.078125 \nL 46.965625 22.318125 \n\" style=\"fill: none; stroke: #000000; stroke-width: 0.8; stroke-linejoin: miter; stroke-linecap: square\"/>\n   </g>\n   <g id=\"patch_6\">\n    <path d=\"M 381.765625 244.078125 \nL 381.765625 22.318125 \n\" style=\"fill: none; stroke: #000000; stroke-width: 0.8; stroke-linejoin: miter; stroke-linecap: square\"/>\n   </g>\n   <g id=\"patch_7\">\n    <path d=\"M 46.965625 244.078125 \nL 381.765625 244.078125 \n\" style=\"fill: none; stroke: #000000; stroke-width: 0.8; stroke-linejoin: miter; stroke-linecap: square\"/>\n   </g>\n   <g id=\"patch_8\">\n    <path d=\"M 46.965625 22.318125 \nL 381.765625 22.318125 \n\" style=\"fill: none; stroke: #000000; stroke-width: 0.8; stroke-linejoin: miter; stroke-linecap: square\"/>\n   </g>\n   <g id=\"text_10\">\n    <!-- Target Class Distribution -->\n    <g transform=\"translate(141.198438 16.318125) scale(0.12 -0.12)\">\n     <defs>\n      <path id=\"DejaVuSans-44\" d=\"M 1259 4147 \nL 1259 519 \nL 2022 519 \nQ 2988 519 3436 956 \nQ 3884 1394 3884 2338 \nQ 3884 3275 3436 3711 \nQ 2988 4147 2022 4147 \nL 1259 4147 \nz\nM 628 4666 \nL 1925 4666 \nQ 3281 4666 3915 4102 \nQ 4550 3538 4550 2338 \nQ 4550 1131 3912 565 \nQ 3275 0 1925 0 \nL 628 0 \nL 628 4666 \nz\n\" transform=\"scale(0.015625)\"/>\n      <path id=\"DejaVuSans-69\" d=\"M 603 3500 \nL 1178 3500 \nL 1178 0 \nL 603 0 \nL 603 3500 \nz\nM 603 4863 \nL 1178 4863 \nL 1178 4134 \nL 603 4134 \nL 603 4863 \nz\n\" transform=\"scale(0.015625)\"/>\n      <path id=\"DejaVuSans-62\" d=\"M 3116 1747 \nQ 3116 2381 2855 2742 \nQ 2594 3103 2138 3103 \nQ 1681 3103 1420 2742 \nQ 1159 2381 1159 1747 \nQ 1159 1113 1420 752 \nQ 1681 391 2138 391 \nQ 2594 391 2855 752 \nQ 3116 1113 3116 1747 \nz\nM 1159 2969 \nQ 1341 3281 1617 3432 \nQ 1894 3584 2278 3584 \nQ 2916 3584 3314 3078 \nQ 3713 2572 3713 1747 \nQ 3713 922 3314 415 \nQ 2916 -91 2278 -91 \nQ 1894 -91 1617 61 \nQ 1341 213 1159 525 \nL 1159 0 \nL 581 0 \nL 581 4863 \nL 1159 4863 \nL 1159 2969 \nz\n\" transform=\"scale(0.015625)\"/>\n     </defs>\n     <use xlink:href=\"#DejaVuSans-54\"/>\n     <use xlink:href=\"#DejaVuSans-61\" x=\"44.583984\"/>\n     <use xlink:href=\"#DejaVuSans-72\" x=\"105.863281\"/>\n     <use xlink:href=\"#DejaVuSans-67\" x=\"145.226562\"/>\n     <use xlink:href=\"#DejaVuSans-65\" x=\"208.703125\"/>\n     <use xlink:href=\"#DejaVuSans-74\" x=\"270.226562\"/>\n     <use xlink:href=\"#DejaVuSans-20\" x=\"309.435547\"/>\n     <use xlink:href=\"#DejaVuSans-43\" x=\"341.222656\"/>\n     <use xlink:href=\"#DejaVuSans-6c\" x=\"411.046875\"/>\n     <use xlink:href=\"#DejaVuSans-61\" x=\"438.830078\"/>\n     <use xlink:href=\"#DejaVuSans-73\" x=\"500.109375\"/>\n     <use xlink:href=\"#DejaVuSans-73\" x=\"552.208984\"/>\n     <use xlink:href=\"#DejaVuSans-20\" x=\"604.308594\"/>\n     <use xlink:href=\"#DejaVuSans-44\" x=\"636.095703\"/>\n     <use xlink:href=\"#DejaVuSans-69\" x=\"713.097656\"/>\n     <use xlink:href=\"#DejaVuSans-73\" x=\"740.880859\"/>\n     <use xlink:href=\"#DejaVuSans-74\" x=\"792.980469\"/>\n     <use xlink:href=\"#DejaVuSans-72\" x=\"832.189453\"/>\n     <use xlink:href=\"#DejaVuSans-69\" x=\"873.302734\"/>\n     <use xlink:href=\"#DejaVuSans-62\" x=\"901.085938\"/>\n     <use xlink:href=\"#DejaVuSans-75\" x=\"964.5625\"/>\n     <use xlink:href=\"#DejaVuSans-74\" x=\"1027.941406\"/>\n     <use xlink:href=\"#DejaVuSans-69\" x=\"1067.150391\"/>\n     <use xlink:href=\"#DejaVuSans-6f\" x=\"1094.933594\"/>\n     <use xlink:href=\"#DejaVuSans-6e\" x=\"1156.115234\"/>\n    </g>\n   </g>\n  </g>\n </g>\n <defs>\n  <clipPath id=\"p0ae3ea487c\">\n   <rect x=\"46.965625\" y=\"22.318125\" width=\"334.8\" height=\"221.76\"/>\n  </clipPath>\n </defs>\n</svg>\n"
          },
          "metadata": {}
        }
      ],
      "source": [
        "# Bar plot for target class distribution\n",
        "plt.figure(figsize=(6, 4))\n",
        "sns.countplot(x=pd.Series(y))\n",
        "plt.xlabel('Target Class')\n",
        "plt.ylabel('Count')\n",
        "plt.title('Target Class Distribution')\n",
        "plt.show()"
      ]
    },
    {
      "cell_type": "markdown",
      "metadata": {
        "id": "cZlaYbF7ugWE"
      },
      "source": [
        "**Вывод:**\n",
        "\n",
        "Целевая переменная распроделена равномерно , каждый класс равновероятен"
      ]
    },
    {
      "cell_type": "code",
      "execution_count": null,
      "metadata": {
        "id": "gw8eYzOzmouR"
      },
      "outputs": [],
      "source": [
        "# Проанализируем взаимосвязи между переменными\n",
        "# sns.pairplot(X)\n",
        "# plt.show()"
      ]
    },
    {
      "cell_type": "code",
      "execution_count": null,
      "metadata": {
        "id": "Ayw948DSncBy",
        "colab": {
          "base_uri": "https://localhost:8080/",
          "height": 526
        },
        "outputId": "904ca387-92c0-42b8-9f30-e1e1656bf514"
      },
      "outputs": [
        {
          "output_type": "display_data",
          "data": {
            "text/plain": [
              "<Figure size 800x600 with 2 Axes>"
            ],
            "image/svg+xml": "<?xml version=\"1.0\" encoding=\"utf-8\" standalone=\"no\"?>\n<!DOCTYPE svg PUBLIC \"-//W3C//DTD SVG 1.1//EN\"\n  \"http://www.w3.org/Graphics/SVG/1.1/DTD/svg11.dtd\">\n<svg xmlns:xlink=\"http://www.w3.org/1999/xlink\" width=\"458.432938pt\" height=\"378.83625pt\" viewBox=\"0 0 458.432938 378.83625\" xmlns=\"http://www.w3.org/2000/svg\" version=\"1.1\">\n <metadata>\n  <rdf:RDF xmlns:dc=\"http://purl.org/dc/elements/1.1/\" xmlns:cc=\"http://creativecommons.org/ns#\" xmlns:rdf=\"http://www.w3.org/1999/02/22-rdf-syntax-ns#\">\n   <cc:Work>\n    <dc:type rdf:resource=\"http://purl.org/dc/dcmitype/StillImage\"/>\n    <dc:date>2023-07-26T15:40:18.478011</dc:date>\n    <dc:format>image/svg+xml</dc:format>\n    <dc:creator>\n     <cc:Agent>\n      <dc:title>Matplotlib v3.7.1, https://matplotlib.org/</dc:title>\n     </cc:Agent>\n    </dc:creator>\n   </cc:Work>\n  </rdf:RDF>\n </metadata>\n <defs>\n  <style type=\"text/css\">*{stroke-linejoin: round; stroke-linecap: butt}</style>\n </defs>\n <g id=\"figure_1\">\n  <g id=\"patch_1\">\n   <path d=\"M 0 378.83625 \nL 458.432938 378.83625 \nL 458.432938 0 \nL 0 0 \nz\n\" style=\"fill: #ffffff\"/>\n  </g>\n  <g id=\"axes_1\">\n   <g id=\"patch_2\">\n    <path d=\"M 23.878125 354.958125 \nL 380.998125 354.958125 \nL 380.998125 22.318125 \nL 23.878125 22.318125 \nz\n\" style=\"fill: #ffffff\"/>\n   </g>\n   <g id=\"QuadMesh_1\">\n    <path d=\"M 23.878125 22.318125 \nL 83.398125 22.318125 \nL 83.398125 77.758125 \nL 23.878125 77.758125 \nL 23.878125 22.318125 \n\" clip-path=\"url(#p8c8cdb3946)\" style=\"fill: #b40426; stroke: #ffffff; stroke-width: 0.5\"/>\n    <path d=\"M 83.398125 22.318125 \nL 142.918125 22.318125 \nL 142.918125 77.758125 \nL 83.398125 77.758125 \nL 83.398125 22.318125 \n\" clip-path=\"url(#p8c8cdb3946)\" style=\"fill: #3e51c5; stroke: #ffffff; stroke-width: 0.5\"/>\n    <path d=\"M 142.918125 22.318125 \nL 202.438125 22.318125 \nL 202.438125 77.758125 \nL 142.918125 77.758125 \nL 142.918125 22.318125 \n\" clip-path=\"url(#p8c8cdb3946)\" style=\"fill: #f39475; stroke: #ffffff; stroke-width: 0.5\"/>\n    <path d=\"M 202.438125 22.318125 \nL 261.958125 22.318125 \nL 261.958125 77.758125 \nL 202.438125 77.758125 \nL 202.438125 22.318125 \n\" clip-path=\"url(#p8c8cdb3946)\" style=\"fill: #f1ccb8; stroke: #ffffff; stroke-width: 0.5\"/>\n    <path d=\"M 261.958125 22.318125 \nL 321.478125 22.318125 \nL 321.478125 77.758125 \nL 261.958125 77.758125 \nL 261.958125 22.318125 \n\" clip-path=\"url(#p8c8cdb3946)\" style=\"fill: #f6a586; stroke: #ffffff; stroke-width: 0.5\"/>\n    <path d=\"M 321.478125 22.318125 \nL 380.998125 22.318125 \nL 380.998125 77.758125 \nL 321.478125 77.758125 \nL 321.478125 22.318125 \n\" clip-path=\"url(#p8c8cdb3946)\" style=\"fill: #f3c7b1; stroke: #ffffff; stroke-width: 0.5\"/>\n    <path d=\"M 23.878125 77.758125 \nL 83.398125 77.758125 \nL 83.398125 133.198125 \nL 23.878125 133.198125 \nL 23.878125 77.758125 \n\" clip-path=\"url(#p8c8cdb3946)\" style=\"fill: #3e51c5; stroke: #ffffff; stroke-width: 0.5\"/>\n    <path d=\"M 83.398125 77.758125 \nL 142.918125 77.758125 \nL 142.918125 133.198125 \nL 83.398125 133.198125 \nL 83.398125 77.758125 \n\" clip-path=\"url(#p8c8cdb3946)\" style=\"fill: #b40426; stroke: #ffffff; stroke-width: 0.5\"/>\n    <path d=\"M 142.918125 77.758125 \nL 202.438125 77.758125 \nL 202.438125 133.198125 \nL 142.918125 133.198125 \nL 142.918125 77.758125 \n\" clip-path=\"url(#p8c8cdb3946)\" style=\"fill: #3b4cc0; stroke: #ffffff; stroke-width: 0.5\"/>\n    <path d=\"M 202.438125 77.758125 \nL 261.958125 77.758125 \nL 261.958125 133.198125 \nL 202.438125 133.198125 \nL 202.438125 77.758125 \n\" clip-path=\"url(#p8c8cdb3946)\" style=\"fill: #5673e0; stroke: #ffffff; stroke-width: 0.5\"/>\n    <path d=\"M 261.958125 77.758125 \nL 321.478125 77.758125 \nL 321.478125 133.198125 \nL 261.958125 133.198125 \nL 261.958125 77.758125 \n\" clip-path=\"url(#p8c8cdb3946)\" style=\"fill: #4055c8; stroke: #ffffff; stroke-width: 0.5\"/>\n    <path d=\"M 321.478125 77.758125 \nL 380.998125 77.758125 \nL 380.998125 133.198125 \nL 321.478125 133.198125 \nL 321.478125 77.758125 \n\" clip-path=\"url(#p8c8cdb3946)\" style=\"fill: #506bda; stroke: #ffffff; stroke-width: 0.5\"/>\n    <path d=\"M 23.878125 133.198125 \nL 83.398125 133.198125 \nL 83.398125 188.638125 \nL 23.878125 188.638125 \nL 23.878125 133.198125 \n\" clip-path=\"url(#p8c8cdb3946)\" style=\"fill: #f39475; stroke: #ffffff; stroke-width: 0.5\"/>\n    <path d=\"M 83.398125 133.198125 \nL 142.918125 133.198125 \nL 142.918125 188.638125 \nL 83.398125 188.638125 \nL 83.398125 133.198125 \n\" clip-path=\"url(#p8c8cdb3946)\" style=\"fill: #3b4cc0; stroke: #ffffff; stroke-width: 0.5\"/>\n    <path d=\"M 142.918125 133.198125 \nL 202.438125 133.198125 \nL 202.438125 188.638125 \nL 142.918125 188.638125 \nL 142.918125 133.198125 \n\" clip-path=\"url(#p8c8cdb3946)\" style=\"fill: #b40426; stroke: #ffffff; stroke-width: 0.5\"/>\n    <path d=\"M 202.438125 133.198125 \nL 261.958125 133.198125 \nL 261.958125 188.638125 \nL 202.438125 188.638125 \nL 202.438125 133.198125 \n\" clip-path=\"url(#p8c8cdb3946)\" style=\"fill: #f18d6f; stroke: #ffffff; stroke-width: 0.5\"/>\n    <path d=\"M 261.958125 133.198125 \nL 321.478125 133.198125 \nL 321.478125 188.638125 \nL 261.958125 188.638125 \nL 261.958125 133.198125 \n\" clip-path=\"url(#p8c8cdb3946)\" style=\"fill: #e36b54; stroke: #ffffff; stroke-width: 0.5\"/>\n    <path d=\"M 321.478125 133.198125 \nL 380.998125 133.198125 \nL 380.998125 188.638125 \nL 321.478125 188.638125 \nL 321.478125 133.198125 \n\" clip-path=\"url(#p8c8cdb3946)\" style=\"fill: #f1ccb8; stroke: #ffffff; stroke-width: 0.5\"/>\n    <path d=\"M 23.878125 188.638125 \nL 83.398125 188.638125 \nL 83.398125 244.078125 \nL 23.878125 244.078125 \nL 23.878125 188.638125 \n\" clip-path=\"url(#p8c8cdb3946)\" style=\"fill: #f1ccb8; stroke: #ffffff; stroke-width: 0.5\"/>\n    <path d=\"M 83.398125 188.638125 \nL 142.918125 188.638125 \nL 142.918125 244.078125 \nL 83.398125 244.078125 \nL 83.398125 188.638125 \n\" clip-path=\"url(#p8c8cdb3946)\" style=\"fill: #5673e0; stroke: #ffffff; stroke-width: 0.5\"/>\n    <path d=\"M 142.918125 188.638125 \nL 202.438125 188.638125 \nL 202.438125 244.078125 \nL 142.918125 244.078125 \nL 142.918125 188.638125 \n\" clip-path=\"url(#p8c8cdb3946)\" style=\"fill: #f18d6f; stroke: #ffffff; stroke-width: 0.5\"/>\n    <path d=\"M 202.438125 188.638125 \nL 261.958125 188.638125 \nL 261.958125 244.078125 \nL 202.438125 244.078125 \nL 202.438125 188.638125 \n\" clip-path=\"url(#p8c8cdb3946)\" style=\"fill: #b40426; stroke: #ffffff; stroke-width: 0.5\"/>\n    <path d=\"M 261.958125 188.638125 \nL 321.478125 188.638125 \nL 321.478125 244.078125 \nL 261.958125 244.078125 \nL 261.958125 188.638125 \n\" clip-path=\"url(#p8c8cdb3946)\" style=\"fill: #f4c6af; stroke: #ffffff; stroke-width: 0.5\"/>\n    <path d=\"M 321.478125 188.638125 \nL 380.998125 188.638125 \nL 380.998125 244.078125 \nL 321.478125 244.078125 \nL 321.478125 188.638125 \n\" clip-path=\"url(#p8c8cdb3946)\" style=\"fill: #dadce0; stroke: #ffffff; stroke-width: 0.5\"/>\n    <path d=\"M 23.878125 244.078125 \nL 83.398125 244.078125 \nL 83.398125 299.518125 \nL 23.878125 299.518125 \nL 23.878125 244.078125 \n\" clip-path=\"url(#p8c8cdb3946)\" style=\"fill: #f6a586; stroke: #ffffff; stroke-width: 0.5\"/>\n    <path d=\"M 83.398125 244.078125 \nL 142.918125 244.078125 \nL 142.918125 299.518125 \nL 83.398125 299.518125 \nL 83.398125 244.078125 \n\" clip-path=\"url(#p8c8cdb3946)\" style=\"fill: #4055c8; stroke: #ffffff; stroke-width: 0.5\"/>\n    <path d=\"M 142.918125 244.078125 \nL 202.438125 244.078125 \nL 202.438125 299.518125 \nL 142.918125 299.518125 \nL 142.918125 244.078125 \n\" clip-path=\"url(#p8c8cdb3946)\" style=\"fill: #e36b54; stroke: #ffffff; stroke-width: 0.5\"/>\n    <path d=\"M 202.438125 244.078125 \nL 261.958125 244.078125 \nL 261.958125 299.518125 \nL 202.438125 299.518125 \nL 202.438125 244.078125 \n\" clip-path=\"url(#p8c8cdb3946)\" style=\"fill: #f4c6af; stroke: #ffffff; stroke-width: 0.5\"/>\n    <path d=\"M 261.958125 244.078125 \nL 321.478125 244.078125 \nL 321.478125 299.518125 \nL 261.958125 299.518125 \nL 261.958125 244.078125 \n\" clip-path=\"url(#p8c8cdb3946)\" style=\"fill: #b40426; stroke: #ffffff; stroke-width: 0.5\"/>\n    <path d=\"M 321.478125 244.078125 \nL 380.998125 244.078125 \nL 380.998125 299.518125 \nL 321.478125 299.518125 \nL 321.478125 244.078125 \n\" clip-path=\"url(#p8c8cdb3946)\" style=\"fill: #f3c8b2; stroke: #ffffff; stroke-width: 0.5\"/>\n    <path d=\"M 23.878125 299.518125 \nL 83.398125 299.518125 \nL 83.398125 354.958125 \nL 23.878125 354.958125 \nL 23.878125 299.518125 \n\" clip-path=\"url(#p8c8cdb3946)\" style=\"fill: #f3c7b1; stroke: #ffffff; stroke-width: 0.5\"/>\n    <path d=\"M 83.398125 299.518125 \nL 142.918125 299.518125 \nL 142.918125 354.958125 \nL 83.398125 354.958125 \nL 83.398125 299.518125 \n\" clip-path=\"url(#p8c8cdb3946)\" style=\"fill: #506bda; stroke: #ffffff; stroke-width: 0.5\"/>\n    <path d=\"M 142.918125 299.518125 \nL 202.438125 299.518125 \nL 202.438125 354.958125 \nL 142.918125 354.958125 \nL 142.918125 299.518125 \n\" clip-path=\"url(#p8c8cdb3946)\" style=\"fill: #f1ccb8; stroke: #ffffff; stroke-width: 0.5\"/>\n    <path d=\"M 202.438125 299.518125 \nL 261.958125 299.518125 \nL 261.958125 354.958125 \nL 202.438125 354.958125 \nL 202.438125 299.518125 \n\" clip-path=\"url(#p8c8cdb3946)\" style=\"fill: #dadce0; stroke: #ffffff; stroke-width: 0.5\"/>\n    <path d=\"M 261.958125 299.518125 \nL 321.478125 299.518125 \nL 321.478125 354.958125 \nL 261.958125 354.958125 \nL 261.958125 299.518125 \n\" clip-path=\"url(#p8c8cdb3946)\" style=\"fill: #f3c8b2; stroke: #ffffff; stroke-width: 0.5\"/>\n    <path d=\"M 321.478125 299.518125 \nL 380.998125 299.518125 \nL 380.998125 354.958125 \nL 321.478125 354.958125 \nL 321.478125 299.518125 \n\" clip-path=\"url(#p8c8cdb3946)\" style=\"fill: #b40426; stroke: #ffffff; stroke-width: 0.5\"/>\n   </g>\n   <g id=\"matplotlib.axis_1\">\n    <g id=\"xtick_1\">\n     <g id=\"line2d_1\">\n      <defs>\n       <path id=\"m8d95aa1ba6\" d=\"M 0 0 \nL 0 3.5 \n\" style=\"stroke: #000000; stroke-width: 0.8\"/>\n      </defs>\n      <g>\n       <use xlink:href=\"#m8d95aa1ba6\" x=\"53.638125\" y=\"354.958125\" style=\"stroke: #000000; stroke-width: 0.8\"/>\n      </g>\n     </g>\n     <g id=\"text_1\">\n      <!-- gravity -->\n      <g transform=\"translate(36.076406 369.556562) scale(0.1 -0.1)\">\n       <defs>\n        <path id=\"DejaVuSans-67\" d=\"M 2906 1791 \nQ 2906 2416 2648 2759 \nQ 2391 3103 1925 3103 \nQ 1463 3103 1205 2759 \nQ 947 2416 947 1791 \nQ 947 1169 1205 825 \nQ 1463 481 1925 481 \nQ 2391 481 2648 825 \nQ 2906 1169 2906 1791 \nz\nM 3481 434 \nQ 3481 -459 3084 -895 \nQ 2688 -1331 1869 -1331 \nQ 1566 -1331 1297 -1286 \nQ 1028 -1241 775 -1147 \nL 775 -588 \nQ 1028 -725 1275 -790 \nQ 1522 -856 1778 -856 \nQ 2344 -856 2625 -561 \nQ 2906 -266 2906 331 \nL 2906 616 \nQ 2728 306 2450 153 \nQ 2172 0 1784 0 \nQ 1141 0 747 490 \nQ 353 981 353 1791 \nQ 353 2603 747 3093 \nQ 1141 3584 1784 3584 \nQ 2172 3584 2450 3431 \nQ 2728 3278 2906 2969 \nL 2906 3500 \nL 3481 3500 \nL 3481 434 \nz\n\" transform=\"scale(0.015625)\"/>\n        <path id=\"DejaVuSans-72\" d=\"M 2631 2963 \nQ 2534 3019 2420 3045 \nQ 2306 3072 2169 3072 \nQ 1681 3072 1420 2755 \nQ 1159 2438 1159 1844 \nL 1159 0 \nL 581 0 \nL 581 3500 \nL 1159 3500 \nL 1159 2956 \nQ 1341 3275 1631 3429 \nQ 1922 3584 2338 3584 \nQ 2397 3584 2469 3576 \nQ 2541 3569 2628 3553 \nL 2631 2963 \nz\n\" transform=\"scale(0.015625)\"/>\n        <path id=\"DejaVuSans-61\" d=\"M 2194 1759 \nQ 1497 1759 1228 1600 \nQ 959 1441 959 1056 \nQ 959 750 1161 570 \nQ 1363 391 1709 391 \nQ 2188 391 2477 730 \nQ 2766 1069 2766 1631 \nL 2766 1759 \nL 2194 1759 \nz\nM 3341 1997 \nL 3341 0 \nL 2766 0 \nL 2766 531 \nQ 2569 213 2275 61 \nQ 1981 -91 1556 -91 \nQ 1019 -91 701 211 \nQ 384 513 384 1019 \nQ 384 1609 779 1909 \nQ 1175 2209 1959 2209 \nL 2766 2209 \nL 2766 2266 \nQ 2766 2663 2505 2880 \nQ 2244 3097 1772 3097 \nQ 1472 3097 1187 3025 \nQ 903 2953 641 2809 \nL 641 3341 \nQ 956 3463 1253 3523 \nQ 1550 3584 1831 3584 \nQ 2591 3584 2966 3190 \nQ 3341 2797 3341 1997 \nz\n\" transform=\"scale(0.015625)\"/>\n        <path id=\"DejaVuSans-76\" d=\"M 191 3500 \nL 800 3500 \nL 1894 563 \nL 2988 3500 \nL 3597 3500 \nL 2284 0 \nL 1503 0 \nL 191 3500 \nz\n\" transform=\"scale(0.015625)\"/>\n        <path id=\"DejaVuSans-69\" d=\"M 603 3500 \nL 1178 3500 \nL 1178 0 \nL 603 0 \nL 603 3500 \nz\nM 603 4863 \nL 1178 4863 \nL 1178 4134 \nL 603 4134 \nL 603 4863 \nz\n\" transform=\"scale(0.015625)\"/>\n        <path id=\"DejaVuSans-74\" d=\"M 1172 4494 \nL 1172 3500 \nL 2356 3500 \nL 2356 3053 \nL 1172 3053 \nL 1172 1153 \nQ 1172 725 1289 603 \nQ 1406 481 1766 481 \nL 2356 481 \nL 2356 0 \nL 1766 0 \nQ 1100 0 847 248 \nQ 594 497 594 1153 \nL 594 3053 \nL 172 3053 \nL 172 3500 \nL 594 3500 \nL 594 4494 \nL 1172 4494 \nz\n\" transform=\"scale(0.015625)\"/>\n        <path id=\"DejaVuSans-79\" d=\"M 2059 -325 \nQ 1816 -950 1584 -1140 \nQ 1353 -1331 966 -1331 \nL 506 -1331 \nL 506 -850 \nL 844 -850 \nQ 1081 -850 1212 -737 \nQ 1344 -625 1503 -206 \nL 1606 56 \nL 191 3500 \nL 800 3500 \nL 1894 763 \nL 2988 3500 \nL 3597 3500 \nL 2059 -325 \nz\n\" transform=\"scale(0.015625)\"/>\n       </defs>\n       <use xlink:href=\"#DejaVuSans-67\"/>\n       <use xlink:href=\"#DejaVuSans-72\" x=\"63.476562\"/>\n       <use xlink:href=\"#DejaVuSans-61\" x=\"104.589844\"/>\n       <use xlink:href=\"#DejaVuSans-76\" x=\"165.869141\"/>\n       <use xlink:href=\"#DejaVuSans-69\" x=\"225.048828\"/>\n       <use xlink:href=\"#DejaVuSans-74\" x=\"252.832031\"/>\n       <use xlink:href=\"#DejaVuSans-79\" x=\"292.041016\"/>\n      </g>\n     </g>\n    </g>\n    <g id=\"xtick_2\">\n     <g id=\"line2d_2\">\n      <g>\n       <use xlink:href=\"#m8d95aa1ba6\" x=\"113.158125\" y=\"354.958125\" style=\"stroke: #000000; stroke-width: 0.8\"/>\n      </g>\n     </g>\n     <g id=\"text_2\">\n      <!-- ph -->\n      <g transform=\"translate(106.815156 369.556562) scale(0.1 -0.1)\">\n       <defs>\n        <path id=\"DejaVuSans-70\" d=\"M 1159 525 \nL 1159 -1331 \nL 581 -1331 \nL 581 3500 \nL 1159 3500 \nL 1159 2969 \nQ 1341 3281 1617 3432 \nQ 1894 3584 2278 3584 \nQ 2916 3584 3314 3078 \nQ 3713 2572 3713 1747 \nQ 3713 922 3314 415 \nQ 2916 -91 2278 -91 \nQ 1894 -91 1617 61 \nQ 1341 213 1159 525 \nz\nM 3116 1747 \nQ 3116 2381 2855 2742 \nQ 2594 3103 2138 3103 \nQ 1681 3103 1420 2742 \nQ 1159 2381 1159 1747 \nQ 1159 1113 1420 752 \nQ 1681 391 2138 391 \nQ 2594 391 2855 752 \nQ 3116 1113 3116 1747 \nz\n\" transform=\"scale(0.015625)\"/>\n        <path id=\"DejaVuSans-68\" d=\"M 3513 2113 \nL 3513 0 \nL 2938 0 \nL 2938 2094 \nQ 2938 2591 2744 2837 \nQ 2550 3084 2163 3084 \nQ 1697 3084 1428 2787 \nQ 1159 2491 1159 1978 \nL 1159 0 \nL 581 0 \nL 581 4863 \nL 1159 4863 \nL 1159 2956 \nQ 1366 3272 1645 3428 \nQ 1925 3584 2291 3584 \nQ 2894 3584 3203 3211 \nQ 3513 2838 3513 2113 \nz\n\" transform=\"scale(0.015625)\"/>\n       </defs>\n       <use xlink:href=\"#DejaVuSans-70\"/>\n       <use xlink:href=\"#DejaVuSans-68\" x=\"63.476562\"/>\n      </g>\n     </g>\n    </g>\n    <g id=\"xtick_3\">\n     <g id=\"line2d_3\">\n      <g>\n       <use xlink:href=\"#m8d95aa1ba6\" x=\"172.678125\" y=\"354.958125\" style=\"stroke: #000000; stroke-width: 0.8\"/>\n      </g>\n     </g>\n     <g id=\"text_3\">\n      <!-- osmo -->\n      <g transform=\"translate(159.084375 369.556562) scale(0.1 -0.1)\">\n       <defs>\n        <path id=\"DejaVuSans-6f\" d=\"M 1959 3097 \nQ 1497 3097 1228 2736 \nQ 959 2375 959 1747 \nQ 959 1119 1226 758 \nQ 1494 397 1959 397 \nQ 2419 397 2687 759 \nQ 2956 1122 2956 1747 \nQ 2956 2369 2687 2733 \nQ 2419 3097 1959 3097 \nz\nM 1959 3584 \nQ 2709 3584 3137 3096 \nQ 3566 2609 3566 1747 \nQ 3566 888 3137 398 \nQ 2709 -91 1959 -91 \nQ 1206 -91 779 398 \nQ 353 888 353 1747 \nQ 353 2609 779 3096 \nQ 1206 3584 1959 3584 \nz\n\" transform=\"scale(0.015625)\"/>\n        <path id=\"DejaVuSans-73\" d=\"M 2834 3397 \nL 2834 2853 \nQ 2591 2978 2328 3040 \nQ 2066 3103 1784 3103 \nQ 1356 3103 1142 2972 \nQ 928 2841 928 2578 \nQ 928 2378 1081 2264 \nQ 1234 2150 1697 2047 \nL 1894 2003 \nQ 2506 1872 2764 1633 \nQ 3022 1394 3022 966 \nQ 3022 478 2636 193 \nQ 2250 -91 1575 -91 \nQ 1294 -91 989 -36 \nQ 684 19 347 128 \nL 347 722 \nQ 666 556 975 473 \nQ 1284 391 1588 391 \nQ 1994 391 2212 530 \nQ 2431 669 2431 922 \nQ 2431 1156 2273 1281 \nQ 2116 1406 1581 1522 \nL 1381 1569 \nQ 847 1681 609 1914 \nQ 372 2147 372 2553 \nQ 372 3047 722 3315 \nQ 1072 3584 1716 3584 \nQ 2034 3584 2315 3537 \nQ 2597 3491 2834 3397 \nz\n\" transform=\"scale(0.015625)\"/>\n        <path id=\"DejaVuSans-6d\" d=\"M 3328 2828 \nQ 3544 3216 3844 3400 \nQ 4144 3584 4550 3584 \nQ 5097 3584 5394 3201 \nQ 5691 2819 5691 2113 \nL 5691 0 \nL 5113 0 \nL 5113 2094 \nQ 5113 2597 4934 2840 \nQ 4756 3084 4391 3084 \nQ 3944 3084 3684 2787 \nQ 3425 2491 3425 1978 \nL 3425 0 \nL 2847 0 \nL 2847 2094 \nQ 2847 2600 2669 2842 \nQ 2491 3084 2119 3084 \nQ 1678 3084 1418 2786 \nQ 1159 2488 1159 1978 \nL 1159 0 \nL 581 0 \nL 581 3500 \nL 1159 3500 \nL 1159 2956 \nQ 1356 3278 1631 3431 \nQ 1906 3584 2284 3584 \nQ 2666 3584 2933 3390 \nQ 3200 3197 3328 2828 \nz\n\" transform=\"scale(0.015625)\"/>\n       </defs>\n       <use xlink:href=\"#DejaVuSans-6f\"/>\n       <use xlink:href=\"#DejaVuSans-73\" x=\"61.181641\"/>\n       <use xlink:href=\"#DejaVuSans-6d\" x=\"113.28125\"/>\n       <use xlink:href=\"#DejaVuSans-6f\" x=\"210.693359\"/>\n      </g>\n     </g>\n    </g>\n    <g id=\"xtick_4\">\n     <g id=\"line2d_4\">\n      <g>\n       <use xlink:href=\"#m8d95aa1ba6\" x=\"232.198125\" y=\"354.958125\" style=\"stroke: #000000; stroke-width: 0.8\"/>\n      </g>\n     </g>\n     <g id=\"text_4\">\n      <!-- cond -->\n      <g transform=\"translate(220.046563 369.556562) scale(0.1 -0.1)\">\n       <defs>\n        <path id=\"DejaVuSans-63\" d=\"M 3122 3366 \nL 3122 2828 \nQ 2878 2963 2633 3030 \nQ 2388 3097 2138 3097 \nQ 1578 3097 1268 2742 \nQ 959 2388 959 1747 \nQ 959 1106 1268 751 \nQ 1578 397 2138 397 \nQ 2388 397 2633 464 \nQ 2878 531 3122 666 \nL 3122 134 \nQ 2881 22 2623 -34 \nQ 2366 -91 2075 -91 \nQ 1284 -91 818 406 \nQ 353 903 353 1747 \nQ 353 2603 823 3093 \nQ 1294 3584 2113 3584 \nQ 2378 3584 2631 3529 \nQ 2884 3475 3122 3366 \nz\n\" transform=\"scale(0.015625)\"/>\n        <path id=\"DejaVuSans-6e\" d=\"M 3513 2113 \nL 3513 0 \nL 2938 0 \nL 2938 2094 \nQ 2938 2591 2744 2837 \nQ 2550 3084 2163 3084 \nQ 1697 3084 1428 2787 \nQ 1159 2491 1159 1978 \nL 1159 0 \nL 581 0 \nL 581 3500 \nL 1159 3500 \nL 1159 2956 \nQ 1366 3272 1645 3428 \nQ 1925 3584 2291 3584 \nQ 2894 3584 3203 3211 \nQ 3513 2838 3513 2113 \nz\n\" transform=\"scale(0.015625)\"/>\n        <path id=\"DejaVuSans-64\" d=\"M 2906 2969 \nL 2906 4863 \nL 3481 4863 \nL 3481 0 \nL 2906 0 \nL 2906 525 \nQ 2725 213 2448 61 \nQ 2172 -91 1784 -91 \nQ 1150 -91 751 415 \nQ 353 922 353 1747 \nQ 353 2572 751 3078 \nQ 1150 3584 1784 3584 \nQ 2172 3584 2448 3432 \nQ 2725 3281 2906 2969 \nz\nM 947 1747 \nQ 947 1113 1208 752 \nQ 1469 391 1925 391 \nQ 2381 391 2643 752 \nQ 2906 1113 2906 1747 \nQ 2906 2381 2643 2742 \nQ 2381 3103 1925 3103 \nQ 1469 3103 1208 2742 \nQ 947 2381 947 1747 \nz\n\" transform=\"scale(0.015625)\"/>\n       </defs>\n       <use xlink:href=\"#DejaVuSans-63\"/>\n       <use xlink:href=\"#DejaVuSans-6f\" x=\"54.980469\"/>\n       <use xlink:href=\"#DejaVuSans-6e\" x=\"116.162109\"/>\n       <use xlink:href=\"#DejaVuSans-64\" x=\"179.541016\"/>\n      </g>\n     </g>\n    </g>\n    <g id=\"xtick_5\">\n     <g id=\"line2d_5\">\n      <g>\n       <use xlink:href=\"#m8d95aa1ba6\" x=\"291.718125\" y=\"354.958125\" style=\"stroke: #000000; stroke-width: 0.8\"/>\n      </g>\n     </g>\n     <g id=\"text_5\">\n      <!-- urea -->\n      <g transform=\"translate(280.465781 369.556562) scale(0.1 -0.1)\">\n       <defs>\n        <path id=\"DejaVuSans-75\" d=\"M 544 1381 \nL 544 3500 \nL 1119 3500 \nL 1119 1403 \nQ 1119 906 1312 657 \nQ 1506 409 1894 409 \nQ 2359 409 2629 706 \nQ 2900 1003 2900 1516 \nL 2900 3500 \nL 3475 3500 \nL 3475 0 \nL 2900 0 \nL 2900 538 \nQ 2691 219 2414 64 \nQ 2138 -91 1772 -91 \nQ 1169 -91 856 284 \nQ 544 659 544 1381 \nz\nM 1991 3584 \nL 1991 3584 \nz\n\" transform=\"scale(0.015625)\"/>\n        <path id=\"DejaVuSans-65\" d=\"M 3597 1894 \nL 3597 1613 \nL 953 1613 \nQ 991 1019 1311 708 \nQ 1631 397 2203 397 \nQ 2534 397 2845 478 \nQ 3156 559 3463 722 \nL 3463 178 \nQ 3153 47 2828 -22 \nQ 2503 -91 2169 -91 \nQ 1331 -91 842 396 \nQ 353 884 353 1716 \nQ 353 2575 817 3079 \nQ 1281 3584 2069 3584 \nQ 2775 3584 3186 3129 \nQ 3597 2675 3597 1894 \nz\nM 3022 2063 \nQ 3016 2534 2758 2815 \nQ 2500 3097 2075 3097 \nQ 1594 3097 1305 2825 \nQ 1016 2553 972 2059 \nL 3022 2063 \nz\n\" transform=\"scale(0.015625)\"/>\n       </defs>\n       <use xlink:href=\"#DejaVuSans-75\"/>\n       <use xlink:href=\"#DejaVuSans-72\" x=\"63.378906\"/>\n       <use xlink:href=\"#DejaVuSans-65\" x=\"102.242188\"/>\n       <use xlink:href=\"#DejaVuSans-61\" x=\"163.765625\"/>\n      </g>\n     </g>\n    </g>\n    <g id=\"xtick_6\">\n     <g id=\"line2d_6\">\n      <g>\n       <use xlink:href=\"#m8d95aa1ba6\" x=\"351.238125\" y=\"354.958125\" style=\"stroke: #000000; stroke-width: 0.8\"/>\n      </g>\n     </g>\n     <g id=\"text_6\">\n      <!-- calc -->\n      <g transform=\"translate(341.286563 369.556562) scale(0.1 -0.1)\">\n       <defs>\n        <path id=\"DejaVuSans-6c\" d=\"M 603 4863 \nL 1178 4863 \nL 1178 0 \nL 603 0 \nL 603 4863 \nz\n\" transform=\"scale(0.015625)\"/>\n       </defs>\n       <use xlink:href=\"#DejaVuSans-63\"/>\n       <use xlink:href=\"#DejaVuSans-61\" x=\"54.980469\"/>\n       <use xlink:href=\"#DejaVuSans-6c\" x=\"116.259766\"/>\n       <use xlink:href=\"#DejaVuSans-63\" x=\"144.042969\"/>\n      </g>\n     </g>\n    </g>\n   </g>\n   <g id=\"matplotlib.axis_2\">\n    <g id=\"ytick_1\">\n     <g id=\"line2d_7\">\n      <defs>\n       <path id=\"m1bd14f36b0\" d=\"M 0 0 \nL -3.5 0 \n\" style=\"stroke: #000000; stroke-width: 0.8\"/>\n      </defs>\n      <g>\n       <use xlink:href=\"#m1bd14f36b0\" x=\"23.878125\" y=\"50.038125\" style=\"stroke: #000000; stroke-width: 0.8\"/>\n      </g>\n     </g>\n     <g id=\"text_7\">\n      <!-- gravity -->\n      <g transform=\"translate(14.798438 67.599844) rotate(-90) scale(0.1 -0.1)\">\n       <use xlink:href=\"#DejaVuSans-67\"/>\n       <use xlink:href=\"#DejaVuSans-72\" x=\"63.476562\"/>\n       <use xlink:href=\"#DejaVuSans-61\" x=\"104.589844\"/>\n       <use xlink:href=\"#DejaVuSans-76\" x=\"165.869141\"/>\n       <use xlink:href=\"#DejaVuSans-69\" x=\"225.048828\"/>\n       <use xlink:href=\"#DejaVuSans-74\" x=\"252.832031\"/>\n       <use xlink:href=\"#DejaVuSans-79\" x=\"292.041016\"/>\n      </g>\n     </g>\n    </g>\n    <g id=\"ytick_2\">\n     <g id=\"line2d_8\">\n      <g>\n       <use xlink:href=\"#m1bd14f36b0\" x=\"23.878125\" y=\"105.478125\" style=\"stroke: #000000; stroke-width: 0.8\"/>\n      </g>\n     </g>\n     <g id=\"text_8\">\n      <!-- ph -->\n      <g transform=\"translate(14.798438 111.821094) rotate(-90) scale(0.1 -0.1)\">\n       <use xlink:href=\"#DejaVuSans-70\"/>\n       <use xlink:href=\"#DejaVuSans-68\" x=\"63.476562\"/>\n      </g>\n     </g>\n    </g>\n    <g id=\"ytick_3\">\n     <g id=\"line2d_9\">\n      <g>\n       <use xlink:href=\"#m1bd14f36b0\" x=\"23.878125\" y=\"160.918125\" style=\"stroke: #000000; stroke-width: 0.8\"/>\n      </g>\n     </g>\n     <g id=\"text_9\">\n      <!-- osmo -->\n      <g transform=\"translate(14.798438 174.511875) rotate(-90) scale(0.1 -0.1)\">\n       <use xlink:href=\"#DejaVuSans-6f\"/>\n       <use xlink:href=\"#DejaVuSans-73\" x=\"61.181641\"/>\n       <use xlink:href=\"#DejaVuSans-6d\" x=\"113.28125\"/>\n       <use xlink:href=\"#DejaVuSans-6f\" x=\"210.693359\"/>\n      </g>\n     </g>\n    </g>\n    <g id=\"ytick_4\">\n     <g id=\"line2d_10\">\n      <g>\n       <use xlink:href=\"#m1bd14f36b0\" x=\"23.878125\" y=\"216.358125\" style=\"stroke: #000000; stroke-width: 0.8\"/>\n      </g>\n     </g>\n     <g id=\"text_10\">\n      <!-- cond -->\n      <g transform=\"translate(14.798438 228.509687) rotate(-90) scale(0.1 -0.1)\">\n       <use xlink:href=\"#DejaVuSans-63\"/>\n       <use xlink:href=\"#DejaVuSans-6f\" x=\"54.980469\"/>\n       <use xlink:href=\"#DejaVuSans-6e\" x=\"116.162109\"/>\n       <use xlink:href=\"#DejaVuSans-64\" x=\"179.541016\"/>\n      </g>\n     </g>\n    </g>\n    <g id=\"ytick_5\">\n     <g id=\"line2d_11\">\n      <g>\n       <use xlink:href=\"#m1bd14f36b0\" x=\"23.878125\" y=\"271.798125\" style=\"stroke: #000000; stroke-width: 0.8\"/>\n      </g>\n     </g>\n     <g id=\"text_11\">\n      <!-- urea -->\n      <g transform=\"translate(14.798438 283.050469) rotate(-90) scale(0.1 -0.1)\">\n       <use xlink:href=\"#DejaVuSans-75\"/>\n       <use xlink:href=\"#DejaVuSans-72\" x=\"63.378906\"/>\n       <use xlink:href=\"#DejaVuSans-65\" x=\"102.242188\"/>\n       <use xlink:href=\"#DejaVuSans-61\" x=\"163.765625\"/>\n      </g>\n     </g>\n    </g>\n    <g id=\"ytick_6\">\n     <g id=\"line2d_12\">\n      <g>\n       <use xlink:href=\"#m1bd14f36b0\" x=\"23.878125\" y=\"327.238125\" style=\"stroke: #000000; stroke-width: 0.8\"/>\n      </g>\n     </g>\n     <g id=\"text_12\">\n      <!-- calc -->\n      <g transform=\"translate(14.798438 337.189687) rotate(-90) scale(0.1 -0.1)\">\n       <use xlink:href=\"#DejaVuSans-63\"/>\n       <use xlink:href=\"#DejaVuSans-61\" x=\"54.980469\"/>\n       <use xlink:href=\"#DejaVuSans-6c\" x=\"116.259766\"/>\n       <use xlink:href=\"#DejaVuSans-63\" x=\"144.042969\"/>\n      </g>\n     </g>\n    </g>\n   </g>\n   <g id=\"text_13\">\n    <!-- 1.00 -->\n    <g style=\"fill: #ffffff\" transform=\"translate(42.505313 52.7975) scale(0.1 -0.1)\">\n     <defs>\n      <path id=\"DejaVuSans-31\" d=\"M 794 531 \nL 1825 531 \nL 1825 4091 \nL 703 3866 \nL 703 4441 \nL 1819 4666 \nL 2450 4666 \nL 2450 531 \nL 3481 531 \nL 3481 0 \nL 794 0 \nL 794 531 \nz\n\" transform=\"scale(0.015625)\"/>\n      <path id=\"DejaVuSans-2e\" d=\"M 684 794 \nL 1344 794 \nL 1344 0 \nL 684 0 \nL 684 794 \nz\n\" transform=\"scale(0.015625)\"/>\n      <path id=\"DejaVuSans-30\" d=\"M 2034 4250 \nQ 1547 4250 1301 3770 \nQ 1056 3291 1056 2328 \nQ 1056 1369 1301 889 \nQ 1547 409 2034 409 \nQ 2525 409 2770 889 \nQ 3016 1369 3016 2328 \nQ 3016 3291 2770 3770 \nQ 2525 4250 2034 4250 \nz\nM 2034 4750 \nQ 2819 4750 3233 4129 \nQ 3647 3509 3647 2328 \nQ 3647 1150 3233 529 \nQ 2819 -91 2034 -91 \nQ 1250 -91 836 529 \nQ 422 1150 422 2328 \nQ 422 3509 836 4129 \nQ 1250 4750 2034 4750 \nz\n\" transform=\"scale(0.015625)\"/>\n     </defs>\n     <use xlink:href=\"#DejaVuSans-31\"/>\n     <use xlink:href=\"#DejaVuSans-2e\" x=\"63.623047\"/>\n     <use xlink:href=\"#DejaVuSans-30\" x=\"95.410156\"/>\n     <use xlink:href=\"#DejaVuSans-30\" x=\"159.033203\"/>\n    </g>\n   </g>\n   <g id=\"text_14\">\n    <!-- -0.29 -->\n    <g style=\"fill: #ffffff\" transform=\"translate(100.221406 52.7975) scale(0.1 -0.1)\">\n     <defs>\n      <path id=\"DejaVuSans-2d\" d=\"M 313 2009 \nL 1997 2009 \nL 1997 1497 \nL 313 1497 \nL 313 2009 \nz\n\" transform=\"scale(0.015625)\"/>\n      <path id=\"DejaVuSans-32\" d=\"M 1228 531 \nL 3431 531 \nL 3431 0 \nL 469 0 \nL 469 531 \nQ 828 903 1448 1529 \nQ 2069 2156 2228 2338 \nQ 2531 2678 2651 2914 \nQ 2772 3150 2772 3378 \nQ 2772 3750 2511 3984 \nQ 2250 4219 1831 4219 \nQ 1534 4219 1204 4116 \nQ 875 4013 500 3803 \nL 500 4441 \nQ 881 4594 1212 4672 \nQ 1544 4750 1819 4750 \nQ 2544 4750 2975 4387 \nQ 3406 4025 3406 3419 \nQ 3406 3131 3298 2873 \nQ 3191 2616 2906 2266 \nQ 2828 2175 2409 1742 \nQ 1991 1309 1228 531 \nz\n\" transform=\"scale(0.015625)\"/>\n      <path id=\"DejaVuSans-39\" d=\"M 703 97 \nL 703 672 \nQ 941 559 1184 500 \nQ 1428 441 1663 441 \nQ 2288 441 2617 861 \nQ 2947 1281 2994 2138 \nQ 2813 1869 2534 1725 \nQ 2256 1581 1919 1581 \nQ 1219 1581 811 2004 \nQ 403 2428 403 3163 \nQ 403 3881 828 4315 \nQ 1253 4750 1959 4750 \nQ 2769 4750 3195 4129 \nQ 3622 3509 3622 2328 \nQ 3622 1225 3098 567 \nQ 2575 -91 1691 -91 \nQ 1453 -91 1209 -44 \nQ 966 3 703 97 \nz\nM 1959 2075 \nQ 2384 2075 2632 2365 \nQ 2881 2656 2881 3163 \nQ 2881 3666 2632 3958 \nQ 2384 4250 1959 4250 \nQ 1534 4250 1286 3958 \nQ 1038 3666 1038 3163 \nQ 1038 2656 1286 2365 \nQ 1534 2075 1959 2075 \nz\n\" transform=\"scale(0.015625)\"/>\n     </defs>\n     <use xlink:href=\"#DejaVuSans-2d\"/>\n     <use xlink:href=\"#DejaVuSans-30\" x=\"36.083984\"/>\n     <use xlink:href=\"#DejaVuSans-2e\" x=\"99.707031\"/>\n     <use xlink:href=\"#DejaVuSans-32\" x=\"131.494141\"/>\n     <use xlink:href=\"#DejaVuSans-39\" x=\"195.117188\"/>\n    </g>\n   </g>\n   <g id=\"text_15\">\n    <!-- 0.69 -->\n    <g style=\"fill: #262626\" transform=\"translate(161.545313 52.7975) scale(0.1 -0.1)\">\n     <defs>\n      <path id=\"DejaVuSans-36\" d=\"M 2113 2584 \nQ 1688 2584 1439 2293 \nQ 1191 2003 1191 1497 \nQ 1191 994 1439 701 \nQ 1688 409 2113 409 \nQ 2538 409 2786 701 \nQ 3034 994 3034 1497 \nQ 3034 2003 2786 2293 \nQ 2538 2584 2113 2584 \nz\nM 3366 4563 \nL 3366 3988 \nQ 3128 4100 2886 4159 \nQ 2644 4219 2406 4219 \nQ 1781 4219 1451 3797 \nQ 1122 3375 1075 2522 \nQ 1259 2794 1537 2939 \nQ 1816 3084 2150 3084 \nQ 2853 3084 3261 2657 \nQ 3669 2231 3669 1497 \nQ 3669 778 3244 343 \nQ 2819 -91 2113 -91 \nQ 1303 -91 875 529 \nQ 447 1150 447 2328 \nQ 447 3434 972 4092 \nQ 1497 4750 2381 4750 \nQ 2619 4750 2861 4703 \nQ 3103 4656 3366 4563 \nz\n\" transform=\"scale(0.015625)\"/>\n     </defs>\n     <use xlink:href=\"#DejaVuSans-30\"/>\n     <use xlink:href=\"#DejaVuSans-2e\" x=\"63.623047\"/>\n     <use xlink:href=\"#DejaVuSans-36\" x=\"95.410156\"/>\n     <use xlink:href=\"#DejaVuSans-39\" x=\"159.033203\"/>\n    </g>\n   </g>\n   <g id=\"text_16\">\n    <!-- 0.47 -->\n    <g style=\"fill: #262626\" transform=\"translate(221.065313 52.7975) scale(0.1 -0.1)\">\n     <defs>\n      <path id=\"DejaVuSans-34\" d=\"M 2419 4116 \nL 825 1625 \nL 2419 1625 \nL 2419 4116 \nz\nM 2253 4666 \nL 3047 4666 \nL 3047 1625 \nL 3713 1625 \nL 3713 1100 \nL 3047 1100 \nL 3047 0 \nL 2419 0 \nL 2419 1100 \nL 313 1100 \nL 313 1709 \nL 2253 4666 \nz\n\" transform=\"scale(0.015625)\"/>\n      <path id=\"DejaVuSans-37\" d=\"M 525 4666 \nL 3525 4666 \nL 3525 4397 \nL 1831 0 \nL 1172 0 \nL 2766 4134 \nL 525 4134 \nL 525 4666 \nz\n\" transform=\"scale(0.015625)\"/>\n     </defs>\n     <use xlink:href=\"#DejaVuSans-30\"/>\n     <use xlink:href=\"#DejaVuSans-2e\" x=\"63.623047\"/>\n     <use xlink:href=\"#DejaVuSans-34\" x=\"95.410156\"/>\n     <use xlink:href=\"#DejaVuSans-37\" x=\"159.033203\"/>\n    </g>\n   </g>\n   <g id=\"text_17\">\n    <!-- 0.63 -->\n    <g style=\"fill: #262626\" transform=\"translate(280.585313 52.7975) scale(0.1 -0.1)\">\n     <defs>\n      <path id=\"DejaVuSans-33\" d=\"M 2597 2516 \nQ 3050 2419 3304 2112 \nQ 3559 1806 3559 1356 \nQ 3559 666 3084 287 \nQ 2609 -91 1734 -91 \nQ 1441 -91 1130 -33 \nQ 819 25 488 141 \nL 488 750 \nQ 750 597 1062 519 \nQ 1375 441 1716 441 \nQ 2309 441 2620 675 \nQ 2931 909 2931 1356 \nQ 2931 1769 2642 2001 \nQ 2353 2234 1838 2234 \nL 1294 2234 \nL 1294 2753 \nL 1863 2753 \nQ 2328 2753 2575 2939 \nQ 2822 3125 2822 3475 \nQ 2822 3834 2567 4026 \nQ 2313 4219 1838 4219 \nQ 1578 4219 1281 4162 \nQ 984 4106 628 3988 \nL 628 4550 \nQ 988 4650 1302 4700 \nQ 1616 4750 1894 4750 \nQ 2613 4750 3031 4423 \nQ 3450 4097 3450 3541 \nQ 3450 3153 3228 2886 \nQ 3006 2619 2597 2516 \nz\n\" transform=\"scale(0.015625)\"/>\n     </defs>\n     <use xlink:href=\"#DejaVuSans-30\"/>\n     <use xlink:href=\"#DejaVuSans-2e\" x=\"63.623047\"/>\n     <use xlink:href=\"#DejaVuSans-36\" x=\"95.410156\"/>\n     <use xlink:href=\"#DejaVuSans-33\" x=\"159.033203\"/>\n    </g>\n   </g>\n   <g id=\"text_18\">\n    <!-- 0.49 -->\n    <g style=\"fill: #262626\" transform=\"translate(340.105313 52.7975) scale(0.1 -0.1)\">\n     <use xlink:href=\"#DejaVuSans-30\"/>\n     <use xlink:href=\"#DejaVuSans-2e\" x=\"63.623047\"/>\n     <use xlink:href=\"#DejaVuSans-34\" x=\"95.410156\"/>\n     <use xlink:href=\"#DejaVuSans-39\" x=\"159.033203\"/>\n    </g>\n   </g>\n   <g id=\"text_19\">\n    <!-- -0.29 -->\n    <g style=\"fill: #ffffff\" transform=\"translate(40.701406 108.2375) scale(0.1 -0.1)\">\n     <use xlink:href=\"#DejaVuSans-2d\"/>\n     <use xlink:href=\"#DejaVuSans-30\" x=\"36.083984\"/>\n     <use xlink:href=\"#DejaVuSans-2e\" x=\"99.707031\"/>\n     <use xlink:href=\"#DejaVuSans-32\" x=\"131.494141\"/>\n     <use xlink:href=\"#DejaVuSans-39\" x=\"195.117188\"/>\n    </g>\n   </g>\n   <g id=\"text_20\">\n    <!-- 1.00 -->\n    <g style=\"fill: #ffffff\" transform=\"translate(102.025313 108.2375) scale(0.1 -0.1)\">\n     <use xlink:href=\"#DejaVuSans-31\"/>\n     <use xlink:href=\"#DejaVuSans-2e\" x=\"63.623047\"/>\n     <use xlink:href=\"#DejaVuSans-30\" x=\"95.410156\"/>\n     <use xlink:href=\"#DejaVuSans-30\" x=\"159.033203\"/>\n    </g>\n   </g>\n   <g id=\"text_21\">\n    <!-- -0.31 -->\n    <g style=\"fill: #ffffff\" transform=\"translate(159.741406 108.2375) scale(0.1 -0.1)\">\n     <use xlink:href=\"#DejaVuSans-2d\"/>\n     <use xlink:href=\"#DejaVuSans-30\" x=\"36.083984\"/>\n     <use xlink:href=\"#DejaVuSans-2e\" x=\"99.707031\"/>\n     <use xlink:href=\"#DejaVuSans-33\" x=\"131.494141\"/>\n     <use xlink:href=\"#DejaVuSans-31\" x=\"195.117188\"/>\n    </g>\n   </g>\n   <g id=\"text_22\">\n    <!-- -0.19 -->\n    <g style=\"fill: #ffffff\" transform=\"translate(219.261406 108.2375) scale(0.1 -0.1)\">\n     <use xlink:href=\"#DejaVuSans-2d\"/>\n     <use xlink:href=\"#DejaVuSans-30\" x=\"36.083984\"/>\n     <use xlink:href=\"#DejaVuSans-2e\" x=\"99.707031\"/>\n     <use xlink:href=\"#DejaVuSans-31\" x=\"131.494141\"/>\n     <use xlink:href=\"#DejaVuSans-39\" x=\"195.117188\"/>\n    </g>\n   </g>\n   <g id=\"text_23\">\n    <!-- -0.28 -->\n    <g style=\"fill: #ffffff\" transform=\"translate(278.781406 108.2375) scale(0.1 -0.1)\">\n     <defs>\n      <path id=\"DejaVuSans-38\" d=\"M 2034 2216 \nQ 1584 2216 1326 1975 \nQ 1069 1734 1069 1313 \nQ 1069 891 1326 650 \nQ 1584 409 2034 409 \nQ 2484 409 2743 651 \nQ 3003 894 3003 1313 \nQ 3003 1734 2745 1975 \nQ 2488 2216 2034 2216 \nz\nM 1403 2484 \nQ 997 2584 770 2862 \nQ 544 3141 544 3541 \nQ 544 4100 942 4425 \nQ 1341 4750 2034 4750 \nQ 2731 4750 3128 4425 \nQ 3525 4100 3525 3541 \nQ 3525 3141 3298 2862 \nQ 3072 2584 2669 2484 \nQ 3125 2378 3379 2068 \nQ 3634 1759 3634 1313 \nQ 3634 634 3220 271 \nQ 2806 -91 2034 -91 \nQ 1263 -91 848 271 \nQ 434 634 434 1313 \nQ 434 1759 690 2068 \nQ 947 2378 1403 2484 \nz\nM 1172 3481 \nQ 1172 3119 1398 2916 \nQ 1625 2713 2034 2713 \nQ 2441 2713 2670 2916 \nQ 2900 3119 2900 3481 \nQ 2900 3844 2670 4047 \nQ 2441 4250 2034 4250 \nQ 1625 4250 1398 4047 \nQ 1172 3844 1172 3481 \nz\n\" transform=\"scale(0.015625)\"/>\n     </defs>\n     <use xlink:href=\"#DejaVuSans-2d\"/>\n     <use xlink:href=\"#DejaVuSans-30\" x=\"36.083984\"/>\n     <use xlink:href=\"#DejaVuSans-2e\" x=\"99.707031\"/>\n     <use xlink:href=\"#DejaVuSans-32\" x=\"131.494141\"/>\n     <use xlink:href=\"#DejaVuSans-38\" x=\"195.117188\"/>\n    </g>\n   </g>\n   <g id=\"text_24\">\n    <!-- -0.21 -->\n    <g style=\"fill: #ffffff\" transform=\"translate(338.301406 108.2375) scale(0.1 -0.1)\">\n     <use xlink:href=\"#DejaVuSans-2d\"/>\n     <use xlink:href=\"#DejaVuSans-30\" x=\"36.083984\"/>\n     <use xlink:href=\"#DejaVuSans-2e\" x=\"99.707031\"/>\n     <use xlink:href=\"#DejaVuSans-32\" x=\"131.494141\"/>\n     <use xlink:href=\"#DejaVuSans-31\" x=\"195.117188\"/>\n    </g>\n   </g>\n   <g id=\"text_25\">\n    <!-- 0.69 -->\n    <g style=\"fill: #262626\" transform=\"translate(42.505313 163.6775) scale(0.1 -0.1)\">\n     <use xlink:href=\"#DejaVuSans-30\"/>\n     <use xlink:href=\"#DejaVuSans-2e\" x=\"63.623047\"/>\n     <use xlink:href=\"#DejaVuSans-36\" x=\"95.410156\"/>\n     <use xlink:href=\"#DejaVuSans-39\" x=\"159.033203\"/>\n    </g>\n   </g>\n   <g id=\"text_26\">\n    <!-- -0.31 -->\n    <g style=\"fill: #ffffff\" transform=\"translate(100.221406 163.6775) scale(0.1 -0.1)\">\n     <use xlink:href=\"#DejaVuSans-2d\"/>\n     <use xlink:href=\"#DejaVuSans-30\" x=\"36.083984\"/>\n     <use xlink:href=\"#DejaVuSans-2e\" x=\"99.707031\"/>\n     <use xlink:href=\"#DejaVuSans-33\" x=\"131.494141\"/>\n     <use xlink:href=\"#DejaVuSans-31\" x=\"195.117188\"/>\n    </g>\n   </g>\n   <g id=\"text_27\">\n    <!-- 1.00 -->\n    <g style=\"fill: #ffffff\" transform=\"translate(161.545313 163.6775) scale(0.1 -0.1)\">\n     <use xlink:href=\"#DejaVuSans-31\"/>\n     <use xlink:href=\"#DejaVuSans-2e\" x=\"63.623047\"/>\n     <use xlink:href=\"#DejaVuSans-30\" x=\"95.410156\"/>\n     <use xlink:href=\"#DejaVuSans-30\" x=\"159.033203\"/>\n    </g>\n   </g>\n   <g id=\"text_28\">\n    <!-- 0.71 -->\n    <g style=\"fill: #ffffff\" transform=\"translate(221.065313 163.6775) scale(0.1 -0.1)\">\n     <use xlink:href=\"#DejaVuSans-30\"/>\n     <use xlink:href=\"#DejaVuSans-2e\" x=\"63.623047\"/>\n     <use xlink:href=\"#DejaVuSans-37\" x=\"95.410156\"/>\n     <use xlink:href=\"#DejaVuSans-31\" x=\"159.033203\"/>\n    </g>\n   </g>\n   <g id=\"text_29\">\n    <!-- 0.81 -->\n    <g style=\"fill: #ffffff\" transform=\"translate(280.585313 163.6775) scale(0.1 -0.1)\">\n     <use xlink:href=\"#DejaVuSans-30\"/>\n     <use xlink:href=\"#DejaVuSans-2e\" x=\"63.623047\"/>\n     <use xlink:href=\"#DejaVuSans-38\" x=\"95.410156\"/>\n     <use xlink:href=\"#DejaVuSans-31\" x=\"159.033203\"/>\n    </g>\n   </g>\n   <g id=\"text_30\">\n    <!-- 0.47 -->\n    <g style=\"fill: #262626\" transform=\"translate(340.105313 163.6775) scale(0.1 -0.1)\">\n     <use xlink:href=\"#DejaVuSans-30\"/>\n     <use xlink:href=\"#DejaVuSans-2e\" x=\"63.623047\"/>\n     <use xlink:href=\"#DejaVuSans-34\" x=\"95.410156\"/>\n     <use xlink:href=\"#DejaVuSans-37\" x=\"159.033203\"/>\n    </g>\n   </g>\n   <g id=\"text_31\">\n    <!-- 0.47 -->\n    <g style=\"fill: #262626\" transform=\"translate(42.505313 219.1175) scale(0.1 -0.1)\">\n     <use xlink:href=\"#DejaVuSans-30\"/>\n     <use xlink:href=\"#DejaVuSans-2e\" x=\"63.623047\"/>\n     <use xlink:href=\"#DejaVuSans-34\" x=\"95.410156\"/>\n     <use xlink:href=\"#DejaVuSans-37\" x=\"159.033203\"/>\n    </g>\n   </g>\n   <g id=\"text_32\">\n    <!-- -0.19 -->\n    <g style=\"fill: #ffffff\" transform=\"translate(100.221406 219.1175) scale(0.1 -0.1)\">\n     <use xlink:href=\"#DejaVuSans-2d\"/>\n     <use xlink:href=\"#DejaVuSans-30\" x=\"36.083984\"/>\n     <use xlink:href=\"#DejaVuSans-2e\" x=\"99.707031\"/>\n     <use xlink:href=\"#DejaVuSans-31\" x=\"131.494141\"/>\n     <use xlink:href=\"#DejaVuSans-39\" x=\"195.117188\"/>\n    </g>\n   </g>\n   <g id=\"text_33\">\n    <!-- 0.71 -->\n    <g style=\"fill: #ffffff\" transform=\"translate(161.545313 219.1175) scale(0.1 -0.1)\">\n     <use xlink:href=\"#DejaVuSans-30\"/>\n     <use xlink:href=\"#DejaVuSans-2e\" x=\"63.623047\"/>\n     <use xlink:href=\"#DejaVuSans-37\" x=\"95.410156\"/>\n     <use xlink:href=\"#DejaVuSans-31\" x=\"159.033203\"/>\n    </g>\n   </g>\n   <g id=\"text_34\">\n    <!-- 1.00 -->\n    <g style=\"fill: #ffffff\" transform=\"translate(221.065313 219.1175) scale(0.1 -0.1)\">\n     <use xlink:href=\"#DejaVuSans-31\"/>\n     <use xlink:href=\"#DejaVuSans-2e\" x=\"63.623047\"/>\n     <use xlink:href=\"#DejaVuSans-30\" x=\"95.410156\"/>\n     <use xlink:href=\"#DejaVuSans-30\" x=\"159.033203\"/>\n    </g>\n   </g>\n   <g id=\"text_35\">\n    <!-- 0.50 -->\n    <g style=\"fill: #262626\" transform=\"translate(280.585313 219.1175) scale(0.1 -0.1)\">\n     <defs>\n      <path id=\"DejaVuSans-35\" d=\"M 691 4666 \nL 3169 4666 \nL 3169 4134 \nL 1269 4134 \nL 1269 2991 \nQ 1406 3038 1543 3061 \nQ 1681 3084 1819 3084 \nQ 2600 3084 3056 2656 \nQ 3513 2228 3513 1497 \nQ 3513 744 3044 326 \nQ 2575 -91 1722 -91 \nQ 1428 -91 1123 -41 \nQ 819 9 494 109 \nL 494 744 \nQ 775 591 1075 516 \nQ 1375 441 1709 441 \nQ 2250 441 2565 725 \nQ 2881 1009 2881 1497 \nQ 2881 1984 2565 2268 \nQ 2250 2553 1709 2553 \nQ 1456 2553 1204 2497 \nQ 953 2441 691 2322 \nL 691 4666 \nz\n\" transform=\"scale(0.015625)\"/>\n     </defs>\n     <use xlink:href=\"#DejaVuSans-30\"/>\n     <use xlink:href=\"#DejaVuSans-2e\" x=\"63.623047\"/>\n     <use xlink:href=\"#DejaVuSans-35\" x=\"95.410156\"/>\n     <use xlink:href=\"#DejaVuSans-30\" x=\"159.033203\"/>\n    </g>\n   </g>\n   <g id=\"text_36\">\n    <!-- 0.33 -->\n    <g style=\"fill: #262626\" transform=\"translate(340.105313 219.1175) scale(0.1 -0.1)\">\n     <use xlink:href=\"#DejaVuSans-30\"/>\n     <use xlink:href=\"#DejaVuSans-2e\" x=\"63.623047\"/>\n     <use xlink:href=\"#DejaVuSans-33\" x=\"95.410156\"/>\n     <use xlink:href=\"#DejaVuSans-33\" x=\"159.033203\"/>\n    </g>\n   </g>\n   <g id=\"text_37\">\n    <!-- 0.63 -->\n    <g style=\"fill: #262626\" transform=\"translate(42.505313 274.5575) scale(0.1 -0.1)\">\n     <use xlink:href=\"#DejaVuSans-30\"/>\n     <use xlink:href=\"#DejaVuSans-2e\" x=\"63.623047\"/>\n     <use xlink:href=\"#DejaVuSans-36\" x=\"95.410156\"/>\n     <use xlink:href=\"#DejaVuSans-33\" x=\"159.033203\"/>\n    </g>\n   </g>\n   <g id=\"text_38\">\n    <!-- -0.28 -->\n    <g style=\"fill: #ffffff\" transform=\"translate(100.221406 274.5575) scale(0.1 -0.1)\">\n     <use xlink:href=\"#DejaVuSans-2d\"/>\n     <use xlink:href=\"#DejaVuSans-30\" x=\"36.083984\"/>\n     <use xlink:href=\"#DejaVuSans-2e\" x=\"99.707031\"/>\n     <use xlink:href=\"#DejaVuSans-32\" x=\"131.494141\"/>\n     <use xlink:href=\"#DejaVuSans-38\" x=\"195.117188\"/>\n    </g>\n   </g>\n   <g id=\"text_39\">\n    <!-- 0.81 -->\n    <g style=\"fill: #ffffff\" transform=\"translate(161.545313 274.5575) scale(0.1 -0.1)\">\n     <use xlink:href=\"#DejaVuSans-30\"/>\n     <use xlink:href=\"#DejaVuSans-2e\" x=\"63.623047\"/>\n     <use xlink:href=\"#DejaVuSans-38\" x=\"95.410156\"/>\n     <use xlink:href=\"#DejaVuSans-31\" x=\"159.033203\"/>\n    </g>\n   </g>\n   <g id=\"text_40\">\n    <!-- 0.50 -->\n    <g style=\"fill: #262626\" transform=\"translate(221.065313 274.5575) scale(0.1 -0.1)\">\n     <use xlink:href=\"#DejaVuSans-30\"/>\n     <use xlink:href=\"#DejaVuSans-2e\" x=\"63.623047\"/>\n     <use xlink:href=\"#DejaVuSans-35\" x=\"95.410156\"/>\n     <use xlink:href=\"#DejaVuSans-30\" x=\"159.033203\"/>\n    </g>\n   </g>\n   <g id=\"text_41\">\n    <!-- 1.00 -->\n    <g style=\"fill: #ffffff\" transform=\"translate(280.585313 274.5575) scale(0.1 -0.1)\">\n     <use xlink:href=\"#DejaVuSans-31\"/>\n     <use xlink:href=\"#DejaVuSans-2e\" x=\"63.623047\"/>\n     <use xlink:href=\"#DejaVuSans-30\" x=\"95.410156\"/>\n     <use xlink:href=\"#DejaVuSans-30\" x=\"159.033203\"/>\n    </g>\n   </g>\n   <g id=\"text_42\">\n    <!-- 0.49 -->\n    <g style=\"fill: #262626\" transform=\"translate(340.105313 274.5575) scale(0.1 -0.1)\">\n     <use xlink:href=\"#DejaVuSans-30\"/>\n     <use xlink:href=\"#DejaVuSans-2e\" x=\"63.623047\"/>\n     <use xlink:href=\"#DejaVuSans-34\" x=\"95.410156\"/>\n     <use xlink:href=\"#DejaVuSans-39\" x=\"159.033203\"/>\n    </g>\n   </g>\n   <g id=\"text_43\">\n    <!-- 0.49 -->\n    <g style=\"fill: #262626\" transform=\"translate(42.505313 329.9975) scale(0.1 -0.1)\">\n     <use xlink:href=\"#DejaVuSans-30\"/>\n     <use xlink:href=\"#DejaVuSans-2e\" x=\"63.623047\"/>\n     <use xlink:href=\"#DejaVuSans-34\" x=\"95.410156\"/>\n     <use xlink:href=\"#DejaVuSans-39\" x=\"159.033203\"/>\n    </g>\n   </g>\n   <g id=\"text_44\">\n    <!-- -0.21 -->\n    <g style=\"fill: #ffffff\" transform=\"translate(100.221406 329.9975) scale(0.1 -0.1)\">\n     <use xlink:href=\"#DejaVuSans-2d\"/>\n     <use xlink:href=\"#DejaVuSans-30\" x=\"36.083984\"/>\n     <use xlink:href=\"#DejaVuSans-2e\" x=\"99.707031\"/>\n     <use xlink:href=\"#DejaVuSans-32\" x=\"131.494141\"/>\n     <use xlink:href=\"#DejaVuSans-31\" x=\"195.117188\"/>\n    </g>\n   </g>\n   <g id=\"text_45\">\n    <!-- 0.47 -->\n    <g style=\"fill: #262626\" transform=\"translate(161.545313 329.9975) scale(0.1 -0.1)\">\n     <use xlink:href=\"#DejaVuSans-30\"/>\n     <use xlink:href=\"#DejaVuSans-2e\" x=\"63.623047\"/>\n     <use xlink:href=\"#DejaVuSans-34\" x=\"95.410156\"/>\n     <use xlink:href=\"#DejaVuSans-37\" x=\"159.033203\"/>\n    </g>\n   </g>\n   <g id=\"text_46\">\n    <!-- 0.33 -->\n    <g style=\"fill: #262626\" transform=\"translate(221.065313 329.9975) scale(0.1 -0.1)\">\n     <use xlink:href=\"#DejaVuSans-30\"/>\n     <use xlink:href=\"#DejaVuSans-2e\" x=\"63.623047\"/>\n     <use xlink:href=\"#DejaVuSans-33\" x=\"95.410156\"/>\n     <use xlink:href=\"#DejaVuSans-33\" x=\"159.033203\"/>\n    </g>\n   </g>\n   <g id=\"text_47\">\n    <!-- 0.49 -->\n    <g style=\"fill: #262626\" transform=\"translate(280.585313 329.9975) scale(0.1 -0.1)\">\n     <use xlink:href=\"#DejaVuSans-30\"/>\n     <use xlink:href=\"#DejaVuSans-2e\" x=\"63.623047\"/>\n     <use xlink:href=\"#DejaVuSans-34\" x=\"95.410156\"/>\n     <use xlink:href=\"#DejaVuSans-39\" x=\"159.033203\"/>\n    </g>\n   </g>\n   <g id=\"text_48\">\n    <!-- 1.00 -->\n    <g style=\"fill: #ffffff\" transform=\"translate(340.105313 329.9975) scale(0.1 -0.1)\">\n     <use xlink:href=\"#DejaVuSans-31\"/>\n     <use xlink:href=\"#DejaVuSans-2e\" x=\"63.623047\"/>\n     <use xlink:href=\"#DejaVuSans-30\" x=\"95.410156\"/>\n     <use xlink:href=\"#DejaVuSans-30\" x=\"159.033203\"/>\n    </g>\n   </g>\n   <g id=\"text_49\">\n    <!-- Correlation Heatmap -->\n    <g transform=\"translate(139.885313 16.318125) scale(0.12 -0.12)\">\n     <defs>\n      <path id=\"DejaVuSans-43\" d=\"M 4122 4306 \nL 4122 3641 \nQ 3803 3938 3442 4084 \nQ 3081 4231 2675 4231 \nQ 1875 4231 1450 3742 \nQ 1025 3253 1025 2328 \nQ 1025 1406 1450 917 \nQ 1875 428 2675 428 \nQ 3081 428 3442 575 \nQ 3803 722 4122 1019 \nL 4122 359 \nQ 3791 134 3420 21 \nQ 3050 -91 2638 -91 \nQ 1578 -91 968 557 \nQ 359 1206 359 2328 \nQ 359 3453 968 4101 \nQ 1578 4750 2638 4750 \nQ 3056 4750 3426 4639 \nQ 3797 4528 4122 4306 \nz\n\" transform=\"scale(0.015625)\"/>\n      <path id=\"DejaVuSans-20\" transform=\"scale(0.015625)\"/>\n      <path id=\"DejaVuSans-48\" d=\"M 628 4666 \nL 1259 4666 \nL 1259 2753 \nL 3553 2753 \nL 3553 4666 \nL 4184 4666 \nL 4184 0 \nL 3553 0 \nL 3553 2222 \nL 1259 2222 \nL 1259 0 \nL 628 0 \nL 628 4666 \nz\n\" transform=\"scale(0.015625)\"/>\n     </defs>\n     <use xlink:href=\"#DejaVuSans-43\"/>\n     <use xlink:href=\"#DejaVuSans-6f\" x=\"69.824219\"/>\n     <use xlink:href=\"#DejaVuSans-72\" x=\"131.005859\"/>\n     <use xlink:href=\"#DejaVuSans-72\" x=\"170.369141\"/>\n     <use xlink:href=\"#DejaVuSans-65\" x=\"209.232422\"/>\n     <use xlink:href=\"#DejaVuSans-6c\" x=\"270.755859\"/>\n     <use xlink:href=\"#DejaVuSans-61\" x=\"298.539062\"/>\n     <use xlink:href=\"#DejaVuSans-74\" x=\"359.818359\"/>\n     <use xlink:href=\"#DejaVuSans-69\" x=\"399.027344\"/>\n     <use xlink:href=\"#DejaVuSans-6f\" x=\"426.810547\"/>\n     <use xlink:href=\"#DejaVuSans-6e\" x=\"487.992188\"/>\n     <use xlink:href=\"#DejaVuSans-20\" x=\"551.371094\"/>\n     <use xlink:href=\"#DejaVuSans-48\" x=\"583.158203\"/>\n     <use xlink:href=\"#DejaVuSans-65\" x=\"658.353516\"/>\n     <use xlink:href=\"#DejaVuSans-61\" x=\"719.876953\"/>\n     <use xlink:href=\"#DejaVuSans-74\" x=\"781.15625\"/>\n     <use xlink:href=\"#DejaVuSans-6d\" x=\"820.365234\"/>\n     <use xlink:href=\"#DejaVuSans-61\" x=\"917.777344\"/>\n     <use xlink:href=\"#DejaVuSans-70\" x=\"979.056641\"/>\n    </g>\n   </g>\n  </g>\n  <g id=\"axes_2\">\n   <g id=\"patch_3\">\n    <path d=\"M 403.318125 354.958125 \nL 419.950125 354.958125 \nL 419.950125 22.318125 \nL 403.318125 22.318125 \nz\n\" style=\"fill: #ffffff\"/>\n   </g>\n   <image xlink:href=\"data:image/png;base64,\niVBORw0KGgoAAAANSUhEUgAAABcAAAHOCAYAAABzbJLzAAACX0lEQVR4nO2b0W1DMQwDbcNbdYUO3b3SPHcAM58scMDdAIJAkZLzis6v758zSqxW4THG2HP16rc7n7Xi5c5nrz5ZFqwVF1fzohW58QdbkRv/pRUD3M7dLZH2JcJqPqmaly8RVRb3ecLOI9X4k9/n7vOAIYpUfe5AI+0bSu2cqzm4c29owMUVaS+uXnGu5uiBUjvnal6U3IdoxhBFdvFbjtc/0w5Rrbb7PEN+FIFDVCzOlYW7z8E3FBz/YnHyh4VecS9RBHz9uyHiDhTbefNpoeaR8idusCy94nYeMf4R7rsFLAu3c1duot157X+VHGjGziN7Fa3I1Rw90F7x8kCHVrzhuqV65hxoZC9DFPA5F3GfR7RihLu4HGjE+EdcuR+Ka8WA8Y/sZnWu5loxYvwjah5BP0SpsnAHaucJ7uIiy2LnATuP7DmeYnHuJTrYzrlWPD0rcjVXlohWjKA1N0Q36IFiNQdf/+JzbnBl4VrR+Ae6nTd9DpaFuxUHWHNs583fROSBGqIb7j43/hFvaAQcIvDieqiaV0OkFRPGPwLuvPpd0d2S0IoRsuZFnzvQCHegah6p+nyPR1luDFHEEH0ojg3RAYeIqjl3cZ3ucw47UPd5gGtF7uJyn0fc55F9uJo3L9HBbkXuJQJb0fgHuNcffIm4159rRVfuh+JYWbz+Aa4VuZ2TQwQeqJrfcD9DOdCIIYqgNTdEN+CBPm9q57rl34tzZdGKEbDmzcUFlkUrJrhW5GpOtiJ2oFoxoeaRfd7NP3A70ICLK7KfX2rn51W8ocqS0IqRfV7UF1dTc64V/wCVOVmGPQJlpwAAAABJRU5ErkJggg==\" id=\"image0ccef3bf4c\" transform=\"scale(1 -1) translate(0 -332.64)\" x=\"403.2\" y=\"-22.32\" width=\"16.56\" height=\"332.64\"/>\n   <g id=\"matplotlib.axis_3\"/>\n   <g id=\"matplotlib.axis_4\">\n    <g id=\"ytick_7\">\n     <g id=\"line2d_13\">\n      <defs>\n       <path id=\"m9503ffbba3\" d=\"M 0 0 \nL 3.5 0 \n\" style=\"stroke: #000000; stroke-width: 0.8\"/>\n      </defs>\n      <g>\n       <use xlink:href=\"#m9503ffbba3\" x=\"419.950125\" y=\"327.144052\" style=\"stroke: #000000; stroke-width: 0.8\"/>\n      </g>\n     </g>\n     <g id=\"text_50\">\n      <!-- −0.2 -->\n      <g transform=\"translate(426.950125 330.94327) scale(0.1 -0.1)\">\n       <defs>\n        <path id=\"DejaVuSans-2212\" d=\"M 678 2272 \nL 4684 2272 \nL 4684 1741 \nL 678 1741 \nL 678 2272 \nz\n\" transform=\"scale(0.015625)\"/>\n       </defs>\n       <use xlink:href=\"#DejaVuSans-2212\"/>\n       <use xlink:href=\"#DejaVuSans-30\" x=\"83.789062\"/>\n       <use xlink:href=\"#DejaVuSans-2e\" x=\"147.412109\"/>\n       <use xlink:href=\"#DejaVuSans-32\" x=\"179.199219\"/>\n      </g>\n     </g>\n    </g>\n    <g id=\"ytick_8\">\n     <g id=\"line2d_14\">\n      <g>\n       <use xlink:href=\"#m9503ffbba3\" x=\"419.950125\" y=\"276.339731\" style=\"stroke: #000000; stroke-width: 0.8\"/>\n      </g>\n     </g>\n     <g id=\"text_51\">\n      <!-- 0.0 -->\n      <g transform=\"translate(426.950125 280.138949) scale(0.1 -0.1)\">\n       <use xlink:href=\"#DejaVuSans-30\"/>\n       <use xlink:href=\"#DejaVuSans-2e\" x=\"63.623047\"/>\n       <use xlink:href=\"#DejaVuSans-30\" x=\"95.410156\"/>\n      </g>\n     </g>\n    </g>\n    <g id=\"ytick_9\">\n     <g id=\"line2d_15\">\n      <g>\n       <use xlink:href=\"#m9503ffbba3\" x=\"419.950125\" y=\"225.535409\" style=\"stroke: #000000; stroke-width: 0.8\"/>\n      </g>\n     </g>\n     <g id=\"text_52\">\n      <!-- 0.2 -->\n      <g transform=\"translate(426.950125 229.334628) scale(0.1 -0.1)\">\n       <use xlink:href=\"#DejaVuSans-30\"/>\n       <use xlink:href=\"#DejaVuSans-2e\" x=\"63.623047\"/>\n       <use xlink:href=\"#DejaVuSans-32\" x=\"95.410156\"/>\n      </g>\n     </g>\n    </g>\n    <g id=\"ytick_10\">\n     <g id=\"line2d_16\">\n      <g>\n       <use xlink:href=\"#m9503ffbba3\" x=\"419.950125\" y=\"174.731088\" style=\"stroke: #000000; stroke-width: 0.8\"/>\n      </g>\n     </g>\n     <g id=\"text_53\">\n      <!-- 0.4 -->\n      <g transform=\"translate(426.950125 178.530307) scale(0.1 -0.1)\">\n       <use xlink:href=\"#DejaVuSans-30\"/>\n       <use xlink:href=\"#DejaVuSans-2e\" x=\"63.623047\"/>\n       <use xlink:href=\"#DejaVuSans-34\" x=\"95.410156\"/>\n      </g>\n     </g>\n    </g>\n    <g id=\"ytick_11\">\n     <g id=\"line2d_17\">\n      <g>\n       <use xlink:href=\"#m9503ffbba3\" x=\"419.950125\" y=\"123.926767\" style=\"stroke: #000000; stroke-width: 0.8\"/>\n      </g>\n     </g>\n     <g id=\"text_54\">\n      <!-- 0.6 -->\n      <g transform=\"translate(426.950125 127.725986) scale(0.1 -0.1)\">\n       <use xlink:href=\"#DejaVuSans-30\"/>\n       <use xlink:href=\"#DejaVuSans-2e\" x=\"63.623047\"/>\n       <use xlink:href=\"#DejaVuSans-36\" x=\"95.410156\"/>\n      </g>\n     </g>\n    </g>\n    <g id=\"ytick_12\">\n     <g id=\"line2d_18\">\n      <g>\n       <use xlink:href=\"#m9503ffbba3\" x=\"419.950125\" y=\"73.122446\" style=\"stroke: #000000; stroke-width: 0.8\"/>\n      </g>\n     </g>\n     <g id=\"text_55\">\n      <!-- 0.8 -->\n      <g transform=\"translate(426.950125 76.921665) scale(0.1 -0.1)\">\n       <use xlink:href=\"#DejaVuSans-30\"/>\n       <use xlink:href=\"#DejaVuSans-2e\" x=\"63.623047\"/>\n       <use xlink:href=\"#DejaVuSans-38\" x=\"95.410156\"/>\n      </g>\n     </g>\n    </g>\n    <g id=\"ytick_13\">\n     <g id=\"line2d_19\">\n      <g>\n       <use xlink:href=\"#m9503ffbba3\" x=\"419.950125\" y=\"22.318125\" style=\"stroke: #000000; stroke-width: 0.8\"/>\n      </g>\n     </g>\n     <g id=\"text_56\">\n      <!-- 1.0 -->\n      <g transform=\"translate(426.950125 26.117344) scale(0.1 -0.1)\">\n       <use xlink:href=\"#DejaVuSans-31\"/>\n       <use xlink:href=\"#DejaVuSans-2e\" x=\"63.623047\"/>\n       <use xlink:href=\"#DejaVuSans-30\" x=\"95.410156\"/>\n      </g>\n     </g>\n    </g>\n   </g>\n   <g id=\"LineCollection_1\"/>\n   <g id=\"patch_4\">\n    <path d=\"M 403.318125 354.958125 \nL 411.634125 354.958125 \nL 419.950125 354.958125 \nL 419.950125 22.318125 \nL 411.634125 22.318125 \nL 403.318125 22.318125 \nL 403.318125 354.958125 \nz\n\" style=\"fill: none\"/>\n   </g>\n  </g>\n </g>\n <defs>\n  <clipPath id=\"p8c8cdb3946\">\n   <rect x=\"23.878125\" y=\"22.318125\" width=\"357.12\" height=\"332.64\"/>\n  </clipPath>\n </defs>\n</svg>\n"
          },
          "metadata": {}
        }
      ],
      "source": [
        "# Построим матрицу корреляций\n",
        "plt.figure(figsize=(8, 6))\n",
        "sns.heatmap(X.corr(), annot=True, cmap='coolwarm', fmt='.2f', linewidths=0.5)\n",
        "plt.title(\"Correlation Heatmap\")\n",
        "plt.show()\n"
      ]
    },
    {
      "cell_type": "code",
      "execution_count": null,
      "metadata": {
        "id": "dOj-bb-TvKza",
        "colab": {
          "base_uri": "https://localhost:8080/"
        },
        "outputId": "94ba3564-3223-439d-ec69-1f7907b40680"
      },
      "outputs": [
        {
          "output_type": "execute_result",
          "data": {
            "text/plain": [
              "Index(['gravity', 'ph', 'osmo', 'cond', 'urea', 'calc'], dtype='object')"
            ]
          },
          "metadata": {},
          "execution_count": 245
        }
      ],
      "source": [
        "X.columns"
      ]
    },
    {
      "cell_type": "markdown",
      "metadata": {
        "id": "Wiitwe6UvFkl"
      },
      "source": [
        "**Вывод**\n",
        "В данных наблюдается высокая прямая корреляция между следующими признаками:\n",
        "\n",
        "\n",
        "1.   sepal length (cm) и petal width (cm)\n",
        "2.   petal length (cm) и petal width (cm)\n",
        "3.   petal length (cm) и sepal length (cm)\n",
        "\n"
      ]
    },
    {
      "cell_type": "markdown",
      "metadata": {
        "id": "WPpYjXybf4HH"
      },
      "source": [
        "**Цель данного ноутбука** сравнить методы классификации SVM, logistic regression и knn classification\n",
        "\n",
        "По этой причине перейдём к задаче бинарной классификации: будем предсказывать принадлежность цветка к виду versicolor против принадлежности ко всем прочим видам.\n",
        "\n",
        "Для этого перекодируйте зависимую переменную так, чтобы цветки вида versicolor имели метку 1, а прочих видов – метку -1."
      ]
    },
    {
      "cell_type": "code",
      "execution_count": null,
      "metadata": {
        "id": "_PU9p_qgf3eI"
      },
      "outputs": [],
      "source": [
        "# Перекодировка\n",
        "y_bin = y\n",
        "#  (data[\"target\"] == 1).astype(int)"
      ]
    },
    {
      "cell_type": "markdown",
      "metadata": {
        "id": "RUms7FYegc5d"
      },
      "source": [
        "Из всех признаковы выберем только 2 признака, чтобы можно было наглядно продемонстрировать работу алгоритмов (отрисовать зоны принятия решения в двумерной плоскости)\n",
        "\n",
        "- Будем работать с двумя признаками: sepal length (cm) и sepal width (cm). Отделим их в отдельный датафрейм.\n",
        "\n",
        "\n",
        "- Далее Разделим выборку на обучающую и тестовую, долю тестовой выборки выберем  равной 0.4.\n",
        "\n",
        "\n",
        "- Также отмасштабируем выборки при помощи StandardScaler, то есть приведем наши данные к к данным со средним = 0 и среднеквадратическим отклонением = 1\n",
        "\n"
      ]
    },
    {
      "cell_type": "code",
      "execution_count": null,
      "metadata": {
        "id": "TWY3vvCTIYI-",
        "colab": {
          "base_uri": "https://localhost:8080/",
          "height": 424
        },
        "outputId": "52064581-aacb-4207-8f26-f14641030e47"
      },
      "outputs": [
        {
          "output_type": "execute_result",
          "data": {
            "text/plain": [
              "     gravity      ph  osmo     cond  urea    calc\n",
              "0    1.01300 6.19000   443 14.80000   124 1.45000\n",
              "1    1.02500 5.40000   703 23.60000   394 4.18000\n",
              "2    1.00900 6.13000   371 24.50000   159 9.04000\n",
              "3    1.02100 4.91000   442 20.80000   398 6.63000\n",
              "4    1.02100 5.53000   874 17.80000   385 2.21000\n",
              "..       ...     ...   ...      ...   ...     ...\n",
              "409  1.01100 5.21000   527 21.40000    75 1.53000\n",
              "410  1.02400 5.53000   577 19.70000   224 0.77000\n",
              "411  1.01800 6.28000   455 22.20000   270 7.68000\n",
              "412  1.00800 7.12000   325 12.60000    75 1.03000\n",
              "413  1.01100 6.13000   364  9.90000   159 0.27000\n",
              "\n",
              "[414 rows x 6 columns]"
            ],
            "text/html": [
              "\n",
              "\n",
              "  <div id=\"df-da0738fe-f872-41a5-b0f8-ea64966db762\">\n",
              "    <div class=\"colab-df-container\">\n",
              "      <div>\n",
              "<style scoped>\n",
              "    .dataframe tbody tr th:only-of-type {\n",
              "        vertical-align: middle;\n",
              "    }\n",
              "\n",
              "    .dataframe tbody tr th {\n",
              "        vertical-align: top;\n",
              "    }\n",
              "\n",
              "    .dataframe thead th {\n",
              "        text-align: right;\n",
              "    }\n",
              "</style>\n",
              "<table border=\"1\" class=\"dataframe\">\n",
              "  <thead>\n",
              "    <tr style=\"text-align: right;\">\n",
              "      <th></th>\n",
              "      <th>gravity</th>\n",
              "      <th>ph</th>\n",
              "      <th>osmo</th>\n",
              "      <th>cond</th>\n",
              "      <th>urea</th>\n",
              "      <th>calc</th>\n",
              "    </tr>\n",
              "  </thead>\n",
              "  <tbody>\n",
              "    <tr>\n",
              "      <th>0</th>\n",
              "      <td>1.01300</td>\n",
              "      <td>6.19000</td>\n",
              "      <td>443</td>\n",
              "      <td>14.80000</td>\n",
              "      <td>124</td>\n",
              "      <td>1.45000</td>\n",
              "    </tr>\n",
              "    <tr>\n",
              "      <th>1</th>\n",
              "      <td>1.02500</td>\n",
              "      <td>5.40000</td>\n",
              "      <td>703</td>\n",
              "      <td>23.60000</td>\n",
              "      <td>394</td>\n",
              "      <td>4.18000</td>\n",
              "    </tr>\n",
              "    <tr>\n",
              "      <th>2</th>\n",
              "      <td>1.00900</td>\n",
              "      <td>6.13000</td>\n",
              "      <td>371</td>\n",
              "      <td>24.50000</td>\n",
              "      <td>159</td>\n",
              "      <td>9.04000</td>\n",
              "    </tr>\n",
              "    <tr>\n",
              "      <th>3</th>\n",
              "      <td>1.02100</td>\n",
              "      <td>4.91000</td>\n",
              "      <td>442</td>\n",
              "      <td>20.80000</td>\n",
              "      <td>398</td>\n",
              "      <td>6.63000</td>\n",
              "    </tr>\n",
              "    <tr>\n",
              "      <th>4</th>\n",
              "      <td>1.02100</td>\n",
              "      <td>5.53000</td>\n",
              "      <td>874</td>\n",
              "      <td>17.80000</td>\n",
              "      <td>385</td>\n",
              "      <td>2.21000</td>\n",
              "    </tr>\n",
              "    <tr>\n",
              "      <th>...</th>\n",
              "      <td>...</td>\n",
              "      <td>...</td>\n",
              "      <td>...</td>\n",
              "      <td>...</td>\n",
              "      <td>...</td>\n",
              "      <td>...</td>\n",
              "    </tr>\n",
              "    <tr>\n",
              "      <th>409</th>\n",
              "      <td>1.01100</td>\n",
              "      <td>5.21000</td>\n",
              "      <td>527</td>\n",
              "      <td>21.40000</td>\n",
              "      <td>75</td>\n",
              "      <td>1.53000</td>\n",
              "    </tr>\n",
              "    <tr>\n",
              "      <th>410</th>\n",
              "      <td>1.02400</td>\n",
              "      <td>5.53000</td>\n",
              "      <td>577</td>\n",
              "      <td>19.70000</td>\n",
              "      <td>224</td>\n",
              "      <td>0.77000</td>\n",
              "    </tr>\n",
              "    <tr>\n",
              "      <th>411</th>\n",
              "      <td>1.01800</td>\n",
              "      <td>6.28000</td>\n",
              "      <td>455</td>\n",
              "      <td>22.20000</td>\n",
              "      <td>270</td>\n",
              "      <td>7.68000</td>\n",
              "    </tr>\n",
              "    <tr>\n",
              "      <th>412</th>\n",
              "      <td>1.00800</td>\n",
              "      <td>7.12000</td>\n",
              "      <td>325</td>\n",
              "      <td>12.60000</td>\n",
              "      <td>75</td>\n",
              "      <td>1.03000</td>\n",
              "    </tr>\n",
              "    <tr>\n",
              "      <th>413</th>\n",
              "      <td>1.01100</td>\n",
              "      <td>6.13000</td>\n",
              "      <td>364</td>\n",
              "      <td>9.90000</td>\n",
              "      <td>159</td>\n",
              "      <td>0.27000</td>\n",
              "    </tr>\n",
              "  </tbody>\n",
              "</table>\n",
              "<p>414 rows × 6 columns</p>\n",
              "</div>\n",
              "      <button class=\"colab-df-convert\" onclick=\"convertToInteractive('df-da0738fe-f872-41a5-b0f8-ea64966db762')\"\n",
              "              title=\"Convert this dataframe to an interactive table.\"\n",
              "              style=\"display:none;\">\n",
              "\n",
              "  <svg xmlns=\"http://www.w3.org/2000/svg\" height=\"24px\"viewBox=\"0 0 24 24\"\n",
              "       width=\"24px\">\n",
              "    <path d=\"M0 0h24v24H0V0z\" fill=\"none\"/>\n",
              "    <path d=\"M18.56 5.44l.94 2.06.94-2.06 2.06-.94-2.06-.94-.94-2.06-.94 2.06-2.06.94zm-11 1L8.5 8.5l.94-2.06 2.06-.94-2.06-.94L8.5 2.5l-.94 2.06-2.06.94zm10 10l.94 2.06.94-2.06 2.06-.94-2.06-.94-.94-2.06-.94 2.06-2.06.94z\"/><path d=\"M17.41 7.96l-1.37-1.37c-.4-.4-.92-.59-1.43-.59-.52 0-1.04.2-1.43.59L10.3 9.45l-7.72 7.72c-.78.78-.78 2.05 0 2.83L4 21.41c.39.39.9.59 1.41.59.51 0 1.02-.2 1.41-.59l7.78-7.78 2.81-2.81c.8-.78.8-2.07 0-2.86zM5.41 20L4 18.59l7.72-7.72 1.47 1.35L5.41 20z\"/>\n",
              "  </svg>\n",
              "      </button>\n",
              "\n",
              "\n",
              "\n",
              "    <div id=\"df-e0e69f8f-8db2-4202-9f10-33324651af45\">\n",
              "      <button class=\"colab-df-quickchart\" onclick=\"quickchart('df-e0e69f8f-8db2-4202-9f10-33324651af45')\"\n",
              "              title=\"Suggest charts.\"\n",
              "              style=\"display:none;\">\n",
              "\n",
              "<svg xmlns=\"http://www.w3.org/2000/svg\" height=\"24px\"viewBox=\"0 0 24 24\"\n",
              "     width=\"24px\">\n",
              "    <g>\n",
              "        <path d=\"M19 3H5c-1.1 0-2 .9-2 2v14c0 1.1.9 2 2 2h14c1.1 0 2-.9 2-2V5c0-1.1-.9-2-2-2zM9 17H7v-7h2v7zm4 0h-2V7h2v10zm4 0h-2v-4h2v4z\"/>\n",
              "    </g>\n",
              "</svg>\n",
              "      </button>\n",
              "    </div>\n",
              "\n",
              "<style>\n",
              "  .colab-df-quickchart {\n",
              "    background-color: #E8F0FE;\n",
              "    border: none;\n",
              "    border-radius: 50%;\n",
              "    cursor: pointer;\n",
              "    display: none;\n",
              "    fill: #1967D2;\n",
              "    height: 32px;\n",
              "    padding: 0 0 0 0;\n",
              "    width: 32px;\n",
              "  }\n",
              "\n",
              "  .colab-df-quickchart:hover {\n",
              "    background-color: #E2EBFA;\n",
              "    box-shadow: 0px 1px 2px rgba(60, 64, 67, 0.3), 0px 1px 3px 1px rgba(60, 64, 67, 0.15);\n",
              "    fill: #174EA6;\n",
              "  }\n",
              "\n",
              "  [theme=dark] .colab-df-quickchart {\n",
              "    background-color: #3B4455;\n",
              "    fill: #D2E3FC;\n",
              "  }\n",
              "\n",
              "  [theme=dark] .colab-df-quickchart:hover {\n",
              "    background-color: #434B5C;\n",
              "    box-shadow: 0px 1px 3px 1px rgba(0, 0, 0, 0.15);\n",
              "    filter: drop-shadow(0px 1px 2px rgba(0, 0, 0, 0.3));\n",
              "    fill: #FFFFFF;\n",
              "  }\n",
              "</style>\n",
              "\n",
              "    <script>\n",
              "      async function quickchart(key) {\n",
              "        const containerElement = document.querySelector('#' + key);\n",
              "        const charts = await google.colab.kernel.invokeFunction(\n",
              "            'suggestCharts', [key], {});\n",
              "      }\n",
              "    </script>\n",
              "\n",
              "      <script>\n",
              "\n",
              "function displayQuickchartButton(domScope) {\n",
              "  let quickchartButtonEl =\n",
              "    domScope.querySelector('#df-e0e69f8f-8db2-4202-9f10-33324651af45 button.colab-df-quickchart');\n",
              "  quickchartButtonEl.style.display =\n",
              "    google.colab.kernel.accessAllowed ? 'block' : 'none';\n",
              "}\n",
              "\n",
              "        displayQuickchartButton(document);\n",
              "      </script>\n",
              "      <style>\n",
              "    .colab-df-container {\n",
              "      display:flex;\n",
              "      flex-wrap:wrap;\n",
              "      gap: 12px;\n",
              "    }\n",
              "\n",
              "    .colab-df-convert {\n",
              "      background-color: #E8F0FE;\n",
              "      border: none;\n",
              "      border-radius: 50%;\n",
              "      cursor: pointer;\n",
              "      display: none;\n",
              "      fill: #1967D2;\n",
              "      height: 32px;\n",
              "      padding: 0 0 0 0;\n",
              "      width: 32px;\n",
              "    }\n",
              "\n",
              "    .colab-df-convert:hover {\n",
              "      background-color: #E2EBFA;\n",
              "      box-shadow: 0px 1px 2px rgba(60, 64, 67, 0.3), 0px 1px 3px 1px rgba(60, 64, 67, 0.15);\n",
              "      fill: #174EA6;\n",
              "    }\n",
              "\n",
              "    [theme=dark] .colab-df-convert {\n",
              "      background-color: #3B4455;\n",
              "      fill: #D2E3FC;\n",
              "    }\n",
              "\n",
              "    [theme=dark] .colab-df-convert:hover {\n",
              "      background-color: #434B5C;\n",
              "      box-shadow: 0px 1px 3px 1px rgba(0, 0, 0, 0.15);\n",
              "      filter: drop-shadow(0px 1px 2px rgba(0, 0, 0, 0.3));\n",
              "      fill: #FFFFFF;\n",
              "    }\n",
              "  </style>\n",
              "\n",
              "      <script>\n",
              "        const buttonEl =\n",
              "          document.querySelector('#df-da0738fe-f872-41a5-b0f8-ea64966db762 button.colab-df-convert');\n",
              "        buttonEl.style.display =\n",
              "          google.colab.kernel.accessAllowed ? 'block' : 'none';\n",
              "\n",
              "        async function convertToInteractive(key) {\n",
              "          const element = document.querySelector('#df-da0738fe-f872-41a5-b0f8-ea64966db762');\n",
              "          const dataTable =\n",
              "            await google.colab.kernel.invokeFunction('convertToInteractive',\n",
              "                                                     [key], {});\n",
              "          if (!dataTable) return;\n",
              "\n",
              "          const docLinkHtml = 'Like what you see? Visit the ' +\n",
              "            '<a target=\"_blank\" href=https://colab.research.google.com/notebooks/data_table.ipynb>data table notebook</a>'\n",
              "            + ' to learn more about interactive tables.';\n",
              "          element.innerHTML = '';\n",
              "          dataTable['output_type'] = 'display_data';\n",
              "          await google.colab.output.renderOutput(dataTable, element);\n",
              "          const docLink = document.createElement('div');\n",
              "          docLink.innerHTML = docLinkHtml;\n",
              "          element.appendChild(docLink);\n",
              "        }\n",
              "      </script>\n",
              "    </div>\n",
              "  </div>\n"
            ]
          },
          "metadata": {},
          "execution_count": 247
        }
      ],
      "source": [
        "X"
      ]
    },
    {
      "cell_type": "code",
      "execution_count": null,
      "metadata": {
        "id": "rZVaSiKWRrf9"
      },
      "outputs": [],
      "source": [
        "np.random.seed(123)\n",
        "\n",
        "# X = X[[\"sepal length (cm)\", \"sepal width (cm)\"]]\n",
        "\n",
        "X_train, X_test, y_train, y_test = train_test_split(X, y_bin, train_size=0.6, stratify=y_bin)\n",
        "\n",
        "# Отмасштабируйте признаки\n",
        "ss = StandardScaler() # (x-m)/sigma\n",
        "\n",
        "X_train = ss.fit_transform(X_train)\n",
        "\n",
        "X_test = ss.transform(X_test)\n"
      ]
    },
    {
      "cell_type": "code",
      "execution_count": null,
      "metadata": {
        "id": "wfmBCZEDlPpA"
      },
      "outputs": [],
      "source": [
        "# plt.scatter(X_train[:, 0], X_train[:, 1], c=y_train);"
      ]
    },
    {
      "cell_type": "code",
      "execution_count": null,
      "metadata": {
        "id": "duSGNp2Iw_5e"
      },
      "outputs": [],
      "source": [
        "# plt.scatter(X_test[:, 0], X_test[:, 1], c=y_test);"
      ]
    },
    {
      "cell_type": "code",
      "execution_count": null,
      "metadata": {
        "id": "1YFzj_9qLAKd"
      },
      "outputs": [],
      "source": [
        "# Функция для построения графиков решающих областей\n",
        "def plot_decision_boundary(model, X, y):\n",
        "    # Параметры для графика\n",
        "    h = .02  # Шаг сетки\n",
        "    cmap = plt.cm.RdYlBu\n",
        "    markers = 's^o'  # Маркеры для классов\n",
        "\n",
        "    # Обучение модели\n",
        "    model.fit(X, y)\n",
        "\n",
        "    # Размеры графика\n",
        "    x_min, x_max = X[:, 0].min() - 1, X[:, 0].max() + 1\n",
        "    y_min, y_max = X[:, 1].min() - 1, X[:, 1].max() + 1\n",
        "    xx, yy = np.meshgrid(np.arange(x_min, x_max, h), np.arange(y_min, y_max, h))\n",
        "\n",
        "    # Предсказание значений на сетке\n",
        "    Z = model.predict(np.c_[xx.ravel(), yy.ravel()])\n",
        "    Z = Z.reshape(xx.shape)\n",
        "\n",
        "    # Построение контуров\n",
        "    plt.contourf(xx, yy, Z, alpha=0.8, cmap=cmap)\n",
        "\n",
        "    # Разметка классов\n",
        "    for i, c in zip(range(2), markers):\n",
        "        plt.scatter(X[y == i][:, 0], X[y == i][:, 1], marker=c, label=f\"Class {i}\")\n",
        "\n",
        "    plt.xlabel('Feature 1')\n",
        "    plt.ylabel('Feature 2')\n",
        "    plt.title(f'Decision Regions ({type(model).__name__})')\n",
        "    plt.legend()\n",
        "    plt.show()\n"
      ]
    },
    {
      "cell_type": "code",
      "execution_count": null,
      "metadata": {
        "id": "445gPdpKOxEa"
      },
      "outputs": [],
      "source": [
        "# Функция для расчета метрик и построения кривой ROC\n",
        "def calculate_metrics_and_plot_roc(model, X_train, y_train, X_test, y_test):\n",
        "    # Обучение модели\n",
        "    model.fit(X_train, y_train)\n",
        "\n",
        "    # Предсказание на обучающей и тестовой выборке\n",
        "    y_train_pred = model.predict(X_train)\n",
        "    y_test_pred = model.predict(X_test)\n",
        "\n",
        "    # Расчет метрик precision и recall\n",
        "    train_precision = precision_score(y_train, y_train_pred)\n",
        "    train_recall = recall_score(y_train, y_train_pred)\n",
        "    test_precision = precision_score(y_test, y_test_pred)\n",
        "    test_recall = recall_score(y_test, y_test_pred)\n",
        "\n",
        "    print(f\"Training Precision: {train_precision:.2f}\")\n",
        "    print(f\"Training Recall: {train_recall:.2f}\")\n",
        "    print(f\"Test Precision: {test_precision:.2f}\")\n",
        "    print(f\"Test Recall: {test_recall:.2f}\")\n",
        "\n",
        "    metrics =  {'params': ['Training_Precision', 'Test_Precision','Training_Recall', 'Test_Recall'],\n",
        "                'values': [train_precision, test_precision, train_recall, test_recall]}\n",
        "\n",
        "    # Расчет ROC-AUC на тестовой выборке\n",
        "    try:\n",
        "      pred_test = model.predict_proba(X_test)\n",
        "      pred_train = model.predict_proba(X_train)\n",
        "      roc_auc_test = roc_auc_score(y_test, pred_test[:, 1])\n",
        "      roc_auc_train = roc_auc_score(y_train, pred_train[:, 1])\n",
        "      print(f\"ROC-AUC_test = : {roc_auc_test:.2f} и ROC-AUC_train = : {roc_auc_train:.2f}\")\n",
        "\n",
        "      # Построение кривой ROC\n",
        "      fpr_test, tpr_test, _ = roc_curve(y_test, pred_test[:, 1])\n",
        "      fpr_train, tpr_train, _ = roc_curve(y_train, pred_train[:, 1])\n",
        "      plt.figure()\n",
        "      plt.plot(fpr_test, tpr_test, color='blue', lw=2, label = 'ROC Curve test')\n",
        "      plt.plot(fpr_train, tpr_train, color='darkorange', lw=2, label = 'ROC Curve test')\n",
        "      plt.plot([0, 1], [0, 1], color='navy', lw=2, linestyle='--')\n",
        "      plt.xlabel('False Positive Rate')\n",
        "      plt.ylabel('True Positive Rate')\n",
        "      plt.legend()\n",
        "      plt.title(f'ROC Curve ({type(model).__name__})')\n",
        "      plt.show()\n",
        "    except Exception as e:\n",
        "      print(e)\n",
        "    return metrics\n",
        "\n",
        "\n"
      ]
    },
    {
      "cell_type": "markdown",
      "source": [
        "# Models"
      ],
      "metadata": {
        "id": "_epv5LpB0_Kf"
      }
    },
    {
      "cell_type": "code",
      "execution_count": null,
      "metadata": {
        "id": "IGHyfgXQk40p"
      },
      "outputs": [],
      "source": [
        "# Построение модели k-Nearest Neighbors (kNN)\n",
        "knn_model = KNeighborsClassifier()"
      ]
    },
    {
      "cell_type": "code",
      "execution_count": null,
      "metadata": {
        "id": "y6hMGWZUlHlg",
        "colab": {
          "base_uri": "https://localhost:8080/"
        },
        "outputId": "1ff7e153-30d4-45d4-8dfd-83cec5189338"
      },
      "outputs": [
        {
          "output_type": "stream",
          "name": "stdout",
          "text": [
            "best_n_neighbors = 11\n"
          ]
        }
      ],
      "source": [
        "# Задаем сетку параметров для значения \"n_neighbors\", которое мы хотим исследовать\n",
        "param_grid = {'n_neighbors': [1, 3, 5, 7, 9, 11, 14]}  # Пример значений, можно изменить диапазон по необходимости\n",
        "\n",
        "# Создаем объект GridSearchCV с моделью KNN и сеткой параметров\n",
        "grid_search = GridSearchCV(knn_model, param_grid, cv=5, scoring='roc_auc')  # Параметр cv определяет количество фолдов в кросс-валидации\n",
        "\n",
        "# Обучаем модель на данных с помощью кросс-валидации\n",
        "grid_search.fit(X_train, y_train)\n",
        "\n",
        "# Получаем лучшее найденное значение параметра \"n_neighbors\" в результате кросс-валидации\n",
        "best_n_neighbors = grid_search.best_params_['n_neighbors']\n",
        "print('best_n_neighbors =', best_n_neighbors)\n"
      ]
    },
    {
      "cell_type": "code",
      "execution_count": null,
      "metadata": {
        "id": "uiqO2WLxk-nQ"
      },
      "outputs": [],
      "source": [
        "best_knn_model = KNeighborsClassifier(n_neighbors=best_n_neighbors)"
      ]
    },
    {
      "cell_type": "code",
      "source": [
        "best_knn_model.fit(X_train, y_train)"
      ],
      "metadata": {
        "colab": {
          "base_uri": "https://localhost:8080/",
          "height": 75
        },
        "id": "au6zz1nDPnL7",
        "outputId": "24385adc-1402-4569-b561-e74347190f9e"
      },
      "execution_count": null,
      "outputs": [
        {
          "output_type": "execute_result",
          "data": {
            "text/plain": [
              "KNeighborsClassifier(n_neighbors=11)"
            ],
            "text/html": [
              "<style>#sk-container-id-9 {color: black;background-color: white;}#sk-container-id-9 pre{padding: 0;}#sk-container-id-9 div.sk-toggleable {background-color: white;}#sk-container-id-9 label.sk-toggleable__label {cursor: pointer;display: block;width: 100%;margin-bottom: 0;padding: 0.3em;box-sizing: border-box;text-align: center;}#sk-container-id-9 label.sk-toggleable__label-arrow:before {content: \"▸\";float: left;margin-right: 0.25em;color: #696969;}#sk-container-id-9 label.sk-toggleable__label-arrow:hover:before {color: black;}#sk-container-id-9 div.sk-estimator:hover label.sk-toggleable__label-arrow:before {color: black;}#sk-container-id-9 div.sk-toggleable__content {max-height: 0;max-width: 0;overflow: hidden;text-align: left;background-color: #f0f8ff;}#sk-container-id-9 div.sk-toggleable__content pre {margin: 0.2em;color: black;border-radius: 0.25em;background-color: #f0f8ff;}#sk-container-id-9 input.sk-toggleable__control:checked~div.sk-toggleable__content {max-height: 200px;max-width: 100%;overflow: auto;}#sk-container-id-9 input.sk-toggleable__control:checked~label.sk-toggleable__label-arrow:before {content: \"▾\";}#sk-container-id-9 div.sk-estimator input.sk-toggleable__control:checked~label.sk-toggleable__label {background-color: #d4ebff;}#sk-container-id-9 div.sk-label input.sk-toggleable__control:checked~label.sk-toggleable__label {background-color: #d4ebff;}#sk-container-id-9 input.sk-hidden--visually {border: 0;clip: rect(1px 1px 1px 1px);clip: rect(1px, 1px, 1px, 1px);height: 1px;margin: -1px;overflow: hidden;padding: 0;position: absolute;width: 1px;}#sk-container-id-9 div.sk-estimator {font-family: monospace;background-color: #f0f8ff;border: 1px dotted black;border-radius: 0.25em;box-sizing: border-box;margin-bottom: 0.5em;}#sk-container-id-9 div.sk-estimator:hover {background-color: #d4ebff;}#sk-container-id-9 div.sk-parallel-item::after {content: \"\";width: 100%;border-bottom: 1px solid gray;flex-grow: 1;}#sk-container-id-9 div.sk-label:hover label.sk-toggleable__label {background-color: #d4ebff;}#sk-container-id-9 div.sk-serial::before {content: \"\";position: absolute;border-left: 1px solid gray;box-sizing: border-box;top: 0;bottom: 0;left: 50%;z-index: 0;}#sk-container-id-9 div.sk-serial {display: flex;flex-direction: column;align-items: center;background-color: white;padding-right: 0.2em;padding-left: 0.2em;position: relative;}#sk-container-id-9 div.sk-item {position: relative;z-index: 1;}#sk-container-id-9 div.sk-parallel {display: flex;align-items: stretch;justify-content: center;background-color: white;position: relative;}#sk-container-id-9 div.sk-item::before, #sk-container-id-9 div.sk-parallel-item::before {content: \"\";position: absolute;border-left: 1px solid gray;box-sizing: border-box;top: 0;bottom: 0;left: 50%;z-index: -1;}#sk-container-id-9 div.sk-parallel-item {display: flex;flex-direction: column;z-index: 1;position: relative;background-color: white;}#sk-container-id-9 div.sk-parallel-item:first-child::after {align-self: flex-end;width: 50%;}#sk-container-id-9 div.sk-parallel-item:last-child::after {align-self: flex-start;width: 50%;}#sk-container-id-9 div.sk-parallel-item:only-child::after {width: 0;}#sk-container-id-9 div.sk-dashed-wrapped {border: 1px dashed gray;margin: 0 0.4em 0.5em 0.4em;box-sizing: border-box;padding-bottom: 0.4em;background-color: white;}#sk-container-id-9 div.sk-label label {font-family: monospace;font-weight: bold;display: inline-block;line-height: 1.2em;}#sk-container-id-9 div.sk-label-container {text-align: center;}#sk-container-id-9 div.sk-container {/* jupyter's `normalize.less` sets `[hidden] { display: none; }` but bootstrap.min.css set `[hidden] { display: none !important; }` so we also need the `!important` here to be able to override the default hidden behavior on the sphinx rendered scikit-learn.org. See: https://github.com/scikit-learn/scikit-learn/issues/21755 */display: inline-block !important;position: relative;}#sk-container-id-9 div.sk-text-repr-fallback {display: none;}</style><div id=\"sk-container-id-9\" class=\"sk-top-container\"><div class=\"sk-text-repr-fallback\"><pre>KNeighborsClassifier(n_neighbors=11)</pre><b>In a Jupyter environment, please rerun this cell to show the HTML representation or trust the notebook. <br />On GitHub, the HTML representation is unable to render, please try loading this page with nbviewer.org.</b></div><div class=\"sk-container\" hidden><div class=\"sk-item\"><div class=\"sk-estimator sk-toggleable\"><input class=\"sk-toggleable__control sk-hidden--visually\" id=\"sk-estimator-id-9\" type=\"checkbox\" checked><label for=\"sk-estimator-id-9\" class=\"sk-toggleable__label sk-toggleable__label-arrow\">KNeighborsClassifier</label><div class=\"sk-toggleable__content\"><pre>KNeighborsClassifier(n_neighbors=11)</pre></div></div></div></div></div>"
            ]
          },
          "metadata": {},
          "execution_count": 256
        }
      ]
    },
    {
      "cell_type": "code",
      "execution_count": null,
      "metadata": {
        "id": "5n6mz2AqO13Y",
        "colab": {
          "base_uri": "https://localhost:8080/",
          "height": 545
        },
        "outputId": "cc8b0759-0173-4c5c-8524-8bdc074eed14"
      },
      "outputs": [
        {
          "output_type": "stream",
          "name": "stdout",
          "text": [
            "Training Precision: 0.75\n",
            "Training Recall: 0.68\n",
            "Test Precision: 0.70\n",
            "Test Recall: 0.59\n",
            "ROC-AUC_test = : 0.79 и ROC-AUC_train = : 0.81\n"
          ]
        },
        {
          "output_type": "display_data",
          "data": {
            "text/plain": [
              "<Figure size 640x480 with 1 Axes>"
            ],
            "image/svg+xml": "<?xml version=\"1.0\" encoding=\"utf-8\" standalone=\"no\"?>\n<!DOCTYPE svg PUBLIC \"-//W3C//DTD SVG 1.1//EN\"\n  \"http://www.w3.org/Graphics/SVG/1.1/DTD/svg11.dtd\">\n<svg xmlns:xlink=\"http://www.w3.org/1999/xlink\" width=\"408.10125pt\" height=\"325.986375pt\" viewBox=\"0 0 408.10125 325.986375\" xmlns=\"http://www.w3.org/2000/svg\" version=\"1.1\">\n <metadata>\n  <rdf:RDF xmlns:dc=\"http://purl.org/dc/elements/1.1/\" xmlns:cc=\"http://creativecommons.org/ns#\" xmlns:rdf=\"http://www.w3.org/1999/02/22-rdf-syntax-ns#\">\n   <cc:Work>\n    <dc:type rdf:resource=\"http://purl.org/dc/dcmitype/StillImage\"/>\n    <dc:date>2023-07-26T15:40:19.202884</dc:date>\n    <dc:format>image/svg+xml</dc:format>\n    <dc:creator>\n     <cc:Agent>\n      <dc:title>Matplotlib v3.7.1, https://matplotlib.org/</dc:title>\n     </cc:Agent>\n    </dc:creator>\n   </cc:Work>\n  </rdf:RDF>\n </metadata>\n <defs>\n  <style type=\"text/css\">*{stroke-linejoin: round; stroke-linecap: butt}</style>\n </defs>\n <g id=\"figure_1\">\n  <g id=\"patch_1\">\n   <path d=\"M 0 325.986375 \nL 408.10125 325.986375 \nL 408.10125 0 \nL 0 0 \nz\n\" style=\"fill: #ffffff\"/>\n  </g>\n  <g id=\"axes_1\">\n   <g id=\"patch_2\">\n    <path d=\"M 43.78125 288.430125 \nL 400.90125 288.430125 \nL 400.90125 22.318125 \nL 43.78125 22.318125 \nz\n\" style=\"fill: #ffffff\"/>\n   </g>\n   <g id=\"matplotlib.axis_1\">\n    <g id=\"xtick_1\">\n     <g id=\"line2d_1\">\n      <defs>\n       <path id=\"mb31196de99\" d=\"M 0 0 \nL 0 3.5 \n\" style=\"stroke: #000000; stroke-width: 0.8\"/>\n      </defs>\n      <g>\n       <use xlink:href=\"#mb31196de99\" x=\"60.013977\" y=\"288.430125\" style=\"stroke: #000000; stroke-width: 0.8\"/>\n      </g>\n     </g>\n     <g id=\"text_1\">\n      <!-- 0.0 -->\n      <g transform=\"translate(52.062415 303.028562) scale(0.1 -0.1)\">\n       <defs>\n        <path id=\"DejaVuSans-30\" d=\"M 2034 4250 \nQ 1547 4250 1301 3770 \nQ 1056 3291 1056 2328 \nQ 1056 1369 1301 889 \nQ 1547 409 2034 409 \nQ 2525 409 2770 889 \nQ 3016 1369 3016 2328 \nQ 3016 3291 2770 3770 \nQ 2525 4250 2034 4250 \nz\nM 2034 4750 \nQ 2819 4750 3233 4129 \nQ 3647 3509 3647 2328 \nQ 3647 1150 3233 529 \nQ 2819 -91 2034 -91 \nQ 1250 -91 836 529 \nQ 422 1150 422 2328 \nQ 422 3509 836 4129 \nQ 1250 4750 2034 4750 \nz\n\" transform=\"scale(0.015625)\"/>\n        <path id=\"DejaVuSans-2e\" d=\"M 684 794 \nL 1344 794 \nL 1344 0 \nL 684 0 \nL 684 794 \nz\n\" transform=\"scale(0.015625)\"/>\n       </defs>\n       <use xlink:href=\"#DejaVuSans-30\"/>\n       <use xlink:href=\"#DejaVuSans-2e\" x=\"63.623047\"/>\n       <use xlink:href=\"#DejaVuSans-30\" x=\"95.410156\"/>\n      </g>\n     </g>\n    </g>\n    <g id=\"xtick_2\">\n     <g id=\"line2d_2\">\n      <g>\n       <use xlink:href=\"#mb31196de99\" x=\"124.944886\" y=\"288.430125\" style=\"stroke: #000000; stroke-width: 0.8\"/>\n      </g>\n     </g>\n     <g id=\"text_2\">\n      <!-- 0.2 -->\n      <g transform=\"translate(116.993324 303.028562) scale(0.1 -0.1)\">\n       <defs>\n        <path id=\"DejaVuSans-32\" d=\"M 1228 531 \nL 3431 531 \nL 3431 0 \nL 469 0 \nL 469 531 \nQ 828 903 1448 1529 \nQ 2069 2156 2228 2338 \nQ 2531 2678 2651 2914 \nQ 2772 3150 2772 3378 \nQ 2772 3750 2511 3984 \nQ 2250 4219 1831 4219 \nQ 1534 4219 1204 4116 \nQ 875 4013 500 3803 \nL 500 4441 \nQ 881 4594 1212 4672 \nQ 1544 4750 1819 4750 \nQ 2544 4750 2975 4387 \nQ 3406 4025 3406 3419 \nQ 3406 3131 3298 2873 \nQ 3191 2616 2906 2266 \nQ 2828 2175 2409 1742 \nQ 1991 1309 1228 531 \nz\n\" transform=\"scale(0.015625)\"/>\n       </defs>\n       <use xlink:href=\"#DejaVuSans-30\"/>\n       <use xlink:href=\"#DejaVuSans-2e\" x=\"63.623047\"/>\n       <use xlink:href=\"#DejaVuSans-32\" x=\"95.410156\"/>\n      </g>\n     </g>\n    </g>\n    <g id=\"xtick_3\">\n     <g id=\"line2d_3\">\n      <g>\n       <use xlink:href=\"#mb31196de99\" x=\"189.875795\" y=\"288.430125\" style=\"stroke: #000000; stroke-width: 0.8\"/>\n      </g>\n     </g>\n     <g id=\"text_3\">\n      <!-- 0.4 -->\n      <g transform=\"translate(181.924233 303.028562) scale(0.1 -0.1)\">\n       <defs>\n        <path id=\"DejaVuSans-34\" d=\"M 2419 4116 \nL 825 1625 \nL 2419 1625 \nL 2419 4116 \nz\nM 2253 4666 \nL 3047 4666 \nL 3047 1625 \nL 3713 1625 \nL 3713 1100 \nL 3047 1100 \nL 3047 0 \nL 2419 0 \nL 2419 1100 \nL 313 1100 \nL 313 1709 \nL 2253 4666 \nz\n\" transform=\"scale(0.015625)\"/>\n       </defs>\n       <use xlink:href=\"#DejaVuSans-30\"/>\n       <use xlink:href=\"#DejaVuSans-2e\" x=\"63.623047\"/>\n       <use xlink:href=\"#DejaVuSans-34\" x=\"95.410156\"/>\n      </g>\n     </g>\n    </g>\n    <g id=\"xtick_4\">\n     <g id=\"line2d_4\">\n      <g>\n       <use xlink:href=\"#mb31196de99\" x=\"254.806705\" y=\"288.430125\" style=\"stroke: #000000; stroke-width: 0.8\"/>\n      </g>\n     </g>\n     <g id=\"text_4\">\n      <!-- 0.6 -->\n      <g transform=\"translate(246.855142 303.028562) scale(0.1 -0.1)\">\n       <defs>\n        <path id=\"DejaVuSans-36\" d=\"M 2113 2584 \nQ 1688 2584 1439 2293 \nQ 1191 2003 1191 1497 \nQ 1191 994 1439 701 \nQ 1688 409 2113 409 \nQ 2538 409 2786 701 \nQ 3034 994 3034 1497 \nQ 3034 2003 2786 2293 \nQ 2538 2584 2113 2584 \nz\nM 3366 4563 \nL 3366 3988 \nQ 3128 4100 2886 4159 \nQ 2644 4219 2406 4219 \nQ 1781 4219 1451 3797 \nQ 1122 3375 1075 2522 \nQ 1259 2794 1537 2939 \nQ 1816 3084 2150 3084 \nQ 2853 3084 3261 2657 \nQ 3669 2231 3669 1497 \nQ 3669 778 3244 343 \nQ 2819 -91 2113 -91 \nQ 1303 -91 875 529 \nQ 447 1150 447 2328 \nQ 447 3434 972 4092 \nQ 1497 4750 2381 4750 \nQ 2619 4750 2861 4703 \nQ 3103 4656 3366 4563 \nz\n\" transform=\"scale(0.015625)\"/>\n       </defs>\n       <use xlink:href=\"#DejaVuSans-30\"/>\n       <use xlink:href=\"#DejaVuSans-2e\" x=\"63.623047\"/>\n       <use xlink:href=\"#DejaVuSans-36\" x=\"95.410156\"/>\n      </g>\n     </g>\n    </g>\n    <g id=\"xtick_5\">\n     <g id=\"line2d_5\">\n      <g>\n       <use xlink:href=\"#mb31196de99\" x=\"319.737614\" y=\"288.430125\" style=\"stroke: #000000; stroke-width: 0.8\"/>\n      </g>\n     </g>\n     <g id=\"text_5\">\n      <!-- 0.8 -->\n      <g transform=\"translate(311.786051 303.028562) scale(0.1 -0.1)\">\n       <defs>\n        <path id=\"DejaVuSans-38\" d=\"M 2034 2216 \nQ 1584 2216 1326 1975 \nQ 1069 1734 1069 1313 \nQ 1069 891 1326 650 \nQ 1584 409 2034 409 \nQ 2484 409 2743 651 \nQ 3003 894 3003 1313 \nQ 3003 1734 2745 1975 \nQ 2488 2216 2034 2216 \nz\nM 1403 2484 \nQ 997 2584 770 2862 \nQ 544 3141 544 3541 \nQ 544 4100 942 4425 \nQ 1341 4750 2034 4750 \nQ 2731 4750 3128 4425 \nQ 3525 4100 3525 3541 \nQ 3525 3141 3298 2862 \nQ 3072 2584 2669 2484 \nQ 3125 2378 3379 2068 \nQ 3634 1759 3634 1313 \nQ 3634 634 3220 271 \nQ 2806 -91 2034 -91 \nQ 1263 -91 848 271 \nQ 434 634 434 1313 \nQ 434 1759 690 2068 \nQ 947 2378 1403 2484 \nz\nM 1172 3481 \nQ 1172 3119 1398 2916 \nQ 1625 2713 2034 2713 \nQ 2441 2713 2670 2916 \nQ 2900 3119 2900 3481 \nQ 2900 3844 2670 4047 \nQ 2441 4250 2034 4250 \nQ 1625 4250 1398 4047 \nQ 1172 3844 1172 3481 \nz\n\" transform=\"scale(0.015625)\"/>\n       </defs>\n       <use xlink:href=\"#DejaVuSans-30\"/>\n       <use xlink:href=\"#DejaVuSans-2e\" x=\"63.623047\"/>\n       <use xlink:href=\"#DejaVuSans-38\" x=\"95.410156\"/>\n      </g>\n     </g>\n    </g>\n    <g id=\"xtick_6\">\n     <g id=\"line2d_6\">\n      <g>\n       <use xlink:href=\"#mb31196de99\" x=\"384.668523\" y=\"288.430125\" style=\"stroke: #000000; stroke-width: 0.8\"/>\n      </g>\n     </g>\n     <g id=\"text_6\">\n      <!-- 1.0 -->\n      <g transform=\"translate(376.71696 303.028562) scale(0.1 -0.1)\">\n       <defs>\n        <path id=\"DejaVuSans-31\" d=\"M 794 531 \nL 1825 531 \nL 1825 4091 \nL 703 3866 \nL 703 4441 \nL 1819 4666 \nL 2450 4666 \nL 2450 531 \nL 3481 531 \nL 3481 0 \nL 794 0 \nL 794 531 \nz\n\" transform=\"scale(0.015625)\"/>\n       </defs>\n       <use xlink:href=\"#DejaVuSans-31\"/>\n       <use xlink:href=\"#DejaVuSans-2e\" x=\"63.623047\"/>\n       <use xlink:href=\"#DejaVuSans-30\" x=\"95.410156\"/>\n      </g>\n     </g>\n    </g>\n    <g id=\"text_7\">\n     <!-- False Positive Rate -->\n     <g transform=\"translate(175.874844 316.706687) scale(0.1 -0.1)\">\n      <defs>\n       <path id=\"DejaVuSans-46\" d=\"M 628 4666 \nL 3309 4666 \nL 3309 4134 \nL 1259 4134 \nL 1259 2759 \nL 3109 2759 \nL 3109 2228 \nL 1259 2228 \nL 1259 0 \nL 628 0 \nL 628 4666 \nz\n\" transform=\"scale(0.015625)\"/>\n       <path id=\"DejaVuSans-61\" d=\"M 2194 1759 \nQ 1497 1759 1228 1600 \nQ 959 1441 959 1056 \nQ 959 750 1161 570 \nQ 1363 391 1709 391 \nQ 2188 391 2477 730 \nQ 2766 1069 2766 1631 \nL 2766 1759 \nL 2194 1759 \nz\nM 3341 1997 \nL 3341 0 \nL 2766 0 \nL 2766 531 \nQ 2569 213 2275 61 \nQ 1981 -91 1556 -91 \nQ 1019 -91 701 211 \nQ 384 513 384 1019 \nQ 384 1609 779 1909 \nQ 1175 2209 1959 2209 \nL 2766 2209 \nL 2766 2266 \nQ 2766 2663 2505 2880 \nQ 2244 3097 1772 3097 \nQ 1472 3097 1187 3025 \nQ 903 2953 641 2809 \nL 641 3341 \nQ 956 3463 1253 3523 \nQ 1550 3584 1831 3584 \nQ 2591 3584 2966 3190 \nQ 3341 2797 3341 1997 \nz\n\" transform=\"scale(0.015625)\"/>\n       <path id=\"DejaVuSans-6c\" d=\"M 603 4863 \nL 1178 4863 \nL 1178 0 \nL 603 0 \nL 603 4863 \nz\n\" transform=\"scale(0.015625)\"/>\n       <path id=\"DejaVuSans-73\" d=\"M 2834 3397 \nL 2834 2853 \nQ 2591 2978 2328 3040 \nQ 2066 3103 1784 3103 \nQ 1356 3103 1142 2972 \nQ 928 2841 928 2578 \nQ 928 2378 1081 2264 \nQ 1234 2150 1697 2047 \nL 1894 2003 \nQ 2506 1872 2764 1633 \nQ 3022 1394 3022 966 \nQ 3022 478 2636 193 \nQ 2250 -91 1575 -91 \nQ 1294 -91 989 -36 \nQ 684 19 347 128 \nL 347 722 \nQ 666 556 975 473 \nQ 1284 391 1588 391 \nQ 1994 391 2212 530 \nQ 2431 669 2431 922 \nQ 2431 1156 2273 1281 \nQ 2116 1406 1581 1522 \nL 1381 1569 \nQ 847 1681 609 1914 \nQ 372 2147 372 2553 \nQ 372 3047 722 3315 \nQ 1072 3584 1716 3584 \nQ 2034 3584 2315 3537 \nQ 2597 3491 2834 3397 \nz\n\" transform=\"scale(0.015625)\"/>\n       <path id=\"DejaVuSans-65\" d=\"M 3597 1894 \nL 3597 1613 \nL 953 1613 \nQ 991 1019 1311 708 \nQ 1631 397 2203 397 \nQ 2534 397 2845 478 \nQ 3156 559 3463 722 \nL 3463 178 \nQ 3153 47 2828 -22 \nQ 2503 -91 2169 -91 \nQ 1331 -91 842 396 \nQ 353 884 353 1716 \nQ 353 2575 817 3079 \nQ 1281 3584 2069 3584 \nQ 2775 3584 3186 3129 \nQ 3597 2675 3597 1894 \nz\nM 3022 2063 \nQ 3016 2534 2758 2815 \nQ 2500 3097 2075 3097 \nQ 1594 3097 1305 2825 \nQ 1016 2553 972 2059 \nL 3022 2063 \nz\n\" transform=\"scale(0.015625)\"/>\n       <path id=\"DejaVuSans-20\" transform=\"scale(0.015625)\"/>\n       <path id=\"DejaVuSans-50\" d=\"M 1259 4147 \nL 1259 2394 \nL 2053 2394 \nQ 2494 2394 2734 2622 \nQ 2975 2850 2975 3272 \nQ 2975 3691 2734 3919 \nQ 2494 4147 2053 4147 \nL 1259 4147 \nz\nM 628 4666 \nL 2053 4666 \nQ 2838 4666 3239 4311 \nQ 3641 3956 3641 3272 \nQ 3641 2581 3239 2228 \nQ 2838 1875 2053 1875 \nL 1259 1875 \nL 1259 0 \nL 628 0 \nL 628 4666 \nz\n\" transform=\"scale(0.015625)\"/>\n       <path id=\"DejaVuSans-6f\" d=\"M 1959 3097 \nQ 1497 3097 1228 2736 \nQ 959 2375 959 1747 \nQ 959 1119 1226 758 \nQ 1494 397 1959 397 \nQ 2419 397 2687 759 \nQ 2956 1122 2956 1747 \nQ 2956 2369 2687 2733 \nQ 2419 3097 1959 3097 \nz\nM 1959 3584 \nQ 2709 3584 3137 3096 \nQ 3566 2609 3566 1747 \nQ 3566 888 3137 398 \nQ 2709 -91 1959 -91 \nQ 1206 -91 779 398 \nQ 353 888 353 1747 \nQ 353 2609 779 3096 \nQ 1206 3584 1959 3584 \nz\n\" transform=\"scale(0.015625)\"/>\n       <path id=\"DejaVuSans-69\" d=\"M 603 3500 \nL 1178 3500 \nL 1178 0 \nL 603 0 \nL 603 3500 \nz\nM 603 4863 \nL 1178 4863 \nL 1178 4134 \nL 603 4134 \nL 603 4863 \nz\n\" transform=\"scale(0.015625)\"/>\n       <path id=\"DejaVuSans-74\" d=\"M 1172 4494 \nL 1172 3500 \nL 2356 3500 \nL 2356 3053 \nL 1172 3053 \nL 1172 1153 \nQ 1172 725 1289 603 \nQ 1406 481 1766 481 \nL 2356 481 \nL 2356 0 \nL 1766 0 \nQ 1100 0 847 248 \nQ 594 497 594 1153 \nL 594 3053 \nL 172 3053 \nL 172 3500 \nL 594 3500 \nL 594 4494 \nL 1172 4494 \nz\n\" transform=\"scale(0.015625)\"/>\n       <path id=\"DejaVuSans-76\" d=\"M 191 3500 \nL 800 3500 \nL 1894 563 \nL 2988 3500 \nL 3597 3500 \nL 2284 0 \nL 1503 0 \nL 191 3500 \nz\n\" transform=\"scale(0.015625)\"/>\n       <path id=\"DejaVuSans-52\" d=\"M 2841 2188 \nQ 3044 2119 3236 1894 \nQ 3428 1669 3622 1275 \nL 4263 0 \nL 3584 0 \nL 2988 1197 \nQ 2756 1666 2539 1819 \nQ 2322 1972 1947 1972 \nL 1259 1972 \nL 1259 0 \nL 628 0 \nL 628 4666 \nL 2053 4666 \nQ 2853 4666 3247 4331 \nQ 3641 3997 3641 3322 \nQ 3641 2881 3436 2590 \nQ 3231 2300 2841 2188 \nz\nM 1259 4147 \nL 1259 2491 \nL 2053 2491 \nQ 2509 2491 2742 2702 \nQ 2975 2913 2975 3322 \nQ 2975 3731 2742 3939 \nQ 2509 4147 2053 4147 \nL 1259 4147 \nz\n\" transform=\"scale(0.015625)\"/>\n      </defs>\n      <use xlink:href=\"#DejaVuSans-46\"/>\n      <use xlink:href=\"#DejaVuSans-61\" x=\"48.394531\"/>\n      <use xlink:href=\"#DejaVuSans-6c\" x=\"109.673828\"/>\n      <use xlink:href=\"#DejaVuSans-73\" x=\"137.457031\"/>\n      <use xlink:href=\"#DejaVuSans-65\" x=\"189.556641\"/>\n      <use xlink:href=\"#DejaVuSans-20\" x=\"251.080078\"/>\n      <use xlink:href=\"#DejaVuSans-50\" x=\"282.867188\"/>\n      <use xlink:href=\"#DejaVuSans-6f\" x=\"339.544922\"/>\n      <use xlink:href=\"#DejaVuSans-73\" x=\"400.726562\"/>\n      <use xlink:href=\"#DejaVuSans-69\" x=\"452.826172\"/>\n      <use xlink:href=\"#DejaVuSans-74\" x=\"480.609375\"/>\n      <use xlink:href=\"#DejaVuSans-69\" x=\"519.818359\"/>\n      <use xlink:href=\"#DejaVuSans-76\" x=\"547.601562\"/>\n      <use xlink:href=\"#DejaVuSans-65\" x=\"606.78125\"/>\n      <use xlink:href=\"#DejaVuSans-20\" x=\"668.304688\"/>\n      <use xlink:href=\"#DejaVuSans-52\" x=\"700.091797\"/>\n      <use xlink:href=\"#DejaVuSans-61\" x=\"767.324219\"/>\n      <use xlink:href=\"#DejaVuSans-74\" x=\"828.603516\"/>\n      <use xlink:href=\"#DejaVuSans-65\" x=\"867.8125\"/>\n     </g>\n    </g>\n   </g>\n   <g id=\"matplotlib.axis_2\">\n    <g id=\"ytick_1\">\n     <g id=\"line2d_7\">\n      <defs>\n       <path id=\"m965e71c83a\" d=\"M 0 0 \nL -3.5 0 \n\" style=\"stroke: #000000; stroke-width: 0.8\"/>\n      </defs>\n      <g>\n       <use xlink:href=\"#m965e71c83a\" x=\"43.78125\" y=\"276.334125\" style=\"stroke: #000000; stroke-width: 0.8\"/>\n      </g>\n     </g>\n     <g id=\"text_8\">\n      <!-- 0.0 -->\n      <g transform=\"translate(20.878125 280.133344) scale(0.1 -0.1)\">\n       <use xlink:href=\"#DejaVuSans-30\"/>\n       <use xlink:href=\"#DejaVuSans-2e\" x=\"63.623047\"/>\n       <use xlink:href=\"#DejaVuSans-30\" x=\"95.410156\"/>\n      </g>\n     </g>\n    </g>\n    <g id=\"ytick_2\">\n     <g id=\"line2d_8\">\n      <g>\n       <use xlink:href=\"#m965e71c83a\" x=\"43.78125\" y=\"227.950125\" style=\"stroke: #000000; stroke-width: 0.8\"/>\n      </g>\n     </g>\n     <g id=\"text_9\">\n      <!-- 0.2 -->\n      <g transform=\"translate(20.878125 231.749344) scale(0.1 -0.1)\">\n       <use xlink:href=\"#DejaVuSans-30\"/>\n       <use xlink:href=\"#DejaVuSans-2e\" x=\"63.623047\"/>\n       <use xlink:href=\"#DejaVuSans-32\" x=\"95.410156\"/>\n      </g>\n     </g>\n    </g>\n    <g id=\"ytick_3\">\n     <g id=\"line2d_9\">\n      <g>\n       <use xlink:href=\"#m965e71c83a\" x=\"43.78125\" y=\"179.566125\" style=\"stroke: #000000; stroke-width: 0.8\"/>\n      </g>\n     </g>\n     <g id=\"text_10\">\n      <!-- 0.4 -->\n      <g transform=\"translate(20.878125 183.365344) scale(0.1 -0.1)\">\n       <use xlink:href=\"#DejaVuSans-30\"/>\n       <use xlink:href=\"#DejaVuSans-2e\" x=\"63.623047\"/>\n       <use xlink:href=\"#DejaVuSans-34\" x=\"95.410156\"/>\n      </g>\n     </g>\n    </g>\n    <g id=\"ytick_4\">\n     <g id=\"line2d_10\">\n      <g>\n       <use xlink:href=\"#m965e71c83a\" x=\"43.78125\" y=\"131.182125\" style=\"stroke: #000000; stroke-width: 0.8\"/>\n      </g>\n     </g>\n     <g id=\"text_11\">\n      <!-- 0.6 -->\n      <g transform=\"translate(20.878125 134.981344) scale(0.1 -0.1)\">\n       <use xlink:href=\"#DejaVuSans-30\"/>\n       <use xlink:href=\"#DejaVuSans-2e\" x=\"63.623047\"/>\n       <use xlink:href=\"#DejaVuSans-36\" x=\"95.410156\"/>\n      </g>\n     </g>\n    </g>\n    <g id=\"ytick_5\">\n     <g id=\"line2d_11\">\n      <g>\n       <use xlink:href=\"#m965e71c83a\" x=\"43.78125\" y=\"82.798125\" style=\"stroke: #000000; stroke-width: 0.8\"/>\n      </g>\n     </g>\n     <g id=\"text_12\">\n      <!-- 0.8 -->\n      <g transform=\"translate(20.878125 86.597344) scale(0.1 -0.1)\">\n       <use xlink:href=\"#DejaVuSans-30\"/>\n       <use xlink:href=\"#DejaVuSans-2e\" x=\"63.623047\"/>\n       <use xlink:href=\"#DejaVuSans-38\" x=\"95.410156\"/>\n      </g>\n     </g>\n    </g>\n    <g id=\"ytick_6\">\n     <g id=\"line2d_12\">\n      <g>\n       <use xlink:href=\"#m965e71c83a\" x=\"43.78125\" y=\"34.414125\" style=\"stroke: #000000; stroke-width: 0.8\"/>\n      </g>\n     </g>\n     <g id=\"text_13\">\n      <!-- 1.0 -->\n      <g transform=\"translate(20.878125 38.213344) scale(0.1 -0.1)\">\n       <use xlink:href=\"#DejaVuSans-31\"/>\n       <use xlink:href=\"#DejaVuSans-2e\" x=\"63.623047\"/>\n       <use xlink:href=\"#DejaVuSans-30\" x=\"95.410156\"/>\n      </g>\n     </g>\n    </g>\n    <g id=\"text_14\">\n     <!-- True Positive Rate -->\n     <g transform=\"translate(14.798438 199.903812) rotate(-90) scale(0.1 -0.1)\">\n      <defs>\n       <path id=\"DejaVuSans-54\" d=\"M -19 4666 \nL 3928 4666 \nL 3928 4134 \nL 2272 4134 \nL 2272 0 \nL 1638 0 \nL 1638 4134 \nL -19 4134 \nL -19 4666 \nz\n\" transform=\"scale(0.015625)\"/>\n       <path id=\"DejaVuSans-72\" d=\"M 2631 2963 \nQ 2534 3019 2420 3045 \nQ 2306 3072 2169 3072 \nQ 1681 3072 1420 2755 \nQ 1159 2438 1159 1844 \nL 1159 0 \nL 581 0 \nL 581 3500 \nL 1159 3500 \nL 1159 2956 \nQ 1341 3275 1631 3429 \nQ 1922 3584 2338 3584 \nQ 2397 3584 2469 3576 \nQ 2541 3569 2628 3553 \nL 2631 2963 \nz\n\" transform=\"scale(0.015625)\"/>\n       <path id=\"DejaVuSans-75\" d=\"M 544 1381 \nL 544 3500 \nL 1119 3500 \nL 1119 1403 \nQ 1119 906 1312 657 \nQ 1506 409 1894 409 \nQ 2359 409 2629 706 \nQ 2900 1003 2900 1516 \nL 2900 3500 \nL 3475 3500 \nL 3475 0 \nL 2900 0 \nL 2900 538 \nQ 2691 219 2414 64 \nQ 2138 -91 1772 -91 \nQ 1169 -91 856 284 \nQ 544 659 544 1381 \nz\nM 1991 3584 \nL 1991 3584 \nz\n\" transform=\"scale(0.015625)\"/>\n      </defs>\n      <use xlink:href=\"#DejaVuSans-54\"/>\n      <use xlink:href=\"#DejaVuSans-72\" x=\"46.333984\"/>\n      <use xlink:href=\"#DejaVuSans-75\" x=\"87.447266\"/>\n      <use xlink:href=\"#DejaVuSans-65\" x=\"150.826172\"/>\n      <use xlink:href=\"#DejaVuSans-20\" x=\"212.349609\"/>\n      <use xlink:href=\"#DejaVuSans-50\" x=\"244.136719\"/>\n      <use xlink:href=\"#DejaVuSans-6f\" x=\"300.814453\"/>\n      <use xlink:href=\"#DejaVuSans-73\" x=\"361.996094\"/>\n      <use xlink:href=\"#DejaVuSans-69\" x=\"414.095703\"/>\n      <use xlink:href=\"#DejaVuSans-74\" x=\"441.878906\"/>\n      <use xlink:href=\"#DejaVuSans-69\" x=\"481.087891\"/>\n      <use xlink:href=\"#DejaVuSans-76\" x=\"508.871094\"/>\n      <use xlink:href=\"#DejaVuSans-65\" x=\"568.050781\"/>\n      <use xlink:href=\"#DejaVuSans-20\" x=\"629.574219\"/>\n      <use xlink:href=\"#DejaVuSans-52\" x=\"661.361328\"/>\n      <use xlink:href=\"#DejaVuSans-61\" x=\"728.59375\"/>\n      <use xlink:href=\"#DejaVuSans-74\" x=\"789.873047\"/>\n      <use xlink:href=\"#DejaVuSans-65\" x=\"829.082031\"/>\n     </g>\n    </g>\n   </g>\n   <g id=\"line2d_13\">\n    <path d=\"M 60.013977 276.334125 \nL 67.071685 269.795747 \nL 74.129392 230.565476 \nL 84.715954 181.527639 \nL 102.360222 158.643314 \nL 120.004491 145.566557 \nL 127.062199 132.489801 \nL 137.64876 106.336287 \nL 179.995005 76.913584 \nL 247.043226 50.760071 \nL 314.091448 40.952503 \nL 367.024254 34.414125 \nL 384.668523 34.414125 \n\" clip-path=\"url(#pe25795052d)\" style=\"fill: none; stroke: #0000ff; stroke-width: 2; stroke-linecap: square\"/>\n   </g>\n   <g id=\"line2d_14\">\n    <path d=\"M 60.013977 276.334125 \nL 60.013977 267.537034 \nL 62.366546 225.750852 \nL 78.834531 190.562489 \nL 88.244807 157.573398 \nL 107.065361 133.381398 \nL 118.828207 111.38867 \nL 132.943622 104.790852 \nL 187.052712 71.801761 \nL 252.924649 56.406852 \nL 314.091448 38.81267 \nL 370.553108 34.414125 \nL 384.668523 34.414125 \n\" clip-path=\"url(#pe25795052d)\" style=\"fill: none; stroke: #ff8c00; stroke-width: 2; stroke-linecap: square\"/>\n   </g>\n   <g id=\"line2d_15\">\n    <path d=\"M 60.013977 276.334125 \nL 384.668523 34.414125 \n\" clip-path=\"url(#pe25795052d)\" style=\"fill: none; stroke-dasharray: 7.4,3.2; stroke-dashoffset: 0; stroke: #000080; stroke-width: 2\"/>\n   </g>\n   <g id=\"patch_3\">\n    <path d=\"M 43.78125 288.430125 \nL 43.78125 22.318125 \n\" style=\"fill: none; stroke: #000000; stroke-width: 0.8; stroke-linejoin: miter; stroke-linecap: square\"/>\n   </g>\n   <g id=\"patch_4\">\n    <path d=\"M 400.90125 288.430125 \nL 400.90125 22.318125 \n\" style=\"fill: none; stroke: #000000; stroke-width: 0.8; stroke-linejoin: miter; stroke-linecap: square\"/>\n   </g>\n   <g id=\"patch_5\">\n    <path d=\"M 43.78125 288.430125 \nL 400.90125 288.430125 \n\" style=\"fill: none; stroke: #000000; stroke-width: 0.8; stroke-linejoin: miter; stroke-linecap: square\"/>\n   </g>\n   <g id=\"patch_6\">\n    <path d=\"M 43.78125 22.318125 \nL 400.90125 22.318125 \n\" style=\"fill: none; stroke: #000000; stroke-width: 0.8; stroke-linejoin: miter; stroke-linecap: square\"/>\n   </g>\n   <g id=\"text_15\">\n    <!-- ROC Curve (KNeighborsClassifier) -->\n    <g transform=\"translate(121.206563 16.318125) scale(0.12 -0.12)\">\n     <defs>\n      <path id=\"DejaVuSans-4f\" d=\"M 2522 4238 \nQ 1834 4238 1429 3725 \nQ 1025 3213 1025 2328 \nQ 1025 1447 1429 934 \nQ 1834 422 2522 422 \nQ 3209 422 3611 934 \nQ 4013 1447 4013 2328 \nQ 4013 3213 3611 3725 \nQ 3209 4238 2522 4238 \nz\nM 2522 4750 \nQ 3503 4750 4090 4092 \nQ 4678 3434 4678 2328 \nQ 4678 1225 4090 567 \nQ 3503 -91 2522 -91 \nQ 1538 -91 948 565 \nQ 359 1222 359 2328 \nQ 359 3434 948 4092 \nQ 1538 4750 2522 4750 \nz\n\" transform=\"scale(0.015625)\"/>\n      <path id=\"DejaVuSans-43\" d=\"M 4122 4306 \nL 4122 3641 \nQ 3803 3938 3442 4084 \nQ 3081 4231 2675 4231 \nQ 1875 4231 1450 3742 \nQ 1025 3253 1025 2328 \nQ 1025 1406 1450 917 \nQ 1875 428 2675 428 \nQ 3081 428 3442 575 \nQ 3803 722 4122 1019 \nL 4122 359 \nQ 3791 134 3420 21 \nQ 3050 -91 2638 -91 \nQ 1578 -91 968 557 \nQ 359 1206 359 2328 \nQ 359 3453 968 4101 \nQ 1578 4750 2638 4750 \nQ 3056 4750 3426 4639 \nQ 3797 4528 4122 4306 \nz\n\" transform=\"scale(0.015625)\"/>\n      <path id=\"DejaVuSans-28\" d=\"M 1984 4856 \nQ 1566 4138 1362 3434 \nQ 1159 2731 1159 2009 \nQ 1159 1288 1364 580 \nQ 1569 -128 1984 -844 \nL 1484 -844 \nQ 1016 -109 783 600 \nQ 550 1309 550 2009 \nQ 550 2706 781 3412 \nQ 1013 4119 1484 4856 \nL 1984 4856 \nz\n\" transform=\"scale(0.015625)\"/>\n      <path id=\"DejaVuSans-4b\" d=\"M 628 4666 \nL 1259 4666 \nL 1259 2694 \nL 3353 4666 \nL 4166 4666 \nL 1850 2491 \nL 4331 0 \nL 3500 0 \nL 1259 2247 \nL 1259 0 \nL 628 0 \nL 628 4666 \nz\n\" transform=\"scale(0.015625)\"/>\n      <path id=\"DejaVuSans-4e\" d=\"M 628 4666 \nL 1478 4666 \nL 3547 763 \nL 3547 4666 \nL 4159 4666 \nL 4159 0 \nL 3309 0 \nL 1241 3903 \nL 1241 0 \nL 628 0 \nL 628 4666 \nz\n\" transform=\"scale(0.015625)\"/>\n      <path id=\"DejaVuSans-67\" d=\"M 2906 1791 \nQ 2906 2416 2648 2759 \nQ 2391 3103 1925 3103 \nQ 1463 3103 1205 2759 \nQ 947 2416 947 1791 \nQ 947 1169 1205 825 \nQ 1463 481 1925 481 \nQ 2391 481 2648 825 \nQ 2906 1169 2906 1791 \nz\nM 3481 434 \nQ 3481 -459 3084 -895 \nQ 2688 -1331 1869 -1331 \nQ 1566 -1331 1297 -1286 \nQ 1028 -1241 775 -1147 \nL 775 -588 \nQ 1028 -725 1275 -790 \nQ 1522 -856 1778 -856 \nQ 2344 -856 2625 -561 \nQ 2906 -266 2906 331 \nL 2906 616 \nQ 2728 306 2450 153 \nQ 2172 0 1784 0 \nQ 1141 0 747 490 \nQ 353 981 353 1791 \nQ 353 2603 747 3093 \nQ 1141 3584 1784 3584 \nQ 2172 3584 2450 3431 \nQ 2728 3278 2906 2969 \nL 2906 3500 \nL 3481 3500 \nL 3481 434 \nz\n\" transform=\"scale(0.015625)\"/>\n      <path id=\"DejaVuSans-68\" d=\"M 3513 2113 \nL 3513 0 \nL 2938 0 \nL 2938 2094 \nQ 2938 2591 2744 2837 \nQ 2550 3084 2163 3084 \nQ 1697 3084 1428 2787 \nQ 1159 2491 1159 1978 \nL 1159 0 \nL 581 0 \nL 581 4863 \nL 1159 4863 \nL 1159 2956 \nQ 1366 3272 1645 3428 \nQ 1925 3584 2291 3584 \nQ 2894 3584 3203 3211 \nQ 3513 2838 3513 2113 \nz\n\" transform=\"scale(0.015625)\"/>\n      <path id=\"DejaVuSans-62\" d=\"M 3116 1747 \nQ 3116 2381 2855 2742 \nQ 2594 3103 2138 3103 \nQ 1681 3103 1420 2742 \nQ 1159 2381 1159 1747 \nQ 1159 1113 1420 752 \nQ 1681 391 2138 391 \nQ 2594 391 2855 752 \nQ 3116 1113 3116 1747 \nz\nM 1159 2969 \nQ 1341 3281 1617 3432 \nQ 1894 3584 2278 3584 \nQ 2916 3584 3314 3078 \nQ 3713 2572 3713 1747 \nQ 3713 922 3314 415 \nQ 2916 -91 2278 -91 \nQ 1894 -91 1617 61 \nQ 1341 213 1159 525 \nL 1159 0 \nL 581 0 \nL 581 4863 \nL 1159 4863 \nL 1159 2969 \nz\n\" transform=\"scale(0.015625)\"/>\n      <path id=\"DejaVuSans-66\" d=\"M 2375 4863 \nL 2375 4384 \nL 1825 4384 \nQ 1516 4384 1395 4259 \nQ 1275 4134 1275 3809 \nL 1275 3500 \nL 2222 3500 \nL 2222 3053 \nL 1275 3053 \nL 1275 0 \nL 697 0 \nL 697 3053 \nL 147 3053 \nL 147 3500 \nL 697 3500 \nL 697 3744 \nQ 697 4328 969 4595 \nQ 1241 4863 1831 4863 \nL 2375 4863 \nz\n\" transform=\"scale(0.015625)\"/>\n      <path id=\"DejaVuSans-29\" d=\"M 513 4856 \nL 1013 4856 \nQ 1481 4119 1714 3412 \nQ 1947 2706 1947 2009 \nQ 1947 1309 1714 600 \nQ 1481 -109 1013 -844 \nL 513 -844 \nQ 928 -128 1133 580 \nQ 1338 1288 1338 2009 \nQ 1338 2731 1133 3434 \nQ 928 4138 513 4856 \nz\n\" transform=\"scale(0.015625)\"/>\n     </defs>\n     <use xlink:href=\"#DejaVuSans-52\"/>\n     <use xlink:href=\"#DejaVuSans-4f\" x=\"69.482422\"/>\n     <use xlink:href=\"#DejaVuSans-43\" x=\"148.193359\"/>\n     <use xlink:href=\"#DejaVuSans-20\" x=\"218.017578\"/>\n     <use xlink:href=\"#DejaVuSans-43\" x=\"249.804688\"/>\n     <use xlink:href=\"#DejaVuSans-75\" x=\"319.628906\"/>\n     <use xlink:href=\"#DejaVuSans-72\" x=\"383.007812\"/>\n     <use xlink:href=\"#DejaVuSans-76\" x=\"424.121094\"/>\n     <use xlink:href=\"#DejaVuSans-65\" x=\"483.300781\"/>\n     <use xlink:href=\"#DejaVuSans-20\" x=\"544.824219\"/>\n     <use xlink:href=\"#DejaVuSans-28\" x=\"576.611328\"/>\n     <use xlink:href=\"#DejaVuSans-4b\" x=\"615.625\"/>\n     <use xlink:href=\"#DejaVuSans-4e\" x=\"681.201172\"/>\n     <use xlink:href=\"#DejaVuSans-65\" x=\"756.005859\"/>\n     <use xlink:href=\"#DejaVuSans-69\" x=\"817.529297\"/>\n     <use xlink:href=\"#DejaVuSans-67\" x=\"845.3125\"/>\n     <use xlink:href=\"#DejaVuSans-68\" x=\"908.789062\"/>\n     <use xlink:href=\"#DejaVuSans-62\" x=\"972.167969\"/>\n     <use xlink:href=\"#DejaVuSans-6f\" x=\"1035.644531\"/>\n     <use xlink:href=\"#DejaVuSans-72\" x=\"1096.826172\"/>\n     <use xlink:href=\"#DejaVuSans-73\" x=\"1137.939453\"/>\n     <use xlink:href=\"#DejaVuSans-43\" x=\"1190.039062\"/>\n     <use xlink:href=\"#DejaVuSans-6c\" x=\"1259.863281\"/>\n     <use xlink:href=\"#DejaVuSans-61\" x=\"1287.646484\"/>\n     <use xlink:href=\"#DejaVuSans-73\" x=\"1348.925781\"/>\n     <use xlink:href=\"#DejaVuSans-73\" x=\"1401.025391\"/>\n     <use xlink:href=\"#DejaVuSans-69\" x=\"1453.125\"/>\n     <use xlink:href=\"#DejaVuSans-66\" x=\"1480.908203\"/>\n     <use xlink:href=\"#DejaVuSans-69\" x=\"1516.113281\"/>\n     <use xlink:href=\"#DejaVuSans-65\" x=\"1543.896484\"/>\n     <use xlink:href=\"#DejaVuSans-72\" x=\"1605.419922\"/>\n     <use xlink:href=\"#DejaVuSans-29\" x=\"1646.533203\"/>\n    </g>\n   </g>\n   <g id=\"legend_1\">\n    <g id=\"patch_7\">\n     <path d=\"M 50.78125 59.674375 \nL 159.646875 59.674375 \nQ 161.646875 59.674375 161.646875 57.674375 \nL 161.646875 29.318125 \nQ 161.646875 27.318125 159.646875 27.318125 \nL 50.78125 27.318125 \nQ 48.78125 27.318125 48.78125 29.318125 \nL 48.78125 57.674375 \nQ 48.78125 59.674375 50.78125 59.674375 \nz\n\" style=\"fill: #ffffff; opacity: 0.8; stroke: #cccccc; stroke-linejoin: miter\"/>\n    </g>\n    <g id=\"line2d_16\">\n     <path d=\"M 52.78125 35.416562 \nL 62.78125 35.416562 \nL 72.78125 35.416562 \n\" style=\"fill: none; stroke: #0000ff; stroke-width: 2; stroke-linecap: square\"/>\n    </g>\n    <g id=\"text_16\">\n     <!-- ROC Curve test -->\n     <g transform=\"translate(80.78125 38.916562) scale(0.1 -0.1)\">\n      <use xlink:href=\"#DejaVuSans-52\"/>\n      <use xlink:href=\"#DejaVuSans-4f\" x=\"69.482422\"/>\n      <use xlink:href=\"#DejaVuSans-43\" x=\"148.193359\"/>\n      <use xlink:href=\"#DejaVuSans-20\" x=\"218.017578\"/>\n      <use xlink:href=\"#DejaVuSans-43\" x=\"249.804688\"/>\n      <use xlink:href=\"#DejaVuSans-75\" x=\"319.628906\"/>\n      <use xlink:href=\"#DejaVuSans-72\" x=\"383.007812\"/>\n      <use xlink:href=\"#DejaVuSans-76\" x=\"424.121094\"/>\n      <use xlink:href=\"#DejaVuSans-65\" x=\"483.300781\"/>\n      <use xlink:href=\"#DejaVuSans-20\" x=\"544.824219\"/>\n      <use xlink:href=\"#DejaVuSans-74\" x=\"576.611328\"/>\n      <use xlink:href=\"#DejaVuSans-65\" x=\"615.820312\"/>\n      <use xlink:href=\"#DejaVuSans-73\" x=\"677.34375\"/>\n      <use xlink:href=\"#DejaVuSans-74\" x=\"729.443359\"/>\n     </g>\n    </g>\n    <g id=\"line2d_17\">\n     <path d=\"M 52.78125 50.094687 \nL 62.78125 50.094687 \nL 72.78125 50.094687 \n\" style=\"fill: none; stroke: #ff8c00; stroke-width: 2; stroke-linecap: square\"/>\n    </g>\n    <g id=\"text_17\">\n     <!-- ROC Curve test -->\n     <g transform=\"translate(80.78125 53.594687) scale(0.1 -0.1)\">\n      <use xlink:href=\"#DejaVuSans-52\"/>\n      <use xlink:href=\"#DejaVuSans-4f\" x=\"69.482422\"/>\n      <use xlink:href=\"#DejaVuSans-43\" x=\"148.193359\"/>\n      <use xlink:href=\"#DejaVuSans-20\" x=\"218.017578\"/>\n      <use xlink:href=\"#DejaVuSans-43\" x=\"249.804688\"/>\n      <use xlink:href=\"#DejaVuSans-75\" x=\"319.628906\"/>\n      <use xlink:href=\"#DejaVuSans-72\" x=\"383.007812\"/>\n      <use xlink:href=\"#DejaVuSans-76\" x=\"424.121094\"/>\n      <use xlink:href=\"#DejaVuSans-65\" x=\"483.300781\"/>\n      <use xlink:href=\"#DejaVuSans-20\" x=\"544.824219\"/>\n      <use xlink:href=\"#DejaVuSans-74\" x=\"576.611328\"/>\n      <use xlink:href=\"#DejaVuSans-65\" x=\"615.820312\"/>\n      <use xlink:href=\"#DejaVuSans-73\" x=\"677.34375\"/>\n      <use xlink:href=\"#DejaVuSans-74\" x=\"729.443359\"/>\n     </g>\n    </g>\n   </g>\n  </g>\n </g>\n <defs>\n  <clipPath id=\"pe25795052d\">\n   <rect x=\"43.78125\" y=\"22.318125\" width=\"357.12\" height=\"266.112\"/>\n  </clipPath>\n </defs>\n</svg>\n"
          },
          "metadata": {}
        }
      ],
      "source": [
        "metrics_knn = calculate_metrics_and_plot_roc(best_knn_model, X_train, y_train, X_test, y_test)"
      ]
    },
    {
      "cell_type": "markdown",
      "metadata": {
        "id": "m5PlOMtbyOum"
      },
      "source": [
        "**Вывод**\n",
        "\n",
        "\n",
        "k ближайщих соседей сильно переобучился, это видно и по графику ROC кривой, и по метрикам ROC-AUC, Precision, Recall"
      ]
    },
    {
      "cell_type": "markdown",
      "source": [
        "## поиск параметров"
      ],
      "metadata": {
        "id": "BF04SWhsuUwc"
      }
    },
    {
      "cell_type": "markdown",
      "source": [
        "Поиск параметров моделей возможен либо через GridSearchCV, либо RandomizedSearchCV, Optuna и так далее\n",
        "\n",
        "в ноутбуке рассматривается только 2 метода : GridSearchCV и RandomizedSearchCV\n",
        "\n",
        "Когда нужно, чтобы поиск отработал быстрее, рекомендуется использовать RandomizedSearchCV"
      ],
      "metadata": {
        "id": "BBDXJayWuYMY"
      }
    },
    {
      "cell_type": "code",
      "execution_count": null,
      "metadata": {
        "id": "75KAko-JXVnK",
        "colab": {
          "base_uri": "https://localhost:8080/"
        },
        "outputId": "cfcc81df-af9a-4ab6-cfa3-55f396f04701"
      },
      "outputs": [
        {
          "output_type": "stream",
          "name": "stdout",
          "text": [
            "Лучшее значение параметра: {'C': 0.1, 'penalty': 'l1'}\n",
            "CPU times: user 551 ms, sys: 0 ns, total: 551 ms\n",
            "Wall time: 601 ms\n"
          ]
        }
      ],
      "source": [
        "%%time\n",
        "# Определяем сетку параметров для C, которые мы хотим проверить\n",
        "param_grid = {'C': [0.01, 0.1, 1, 10, 20, 30, 50, 100],\n",
        "              'penalty': ['l2','l1',],\n",
        "              # 'solver': ['liblinear','saga']\n",
        "              }\n",
        "\n",
        "# Создаем модель логистической регрессии\n",
        "logreg_model = LogisticRegression(solver='saga', max_iter = 100000)\n",
        "\n",
        "# Создаем объект GridSearchCV с моделью логистической регрессии и сеткой параметров\n",
        "grid_search = GridSearchCV(logreg_model,\n",
        "                           param_grid,\n",
        "                           cv=5,\n",
        "                           scoring='roc_auc')  # cv указывает количество блоков для кросс-валидации\n",
        "\n",
        "# Обучаем модель на данных с использованием кросс-валидации\n",
        "grid_search.fit(X_train, y_train)\n",
        "\n",
        "# Получаем лучшее значение параметра C, найденное в процессе кросс-валидации\n",
        "# best_params = grid_search.best_params_[param_grid]\n",
        "print('Лучшее значение параметра:', grid_search.best_params_)\n"
      ]
    },
    {
      "cell_type": "code",
      "source": [
        "%%time\n",
        "# Определяем сетку параметров для C, которые мы хотим проверить\n",
        "param_grid = {'C': [0.01, 0.1, 1, 10, 20, 30, 50, 100],\n",
        "              'penalty': ['l2', 'l1'],\n",
        "              # 'solver': ['liblinear', 'saga']\n",
        "              }\n",
        "\n",
        "# Создаем модель логистической регрессии\n",
        "logreg_model = LogisticRegression(solver='saga', max_iter=100000)\n",
        "\n",
        "# Создаем объект RandomizedSearchCV с моделью логистической регрессии и сеткой параметров\n",
        "random_search = RandomizedSearchCV(logreg_model,\n",
        "                                   param_distributions=param_grid,\n",
        "                                   n_iter=10,\n",
        "                                   cv=5, scoring='roc_auc')\n",
        "\n",
        "# Обучаем модель на данных с использованием кросс-валидации\n",
        "random_search.fit(X_train, y_train)\n",
        "\n",
        "# Получаем лучшее значение параметров, найденных в процессе кросс-валидации\n",
        "print('Лучшие значения параметров:', random_search.best_params_)\n"
      ],
      "metadata": {
        "colab": {
          "base_uri": "https://localhost:8080/"
        },
        "id": "JUY4Tfu52AWO",
        "outputId": "9f3825dd-e71f-47cc-ffed-241c1e189f24"
      },
      "execution_count": null,
      "outputs": [
        {
          "output_type": "stream",
          "name": "stdout",
          "text": [
            "Лучшие значения параметров: {'penalty': 'l1', 'C': 0.1}\n",
            "CPU times: user 206 ms, sys: 212 µs, total: 206 ms\n",
            "Wall time: 209 ms\n"
          ]
        }
      ]
    },
    {
      "cell_type": "code",
      "execution_count": null,
      "metadata": {
        "id": "L7vx-wH1LDiu"
      },
      "outputs": [],
      "source": [
        "\n",
        "# Построение модели логистической регрессии\n",
        "logreg_model = LogisticRegression(solver='saga',  max_iter=1000, **grid_search.best_params_)\n",
        "# plot_decision_boundary(logreg_model, X_train, y_train)"
      ]
    },
    {
      "cell_type": "code",
      "execution_count": null,
      "metadata": {
        "id": "4aXdbgq5Mm0n",
        "colab": {
          "base_uri": "https://localhost:8080/",
          "height": 75
        },
        "outputId": "7c223ab4-c66c-4c07-af54-4a21298d350f"
      },
      "outputs": [
        {
          "output_type": "execute_result",
          "data": {
            "text/plain": [
              "LogisticRegression(C=0.1, max_iter=1000, penalty='l1', solver='saga')"
            ],
            "text/html": [
              "<style>#sk-container-id-10 {color: black;background-color: white;}#sk-container-id-10 pre{padding: 0;}#sk-container-id-10 div.sk-toggleable {background-color: white;}#sk-container-id-10 label.sk-toggleable__label {cursor: pointer;display: block;width: 100%;margin-bottom: 0;padding: 0.3em;box-sizing: border-box;text-align: center;}#sk-container-id-10 label.sk-toggleable__label-arrow:before {content: \"▸\";float: left;margin-right: 0.25em;color: #696969;}#sk-container-id-10 label.sk-toggleable__label-arrow:hover:before {color: black;}#sk-container-id-10 div.sk-estimator:hover label.sk-toggleable__label-arrow:before {color: black;}#sk-container-id-10 div.sk-toggleable__content {max-height: 0;max-width: 0;overflow: hidden;text-align: left;background-color: #f0f8ff;}#sk-container-id-10 div.sk-toggleable__content pre {margin: 0.2em;color: black;border-radius: 0.25em;background-color: #f0f8ff;}#sk-container-id-10 input.sk-toggleable__control:checked~div.sk-toggleable__content {max-height: 200px;max-width: 100%;overflow: auto;}#sk-container-id-10 input.sk-toggleable__control:checked~label.sk-toggleable__label-arrow:before {content: \"▾\";}#sk-container-id-10 div.sk-estimator input.sk-toggleable__control:checked~label.sk-toggleable__label {background-color: #d4ebff;}#sk-container-id-10 div.sk-label input.sk-toggleable__control:checked~label.sk-toggleable__label {background-color: #d4ebff;}#sk-container-id-10 input.sk-hidden--visually {border: 0;clip: rect(1px 1px 1px 1px);clip: rect(1px, 1px, 1px, 1px);height: 1px;margin: -1px;overflow: hidden;padding: 0;position: absolute;width: 1px;}#sk-container-id-10 div.sk-estimator {font-family: monospace;background-color: #f0f8ff;border: 1px dotted black;border-radius: 0.25em;box-sizing: border-box;margin-bottom: 0.5em;}#sk-container-id-10 div.sk-estimator:hover {background-color: #d4ebff;}#sk-container-id-10 div.sk-parallel-item::after {content: \"\";width: 100%;border-bottom: 1px solid gray;flex-grow: 1;}#sk-container-id-10 div.sk-label:hover label.sk-toggleable__label {background-color: #d4ebff;}#sk-container-id-10 div.sk-serial::before {content: \"\";position: absolute;border-left: 1px solid gray;box-sizing: border-box;top: 0;bottom: 0;left: 50%;z-index: 0;}#sk-container-id-10 div.sk-serial {display: flex;flex-direction: column;align-items: center;background-color: white;padding-right: 0.2em;padding-left: 0.2em;position: relative;}#sk-container-id-10 div.sk-item {position: relative;z-index: 1;}#sk-container-id-10 div.sk-parallel {display: flex;align-items: stretch;justify-content: center;background-color: white;position: relative;}#sk-container-id-10 div.sk-item::before, #sk-container-id-10 div.sk-parallel-item::before {content: \"\";position: absolute;border-left: 1px solid gray;box-sizing: border-box;top: 0;bottom: 0;left: 50%;z-index: -1;}#sk-container-id-10 div.sk-parallel-item {display: flex;flex-direction: column;z-index: 1;position: relative;background-color: white;}#sk-container-id-10 div.sk-parallel-item:first-child::after {align-self: flex-end;width: 50%;}#sk-container-id-10 div.sk-parallel-item:last-child::after {align-self: flex-start;width: 50%;}#sk-container-id-10 div.sk-parallel-item:only-child::after {width: 0;}#sk-container-id-10 div.sk-dashed-wrapped {border: 1px dashed gray;margin: 0 0.4em 0.5em 0.4em;box-sizing: border-box;padding-bottom: 0.4em;background-color: white;}#sk-container-id-10 div.sk-label label {font-family: monospace;font-weight: bold;display: inline-block;line-height: 1.2em;}#sk-container-id-10 div.sk-label-container {text-align: center;}#sk-container-id-10 div.sk-container {/* jupyter's `normalize.less` sets `[hidden] { display: none; }` but bootstrap.min.css set `[hidden] { display: none !important; }` so we also need the `!important` here to be able to override the default hidden behavior on the sphinx rendered scikit-learn.org. See: https://github.com/scikit-learn/scikit-learn/issues/21755 */display: inline-block !important;position: relative;}#sk-container-id-10 div.sk-text-repr-fallback {display: none;}</style><div id=\"sk-container-id-10\" class=\"sk-top-container\"><div class=\"sk-text-repr-fallback\"><pre>LogisticRegression(C=0.1, max_iter=1000, penalty=&#x27;l1&#x27;, solver=&#x27;saga&#x27;)</pre><b>In a Jupyter environment, please rerun this cell to show the HTML representation or trust the notebook. <br />On GitHub, the HTML representation is unable to render, please try loading this page with nbviewer.org.</b></div><div class=\"sk-container\" hidden><div class=\"sk-item\"><div class=\"sk-estimator sk-toggleable\"><input class=\"sk-toggleable__control sk-hidden--visually\" id=\"sk-estimator-id-10\" type=\"checkbox\" checked><label for=\"sk-estimator-id-10\" class=\"sk-toggleable__label sk-toggleable__label-arrow\">LogisticRegression</label><div class=\"sk-toggleable__content\"><pre>LogisticRegression(C=0.1, max_iter=1000, penalty=&#x27;l1&#x27;, solver=&#x27;saga&#x27;)</pre></div></div></div></div></div>"
            ]
          },
          "metadata": {},
          "execution_count": 263
        }
      ],
      "source": [
        "logreg_model.fit(X_train, y_train)"
      ]
    },
    {
      "cell_type": "code",
      "execution_count": null,
      "metadata": {
        "id": "M8_3JnV8L3DM",
        "colab": {
          "base_uri": "https://localhost:8080/"
        },
        "outputId": "e79bcf98-29e1-4d9a-de13-ac6ce7c73b83"
      },
      "outputs": [
        {
          "output_type": "execute_result",
          "data": {
            "text/plain": [
              "array([[0.        , 0.        , 0.        , 0.        , 0.        ,\n",
              "        0.95271041]])"
            ]
          },
          "metadata": {},
          "execution_count": 264
        }
      ],
      "source": [
        "logreg_model.coef_"
      ]
    },
    {
      "cell_type": "code",
      "execution_count": null,
      "metadata": {
        "id": "H4o_1thlhIlw",
        "colab": {
          "base_uri": "https://localhost:8080/",
          "height": 545
        },
        "outputId": "26129f7f-0926-43db-eb1b-ea190a6878fc"
      },
      "outputs": [
        {
          "output_type": "stream",
          "name": "stdout",
          "text": [
            "Training Precision: 0.79\n",
            "Training Recall: 0.52\n",
            "Test Precision: 0.80\n",
            "Test Recall: 0.54\n",
            "ROC-AUC_test = : 0.79 и ROC-AUC_train = : 0.79\n"
          ]
        },
        {
          "output_type": "display_data",
          "data": {
            "text/plain": [
              "<Figure size 640x480 with 1 Axes>"
            ],
            "image/svg+xml": "<?xml version=\"1.0\" encoding=\"utf-8\" standalone=\"no\"?>\n<!DOCTYPE svg PUBLIC \"-//W3C//DTD SVG 1.1//EN\"\n  \"http://www.w3.org/Graphics/SVG/1.1/DTD/svg11.dtd\">\n<svg xmlns:xlink=\"http://www.w3.org/1999/xlink\" width=\"408.10125pt\" height=\"325.986375pt\" viewBox=\"0 0 408.10125 325.986375\" xmlns=\"http://www.w3.org/2000/svg\" version=\"1.1\">\n <metadata>\n  <rdf:RDF xmlns:dc=\"http://purl.org/dc/elements/1.1/\" xmlns:cc=\"http://creativecommons.org/ns#\" xmlns:rdf=\"http://www.w3.org/1999/02/22-rdf-syntax-ns#\">\n   <cc:Work>\n    <dc:type rdf:resource=\"http://purl.org/dc/dcmitype/StillImage\"/>\n    <dc:date>2023-07-26T15:40:20.086934</dc:date>\n    <dc:format>image/svg+xml</dc:format>\n    <dc:creator>\n     <cc:Agent>\n      <dc:title>Matplotlib v3.7.1, https://matplotlib.org/</dc:title>\n     </cc:Agent>\n    </dc:creator>\n   </cc:Work>\n  </rdf:RDF>\n </metadata>\n <defs>\n  <style type=\"text/css\">*{stroke-linejoin: round; stroke-linecap: butt}</style>\n </defs>\n <g id=\"figure_1\">\n  <g id=\"patch_1\">\n   <path d=\"M 0 325.986375 \nL 408.10125 325.986375 \nL 408.10125 0 \nL 0 0 \nz\n\" style=\"fill: #ffffff\"/>\n  </g>\n  <g id=\"axes_1\">\n   <g id=\"patch_2\">\n    <path d=\"M 43.78125 288.430125 \nL 400.90125 288.430125 \nL 400.90125 22.318125 \nL 43.78125 22.318125 \nz\n\" style=\"fill: #ffffff\"/>\n   </g>\n   <g id=\"matplotlib.axis_1\">\n    <g id=\"xtick_1\">\n     <g id=\"line2d_1\">\n      <defs>\n       <path id=\"m31edfb3831\" d=\"M 0 0 \nL 0 3.5 \n\" style=\"stroke: #000000; stroke-width: 0.8\"/>\n      </defs>\n      <g>\n       <use xlink:href=\"#m31edfb3831\" x=\"60.013977\" y=\"288.430125\" style=\"stroke: #000000; stroke-width: 0.8\"/>\n      </g>\n     </g>\n     <g id=\"text_1\">\n      <!-- 0.0 -->\n      <g transform=\"translate(52.062415 303.028562) scale(0.1 -0.1)\">\n       <defs>\n        <path id=\"DejaVuSans-30\" d=\"M 2034 4250 \nQ 1547 4250 1301 3770 \nQ 1056 3291 1056 2328 \nQ 1056 1369 1301 889 \nQ 1547 409 2034 409 \nQ 2525 409 2770 889 \nQ 3016 1369 3016 2328 \nQ 3016 3291 2770 3770 \nQ 2525 4250 2034 4250 \nz\nM 2034 4750 \nQ 2819 4750 3233 4129 \nQ 3647 3509 3647 2328 \nQ 3647 1150 3233 529 \nQ 2819 -91 2034 -91 \nQ 1250 -91 836 529 \nQ 422 1150 422 2328 \nQ 422 3509 836 4129 \nQ 1250 4750 2034 4750 \nz\n\" transform=\"scale(0.015625)\"/>\n        <path id=\"DejaVuSans-2e\" d=\"M 684 794 \nL 1344 794 \nL 1344 0 \nL 684 0 \nL 684 794 \nz\n\" transform=\"scale(0.015625)\"/>\n       </defs>\n       <use xlink:href=\"#DejaVuSans-30\"/>\n       <use xlink:href=\"#DejaVuSans-2e\" x=\"63.623047\"/>\n       <use xlink:href=\"#DejaVuSans-30\" x=\"95.410156\"/>\n      </g>\n     </g>\n    </g>\n    <g id=\"xtick_2\">\n     <g id=\"line2d_2\">\n      <g>\n       <use xlink:href=\"#m31edfb3831\" x=\"124.944886\" y=\"288.430125\" style=\"stroke: #000000; stroke-width: 0.8\"/>\n      </g>\n     </g>\n     <g id=\"text_2\">\n      <!-- 0.2 -->\n      <g transform=\"translate(116.993324 303.028562) scale(0.1 -0.1)\">\n       <defs>\n        <path id=\"DejaVuSans-32\" d=\"M 1228 531 \nL 3431 531 \nL 3431 0 \nL 469 0 \nL 469 531 \nQ 828 903 1448 1529 \nQ 2069 2156 2228 2338 \nQ 2531 2678 2651 2914 \nQ 2772 3150 2772 3378 \nQ 2772 3750 2511 3984 \nQ 2250 4219 1831 4219 \nQ 1534 4219 1204 4116 \nQ 875 4013 500 3803 \nL 500 4441 \nQ 881 4594 1212 4672 \nQ 1544 4750 1819 4750 \nQ 2544 4750 2975 4387 \nQ 3406 4025 3406 3419 \nQ 3406 3131 3298 2873 \nQ 3191 2616 2906 2266 \nQ 2828 2175 2409 1742 \nQ 1991 1309 1228 531 \nz\n\" transform=\"scale(0.015625)\"/>\n       </defs>\n       <use xlink:href=\"#DejaVuSans-30\"/>\n       <use xlink:href=\"#DejaVuSans-2e\" x=\"63.623047\"/>\n       <use xlink:href=\"#DejaVuSans-32\" x=\"95.410156\"/>\n      </g>\n     </g>\n    </g>\n    <g id=\"xtick_3\">\n     <g id=\"line2d_3\">\n      <g>\n       <use xlink:href=\"#m31edfb3831\" x=\"189.875795\" y=\"288.430125\" style=\"stroke: #000000; stroke-width: 0.8\"/>\n      </g>\n     </g>\n     <g id=\"text_3\">\n      <!-- 0.4 -->\n      <g transform=\"translate(181.924233 303.028562) scale(0.1 -0.1)\">\n       <defs>\n        <path id=\"DejaVuSans-34\" d=\"M 2419 4116 \nL 825 1625 \nL 2419 1625 \nL 2419 4116 \nz\nM 2253 4666 \nL 3047 4666 \nL 3047 1625 \nL 3713 1625 \nL 3713 1100 \nL 3047 1100 \nL 3047 0 \nL 2419 0 \nL 2419 1100 \nL 313 1100 \nL 313 1709 \nL 2253 4666 \nz\n\" transform=\"scale(0.015625)\"/>\n       </defs>\n       <use xlink:href=\"#DejaVuSans-30\"/>\n       <use xlink:href=\"#DejaVuSans-2e\" x=\"63.623047\"/>\n       <use xlink:href=\"#DejaVuSans-34\" x=\"95.410156\"/>\n      </g>\n     </g>\n    </g>\n    <g id=\"xtick_4\">\n     <g id=\"line2d_4\">\n      <g>\n       <use xlink:href=\"#m31edfb3831\" x=\"254.806705\" y=\"288.430125\" style=\"stroke: #000000; stroke-width: 0.8\"/>\n      </g>\n     </g>\n     <g id=\"text_4\">\n      <!-- 0.6 -->\n      <g transform=\"translate(246.855142 303.028562) scale(0.1 -0.1)\">\n       <defs>\n        <path id=\"DejaVuSans-36\" d=\"M 2113 2584 \nQ 1688 2584 1439 2293 \nQ 1191 2003 1191 1497 \nQ 1191 994 1439 701 \nQ 1688 409 2113 409 \nQ 2538 409 2786 701 \nQ 3034 994 3034 1497 \nQ 3034 2003 2786 2293 \nQ 2538 2584 2113 2584 \nz\nM 3366 4563 \nL 3366 3988 \nQ 3128 4100 2886 4159 \nQ 2644 4219 2406 4219 \nQ 1781 4219 1451 3797 \nQ 1122 3375 1075 2522 \nQ 1259 2794 1537 2939 \nQ 1816 3084 2150 3084 \nQ 2853 3084 3261 2657 \nQ 3669 2231 3669 1497 \nQ 3669 778 3244 343 \nQ 2819 -91 2113 -91 \nQ 1303 -91 875 529 \nQ 447 1150 447 2328 \nQ 447 3434 972 4092 \nQ 1497 4750 2381 4750 \nQ 2619 4750 2861 4703 \nQ 3103 4656 3366 4563 \nz\n\" transform=\"scale(0.015625)\"/>\n       </defs>\n       <use xlink:href=\"#DejaVuSans-30\"/>\n       <use xlink:href=\"#DejaVuSans-2e\" x=\"63.623047\"/>\n       <use xlink:href=\"#DejaVuSans-36\" x=\"95.410156\"/>\n      </g>\n     </g>\n    </g>\n    <g id=\"xtick_5\">\n     <g id=\"line2d_5\">\n      <g>\n       <use xlink:href=\"#m31edfb3831\" x=\"319.737614\" y=\"288.430125\" style=\"stroke: #000000; stroke-width: 0.8\"/>\n      </g>\n     </g>\n     <g id=\"text_5\">\n      <!-- 0.8 -->\n      <g transform=\"translate(311.786051 303.028562) scale(0.1 -0.1)\">\n       <defs>\n        <path id=\"DejaVuSans-38\" d=\"M 2034 2216 \nQ 1584 2216 1326 1975 \nQ 1069 1734 1069 1313 \nQ 1069 891 1326 650 \nQ 1584 409 2034 409 \nQ 2484 409 2743 651 \nQ 3003 894 3003 1313 \nQ 3003 1734 2745 1975 \nQ 2488 2216 2034 2216 \nz\nM 1403 2484 \nQ 997 2584 770 2862 \nQ 544 3141 544 3541 \nQ 544 4100 942 4425 \nQ 1341 4750 2034 4750 \nQ 2731 4750 3128 4425 \nQ 3525 4100 3525 3541 \nQ 3525 3141 3298 2862 \nQ 3072 2584 2669 2484 \nQ 3125 2378 3379 2068 \nQ 3634 1759 3634 1313 \nQ 3634 634 3220 271 \nQ 2806 -91 2034 -91 \nQ 1263 -91 848 271 \nQ 434 634 434 1313 \nQ 434 1759 690 2068 \nQ 947 2378 1403 2484 \nz\nM 1172 3481 \nQ 1172 3119 1398 2916 \nQ 1625 2713 2034 2713 \nQ 2441 2713 2670 2916 \nQ 2900 3119 2900 3481 \nQ 2900 3844 2670 4047 \nQ 2441 4250 2034 4250 \nQ 1625 4250 1398 4047 \nQ 1172 3844 1172 3481 \nz\n\" transform=\"scale(0.015625)\"/>\n       </defs>\n       <use xlink:href=\"#DejaVuSans-30\"/>\n       <use xlink:href=\"#DejaVuSans-2e\" x=\"63.623047\"/>\n       <use xlink:href=\"#DejaVuSans-38\" x=\"95.410156\"/>\n      </g>\n     </g>\n    </g>\n    <g id=\"xtick_6\">\n     <g id=\"line2d_6\">\n      <g>\n       <use xlink:href=\"#m31edfb3831\" x=\"384.668523\" y=\"288.430125\" style=\"stroke: #000000; stroke-width: 0.8\"/>\n      </g>\n     </g>\n     <g id=\"text_6\">\n      <!-- 1.0 -->\n      <g transform=\"translate(376.71696 303.028562) scale(0.1 -0.1)\">\n       <defs>\n        <path id=\"DejaVuSans-31\" d=\"M 794 531 \nL 1825 531 \nL 1825 4091 \nL 703 3866 \nL 703 4441 \nL 1819 4666 \nL 2450 4666 \nL 2450 531 \nL 3481 531 \nL 3481 0 \nL 794 0 \nL 794 531 \nz\n\" transform=\"scale(0.015625)\"/>\n       </defs>\n       <use xlink:href=\"#DejaVuSans-31\"/>\n       <use xlink:href=\"#DejaVuSans-2e\" x=\"63.623047\"/>\n       <use xlink:href=\"#DejaVuSans-30\" x=\"95.410156\"/>\n      </g>\n     </g>\n    </g>\n    <g id=\"text_7\">\n     <!-- False Positive Rate -->\n     <g transform=\"translate(175.874844 316.706687) scale(0.1 -0.1)\">\n      <defs>\n       <path id=\"DejaVuSans-46\" d=\"M 628 4666 \nL 3309 4666 \nL 3309 4134 \nL 1259 4134 \nL 1259 2759 \nL 3109 2759 \nL 3109 2228 \nL 1259 2228 \nL 1259 0 \nL 628 0 \nL 628 4666 \nz\n\" transform=\"scale(0.015625)\"/>\n       <path id=\"DejaVuSans-61\" d=\"M 2194 1759 \nQ 1497 1759 1228 1600 \nQ 959 1441 959 1056 \nQ 959 750 1161 570 \nQ 1363 391 1709 391 \nQ 2188 391 2477 730 \nQ 2766 1069 2766 1631 \nL 2766 1759 \nL 2194 1759 \nz\nM 3341 1997 \nL 3341 0 \nL 2766 0 \nL 2766 531 \nQ 2569 213 2275 61 \nQ 1981 -91 1556 -91 \nQ 1019 -91 701 211 \nQ 384 513 384 1019 \nQ 384 1609 779 1909 \nQ 1175 2209 1959 2209 \nL 2766 2209 \nL 2766 2266 \nQ 2766 2663 2505 2880 \nQ 2244 3097 1772 3097 \nQ 1472 3097 1187 3025 \nQ 903 2953 641 2809 \nL 641 3341 \nQ 956 3463 1253 3523 \nQ 1550 3584 1831 3584 \nQ 2591 3584 2966 3190 \nQ 3341 2797 3341 1997 \nz\n\" transform=\"scale(0.015625)\"/>\n       <path id=\"DejaVuSans-6c\" d=\"M 603 4863 \nL 1178 4863 \nL 1178 0 \nL 603 0 \nL 603 4863 \nz\n\" transform=\"scale(0.015625)\"/>\n       <path id=\"DejaVuSans-73\" d=\"M 2834 3397 \nL 2834 2853 \nQ 2591 2978 2328 3040 \nQ 2066 3103 1784 3103 \nQ 1356 3103 1142 2972 \nQ 928 2841 928 2578 \nQ 928 2378 1081 2264 \nQ 1234 2150 1697 2047 \nL 1894 2003 \nQ 2506 1872 2764 1633 \nQ 3022 1394 3022 966 \nQ 3022 478 2636 193 \nQ 2250 -91 1575 -91 \nQ 1294 -91 989 -36 \nQ 684 19 347 128 \nL 347 722 \nQ 666 556 975 473 \nQ 1284 391 1588 391 \nQ 1994 391 2212 530 \nQ 2431 669 2431 922 \nQ 2431 1156 2273 1281 \nQ 2116 1406 1581 1522 \nL 1381 1569 \nQ 847 1681 609 1914 \nQ 372 2147 372 2553 \nQ 372 3047 722 3315 \nQ 1072 3584 1716 3584 \nQ 2034 3584 2315 3537 \nQ 2597 3491 2834 3397 \nz\n\" transform=\"scale(0.015625)\"/>\n       <path id=\"DejaVuSans-65\" d=\"M 3597 1894 \nL 3597 1613 \nL 953 1613 \nQ 991 1019 1311 708 \nQ 1631 397 2203 397 \nQ 2534 397 2845 478 \nQ 3156 559 3463 722 \nL 3463 178 \nQ 3153 47 2828 -22 \nQ 2503 -91 2169 -91 \nQ 1331 -91 842 396 \nQ 353 884 353 1716 \nQ 353 2575 817 3079 \nQ 1281 3584 2069 3584 \nQ 2775 3584 3186 3129 \nQ 3597 2675 3597 1894 \nz\nM 3022 2063 \nQ 3016 2534 2758 2815 \nQ 2500 3097 2075 3097 \nQ 1594 3097 1305 2825 \nQ 1016 2553 972 2059 \nL 3022 2063 \nz\n\" transform=\"scale(0.015625)\"/>\n       <path id=\"DejaVuSans-20\" transform=\"scale(0.015625)\"/>\n       <path id=\"DejaVuSans-50\" d=\"M 1259 4147 \nL 1259 2394 \nL 2053 2394 \nQ 2494 2394 2734 2622 \nQ 2975 2850 2975 3272 \nQ 2975 3691 2734 3919 \nQ 2494 4147 2053 4147 \nL 1259 4147 \nz\nM 628 4666 \nL 2053 4666 \nQ 2838 4666 3239 4311 \nQ 3641 3956 3641 3272 \nQ 3641 2581 3239 2228 \nQ 2838 1875 2053 1875 \nL 1259 1875 \nL 1259 0 \nL 628 0 \nL 628 4666 \nz\n\" transform=\"scale(0.015625)\"/>\n       <path id=\"DejaVuSans-6f\" d=\"M 1959 3097 \nQ 1497 3097 1228 2736 \nQ 959 2375 959 1747 \nQ 959 1119 1226 758 \nQ 1494 397 1959 397 \nQ 2419 397 2687 759 \nQ 2956 1122 2956 1747 \nQ 2956 2369 2687 2733 \nQ 2419 3097 1959 3097 \nz\nM 1959 3584 \nQ 2709 3584 3137 3096 \nQ 3566 2609 3566 1747 \nQ 3566 888 3137 398 \nQ 2709 -91 1959 -91 \nQ 1206 -91 779 398 \nQ 353 888 353 1747 \nQ 353 2609 779 3096 \nQ 1206 3584 1959 3584 \nz\n\" transform=\"scale(0.015625)\"/>\n       <path id=\"DejaVuSans-69\" d=\"M 603 3500 \nL 1178 3500 \nL 1178 0 \nL 603 0 \nL 603 3500 \nz\nM 603 4863 \nL 1178 4863 \nL 1178 4134 \nL 603 4134 \nL 603 4863 \nz\n\" transform=\"scale(0.015625)\"/>\n       <path id=\"DejaVuSans-74\" d=\"M 1172 4494 \nL 1172 3500 \nL 2356 3500 \nL 2356 3053 \nL 1172 3053 \nL 1172 1153 \nQ 1172 725 1289 603 \nQ 1406 481 1766 481 \nL 2356 481 \nL 2356 0 \nL 1766 0 \nQ 1100 0 847 248 \nQ 594 497 594 1153 \nL 594 3053 \nL 172 3053 \nL 172 3500 \nL 594 3500 \nL 594 4494 \nL 1172 4494 \nz\n\" transform=\"scale(0.015625)\"/>\n       <path id=\"DejaVuSans-76\" d=\"M 191 3500 \nL 800 3500 \nL 1894 563 \nL 2988 3500 \nL 3597 3500 \nL 2284 0 \nL 1503 0 \nL 191 3500 \nz\n\" transform=\"scale(0.015625)\"/>\n       <path id=\"DejaVuSans-52\" d=\"M 2841 2188 \nQ 3044 2119 3236 1894 \nQ 3428 1669 3622 1275 \nL 4263 0 \nL 3584 0 \nL 2988 1197 \nQ 2756 1666 2539 1819 \nQ 2322 1972 1947 1972 \nL 1259 1972 \nL 1259 0 \nL 628 0 \nL 628 4666 \nL 2053 4666 \nQ 2853 4666 3247 4331 \nQ 3641 3997 3641 3322 \nQ 3641 2881 3436 2590 \nQ 3231 2300 2841 2188 \nz\nM 1259 4147 \nL 1259 2491 \nL 2053 2491 \nQ 2509 2491 2742 2702 \nQ 2975 2913 2975 3322 \nQ 2975 3731 2742 3939 \nQ 2509 4147 2053 4147 \nL 1259 4147 \nz\n\" transform=\"scale(0.015625)\"/>\n      </defs>\n      <use xlink:href=\"#DejaVuSans-46\"/>\n      <use xlink:href=\"#DejaVuSans-61\" x=\"48.394531\"/>\n      <use xlink:href=\"#DejaVuSans-6c\" x=\"109.673828\"/>\n      <use xlink:href=\"#DejaVuSans-73\" x=\"137.457031\"/>\n      <use xlink:href=\"#DejaVuSans-65\" x=\"189.556641\"/>\n      <use xlink:href=\"#DejaVuSans-20\" x=\"251.080078\"/>\n      <use xlink:href=\"#DejaVuSans-50\" x=\"282.867188\"/>\n      <use xlink:href=\"#DejaVuSans-6f\" x=\"339.544922\"/>\n      <use xlink:href=\"#DejaVuSans-73\" x=\"400.726562\"/>\n      <use xlink:href=\"#DejaVuSans-69\" x=\"452.826172\"/>\n      <use xlink:href=\"#DejaVuSans-74\" x=\"480.609375\"/>\n      <use xlink:href=\"#DejaVuSans-69\" x=\"519.818359\"/>\n      <use xlink:href=\"#DejaVuSans-76\" x=\"547.601562\"/>\n      <use xlink:href=\"#DejaVuSans-65\" x=\"606.78125\"/>\n      <use xlink:href=\"#DejaVuSans-20\" x=\"668.304688\"/>\n      <use xlink:href=\"#DejaVuSans-52\" x=\"700.091797\"/>\n      <use xlink:href=\"#DejaVuSans-61\" x=\"767.324219\"/>\n      <use xlink:href=\"#DejaVuSans-74\" x=\"828.603516\"/>\n      <use xlink:href=\"#DejaVuSans-65\" x=\"867.8125\"/>\n     </g>\n    </g>\n   </g>\n   <g id=\"matplotlib.axis_2\">\n    <g id=\"ytick_1\">\n     <g id=\"line2d_7\">\n      <defs>\n       <path id=\"m790b2035ff\" d=\"M 0 0 \nL -3.5 0 \n\" style=\"stroke: #000000; stroke-width: 0.8\"/>\n      </defs>\n      <g>\n       <use xlink:href=\"#m790b2035ff\" x=\"43.78125\" y=\"276.334125\" style=\"stroke: #000000; stroke-width: 0.8\"/>\n      </g>\n     </g>\n     <g id=\"text_8\">\n      <!-- 0.0 -->\n      <g transform=\"translate(20.878125 280.133344) scale(0.1 -0.1)\">\n       <use xlink:href=\"#DejaVuSans-30\"/>\n       <use xlink:href=\"#DejaVuSans-2e\" x=\"63.623047\"/>\n       <use xlink:href=\"#DejaVuSans-30\" x=\"95.410156\"/>\n      </g>\n     </g>\n    </g>\n    <g id=\"ytick_2\">\n     <g id=\"line2d_8\">\n      <g>\n       <use xlink:href=\"#m790b2035ff\" x=\"43.78125\" y=\"227.950125\" style=\"stroke: #000000; stroke-width: 0.8\"/>\n      </g>\n     </g>\n     <g id=\"text_9\">\n      <!-- 0.2 -->\n      <g transform=\"translate(20.878125 231.749344) scale(0.1 -0.1)\">\n       <use xlink:href=\"#DejaVuSans-30\"/>\n       <use xlink:href=\"#DejaVuSans-2e\" x=\"63.623047\"/>\n       <use xlink:href=\"#DejaVuSans-32\" x=\"95.410156\"/>\n      </g>\n     </g>\n    </g>\n    <g id=\"ytick_3\">\n     <g id=\"line2d_9\">\n      <g>\n       <use xlink:href=\"#m790b2035ff\" x=\"43.78125\" y=\"179.566125\" style=\"stroke: #000000; stroke-width: 0.8\"/>\n      </g>\n     </g>\n     <g id=\"text_10\">\n      <!-- 0.4 -->\n      <g transform=\"translate(20.878125 183.365344) scale(0.1 -0.1)\">\n       <use xlink:href=\"#DejaVuSans-30\"/>\n       <use xlink:href=\"#DejaVuSans-2e\" x=\"63.623047\"/>\n       <use xlink:href=\"#DejaVuSans-34\" x=\"95.410156\"/>\n      </g>\n     </g>\n    </g>\n    <g id=\"ytick_4\">\n     <g id=\"line2d_10\">\n      <g>\n       <use xlink:href=\"#m790b2035ff\" x=\"43.78125\" y=\"131.182125\" style=\"stroke: #000000; stroke-width: 0.8\"/>\n      </g>\n     </g>\n     <g id=\"text_11\">\n      <!-- 0.6 -->\n      <g transform=\"translate(20.878125 134.981344) scale(0.1 -0.1)\">\n       <use xlink:href=\"#DejaVuSans-30\"/>\n       <use xlink:href=\"#DejaVuSans-2e\" x=\"63.623047\"/>\n       <use xlink:href=\"#DejaVuSans-36\" x=\"95.410156\"/>\n      </g>\n     </g>\n    </g>\n    <g id=\"ytick_5\">\n     <g id=\"line2d_11\">\n      <g>\n       <use xlink:href=\"#m790b2035ff\" x=\"43.78125\" y=\"82.798125\" style=\"stroke: #000000; stroke-width: 0.8\"/>\n      </g>\n     </g>\n     <g id=\"text_12\">\n      <!-- 0.8 -->\n      <g transform=\"translate(20.878125 86.597344) scale(0.1 -0.1)\">\n       <use xlink:href=\"#DejaVuSans-30\"/>\n       <use xlink:href=\"#DejaVuSans-2e\" x=\"63.623047\"/>\n       <use xlink:href=\"#DejaVuSans-38\" x=\"95.410156\"/>\n      </g>\n     </g>\n    </g>\n    <g id=\"ytick_6\">\n     <g id=\"line2d_12\">\n      <g>\n       <use xlink:href=\"#m790b2035ff\" x=\"43.78125\" y=\"34.414125\" style=\"stroke: #000000; stroke-width: 0.8\"/>\n      </g>\n     </g>\n     <g id=\"text_13\">\n      <!-- 1.0 -->\n      <g transform=\"translate(20.878125 38.213344) scale(0.1 -0.1)\">\n       <use xlink:href=\"#DejaVuSans-31\"/>\n       <use xlink:href=\"#DejaVuSans-2e\" x=\"63.623047\"/>\n       <use xlink:href=\"#DejaVuSans-30\" x=\"95.410156\"/>\n      </g>\n     </g>\n    </g>\n    <g id=\"text_14\">\n     <!-- True Positive Rate -->\n     <g transform=\"translate(14.798438 199.903812) rotate(-90) scale(0.1 -0.1)\">\n      <defs>\n       <path id=\"DejaVuSans-54\" d=\"M -19 4666 \nL 3928 4666 \nL 3928 4134 \nL 2272 4134 \nL 2272 0 \nL 1638 0 \nL 1638 4134 \nL -19 4134 \nL -19 4666 \nz\n\" transform=\"scale(0.015625)\"/>\n       <path id=\"DejaVuSans-72\" d=\"M 2631 2963 \nQ 2534 3019 2420 3045 \nQ 2306 3072 2169 3072 \nQ 1681 3072 1420 2755 \nQ 1159 2438 1159 1844 \nL 1159 0 \nL 581 0 \nL 581 3500 \nL 1159 3500 \nL 1159 2956 \nQ 1341 3275 1631 3429 \nQ 1922 3584 2338 3584 \nQ 2397 3584 2469 3576 \nQ 2541 3569 2628 3553 \nL 2631 2963 \nz\n\" transform=\"scale(0.015625)\"/>\n       <path id=\"DejaVuSans-75\" d=\"M 544 1381 \nL 544 3500 \nL 1119 3500 \nL 1119 1403 \nQ 1119 906 1312 657 \nQ 1506 409 1894 409 \nQ 2359 409 2629 706 \nQ 2900 1003 2900 1516 \nL 2900 3500 \nL 3475 3500 \nL 3475 0 \nL 2900 0 \nL 2900 538 \nQ 2691 219 2414 64 \nQ 2138 -91 1772 -91 \nQ 1169 -91 856 284 \nQ 544 659 544 1381 \nz\nM 1991 3584 \nL 1991 3584 \nz\n\" transform=\"scale(0.015625)\"/>\n      </defs>\n      <use xlink:href=\"#DejaVuSans-54\"/>\n      <use xlink:href=\"#DejaVuSans-72\" x=\"46.333984\"/>\n      <use xlink:href=\"#DejaVuSans-75\" x=\"87.447266\"/>\n      <use xlink:href=\"#DejaVuSans-65\" x=\"150.826172\"/>\n      <use xlink:href=\"#DejaVuSans-20\" x=\"212.349609\"/>\n      <use xlink:href=\"#DejaVuSans-50\" x=\"244.136719\"/>\n      <use xlink:href=\"#DejaVuSans-6f\" x=\"300.814453\"/>\n      <use xlink:href=\"#DejaVuSans-73\" x=\"361.996094\"/>\n      <use xlink:href=\"#DejaVuSans-69\" x=\"414.095703\"/>\n      <use xlink:href=\"#DejaVuSans-74\" x=\"441.878906\"/>\n      <use xlink:href=\"#DejaVuSans-69\" x=\"481.087891\"/>\n      <use xlink:href=\"#DejaVuSans-76\" x=\"508.871094\"/>\n      <use xlink:href=\"#DejaVuSans-65\" x=\"568.050781\"/>\n      <use xlink:href=\"#DejaVuSans-20\" x=\"629.574219\"/>\n      <use xlink:href=\"#DejaVuSans-52\" x=\"661.361328\"/>\n      <use xlink:href=\"#DejaVuSans-61\" x=\"728.59375\"/>\n      <use xlink:href=\"#DejaVuSans-74\" x=\"789.873047\"/>\n      <use xlink:href=\"#DejaVuSans-65\" x=\"829.082031\"/>\n     </g>\n    </g>\n   </g>\n   <g id=\"line2d_13\">\n    <path d=\"M 60.013977 276.334125 \nL 63.542831 276.334125 \nL 67.071685 269.795747 \nL 74.129392 269.795747 \nL 74.129392 259.988179 \nL 77.658246 259.988179 \nL 77.658246 243.642233 \nL 77.658246 240.373044 \nL 81.1871 214.21953 \nL 81.1871 207.681152 \nL 84.715954 207.681152 \nL 84.715954 201.142774 \nL 91.773661 194.604395 \nL 91.773661 191.335206 \nL 91.773661 181.527639 \nL 91.773661 165.181693 \nL 91.773661 155.374125 \nL 95.302515 155.374125 \nL 95.302515 145.566557 \nL 98.831369 139.028179 \nL 98.831369 135.75899 \nL 116.475637 119.413044 \nL 123.533345 119.413044 \nL 127.062199 109.605476 \nL 137.64876 106.336287 \nL 137.64876 99.797909 \nL 141.177614 96.52872 \nL 141.177614 93.25953 \nL 144.706467 93.25953 \nL 144.706467 89.990341 \nL 148.235321 86.721152 \nL 158.821882 86.721152 \nL 169.408444 73.644395 \nL 172.937297 70.375206 \nL 179.995005 70.375206 \nL 187.052712 67.106017 \nL 194.11042 57.298449 \nL 211.754689 57.298449 \nL 229.398958 57.298449 \nL 236.456665 57.298449 \nL 239.985519 57.298449 \nL 247.043226 57.298449 \nL 257.629788 57.298449 \nL 261.158641 57.298449 \nL 278.80291 50.760071 \nL 285.860618 50.760071 \nL 292.918325 50.760071 \nL 296.447179 47.490882 \nL 317.620301 47.490882 \nL 331.735716 47.490882 \nL 342.322278 47.490882 \nL 345.851131 47.490882 \nL 356.437693 47.490882 \nL 359.966546 44.221693 \nL 367.024254 44.221693 \nL 377.610815 40.952503 \nL 381.139669 40.952503 \nL 384.668523 34.414125 \n\" clip-path=\"url(#p2f4c57d8bf)\" style=\"fill: none; stroke: #0000ff; stroke-width: 2; stroke-linecap: square\"/>\n   </g>\n   <g id=\"line2d_14\">\n    <path d=\"M 60.013977 276.334125 \nL 60.013977 267.537034 \nL 60.013977 263.138489 \nL 67.071685 254.341398 \nL 67.071685 241.145761 \nL 67.071685 238.946489 \nL 69.424254 230.149398 \nL 69.424254 227.950125 \nL 71.776823 227.950125 \nL 71.776823 225.750852 \nL 74.129392 221.352307 \nL 74.129392 208.15667 \nL 78.834531 205.957398 \nL 78.834531 199.35958 \nL 78.834531 190.562489 \nL 78.834531 175.16758 \nL 83.539669 168.569761 \nL 83.539669 166.370489 \nL 88.244807 166.370489 \nL 88.244807 161.971943 \nL 88.244807 153.174852 \nL 95.302515 150.97558 \nL 97.655084 148.776307 \nL 102.360222 144.377761 \nL 116.475637 128.982852 \nL 116.475637 124.584307 \nL 116.475637 111.38867 \nL 130.591052 109.189398 \nL 132.943622 106.990125 \nL 135.296191 102.59158 \nL 140.001329 95.993761 \nL 158.821882 93.794489 \nL 158.821882 91.595216 \nL 163.527021 82.798125 \nL 175.289867 82.798125 \nL 177.642436 80.598852 \nL 184.700143 76.200307 \nL 187.052712 74.001034 \nL 187.052712 71.801761 \nL 196.462989 69.602489 \nL 198.815558 69.602489 \nL 205.873266 69.602489 \nL 217.636112 65.203943 \nL 227.046388 63.00467 \nL 238.809234 60.805398 \nL 238.809234 58.606125 \nL 243.514373 58.606125 \nL 248.219511 56.406852 \nL 262.334926 56.406852 \nL 267.040064 56.406852 \nL 274.097772 54.20758 \nL 278.80291 52.008307 \nL 283.508048 52.008307 \nL 304.681171 52.008307 \nL 311.738878 52.008307 \nL 316.444017 52.008307 \nL 339.969708 49.809034 \nL 347.027416 49.809034 \nL 349.379985 49.809034 \nL 356.437693 47.609761 \nL 358.790262 47.609761 \nL 368.200539 45.410489 \nL 372.905677 43.211216 \nL 375.258246 43.211216 \nL 379.963384 38.81267 \nL 379.963384 36.613398 \nL 382.315954 36.613398 \nL 384.668523 34.414125 \n\" clip-path=\"url(#p2f4c57d8bf)\" style=\"fill: none; stroke: #ff8c00; stroke-width: 2; stroke-linecap: square\"/>\n   </g>\n   <g id=\"line2d_15\">\n    <path d=\"M 60.013977 276.334125 \nL 384.668523 34.414125 \n\" clip-path=\"url(#p2f4c57d8bf)\" style=\"fill: none; stroke-dasharray: 7.4,3.2; stroke-dashoffset: 0; stroke: #000080; stroke-width: 2\"/>\n   </g>\n   <g id=\"patch_3\">\n    <path d=\"M 43.78125 288.430125 \nL 43.78125 22.318125 \n\" style=\"fill: none; stroke: #000000; stroke-width: 0.8; stroke-linejoin: miter; stroke-linecap: square\"/>\n   </g>\n   <g id=\"patch_4\">\n    <path d=\"M 400.90125 288.430125 \nL 400.90125 22.318125 \n\" style=\"fill: none; stroke: #000000; stroke-width: 0.8; stroke-linejoin: miter; stroke-linecap: square\"/>\n   </g>\n   <g id=\"patch_5\">\n    <path d=\"M 43.78125 288.430125 \nL 400.90125 288.430125 \n\" style=\"fill: none; stroke: #000000; stroke-width: 0.8; stroke-linejoin: miter; stroke-linecap: square\"/>\n   </g>\n   <g id=\"patch_6\">\n    <path d=\"M 43.78125 22.318125 \nL 400.90125 22.318125 \n\" style=\"fill: none; stroke: #000000; stroke-width: 0.8; stroke-linejoin: miter; stroke-linecap: square\"/>\n   </g>\n   <g id=\"text_15\">\n    <!-- ROC Curve (LogisticRegression) -->\n    <g transform=\"translate(127.4175 16.318125) scale(0.12 -0.12)\">\n     <defs>\n      <path id=\"DejaVuSans-4f\" d=\"M 2522 4238 \nQ 1834 4238 1429 3725 \nQ 1025 3213 1025 2328 \nQ 1025 1447 1429 934 \nQ 1834 422 2522 422 \nQ 3209 422 3611 934 \nQ 4013 1447 4013 2328 \nQ 4013 3213 3611 3725 \nQ 3209 4238 2522 4238 \nz\nM 2522 4750 \nQ 3503 4750 4090 4092 \nQ 4678 3434 4678 2328 \nQ 4678 1225 4090 567 \nQ 3503 -91 2522 -91 \nQ 1538 -91 948 565 \nQ 359 1222 359 2328 \nQ 359 3434 948 4092 \nQ 1538 4750 2522 4750 \nz\n\" transform=\"scale(0.015625)\"/>\n      <path id=\"DejaVuSans-43\" d=\"M 4122 4306 \nL 4122 3641 \nQ 3803 3938 3442 4084 \nQ 3081 4231 2675 4231 \nQ 1875 4231 1450 3742 \nQ 1025 3253 1025 2328 \nQ 1025 1406 1450 917 \nQ 1875 428 2675 428 \nQ 3081 428 3442 575 \nQ 3803 722 4122 1019 \nL 4122 359 \nQ 3791 134 3420 21 \nQ 3050 -91 2638 -91 \nQ 1578 -91 968 557 \nQ 359 1206 359 2328 \nQ 359 3453 968 4101 \nQ 1578 4750 2638 4750 \nQ 3056 4750 3426 4639 \nQ 3797 4528 4122 4306 \nz\n\" transform=\"scale(0.015625)\"/>\n      <path id=\"DejaVuSans-28\" d=\"M 1984 4856 \nQ 1566 4138 1362 3434 \nQ 1159 2731 1159 2009 \nQ 1159 1288 1364 580 \nQ 1569 -128 1984 -844 \nL 1484 -844 \nQ 1016 -109 783 600 \nQ 550 1309 550 2009 \nQ 550 2706 781 3412 \nQ 1013 4119 1484 4856 \nL 1984 4856 \nz\n\" transform=\"scale(0.015625)\"/>\n      <path id=\"DejaVuSans-4c\" d=\"M 628 4666 \nL 1259 4666 \nL 1259 531 \nL 3531 531 \nL 3531 0 \nL 628 0 \nL 628 4666 \nz\n\" transform=\"scale(0.015625)\"/>\n      <path id=\"DejaVuSans-67\" d=\"M 2906 1791 \nQ 2906 2416 2648 2759 \nQ 2391 3103 1925 3103 \nQ 1463 3103 1205 2759 \nQ 947 2416 947 1791 \nQ 947 1169 1205 825 \nQ 1463 481 1925 481 \nQ 2391 481 2648 825 \nQ 2906 1169 2906 1791 \nz\nM 3481 434 \nQ 3481 -459 3084 -895 \nQ 2688 -1331 1869 -1331 \nQ 1566 -1331 1297 -1286 \nQ 1028 -1241 775 -1147 \nL 775 -588 \nQ 1028 -725 1275 -790 \nQ 1522 -856 1778 -856 \nQ 2344 -856 2625 -561 \nQ 2906 -266 2906 331 \nL 2906 616 \nQ 2728 306 2450 153 \nQ 2172 0 1784 0 \nQ 1141 0 747 490 \nQ 353 981 353 1791 \nQ 353 2603 747 3093 \nQ 1141 3584 1784 3584 \nQ 2172 3584 2450 3431 \nQ 2728 3278 2906 2969 \nL 2906 3500 \nL 3481 3500 \nL 3481 434 \nz\n\" transform=\"scale(0.015625)\"/>\n      <path id=\"DejaVuSans-63\" d=\"M 3122 3366 \nL 3122 2828 \nQ 2878 2963 2633 3030 \nQ 2388 3097 2138 3097 \nQ 1578 3097 1268 2742 \nQ 959 2388 959 1747 \nQ 959 1106 1268 751 \nQ 1578 397 2138 397 \nQ 2388 397 2633 464 \nQ 2878 531 3122 666 \nL 3122 134 \nQ 2881 22 2623 -34 \nQ 2366 -91 2075 -91 \nQ 1284 -91 818 406 \nQ 353 903 353 1747 \nQ 353 2603 823 3093 \nQ 1294 3584 2113 3584 \nQ 2378 3584 2631 3529 \nQ 2884 3475 3122 3366 \nz\n\" transform=\"scale(0.015625)\"/>\n      <path id=\"DejaVuSans-6e\" d=\"M 3513 2113 \nL 3513 0 \nL 2938 0 \nL 2938 2094 \nQ 2938 2591 2744 2837 \nQ 2550 3084 2163 3084 \nQ 1697 3084 1428 2787 \nQ 1159 2491 1159 1978 \nL 1159 0 \nL 581 0 \nL 581 3500 \nL 1159 3500 \nL 1159 2956 \nQ 1366 3272 1645 3428 \nQ 1925 3584 2291 3584 \nQ 2894 3584 3203 3211 \nQ 3513 2838 3513 2113 \nz\n\" transform=\"scale(0.015625)\"/>\n      <path id=\"DejaVuSans-29\" d=\"M 513 4856 \nL 1013 4856 \nQ 1481 4119 1714 3412 \nQ 1947 2706 1947 2009 \nQ 1947 1309 1714 600 \nQ 1481 -109 1013 -844 \nL 513 -844 \nQ 928 -128 1133 580 \nQ 1338 1288 1338 2009 \nQ 1338 2731 1133 3434 \nQ 928 4138 513 4856 \nz\n\" transform=\"scale(0.015625)\"/>\n     </defs>\n     <use xlink:href=\"#DejaVuSans-52\"/>\n     <use xlink:href=\"#DejaVuSans-4f\" x=\"69.482422\"/>\n     <use xlink:href=\"#DejaVuSans-43\" x=\"148.193359\"/>\n     <use xlink:href=\"#DejaVuSans-20\" x=\"218.017578\"/>\n     <use xlink:href=\"#DejaVuSans-43\" x=\"249.804688\"/>\n     <use xlink:href=\"#DejaVuSans-75\" x=\"319.628906\"/>\n     <use xlink:href=\"#DejaVuSans-72\" x=\"383.007812\"/>\n     <use xlink:href=\"#DejaVuSans-76\" x=\"424.121094\"/>\n     <use xlink:href=\"#DejaVuSans-65\" x=\"483.300781\"/>\n     <use xlink:href=\"#DejaVuSans-20\" x=\"544.824219\"/>\n     <use xlink:href=\"#DejaVuSans-28\" x=\"576.611328\"/>\n     <use xlink:href=\"#DejaVuSans-4c\" x=\"615.625\"/>\n     <use xlink:href=\"#DejaVuSans-6f\" x=\"669.587891\"/>\n     <use xlink:href=\"#DejaVuSans-67\" x=\"730.769531\"/>\n     <use xlink:href=\"#DejaVuSans-69\" x=\"794.246094\"/>\n     <use xlink:href=\"#DejaVuSans-73\" x=\"822.029297\"/>\n     <use xlink:href=\"#DejaVuSans-74\" x=\"874.128906\"/>\n     <use xlink:href=\"#DejaVuSans-69\" x=\"913.337891\"/>\n     <use xlink:href=\"#DejaVuSans-63\" x=\"941.121094\"/>\n     <use xlink:href=\"#DejaVuSans-52\" x=\"996.101562\"/>\n     <use xlink:href=\"#DejaVuSans-65\" x=\"1061.083984\"/>\n     <use xlink:href=\"#DejaVuSans-67\" x=\"1122.607422\"/>\n     <use xlink:href=\"#DejaVuSans-72\" x=\"1186.083984\"/>\n     <use xlink:href=\"#DejaVuSans-65\" x=\"1224.947266\"/>\n     <use xlink:href=\"#DejaVuSans-73\" x=\"1286.470703\"/>\n     <use xlink:href=\"#DejaVuSans-73\" x=\"1338.570312\"/>\n     <use xlink:href=\"#DejaVuSans-69\" x=\"1390.669922\"/>\n     <use xlink:href=\"#DejaVuSans-6f\" x=\"1418.453125\"/>\n     <use xlink:href=\"#DejaVuSans-6e\" x=\"1479.634766\"/>\n     <use xlink:href=\"#DejaVuSans-29\" x=\"1543.013672\"/>\n    </g>\n   </g>\n   <g id=\"legend_1\">\n    <g id=\"patch_7\">\n     <path d=\"M 50.78125 59.674375 \nL 159.646875 59.674375 \nQ 161.646875 59.674375 161.646875 57.674375 \nL 161.646875 29.318125 \nQ 161.646875 27.318125 159.646875 27.318125 \nL 50.78125 27.318125 \nQ 48.78125 27.318125 48.78125 29.318125 \nL 48.78125 57.674375 \nQ 48.78125 59.674375 50.78125 59.674375 \nz\n\" style=\"fill: #ffffff; opacity: 0.8; stroke: #cccccc; stroke-linejoin: miter\"/>\n    </g>\n    <g id=\"line2d_16\">\n     <path d=\"M 52.78125 35.416562 \nL 62.78125 35.416562 \nL 72.78125 35.416562 \n\" style=\"fill: none; stroke: #0000ff; stroke-width: 2; stroke-linecap: square\"/>\n    </g>\n    <g id=\"text_16\">\n     <!-- ROC Curve test -->\n     <g transform=\"translate(80.78125 38.916562) scale(0.1 -0.1)\">\n      <use xlink:href=\"#DejaVuSans-52\"/>\n      <use xlink:href=\"#DejaVuSans-4f\" x=\"69.482422\"/>\n      <use xlink:href=\"#DejaVuSans-43\" x=\"148.193359\"/>\n      <use xlink:href=\"#DejaVuSans-20\" x=\"218.017578\"/>\n      <use xlink:href=\"#DejaVuSans-43\" x=\"249.804688\"/>\n      <use xlink:href=\"#DejaVuSans-75\" x=\"319.628906\"/>\n      <use xlink:href=\"#DejaVuSans-72\" x=\"383.007812\"/>\n      <use xlink:href=\"#DejaVuSans-76\" x=\"424.121094\"/>\n      <use xlink:href=\"#DejaVuSans-65\" x=\"483.300781\"/>\n      <use xlink:href=\"#DejaVuSans-20\" x=\"544.824219\"/>\n      <use xlink:href=\"#DejaVuSans-74\" x=\"576.611328\"/>\n      <use xlink:href=\"#DejaVuSans-65\" x=\"615.820312\"/>\n      <use xlink:href=\"#DejaVuSans-73\" x=\"677.34375\"/>\n      <use xlink:href=\"#DejaVuSans-74\" x=\"729.443359\"/>\n     </g>\n    </g>\n    <g id=\"line2d_17\">\n     <path d=\"M 52.78125 50.094687 \nL 62.78125 50.094687 \nL 72.78125 50.094687 \n\" style=\"fill: none; stroke: #ff8c00; stroke-width: 2; stroke-linecap: square\"/>\n    </g>\n    <g id=\"text_17\">\n     <!-- ROC Curve test -->\n     <g transform=\"translate(80.78125 53.594687) scale(0.1 -0.1)\">\n      <use xlink:href=\"#DejaVuSans-52\"/>\n      <use xlink:href=\"#DejaVuSans-4f\" x=\"69.482422\"/>\n      <use xlink:href=\"#DejaVuSans-43\" x=\"148.193359\"/>\n      <use xlink:href=\"#DejaVuSans-20\" x=\"218.017578\"/>\n      <use xlink:href=\"#DejaVuSans-43\" x=\"249.804688\"/>\n      <use xlink:href=\"#DejaVuSans-75\" x=\"319.628906\"/>\n      <use xlink:href=\"#DejaVuSans-72\" x=\"383.007812\"/>\n      <use xlink:href=\"#DejaVuSans-76\" x=\"424.121094\"/>\n      <use xlink:href=\"#DejaVuSans-65\" x=\"483.300781\"/>\n      <use xlink:href=\"#DejaVuSans-20\" x=\"544.824219\"/>\n      <use xlink:href=\"#DejaVuSans-74\" x=\"576.611328\"/>\n      <use xlink:href=\"#DejaVuSans-65\" x=\"615.820312\"/>\n      <use xlink:href=\"#DejaVuSans-73\" x=\"677.34375\"/>\n      <use xlink:href=\"#DejaVuSans-74\" x=\"729.443359\"/>\n     </g>\n    </g>\n   </g>\n  </g>\n </g>\n <defs>\n  <clipPath id=\"p2f4c57d8bf\">\n   <rect x=\"43.78125\" y=\"22.318125\" width=\"357.12\" height=\"266.112\"/>\n  </clipPath>\n </defs>\n</svg>\n"
          },
          "metadata": {}
        }
      ],
      "source": [
        "metrics_logreg  = calculate_metrics_and_plot_roc(logreg_model, X_train, y_train, X_test, y_test)"
      ]
    },
    {
      "cell_type": "markdown",
      "metadata": {
        "id": "SGz3AUWa1K3Z"
      },
      "source": [
        "**Вывод**\n",
        "\n",
        "Логистическая регрессия переобучена, заметим, что  меньше, чем KNN.\n"
      ]
    },
    {
      "cell_type": "code",
      "execution_count": null,
      "metadata": {
        "id": "JE_2Odqqbukl",
        "colab": {
          "base_uri": "https://localhost:8080/"
        },
        "outputId": "202ba878-e56c-4f91-c8bc-83a5542e205d"
      },
      "outputs": [
        {
          "output_type": "stream",
          "name": "stdout",
          "text": [
            "Лучшее значение параметра: {'C': 1}\n"
          ]
        }
      ],
      "source": [
        "from sklearn.svm import SVC\n",
        "# Определяем сетку параметров для C, которые мы хотим проверить\n",
        "param_grid = {'C': [0.01, 0.1, 1, 10, 100],\n",
        "              }\n",
        "\n",
        "# Создаем модель логистической регрессии\n",
        "svm_model = SVC(kernel='linear', C=0.0)\n",
        "\n",
        "# Создаем объект GridSearchCV с моделью логистической регрессии и сеткой параметров\n",
        "grid_search = GridSearchCV(svm_model, param_grid, cv=5)  # cv указывает количество блоков для кросс-валидации\n",
        "\n",
        "# Обучаем модель на данных с использованием кросс-валидации\n",
        "grid_search.fit(X_train, y_train)\n",
        "\n",
        "# Получаем лучшее значение параметра C, найденное в процессе кросс-валидации\n",
        "# best_params = grid_search.best_params_[param_grid]\n",
        "print('Лучшее значение параметра:', grid_search.best_params_)\n",
        "\n",
        "\n",
        "# Создаем модель логистической регрессии с лучшим значением C\n",
        "best_svm_model = SVC(kernel='linear', **grid_search.best_params_)"
      ]
    },
    {
      "cell_type": "code",
      "execution_count": null,
      "metadata": {
        "id": "SiE2C9V9LEoU"
      },
      "outputs": [],
      "source": [
        "# plot_decision_boundary(best_svm_model, X_train, y_train)"
      ]
    },
    {
      "cell_type": "code",
      "execution_count": null,
      "metadata": {
        "id": "U0mMIjt1hLSQ",
        "colab": {
          "base_uri": "https://localhost:8080/"
        },
        "outputId": "0784cef8-6a4f-4457-b38e-acc8b059eb0e"
      },
      "outputs": [
        {
          "output_type": "stream",
          "name": "stdout",
          "text": [
            "Training Precision: 0.79\n",
            "Training Recall: 0.55\n",
            "Test Precision: 0.80\n",
            "Test Recall: 0.59\n",
            "predict_proba is not available when  probability=False\n"
          ]
        }
      ],
      "source": [
        "metrics_svm_linear  = calculate_metrics_and_plot_roc(best_svm_model, X_train, y_train, X_test, y_test)"
      ]
    },
    {
      "cell_type": "markdown",
      "metadata": {
        "id": "JVYpr8b83Cc-"
      },
      "source": [
        "**Вывод**\n",
        "\n",
        "По метрикам качества Precision и Recall видно, что переобучение уменьшилось, SVM линейный пока выигрывает\n",
        "\n",
        "Может мы еще сможем улучшить модель? Например, добавим нелинейности в SVM"
      ]
    },
    {
      "cell_type": "code",
      "execution_count": null,
      "metadata": {
        "id": "V35Ov8PJjItr",
        "colab": {
          "base_uri": "https://localhost:8080/"
        },
        "outputId": "89390ff2-4dea-4618-920b-645b324f0723"
      },
      "outputs": [
        {
          "output_type": "stream",
          "name": "stdout",
          "text": [
            "Лучшее значение параметра: {'C': 1, 'kernel': 'rbf'}\n"
          ]
        }
      ],
      "source": [
        "from sklearn.svm import SVC\n",
        "# Определяем сетку параметров для C, которые мы хотим проверить\n",
        "param_grid = {'C': [0.01, 0.1, 1],\n",
        "              'kernel':['linear', 'poly', 'rbf', 'sigmoid',]\n",
        "              }\n",
        "\n",
        "# Создаем модель логистической регрессии\n",
        "svm_model = SVC(kernel='linear')\n",
        "\n",
        "# Создаем объект GridSearchCV с моделью логистической регрессии и сеткой параметров\n",
        "grid_search = GridSearchCV(svm_model, param_grid, cv=5)  # cv указывает количество блоков для кросс-валидации\n",
        "\n",
        "# Обучаем модель на данных с использованием кросс-валидации\n",
        "grid_search.fit(X_train, y_train)\n",
        "\n",
        "# Получаем лучшее значение параметра C, найденное в процессе кросс-валидации\n",
        "# best_params = grid_search.best_params_[param_grid]\n",
        "print('Лучшее значение параметра:', grid_search.best_params_)\n",
        "\n",
        "\n",
        "# Создаем модель логистической регрессии с лучшим значением C\n",
        "best_svm_model = SVC(**grid_search.best_params_)"
      ]
    },
    {
      "cell_type": "code",
      "execution_count": null,
      "metadata": {
        "id": "aKVdPpvLj0uH",
        "colab": {
          "base_uri": "https://localhost:8080/"
        },
        "outputId": "032868a4-9d54-43fb-b707-2680e2443d5b"
      },
      "outputs": [
        {
          "output_type": "stream",
          "name": "stdout",
          "text": [
            "Training Precision: 0.80\n",
            "Training Recall: 0.70\n",
            "Test Precision: 0.76\n",
            "Test Recall: 0.61\n",
            "predict_proba is not available when  probability=False\n"
          ]
        }
      ],
      "source": [
        "metrics_svm_not_linear  = calculate_metrics_and_plot_roc(best_svm_model, X_train, y_train, X_test, y_test)"
      ]
    },
    {
      "cell_type": "markdown",
      "metadata": {
        "id": "Q0UPzoKQ3kYb"
      },
      "source": [
        "**Вывод**\n",
        "\n",
        "Нет, добавление нелинейности в SVM не помогло, наоброт только все испортило.\n",
        "\n",
        "\n"
      ]
    },
    {
      "cell_type": "markdown",
      "metadata": {
        "id": "3jVP1cnIBVqN"
      },
      "source": [
        "**Соберем все результаты в одну таблицу, чтобы было проще сравнивать алгоритмы**"
      ]
    },
    {
      "cell_type": "code",
      "execution_count": null,
      "metadata": {
        "id": "wvhYN6AT9vPm"
      },
      "outputs": [],
      "source": [
        "metrics_svm_not_linear['metrics'] = ['metrics_svm_not_linear' for i in range(4)]\n",
        "\n",
        "metrics_svm_linear['metrics'] = ['metrics_svm_linear' for i in range(4)]\n",
        "\n",
        "# metrics_poly_logreg['metrics'] = ['metrics_poly_logreg' for i in range(4)]\n",
        "\n",
        "metrics_logreg['metrics'] = ['metrics_logreg' for i in range(4)]\n",
        "metrics_knn['metrics'] = ['metrics_knn' for i in range(4)]"
      ]
    },
    {
      "cell_type": "code",
      "execution_count": null,
      "metadata": {
        "id": "tZ3k5ziL-Jlq"
      },
      "outputs": [],
      "source": [
        "df_stat = pd.concat([pd.DataFrame(metrics_svm_not_linear),\n",
        "                    pd.DataFrame(metrics_svm_linear),\n",
        "                    # pd.DataFrame(metrics_poly_logreg),\n",
        "                    pd.DataFrame(metrics_logreg),\n",
        "                    pd.DataFrame(metrics_knn)])"
      ]
    },
    {
      "cell_type": "code",
      "execution_count": null,
      "metadata": {
        "id": "lFXmaWSa-caM",
        "colab": {
          "base_uri": "https://localhost:8080/",
          "height": 175
        },
        "outputId": "d3351cc4-6865-49af-9796-6ebb0878565e"
      },
      "outputs": [
        {
          "output_type": "execute_result",
          "data": {
            "text/plain": [
              "params                 metrics  Test_Precision  Training_Precision  \\\n",
              "0                  metrics_knn         0.69841             0.75000   \n",
              "1               metrics_logreg         0.80000             0.79167   \n",
              "2           metrics_svm_linear         0.80000             0.78947   \n",
              "3       metrics_svm_not_linear         0.76271             0.80208   \n",
              "\n",
              "params  Test_Recall  Training_Recall  dif_Precision  dif_Recall  \n",
              "0           0.59459          0.68182       -0.07000    -0.13000  \n",
              "1           0.54054          0.51818        0.01000     0.04000  \n",
              "2           0.59459          0.54545        0.01000     0.09000  \n",
              "3           0.60811          0.70000       -0.05000    -0.13000  "
            ],
            "text/html": [
              "\n",
              "\n",
              "  <div id=\"df-88183772-bc73-4353-b608-ead8765a45af\">\n",
              "    <div class=\"colab-df-container\">\n",
              "      <div>\n",
              "<style scoped>\n",
              "    .dataframe tbody tr th:only-of-type {\n",
              "        vertical-align: middle;\n",
              "    }\n",
              "\n",
              "    .dataframe tbody tr th {\n",
              "        vertical-align: top;\n",
              "    }\n",
              "\n",
              "    .dataframe thead th {\n",
              "        text-align: right;\n",
              "    }\n",
              "</style>\n",
              "<table border=\"1\" class=\"dataframe\">\n",
              "  <thead>\n",
              "    <tr style=\"text-align: right;\">\n",
              "      <th>params</th>\n",
              "      <th>metrics</th>\n",
              "      <th>Test_Precision</th>\n",
              "      <th>Training_Precision</th>\n",
              "      <th>Test_Recall</th>\n",
              "      <th>Training_Recall</th>\n",
              "      <th>dif_Precision</th>\n",
              "      <th>dif_Recall</th>\n",
              "    </tr>\n",
              "  </thead>\n",
              "  <tbody>\n",
              "    <tr>\n",
              "      <th>0</th>\n",
              "      <td>metrics_knn</td>\n",
              "      <td>0.69841</td>\n",
              "      <td>0.75000</td>\n",
              "      <td>0.59459</td>\n",
              "      <td>0.68182</td>\n",
              "      <td>-0.07000</td>\n",
              "      <td>-0.13000</td>\n",
              "    </tr>\n",
              "    <tr>\n",
              "      <th>1</th>\n",
              "      <td>metrics_logreg</td>\n",
              "      <td>0.80000</td>\n",
              "      <td>0.79167</td>\n",
              "      <td>0.54054</td>\n",
              "      <td>0.51818</td>\n",
              "      <td>0.01000</td>\n",
              "      <td>0.04000</td>\n",
              "    </tr>\n",
              "    <tr>\n",
              "      <th>2</th>\n",
              "      <td>metrics_svm_linear</td>\n",
              "      <td>0.80000</td>\n",
              "      <td>0.78947</td>\n",
              "      <td>0.59459</td>\n",
              "      <td>0.54545</td>\n",
              "      <td>0.01000</td>\n",
              "      <td>0.09000</td>\n",
              "    </tr>\n",
              "    <tr>\n",
              "      <th>3</th>\n",
              "      <td>metrics_svm_not_linear</td>\n",
              "      <td>0.76271</td>\n",
              "      <td>0.80208</td>\n",
              "      <td>0.60811</td>\n",
              "      <td>0.70000</td>\n",
              "      <td>-0.05000</td>\n",
              "      <td>-0.13000</td>\n",
              "    </tr>\n",
              "  </tbody>\n",
              "</table>\n",
              "</div>\n",
              "      <button class=\"colab-df-convert\" onclick=\"convertToInteractive('df-88183772-bc73-4353-b608-ead8765a45af')\"\n",
              "              title=\"Convert this dataframe to an interactive table.\"\n",
              "              style=\"display:none;\">\n",
              "\n",
              "  <svg xmlns=\"http://www.w3.org/2000/svg\" height=\"24px\"viewBox=\"0 0 24 24\"\n",
              "       width=\"24px\">\n",
              "    <path d=\"M0 0h24v24H0V0z\" fill=\"none\"/>\n",
              "    <path d=\"M18.56 5.44l.94 2.06.94-2.06 2.06-.94-2.06-.94-.94-2.06-.94 2.06-2.06.94zm-11 1L8.5 8.5l.94-2.06 2.06-.94-2.06-.94L8.5 2.5l-.94 2.06-2.06.94zm10 10l.94 2.06.94-2.06 2.06-.94-2.06-.94-.94-2.06-.94 2.06-2.06.94z\"/><path d=\"M17.41 7.96l-1.37-1.37c-.4-.4-.92-.59-1.43-.59-.52 0-1.04.2-1.43.59L10.3 9.45l-7.72 7.72c-.78.78-.78 2.05 0 2.83L4 21.41c.39.39.9.59 1.41.59.51 0 1.02-.2 1.41-.59l7.78-7.78 2.81-2.81c.8-.78.8-2.07 0-2.86zM5.41 20L4 18.59l7.72-7.72 1.47 1.35L5.41 20z\"/>\n",
              "  </svg>\n",
              "      </button>\n",
              "\n",
              "\n",
              "\n",
              "    <div id=\"df-b188b23c-8c68-4547-9371-6a4b26a91584\">\n",
              "      <button class=\"colab-df-quickchart\" onclick=\"quickchart('df-b188b23c-8c68-4547-9371-6a4b26a91584')\"\n",
              "              title=\"Suggest charts.\"\n",
              "              style=\"display:none;\">\n",
              "\n",
              "<svg xmlns=\"http://www.w3.org/2000/svg\" height=\"24px\"viewBox=\"0 0 24 24\"\n",
              "     width=\"24px\">\n",
              "    <g>\n",
              "        <path d=\"M19 3H5c-1.1 0-2 .9-2 2v14c0 1.1.9 2 2 2h14c1.1 0 2-.9 2-2V5c0-1.1-.9-2-2-2zM9 17H7v-7h2v7zm4 0h-2V7h2v10zm4 0h-2v-4h2v4z\"/>\n",
              "    </g>\n",
              "</svg>\n",
              "      </button>\n",
              "    </div>\n",
              "\n",
              "<style>\n",
              "  .colab-df-quickchart {\n",
              "    background-color: #E8F0FE;\n",
              "    border: none;\n",
              "    border-radius: 50%;\n",
              "    cursor: pointer;\n",
              "    display: none;\n",
              "    fill: #1967D2;\n",
              "    height: 32px;\n",
              "    padding: 0 0 0 0;\n",
              "    width: 32px;\n",
              "  }\n",
              "\n",
              "  .colab-df-quickchart:hover {\n",
              "    background-color: #E2EBFA;\n",
              "    box-shadow: 0px 1px 2px rgba(60, 64, 67, 0.3), 0px 1px 3px 1px rgba(60, 64, 67, 0.15);\n",
              "    fill: #174EA6;\n",
              "  }\n",
              "\n",
              "  [theme=dark] .colab-df-quickchart {\n",
              "    background-color: #3B4455;\n",
              "    fill: #D2E3FC;\n",
              "  }\n",
              "\n",
              "  [theme=dark] .colab-df-quickchart:hover {\n",
              "    background-color: #434B5C;\n",
              "    box-shadow: 0px 1px 3px 1px rgba(0, 0, 0, 0.15);\n",
              "    filter: drop-shadow(0px 1px 2px rgba(0, 0, 0, 0.3));\n",
              "    fill: #FFFFFF;\n",
              "  }\n",
              "</style>\n",
              "\n",
              "    <script>\n",
              "      async function quickchart(key) {\n",
              "        const containerElement = document.querySelector('#' + key);\n",
              "        const charts = await google.colab.kernel.invokeFunction(\n",
              "            'suggestCharts', [key], {});\n",
              "      }\n",
              "    </script>\n",
              "\n",
              "      <script>\n",
              "\n",
              "function displayQuickchartButton(domScope) {\n",
              "  let quickchartButtonEl =\n",
              "    domScope.querySelector('#df-b188b23c-8c68-4547-9371-6a4b26a91584 button.colab-df-quickchart');\n",
              "  quickchartButtonEl.style.display =\n",
              "    google.colab.kernel.accessAllowed ? 'block' : 'none';\n",
              "}\n",
              "\n",
              "        displayQuickchartButton(document);\n",
              "      </script>\n",
              "      <style>\n",
              "    .colab-df-container {\n",
              "      display:flex;\n",
              "      flex-wrap:wrap;\n",
              "      gap: 12px;\n",
              "    }\n",
              "\n",
              "    .colab-df-convert {\n",
              "      background-color: #E8F0FE;\n",
              "      border: none;\n",
              "      border-radius: 50%;\n",
              "      cursor: pointer;\n",
              "      display: none;\n",
              "      fill: #1967D2;\n",
              "      height: 32px;\n",
              "      padding: 0 0 0 0;\n",
              "      width: 32px;\n",
              "    }\n",
              "\n",
              "    .colab-df-convert:hover {\n",
              "      background-color: #E2EBFA;\n",
              "      box-shadow: 0px 1px 2px rgba(60, 64, 67, 0.3), 0px 1px 3px 1px rgba(60, 64, 67, 0.15);\n",
              "      fill: #174EA6;\n",
              "    }\n",
              "\n",
              "    [theme=dark] .colab-df-convert {\n",
              "      background-color: #3B4455;\n",
              "      fill: #D2E3FC;\n",
              "    }\n",
              "\n",
              "    [theme=dark] .colab-df-convert:hover {\n",
              "      background-color: #434B5C;\n",
              "      box-shadow: 0px 1px 3px 1px rgba(0, 0, 0, 0.15);\n",
              "      filter: drop-shadow(0px 1px 2px rgba(0, 0, 0, 0.3));\n",
              "      fill: #FFFFFF;\n",
              "    }\n",
              "  </style>\n",
              "\n",
              "      <script>\n",
              "        const buttonEl =\n",
              "          document.querySelector('#df-88183772-bc73-4353-b608-ead8765a45af button.colab-df-convert');\n",
              "        buttonEl.style.display =\n",
              "          google.colab.kernel.accessAllowed ? 'block' : 'none';\n",
              "\n",
              "        async function convertToInteractive(key) {\n",
              "          const element = document.querySelector('#df-88183772-bc73-4353-b608-ead8765a45af');\n",
              "          const dataTable =\n",
              "            await google.colab.kernel.invokeFunction('convertToInteractive',\n",
              "                                                     [key], {});\n",
              "          if (!dataTable) return;\n",
              "\n",
              "          const docLinkHtml = 'Like what you see? Visit the ' +\n",
              "            '<a target=\"_blank\" href=https://colab.research.google.com/notebooks/data_table.ipynb>data table notebook</a>'\n",
              "            + ' to learn more about interactive tables.';\n",
              "          element.innerHTML = '';\n",
              "          dataTable['output_type'] = 'display_data';\n",
              "          await google.colab.output.renderOutput(dataTable, element);\n",
              "          const docLink = document.createElement('div');\n",
              "          docLink.innerHTML = docLinkHtml;\n",
              "          element.appendChild(docLink);\n",
              "        }\n",
              "      </script>\n",
              "    </div>\n",
              "  </div>\n"
            ]
          },
          "metadata": {},
          "execution_count": 278
        }
      ],
      "source": [
        "df_stat = df_stat.pivot_table(columns = 'params',\n",
        "                            index='metrics',\n",
        "                            values='values').reset_index()[['metrics','Test_Precision',\t'Training_Precision',\n",
        "                                                            'Test_Recall',\t'Training_Recall']]\n",
        "df_stat['dif_Precision'] = round((df_stat['Test_Precision'] - df_stat['Training_Precision'])/df_stat['Training_Precision'],2)\n",
        "\n",
        "df_stat['dif_Recall'] = round((df_stat['Test_Recall'] - df_stat['Training_Recall'])/df_stat['Training_Recall'],2)\n",
        "df_stat"
      ]
    },
    {
      "cell_type": "code",
      "source": [
        "df_stat['abs_dif_precision'] = abs(df_stat['dif_Precision'])"
      ],
      "metadata": {
        "id": "vJQYJY7LMIAJ"
      },
      "execution_count": null,
      "outputs": []
    },
    {
      "cell_type": "code",
      "source": [
        "df_stat.sort_values('abs_dif_precision', ascending=True)"
      ],
      "metadata": {
        "colab": {
          "base_uri": "https://localhost:8080/",
          "height": 219
        },
        "id": "5VJh31diL79U",
        "outputId": "d4ae746c-e36c-49e2-c4f6-231b61ac1481"
      },
      "execution_count": null,
      "outputs": [
        {
          "output_type": "execute_result",
          "data": {
            "text/plain": [
              "params                 metrics  Test_Precision  Training_Precision  \\\n",
              "1               metrics_logreg         0.80000             0.79167   \n",
              "2           metrics_svm_linear         0.80000             0.78947   \n",
              "3       metrics_svm_not_linear         0.76271             0.80208   \n",
              "0                  metrics_knn         0.69841             0.75000   \n",
              "\n",
              "params  Test_Recall  Training_Recall  dif_Precision  dif_Recall  \\\n",
              "1           0.54054          0.51818        0.01000     0.04000   \n",
              "2           0.59459          0.54545        0.01000     0.09000   \n",
              "3           0.60811          0.70000       -0.05000    -0.13000   \n",
              "0           0.59459          0.68182       -0.07000    -0.13000   \n",
              "\n",
              "params  abs_dif_precision  \n",
              "1                 0.01000  \n",
              "2                 0.01000  \n",
              "3                 0.05000  \n",
              "0                 0.07000  "
            ],
            "text/html": [
              "\n",
              "\n",
              "  <div id=\"df-80add5a1-7444-4a5d-a60f-84534d725bc4\">\n",
              "    <div class=\"colab-df-container\">\n",
              "      <div>\n",
              "<style scoped>\n",
              "    .dataframe tbody tr th:only-of-type {\n",
              "        vertical-align: middle;\n",
              "    }\n",
              "\n",
              "    .dataframe tbody tr th {\n",
              "        vertical-align: top;\n",
              "    }\n",
              "\n",
              "    .dataframe thead th {\n",
              "        text-align: right;\n",
              "    }\n",
              "</style>\n",
              "<table border=\"1\" class=\"dataframe\">\n",
              "  <thead>\n",
              "    <tr style=\"text-align: right;\">\n",
              "      <th>params</th>\n",
              "      <th>metrics</th>\n",
              "      <th>Test_Precision</th>\n",
              "      <th>Training_Precision</th>\n",
              "      <th>Test_Recall</th>\n",
              "      <th>Training_Recall</th>\n",
              "      <th>dif_Precision</th>\n",
              "      <th>dif_Recall</th>\n",
              "      <th>abs_dif_precision</th>\n",
              "    </tr>\n",
              "  </thead>\n",
              "  <tbody>\n",
              "    <tr>\n",
              "      <th>1</th>\n",
              "      <td>metrics_logreg</td>\n",
              "      <td>0.80000</td>\n",
              "      <td>0.79167</td>\n",
              "      <td>0.54054</td>\n",
              "      <td>0.51818</td>\n",
              "      <td>0.01000</td>\n",
              "      <td>0.04000</td>\n",
              "      <td>0.01000</td>\n",
              "    </tr>\n",
              "    <tr>\n",
              "      <th>2</th>\n",
              "      <td>metrics_svm_linear</td>\n",
              "      <td>0.80000</td>\n",
              "      <td>0.78947</td>\n",
              "      <td>0.59459</td>\n",
              "      <td>0.54545</td>\n",
              "      <td>0.01000</td>\n",
              "      <td>0.09000</td>\n",
              "      <td>0.01000</td>\n",
              "    </tr>\n",
              "    <tr>\n",
              "      <th>3</th>\n",
              "      <td>metrics_svm_not_linear</td>\n",
              "      <td>0.76271</td>\n",
              "      <td>0.80208</td>\n",
              "      <td>0.60811</td>\n",
              "      <td>0.70000</td>\n",
              "      <td>-0.05000</td>\n",
              "      <td>-0.13000</td>\n",
              "      <td>0.05000</td>\n",
              "    </tr>\n",
              "    <tr>\n",
              "      <th>0</th>\n",
              "      <td>metrics_knn</td>\n",
              "      <td>0.69841</td>\n",
              "      <td>0.75000</td>\n",
              "      <td>0.59459</td>\n",
              "      <td>0.68182</td>\n",
              "      <td>-0.07000</td>\n",
              "      <td>-0.13000</td>\n",
              "      <td>0.07000</td>\n",
              "    </tr>\n",
              "  </tbody>\n",
              "</table>\n",
              "</div>\n",
              "      <button class=\"colab-df-convert\" onclick=\"convertToInteractive('df-80add5a1-7444-4a5d-a60f-84534d725bc4')\"\n",
              "              title=\"Convert this dataframe to an interactive table.\"\n",
              "              style=\"display:none;\">\n",
              "\n",
              "  <svg xmlns=\"http://www.w3.org/2000/svg\" height=\"24px\"viewBox=\"0 0 24 24\"\n",
              "       width=\"24px\">\n",
              "    <path d=\"M0 0h24v24H0V0z\" fill=\"none\"/>\n",
              "    <path d=\"M18.56 5.44l.94 2.06.94-2.06 2.06-.94-2.06-.94-.94-2.06-.94 2.06-2.06.94zm-11 1L8.5 8.5l.94-2.06 2.06-.94-2.06-.94L8.5 2.5l-.94 2.06-2.06.94zm10 10l.94 2.06.94-2.06 2.06-.94-2.06-.94-.94-2.06-.94 2.06-2.06.94z\"/><path d=\"M17.41 7.96l-1.37-1.37c-.4-.4-.92-.59-1.43-.59-.52 0-1.04.2-1.43.59L10.3 9.45l-7.72 7.72c-.78.78-.78 2.05 0 2.83L4 21.41c.39.39.9.59 1.41.59.51 0 1.02-.2 1.41-.59l7.78-7.78 2.81-2.81c.8-.78.8-2.07 0-2.86zM5.41 20L4 18.59l7.72-7.72 1.47 1.35L5.41 20z\"/>\n",
              "  </svg>\n",
              "      </button>\n",
              "\n",
              "\n",
              "\n",
              "    <div id=\"df-3dbd1be9-3413-40bc-b0e0-5c69ee30b95f\">\n",
              "      <button class=\"colab-df-quickchart\" onclick=\"quickchart('df-3dbd1be9-3413-40bc-b0e0-5c69ee30b95f')\"\n",
              "              title=\"Suggest charts.\"\n",
              "              style=\"display:none;\">\n",
              "\n",
              "<svg xmlns=\"http://www.w3.org/2000/svg\" height=\"24px\"viewBox=\"0 0 24 24\"\n",
              "     width=\"24px\">\n",
              "    <g>\n",
              "        <path d=\"M19 3H5c-1.1 0-2 .9-2 2v14c0 1.1.9 2 2 2h14c1.1 0 2-.9 2-2V5c0-1.1-.9-2-2-2zM9 17H7v-7h2v7zm4 0h-2V7h2v10zm4 0h-2v-4h2v4z\"/>\n",
              "    </g>\n",
              "</svg>\n",
              "      </button>\n",
              "    </div>\n",
              "\n",
              "<style>\n",
              "  .colab-df-quickchart {\n",
              "    background-color: #E8F0FE;\n",
              "    border: none;\n",
              "    border-radius: 50%;\n",
              "    cursor: pointer;\n",
              "    display: none;\n",
              "    fill: #1967D2;\n",
              "    height: 32px;\n",
              "    padding: 0 0 0 0;\n",
              "    width: 32px;\n",
              "  }\n",
              "\n",
              "  .colab-df-quickchart:hover {\n",
              "    background-color: #E2EBFA;\n",
              "    box-shadow: 0px 1px 2px rgba(60, 64, 67, 0.3), 0px 1px 3px 1px rgba(60, 64, 67, 0.15);\n",
              "    fill: #174EA6;\n",
              "  }\n",
              "\n",
              "  [theme=dark] .colab-df-quickchart {\n",
              "    background-color: #3B4455;\n",
              "    fill: #D2E3FC;\n",
              "  }\n",
              "\n",
              "  [theme=dark] .colab-df-quickchart:hover {\n",
              "    background-color: #434B5C;\n",
              "    box-shadow: 0px 1px 3px 1px rgba(0, 0, 0, 0.15);\n",
              "    filter: drop-shadow(0px 1px 2px rgba(0, 0, 0, 0.3));\n",
              "    fill: #FFFFFF;\n",
              "  }\n",
              "</style>\n",
              "\n",
              "    <script>\n",
              "      async function quickchart(key) {\n",
              "        const containerElement = document.querySelector('#' + key);\n",
              "        const charts = await google.colab.kernel.invokeFunction(\n",
              "            'suggestCharts', [key], {});\n",
              "      }\n",
              "    </script>\n",
              "\n",
              "      <script>\n",
              "\n",
              "function displayQuickchartButton(domScope) {\n",
              "  let quickchartButtonEl =\n",
              "    domScope.querySelector('#df-3dbd1be9-3413-40bc-b0e0-5c69ee30b95f button.colab-df-quickchart');\n",
              "  quickchartButtonEl.style.display =\n",
              "    google.colab.kernel.accessAllowed ? 'block' : 'none';\n",
              "}\n",
              "\n",
              "        displayQuickchartButton(document);\n",
              "      </script>\n",
              "      <style>\n",
              "    .colab-df-container {\n",
              "      display:flex;\n",
              "      flex-wrap:wrap;\n",
              "      gap: 12px;\n",
              "    }\n",
              "\n",
              "    .colab-df-convert {\n",
              "      background-color: #E8F0FE;\n",
              "      border: none;\n",
              "      border-radius: 50%;\n",
              "      cursor: pointer;\n",
              "      display: none;\n",
              "      fill: #1967D2;\n",
              "      height: 32px;\n",
              "      padding: 0 0 0 0;\n",
              "      width: 32px;\n",
              "    }\n",
              "\n",
              "    .colab-df-convert:hover {\n",
              "      background-color: #E2EBFA;\n",
              "      box-shadow: 0px 1px 2px rgba(60, 64, 67, 0.3), 0px 1px 3px 1px rgba(60, 64, 67, 0.15);\n",
              "      fill: #174EA6;\n",
              "    }\n",
              "\n",
              "    [theme=dark] .colab-df-convert {\n",
              "      background-color: #3B4455;\n",
              "      fill: #D2E3FC;\n",
              "    }\n",
              "\n",
              "    [theme=dark] .colab-df-convert:hover {\n",
              "      background-color: #434B5C;\n",
              "      box-shadow: 0px 1px 3px 1px rgba(0, 0, 0, 0.15);\n",
              "      filter: drop-shadow(0px 1px 2px rgba(0, 0, 0, 0.3));\n",
              "      fill: #FFFFFF;\n",
              "    }\n",
              "  </style>\n",
              "\n",
              "      <script>\n",
              "        const buttonEl =\n",
              "          document.querySelector('#df-80add5a1-7444-4a5d-a60f-84534d725bc4 button.colab-df-convert');\n",
              "        buttonEl.style.display =\n",
              "          google.colab.kernel.accessAllowed ? 'block' : 'none';\n",
              "\n",
              "        async function convertToInteractive(key) {\n",
              "          const element = document.querySelector('#df-80add5a1-7444-4a5d-a60f-84534d725bc4');\n",
              "          const dataTable =\n",
              "            await google.colab.kernel.invokeFunction('convertToInteractive',\n",
              "                                                     [key], {});\n",
              "          if (!dataTable) return;\n",
              "\n",
              "          const docLinkHtml = 'Like what you see? Visit the ' +\n",
              "            '<a target=\"_blank\" href=https://colab.research.google.com/notebooks/data_table.ipynb>data table notebook</a>'\n",
              "            + ' to learn more about interactive tables.';\n",
              "          element.innerHTML = '';\n",
              "          dataTable['output_type'] = 'display_data';\n",
              "          await google.colab.output.renderOutput(dataTable, element);\n",
              "          const docLink = document.createElement('div');\n",
              "          docLink.innerHTML = docLinkHtml;\n",
              "          element.appendChild(docLink);\n",
              "        }\n",
              "      </script>\n",
              "    </div>\n",
              "  </div>\n"
            ]
          },
          "metadata": {},
          "execution_count": 280
        }
      ]
    },
    {
      "cell_type": "markdown",
      "metadata": {
        "id": "zoo_3xAPBfen"
      },
      "source": [
        "\n",
        "Получается, что наиболее точным и непереобученным алгоритмом оказался SVM линейный, по параметрам dif_Precision и dif_Recall видно, что разница между параметрами на трейне и тесте наименьшая по сравнению со всемит остальными алгоритмами"
      ]
    }
  ],
  "metadata": {
    "colab": {
      "provenance": [],
      "include_colab_link": true
    },
    "kernelspec": {
      "display_name": "Python 3",
      "name": "python3"
    },
    "language_info": {
      "name": "python"
    }
  },
  "nbformat": 4,
  "nbformat_minor": 0
}