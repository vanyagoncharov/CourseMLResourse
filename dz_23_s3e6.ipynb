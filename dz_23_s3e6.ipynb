{
  "nbformat": 4,
  "nbformat_minor": 0,
  "metadata": {
    "colab": {
      "provenance": [],
      "collapsed_sections": [
        "Yc4bzvnL7xa9",
        "vVIUmniyDYCN",
        "SbsQWL0C6s5F",
        "j0MzccKG63nN",
        "KamZ5WtD66yN",
        "Isw9u00_696m",
        "-YaNS4II7GzV",
        "nMKmxHq_7NeF"
      ],
      "toc_visible": true,
      "mount_file_id": "14OlCIuWWDk3l_zE3R1Pk2pKh30E1txAq",
      "authorship_tag": "ABX9TyMr+3iYpeZFkkp27uvynu1d",
      "include_colab_link": true
    },
    "kernelspec": {
      "name": "python3",
      "display_name": "Python 3"
    },
    "language_info": {
      "name": "python"
    }
  },
  "cells": [
    {
      "cell_type": "markdown",
      "metadata": {
        "id": "view-in-github",
        "colab_type": "text"
      },
      "source": [
        "<a href=\"https://colab.research.google.com/github/vanyagoncharov/CourseMLResourse/blob/main/dz_23_s3e6.ipynb\" target=\"_parent\"><img src=\"https://colab.research.google.com/assets/colab-badge.svg\" alt=\"Open In Colab\"/></a>"
      ]
    },
    {
      "cell_type": "markdown",
      "source": [
        "# Прогнозировании цен на жилье в Париже"
      ],
      "metadata": {
        "id": "pm3_KChe6SLt"
      }
    },
    {
      "cell_type": "markdown",
      "source": [
        "## Импорт библиотек"
      ],
      "metadata": {
        "id": "3xTBi6Gb6as1"
      }
    },
    {
      "cell_type": "code",
      "source": [
        "import pandas as pd\n",
        "import numpy as np\n",
        "import seaborn as sns\n",
        "\n",
        "import matplotlib.pyplot as plt\n",
        "\n",
        "from sklearn.preprocessing import StandardScaler\n",
        "from sklearn.model_selection import train_test_split\n",
        "\n",
        "from sklearn.tree import DecisionTreeClassifier\n",
        "from sklearn.model_selection import GridSearchCV"
      ],
      "metadata": {
        "id": "YZ1T7cN67s81"
      },
      "execution_count": 1,
      "outputs": []
    },
    {
      "cell_type": "markdown",
      "source": [
        "## Функции"
      ],
      "metadata": {
        "id": "JJNc8A0m6cyk"
      }
    },
    {
      "cell_type": "markdown",
      "source": [
        "## Загрузка данных"
      ],
      "metadata": {
        "id": "Yc4bzvnL7xa9"
      }
    },
    {
      "cell_type": "code",
      "source": [
        "# Загружаем тестовый и тренировочный наборы данных\n",
        "data_test = pd.read_csv('/content/drive/MyDrive/Colab Notebooks/playground-series-s3e6/test.csv')\n",
        "data_train = pd.read_csv('/content/drive/MyDrive/Colab Notebooks/playground-series-s3e6/train.csv')"
      ],
      "metadata": {
        "id": "TzExoOa171Ld"
      },
      "execution_count": 2,
      "outputs": []
    },
    {
      "cell_type": "code",
      "source": [
        "# Удаление ненужных столбцов, которые могут не способствовать прогнозированию модели.\n",
        "data_test = data_test.drop(['id', 'cityCode'], axis=1)\n",
        "data_train = data_train.drop(['id', 'cityCode'], axis=1)"
      ],
      "metadata": {
        "id": "3suucx0ZA0KT"
      },
      "execution_count": 3,
      "outputs": []
    },
    {
      "cell_type": "code",
      "source": [
        "data_test"
      ],
      "metadata": {
        "colab": {
          "base_uri": "https://localhost:8080/",
          "height": 468
        },
        "id": "fL88X8q88II_",
        "outputId": "f44a7b22-2983-4808-bc6d-27979be31bfc"
      },
      "execution_count": 4,
      "outputs": [
        {
          "output_type": "execute_result",
          "data": {
            "text/plain": [
              "       squareMeters  numberOfRooms  hasYard  hasPool  floors  cityPartRange  \\\n",
              "0             47580             89        0        1       8              5   \n",
              "1             62083             38        0        0      87             10   \n",
              "2             90499             75        1        1      37              9   \n",
              "3             16354             47        1        1       9              6   \n",
              "4             67510              8        0        0      55              3   \n",
              "...             ...            ...      ...      ...     ...            ...   \n",
              "15149         86184             74        1        1      73              2   \n",
              "15150         45885             41        1        1      64              4   \n",
              "15151         73554             51        0        0      41             10   \n",
              "15152         77604             51        0        1      33              4   \n",
              "15153         18179             50        1        0      41              2   \n",
              "\n",
              "       numPrevOwners  made  isNewBuilt  hasStormProtector  basement  attic  \\\n",
              "0                  3  1995           0                  0      6885   8181   \n",
              "1                  3  1994           1                  1      4601   9237   \n",
              "2                  6  1997           0                  1      7454   2680   \n",
              "3                  5  2019           1                  1       705   5097   \n",
              "4                  7  2014           1                  1      3715   7979   \n",
              "...              ...   ...         ...                ...       ...    ...   \n",
              "15149             10  1993           1                  0      3714   3894   \n",
              "15150              5  2008           0                  0       783   7628   \n",
              "15151              5  2004           0                  1      8207   1777   \n",
              "15152              3  2019           0                  0      9578   9706   \n",
              "15153              2  2004           1                  0      4163   9923   \n",
              "\n",
              "       garage  hasStorageRoom  hasGuestRoom  \n",
              "0         241               0             8  \n",
              "1         393               1             4  \n",
              "2         305               0             2  \n",
              "3         122               1             5  \n",
              "4         401               1             9  \n",
              "...       ...             ...           ...  \n",
              "15149     665               1             1  \n",
              "15150     976               0             0  \n",
              "15151     775               0            10  \n",
              "15152     135               0             2  \n",
              "15153     622               0             6  \n",
              "\n",
              "[15154 rows x 15 columns]"
            ],
            "text/html": [
              "\n",
              "\n",
              "  <div id=\"df-abaae29f-e8ee-4fb3-8103-5663d04df2a4\">\n",
              "    <div class=\"colab-df-container\">\n",
              "      <div>\n",
              "<style scoped>\n",
              "    .dataframe tbody tr th:only-of-type {\n",
              "        vertical-align: middle;\n",
              "    }\n",
              "\n",
              "    .dataframe tbody tr th {\n",
              "        vertical-align: top;\n",
              "    }\n",
              "\n",
              "    .dataframe thead th {\n",
              "        text-align: right;\n",
              "    }\n",
              "</style>\n",
              "<table border=\"1\" class=\"dataframe\">\n",
              "  <thead>\n",
              "    <tr style=\"text-align: right;\">\n",
              "      <th></th>\n",
              "      <th>squareMeters</th>\n",
              "      <th>numberOfRooms</th>\n",
              "      <th>hasYard</th>\n",
              "      <th>hasPool</th>\n",
              "      <th>floors</th>\n",
              "      <th>cityPartRange</th>\n",
              "      <th>numPrevOwners</th>\n",
              "      <th>made</th>\n",
              "      <th>isNewBuilt</th>\n",
              "      <th>hasStormProtector</th>\n",
              "      <th>basement</th>\n",
              "      <th>attic</th>\n",
              "      <th>garage</th>\n",
              "      <th>hasStorageRoom</th>\n",
              "      <th>hasGuestRoom</th>\n",
              "    </tr>\n",
              "  </thead>\n",
              "  <tbody>\n",
              "    <tr>\n",
              "      <th>0</th>\n",
              "      <td>47580</td>\n",
              "      <td>89</td>\n",
              "      <td>0</td>\n",
              "      <td>1</td>\n",
              "      <td>8</td>\n",
              "      <td>5</td>\n",
              "      <td>3</td>\n",
              "      <td>1995</td>\n",
              "      <td>0</td>\n",
              "      <td>0</td>\n",
              "      <td>6885</td>\n",
              "      <td>8181</td>\n",
              "      <td>241</td>\n",
              "      <td>0</td>\n",
              "      <td>8</td>\n",
              "    </tr>\n",
              "    <tr>\n",
              "      <th>1</th>\n",
              "      <td>62083</td>\n",
              "      <td>38</td>\n",
              "      <td>0</td>\n",
              "      <td>0</td>\n",
              "      <td>87</td>\n",
              "      <td>10</td>\n",
              "      <td>3</td>\n",
              "      <td>1994</td>\n",
              "      <td>1</td>\n",
              "      <td>1</td>\n",
              "      <td>4601</td>\n",
              "      <td>9237</td>\n",
              "      <td>393</td>\n",
              "      <td>1</td>\n",
              "      <td>4</td>\n",
              "    </tr>\n",
              "    <tr>\n",
              "      <th>2</th>\n",
              "      <td>90499</td>\n",
              "      <td>75</td>\n",
              "      <td>1</td>\n",
              "      <td>1</td>\n",
              "      <td>37</td>\n",
              "      <td>9</td>\n",
              "      <td>6</td>\n",
              "      <td>1997</td>\n",
              "      <td>0</td>\n",
              "      <td>1</td>\n",
              "      <td>7454</td>\n",
              "      <td>2680</td>\n",
              "      <td>305</td>\n",
              "      <td>0</td>\n",
              "      <td>2</td>\n",
              "    </tr>\n",
              "    <tr>\n",
              "      <th>3</th>\n",
              "      <td>16354</td>\n",
              "      <td>47</td>\n",
              "      <td>1</td>\n",
              "      <td>1</td>\n",
              "      <td>9</td>\n",
              "      <td>6</td>\n",
              "      <td>5</td>\n",
              "      <td>2019</td>\n",
              "      <td>1</td>\n",
              "      <td>1</td>\n",
              "      <td>705</td>\n",
              "      <td>5097</td>\n",
              "      <td>122</td>\n",
              "      <td>1</td>\n",
              "      <td>5</td>\n",
              "    </tr>\n",
              "    <tr>\n",
              "      <th>4</th>\n",
              "      <td>67510</td>\n",
              "      <td>8</td>\n",
              "      <td>0</td>\n",
              "      <td>0</td>\n",
              "      <td>55</td>\n",
              "      <td>3</td>\n",
              "      <td>7</td>\n",
              "      <td>2014</td>\n",
              "      <td>1</td>\n",
              "      <td>1</td>\n",
              "      <td>3715</td>\n",
              "      <td>7979</td>\n",
              "      <td>401</td>\n",
              "      <td>1</td>\n",
              "      <td>9</td>\n",
              "    </tr>\n",
              "    <tr>\n",
              "      <th>...</th>\n",
              "      <td>...</td>\n",
              "      <td>...</td>\n",
              "      <td>...</td>\n",
              "      <td>...</td>\n",
              "      <td>...</td>\n",
              "      <td>...</td>\n",
              "      <td>...</td>\n",
              "      <td>...</td>\n",
              "      <td>...</td>\n",
              "      <td>...</td>\n",
              "      <td>...</td>\n",
              "      <td>...</td>\n",
              "      <td>...</td>\n",
              "      <td>...</td>\n",
              "      <td>...</td>\n",
              "    </tr>\n",
              "    <tr>\n",
              "      <th>15149</th>\n",
              "      <td>86184</td>\n",
              "      <td>74</td>\n",
              "      <td>1</td>\n",
              "      <td>1</td>\n",
              "      <td>73</td>\n",
              "      <td>2</td>\n",
              "      <td>10</td>\n",
              "      <td>1993</td>\n",
              "      <td>1</td>\n",
              "      <td>0</td>\n",
              "      <td>3714</td>\n",
              "      <td>3894</td>\n",
              "      <td>665</td>\n",
              "      <td>1</td>\n",
              "      <td>1</td>\n",
              "    </tr>\n",
              "    <tr>\n",
              "      <th>15150</th>\n",
              "      <td>45885</td>\n",
              "      <td>41</td>\n",
              "      <td>1</td>\n",
              "      <td>1</td>\n",
              "      <td>64</td>\n",
              "      <td>4</td>\n",
              "      <td>5</td>\n",
              "      <td>2008</td>\n",
              "      <td>0</td>\n",
              "      <td>0</td>\n",
              "      <td>783</td>\n",
              "      <td>7628</td>\n",
              "      <td>976</td>\n",
              "      <td>0</td>\n",
              "      <td>0</td>\n",
              "    </tr>\n",
              "    <tr>\n",
              "      <th>15151</th>\n",
              "      <td>73554</td>\n",
              "      <td>51</td>\n",
              "      <td>0</td>\n",
              "      <td>0</td>\n",
              "      <td>41</td>\n",
              "      <td>10</td>\n",
              "      <td>5</td>\n",
              "      <td>2004</td>\n",
              "      <td>0</td>\n",
              "      <td>1</td>\n",
              "      <td>8207</td>\n",
              "      <td>1777</td>\n",
              "      <td>775</td>\n",
              "      <td>0</td>\n",
              "      <td>10</td>\n",
              "    </tr>\n",
              "    <tr>\n",
              "      <th>15152</th>\n",
              "      <td>77604</td>\n",
              "      <td>51</td>\n",
              "      <td>0</td>\n",
              "      <td>1</td>\n",
              "      <td>33</td>\n",
              "      <td>4</td>\n",
              "      <td>3</td>\n",
              "      <td>2019</td>\n",
              "      <td>0</td>\n",
              "      <td>0</td>\n",
              "      <td>9578</td>\n",
              "      <td>9706</td>\n",
              "      <td>135</td>\n",
              "      <td>0</td>\n",
              "      <td>2</td>\n",
              "    </tr>\n",
              "    <tr>\n",
              "      <th>15153</th>\n",
              "      <td>18179</td>\n",
              "      <td>50</td>\n",
              "      <td>1</td>\n",
              "      <td>0</td>\n",
              "      <td>41</td>\n",
              "      <td>2</td>\n",
              "      <td>2</td>\n",
              "      <td>2004</td>\n",
              "      <td>1</td>\n",
              "      <td>0</td>\n",
              "      <td>4163</td>\n",
              "      <td>9923</td>\n",
              "      <td>622</td>\n",
              "      <td>0</td>\n",
              "      <td>6</td>\n",
              "    </tr>\n",
              "  </tbody>\n",
              "</table>\n",
              "<p>15154 rows × 15 columns</p>\n",
              "</div>\n",
              "      <button class=\"colab-df-convert\" onclick=\"convertToInteractive('df-abaae29f-e8ee-4fb3-8103-5663d04df2a4')\"\n",
              "              title=\"Convert this dataframe to an interactive table.\"\n",
              "              style=\"display:none;\">\n",
              "\n",
              "  <svg xmlns=\"http://www.w3.org/2000/svg\" height=\"24px\"viewBox=\"0 0 24 24\"\n",
              "       width=\"24px\">\n",
              "    <path d=\"M0 0h24v24H0V0z\" fill=\"none\"/>\n",
              "    <path d=\"M18.56 5.44l.94 2.06.94-2.06 2.06-.94-2.06-.94-.94-2.06-.94 2.06-2.06.94zm-11 1L8.5 8.5l.94-2.06 2.06-.94-2.06-.94L8.5 2.5l-.94 2.06-2.06.94zm10 10l.94 2.06.94-2.06 2.06-.94-2.06-.94-.94-2.06-.94 2.06-2.06.94z\"/><path d=\"M17.41 7.96l-1.37-1.37c-.4-.4-.92-.59-1.43-.59-.52 0-1.04.2-1.43.59L10.3 9.45l-7.72 7.72c-.78.78-.78 2.05 0 2.83L4 21.41c.39.39.9.59 1.41.59.51 0 1.02-.2 1.41-.59l7.78-7.78 2.81-2.81c.8-.78.8-2.07 0-2.86zM5.41 20L4 18.59l7.72-7.72 1.47 1.35L5.41 20z\"/>\n",
              "  </svg>\n",
              "      </button>\n",
              "\n",
              "\n",
              "\n",
              "    <div id=\"df-965d3749-6109-4527-8615-ad143b584e55\">\n",
              "      <button class=\"colab-df-quickchart\" onclick=\"quickchart('df-965d3749-6109-4527-8615-ad143b584e55')\"\n",
              "              title=\"Suggest charts.\"\n",
              "              style=\"display:none;\">\n",
              "\n",
              "<svg xmlns=\"http://www.w3.org/2000/svg\" height=\"24px\"viewBox=\"0 0 24 24\"\n",
              "     width=\"24px\">\n",
              "    <g>\n",
              "        <path d=\"M19 3H5c-1.1 0-2 .9-2 2v14c0 1.1.9 2 2 2h14c1.1 0 2-.9 2-2V5c0-1.1-.9-2-2-2zM9 17H7v-7h2v7zm4 0h-2V7h2v10zm4 0h-2v-4h2v4z\"/>\n",
              "    </g>\n",
              "</svg>\n",
              "      </button>\n",
              "    </div>\n",
              "\n",
              "<style>\n",
              "  .colab-df-quickchart {\n",
              "    background-color: #E8F0FE;\n",
              "    border: none;\n",
              "    border-radius: 50%;\n",
              "    cursor: pointer;\n",
              "    display: none;\n",
              "    fill: #1967D2;\n",
              "    height: 32px;\n",
              "    padding: 0 0 0 0;\n",
              "    width: 32px;\n",
              "  }\n",
              "\n",
              "  .colab-df-quickchart:hover {\n",
              "    background-color: #E2EBFA;\n",
              "    box-shadow: 0px 1px 2px rgba(60, 64, 67, 0.3), 0px 1px 3px 1px rgba(60, 64, 67, 0.15);\n",
              "    fill: #174EA6;\n",
              "  }\n",
              "\n",
              "  [theme=dark] .colab-df-quickchart {\n",
              "    background-color: #3B4455;\n",
              "    fill: #D2E3FC;\n",
              "  }\n",
              "\n",
              "  [theme=dark] .colab-df-quickchart:hover {\n",
              "    background-color: #434B5C;\n",
              "    box-shadow: 0px 1px 3px 1px rgba(0, 0, 0, 0.15);\n",
              "    filter: drop-shadow(0px 1px 2px rgba(0, 0, 0, 0.3));\n",
              "    fill: #FFFFFF;\n",
              "  }\n",
              "</style>\n",
              "\n",
              "    <script>\n",
              "      async function quickchart(key) {\n",
              "        const containerElement = document.querySelector('#' + key);\n",
              "        const charts = await google.colab.kernel.invokeFunction(\n",
              "            'suggestCharts', [key], {});\n",
              "      }\n",
              "    </script>\n",
              "\n",
              "      <script>\n",
              "\n",
              "function displayQuickchartButton(domScope) {\n",
              "  let quickchartButtonEl =\n",
              "    domScope.querySelector('#df-965d3749-6109-4527-8615-ad143b584e55 button.colab-df-quickchart');\n",
              "  quickchartButtonEl.style.display =\n",
              "    google.colab.kernel.accessAllowed ? 'block' : 'none';\n",
              "}\n",
              "\n",
              "        displayQuickchartButton(document);\n",
              "      </script>\n",
              "      <style>\n",
              "    .colab-df-container {\n",
              "      display:flex;\n",
              "      flex-wrap:wrap;\n",
              "      gap: 12px;\n",
              "    }\n",
              "\n",
              "    .colab-df-convert {\n",
              "      background-color: #E8F0FE;\n",
              "      border: none;\n",
              "      border-radius: 50%;\n",
              "      cursor: pointer;\n",
              "      display: none;\n",
              "      fill: #1967D2;\n",
              "      height: 32px;\n",
              "      padding: 0 0 0 0;\n",
              "      width: 32px;\n",
              "    }\n",
              "\n",
              "    .colab-df-convert:hover {\n",
              "      background-color: #E2EBFA;\n",
              "      box-shadow: 0px 1px 2px rgba(60, 64, 67, 0.3), 0px 1px 3px 1px rgba(60, 64, 67, 0.15);\n",
              "      fill: #174EA6;\n",
              "    }\n",
              "\n",
              "    [theme=dark] .colab-df-convert {\n",
              "      background-color: #3B4455;\n",
              "      fill: #D2E3FC;\n",
              "    }\n",
              "\n",
              "    [theme=dark] .colab-df-convert:hover {\n",
              "      background-color: #434B5C;\n",
              "      box-shadow: 0px 1px 3px 1px rgba(0, 0, 0, 0.15);\n",
              "      filter: drop-shadow(0px 1px 2px rgba(0, 0, 0, 0.3));\n",
              "      fill: #FFFFFF;\n",
              "    }\n",
              "  </style>\n",
              "\n",
              "      <script>\n",
              "        const buttonEl =\n",
              "          document.querySelector('#df-abaae29f-e8ee-4fb3-8103-5663d04df2a4 button.colab-df-convert');\n",
              "        buttonEl.style.display =\n",
              "          google.colab.kernel.accessAllowed ? 'block' : 'none';\n",
              "\n",
              "        async function convertToInteractive(key) {\n",
              "          const element = document.querySelector('#df-abaae29f-e8ee-4fb3-8103-5663d04df2a4');\n",
              "          const dataTable =\n",
              "            await google.colab.kernel.invokeFunction('convertToInteractive',\n",
              "                                                     [key], {});\n",
              "          if (!dataTable) return;\n",
              "\n",
              "          const docLinkHtml = 'Like what you see? Visit the ' +\n",
              "            '<a target=\"_blank\" href=https://colab.research.google.com/notebooks/data_table.ipynb>data table notebook</a>'\n",
              "            + ' to learn more about interactive tables.';\n",
              "          element.innerHTML = '';\n",
              "          dataTable['output_type'] = 'display_data';\n",
              "          await google.colab.output.renderOutput(dataTable, element);\n",
              "          const docLink = document.createElement('div');\n",
              "          docLink.innerHTML = docLinkHtml;\n",
              "          element.appendChild(docLink);\n",
              "        }\n",
              "      </script>\n",
              "    </div>\n",
              "  </div>\n"
            ]
          },
          "metadata": {},
          "execution_count": 4
        }
      ]
    },
    {
      "cell_type": "code",
      "source": [
        "data_train"
      ],
      "metadata": {
        "colab": {
          "base_uri": "https://localhost:8080/",
          "height": 488
        },
        "id": "U5djHT0F8JL1",
        "outputId": "d05101d7-5034-409d-9794-1a6fc08b41d5"
      },
      "execution_count": 5,
      "outputs": [
        {
          "output_type": "execute_result",
          "data": {
            "text/plain": [
              "       squareMeters  numberOfRooms  hasYard  hasPool  floors  cityPartRange  \\\n",
              "0             34291             24        1        0      47              2   \n",
              "1             95145             60        0        1      60              1   \n",
              "2             92661             45        1        1      62              4   \n",
              "3             97184             99        0        0      59              1   \n",
              "4             61752            100        0        0      57              8   \n",
              "...             ...            ...      ...      ...     ...            ...   \n",
              "22725         55825             84        1        0      70              3   \n",
              "22726         65870             88        1        0      49              9   \n",
              "22727         93192             42        1        0      39             10   \n",
              "22728         65797             86        1        0      89              2   \n",
              "22729         82244             18        1        0      38              1   \n",
              "\n",
              "       numPrevOwners  made  isNewBuilt  hasStormProtector  basement  attic  \\\n",
              "0                  1  2000           0                  1         8   5196   \n",
              "1                  4  2000           0                  1       729   4496   \n",
              "2                  8  2020           1                  1      7473   8953   \n",
              "3                  1  2000           0                  1      6424   8522   \n",
              "4                  4  2018           1                  0      7151   2786   \n",
              "...              ...   ...         ...                ...       ...    ...   \n",
              "22725             10  2000           0                  0      4477    786   \n",
              "22726              9  2015           0                  1      4811   2454   \n",
              "22727              5  2014           1                  0      5595   4072   \n",
              "22728             10  2000           1                  0      5358   2513   \n",
              "22729              9  2018           1                  0      6294   1291   \n",
              "\n",
              "       garage  hasStorageRoom  hasGuestRoom      price  \n",
              "0         369               0             3  3436795.2  \n",
              "1         277               0             6  9519958.0  \n",
              "2         245               1             9  9276448.1  \n",
              "3         256               1             9  9725732.2  \n",
              "4         863               0             7  6181908.8  \n",
              "...       ...             ...           ...        ...  \n",
              "22725     345               0             0  5594137.1  \n",
              "22726     755               0             7  6594705.0  \n",
              "22727     789               0             0  9321511.4  \n",
              "22728     411               0             0  6584708.2  \n",
              "22729     572               0             6  8231424.8  \n",
              "\n",
              "[22730 rows x 16 columns]"
            ],
            "text/html": [
              "\n",
              "\n",
              "  <div id=\"df-cc5d692b-5231-429e-a5fa-c9cf08087617\">\n",
              "    <div class=\"colab-df-container\">\n",
              "      <div>\n",
              "<style scoped>\n",
              "    .dataframe tbody tr th:only-of-type {\n",
              "        vertical-align: middle;\n",
              "    }\n",
              "\n",
              "    .dataframe tbody tr th {\n",
              "        vertical-align: top;\n",
              "    }\n",
              "\n",
              "    .dataframe thead th {\n",
              "        text-align: right;\n",
              "    }\n",
              "</style>\n",
              "<table border=\"1\" class=\"dataframe\">\n",
              "  <thead>\n",
              "    <tr style=\"text-align: right;\">\n",
              "      <th></th>\n",
              "      <th>squareMeters</th>\n",
              "      <th>numberOfRooms</th>\n",
              "      <th>hasYard</th>\n",
              "      <th>hasPool</th>\n",
              "      <th>floors</th>\n",
              "      <th>cityPartRange</th>\n",
              "      <th>numPrevOwners</th>\n",
              "      <th>made</th>\n",
              "      <th>isNewBuilt</th>\n",
              "      <th>hasStormProtector</th>\n",
              "      <th>basement</th>\n",
              "      <th>attic</th>\n",
              "      <th>garage</th>\n",
              "      <th>hasStorageRoom</th>\n",
              "      <th>hasGuestRoom</th>\n",
              "      <th>price</th>\n",
              "    </tr>\n",
              "  </thead>\n",
              "  <tbody>\n",
              "    <tr>\n",
              "      <th>0</th>\n",
              "      <td>34291</td>\n",
              "      <td>24</td>\n",
              "      <td>1</td>\n",
              "      <td>0</td>\n",
              "      <td>47</td>\n",
              "      <td>2</td>\n",
              "      <td>1</td>\n",
              "      <td>2000</td>\n",
              "      <td>0</td>\n",
              "      <td>1</td>\n",
              "      <td>8</td>\n",
              "      <td>5196</td>\n",
              "      <td>369</td>\n",
              "      <td>0</td>\n",
              "      <td>3</td>\n",
              "      <td>3436795.2</td>\n",
              "    </tr>\n",
              "    <tr>\n",
              "      <th>1</th>\n",
              "      <td>95145</td>\n",
              "      <td>60</td>\n",
              "      <td>0</td>\n",
              "      <td>1</td>\n",
              "      <td>60</td>\n",
              "      <td>1</td>\n",
              "      <td>4</td>\n",
              "      <td>2000</td>\n",
              "      <td>0</td>\n",
              "      <td>1</td>\n",
              "      <td>729</td>\n",
              "      <td>4496</td>\n",
              "      <td>277</td>\n",
              "      <td>0</td>\n",
              "      <td>6</td>\n",
              "      <td>9519958.0</td>\n",
              "    </tr>\n",
              "    <tr>\n",
              "      <th>2</th>\n",
              "      <td>92661</td>\n",
              "      <td>45</td>\n",
              "      <td>1</td>\n",
              "      <td>1</td>\n",
              "      <td>62</td>\n",
              "      <td>4</td>\n",
              "      <td>8</td>\n",
              "      <td>2020</td>\n",
              "      <td>1</td>\n",
              "      <td>1</td>\n",
              "      <td>7473</td>\n",
              "      <td>8953</td>\n",
              "      <td>245</td>\n",
              "      <td>1</td>\n",
              "      <td>9</td>\n",
              "      <td>9276448.1</td>\n",
              "    </tr>\n",
              "    <tr>\n",
              "      <th>3</th>\n",
              "      <td>97184</td>\n",
              "      <td>99</td>\n",
              "      <td>0</td>\n",
              "      <td>0</td>\n",
              "      <td>59</td>\n",
              "      <td>1</td>\n",
              "      <td>1</td>\n",
              "      <td>2000</td>\n",
              "      <td>0</td>\n",
              "      <td>1</td>\n",
              "      <td>6424</td>\n",
              "      <td>8522</td>\n",
              "      <td>256</td>\n",
              "      <td>1</td>\n",
              "      <td>9</td>\n",
              "      <td>9725732.2</td>\n",
              "    </tr>\n",
              "    <tr>\n",
              "      <th>4</th>\n",
              "      <td>61752</td>\n",
              "      <td>100</td>\n",
              "      <td>0</td>\n",
              "      <td>0</td>\n",
              "      <td>57</td>\n",
              "      <td>8</td>\n",
              "      <td>4</td>\n",
              "      <td>2018</td>\n",
              "      <td>1</td>\n",
              "      <td>0</td>\n",
              "      <td>7151</td>\n",
              "      <td>2786</td>\n",
              "      <td>863</td>\n",
              "      <td>0</td>\n",
              "      <td>7</td>\n",
              "      <td>6181908.8</td>\n",
              "    </tr>\n",
              "    <tr>\n",
              "      <th>...</th>\n",
              "      <td>...</td>\n",
              "      <td>...</td>\n",
              "      <td>...</td>\n",
              "      <td>...</td>\n",
              "      <td>...</td>\n",
              "      <td>...</td>\n",
              "      <td>...</td>\n",
              "      <td>...</td>\n",
              "      <td>...</td>\n",
              "      <td>...</td>\n",
              "      <td>...</td>\n",
              "      <td>...</td>\n",
              "      <td>...</td>\n",
              "      <td>...</td>\n",
              "      <td>...</td>\n",
              "      <td>...</td>\n",
              "    </tr>\n",
              "    <tr>\n",
              "      <th>22725</th>\n",
              "      <td>55825</td>\n",
              "      <td>84</td>\n",
              "      <td>1</td>\n",
              "      <td>0</td>\n",
              "      <td>70</td>\n",
              "      <td>3</td>\n",
              "      <td>10</td>\n",
              "      <td>2000</td>\n",
              "      <td>0</td>\n",
              "      <td>0</td>\n",
              "      <td>4477</td>\n",
              "      <td>786</td>\n",
              "      <td>345</td>\n",
              "      <td>0</td>\n",
              "      <td>0</td>\n",
              "      <td>5594137.1</td>\n",
              "    </tr>\n",
              "    <tr>\n",
              "      <th>22726</th>\n",
              "      <td>65870</td>\n",
              "      <td>88</td>\n",
              "      <td>1</td>\n",
              "      <td>0</td>\n",
              "      <td>49</td>\n",
              "      <td>9</td>\n",
              "      <td>9</td>\n",
              "      <td>2015</td>\n",
              "      <td>0</td>\n",
              "      <td>1</td>\n",
              "      <td>4811</td>\n",
              "      <td>2454</td>\n",
              "      <td>755</td>\n",
              "      <td>0</td>\n",
              "      <td>7</td>\n",
              "      <td>6594705.0</td>\n",
              "    </tr>\n",
              "    <tr>\n",
              "      <th>22727</th>\n",
              "      <td>93192</td>\n",
              "      <td>42</td>\n",
              "      <td>1</td>\n",
              "      <td>0</td>\n",
              "      <td>39</td>\n",
              "      <td>10</td>\n",
              "      <td>5</td>\n",
              "      <td>2014</td>\n",
              "      <td>1</td>\n",
              "      <td>0</td>\n",
              "      <td>5595</td>\n",
              "      <td>4072</td>\n",
              "      <td>789</td>\n",
              "      <td>0</td>\n",
              "      <td>0</td>\n",
              "      <td>9321511.4</td>\n",
              "    </tr>\n",
              "    <tr>\n",
              "      <th>22728</th>\n",
              "      <td>65797</td>\n",
              "      <td>86</td>\n",
              "      <td>1</td>\n",
              "      <td>0</td>\n",
              "      <td>89</td>\n",
              "      <td>2</td>\n",
              "      <td>10</td>\n",
              "      <td>2000</td>\n",
              "      <td>1</td>\n",
              "      <td>0</td>\n",
              "      <td>5358</td>\n",
              "      <td>2513</td>\n",
              "      <td>411</td>\n",
              "      <td>0</td>\n",
              "      <td>0</td>\n",
              "      <td>6584708.2</td>\n",
              "    </tr>\n",
              "    <tr>\n",
              "      <th>22729</th>\n",
              "      <td>82244</td>\n",
              "      <td>18</td>\n",
              "      <td>1</td>\n",
              "      <td>0</td>\n",
              "      <td>38</td>\n",
              "      <td>1</td>\n",
              "      <td>9</td>\n",
              "      <td>2018</td>\n",
              "      <td>1</td>\n",
              "      <td>0</td>\n",
              "      <td>6294</td>\n",
              "      <td>1291</td>\n",
              "      <td>572</td>\n",
              "      <td>0</td>\n",
              "      <td>6</td>\n",
              "      <td>8231424.8</td>\n",
              "    </tr>\n",
              "  </tbody>\n",
              "</table>\n",
              "<p>22730 rows × 16 columns</p>\n",
              "</div>\n",
              "      <button class=\"colab-df-convert\" onclick=\"convertToInteractive('df-cc5d692b-5231-429e-a5fa-c9cf08087617')\"\n",
              "              title=\"Convert this dataframe to an interactive table.\"\n",
              "              style=\"display:none;\">\n",
              "\n",
              "  <svg xmlns=\"http://www.w3.org/2000/svg\" height=\"24px\"viewBox=\"0 0 24 24\"\n",
              "       width=\"24px\">\n",
              "    <path d=\"M0 0h24v24H0V0z\" fill=\"none\"/>\n",
              "    <path d=\"M18.56 5.44l.94 2.06.94-2.06 2.06-.94-2.06-.94-.94-2.06-.94 2.06-2.06.94zm-11 1L8.5 8.5l.94-2.06 2.06-.94-2.06-.94L8.5 2.5l-.94 2.06-2.06.94zm10 10l.94 2.06.94-2.06 2.06-.94-2.06-.94-.94-2.06-.94 2.06-2.06.94z\"/><path d=\"M17.41 7.96l-1.37-1.37c-.4-.4-.92-.59-1.43-.59-.52 0-1.04.2-1.43.59L10.3 9.45l-7.72 7.72c-.78.78-.78 2.05 0 2.83L4 21.41c.39.39.9.59 1.41.59.51 0 1.02-.2 1.41-.59l7.78-7.78 2.81-2.81c.8-.78.8-2.07 0-2.86zM5.41 20L4 18.59l7.72-7.72 1.47 1.35L5.41 20z\"/>\n",
              "  </svg>\n",
              "      </button>\n",
              "\n",
              "\n",
              "\n",
              "    <div id=\"df-13369488-427e-4452-b129-2d83d8fa1f77\">\n",
              "      <button class=\"colab-df-quickchart\" onclick=\"quickchart('df-13369488-427e-4452-b129-2d83d8fa1f77')\"\n",
              "              title=\"Suggest charts.\"\n",
              "              style=\"display:none;\">\n",
              "\n",
              "<svg xmlns=\"http://www.w3.org/2000/svg\" height=\"24px\"viewBox=\"0 0 24 24\"\n",
              "     width=\"24px\">\n",
              "    <g>\n",
              "        <path d=\"M19 3H5c-1.1 0-2 .9-2 2v14c0 1.1.9 2 2 2h14c1.1 0 2-.9 2-2V5c0-1.1-.9-2-2-2zM9 17H7v-7h2v7zm4 0h-2V7h2v10zm4 0h-2v-4h2v4z\"/>\n",
              "    </g>\n",
              "</svg>\n",
              "      </button>\n",
              "    </div>\n",
              "\n",
              "<style>\n",
              "  .colab-df-quickchart {\n",
              "    background-color: #E8F0FE;\n",
              "    border: none;\n",
              "    border-radius: 50%;\n",
              "    cursor: pointer;\n",
              "    display: none;\n",
              "    fill: #1967D2;\n",
              "    height: 32px;\n",
              "    padding: 0 0 0 0;\n",
              "    width: 32px;\n",
              "  }\n",
              "\n",
              "  .colab-df-quickchart:hover {\n",
              "    background-color: #E2EBFA;\n",
              "    box-shadow: 0px 1px 2px rgba(60, 64, 67, 0.3), 0px 1px 3px 1px rgba(60, 64, 67, 0.15);\n",
              "    fill: #174EA6;\n",
              "  }\n",
              "\n",
              "  [theme=dark] .colab-df-quickchart {\n",
              "    background-color: #3B4455;\n",
              "    fill: #D2E3FC;\n",
              "  }\n",
              "\n",
              "  [theme=dark] .colab-df-quickchart:hover {\n",
              "    background-color: #434B5C;\n",
              "    box-shadow: 0px 1px 3px 1px rgba(0, 0, 0, 0.15);\n",
              "    filter: drop-shadow(0px 1px 2px rgba(0, 0, 0, 0.3));\n",
              "    fill: #FFFFFF;\n",
              "  }\n",
              "</style>\n",
              "\n",
              "    <script>\n",
              "      async function quickchart(key) {\n",
              "        const containerElement = document.querySelector('#' + key);\n",
              "        const charts = await google.colab.kernel.invokeFunction(\n",
              "            'suggestCharts', [key], {});\n",
              "      }\n",
              "    </script>\n",
              "\n",
              "      <script>\n",
              "\n",
              "function displayQuickchartButton(domScope) {\n",
              "  let quickchartButtonEl =\n",
              "    domScope.querySelector('#df-13369488-427e-4452-b129-2d83d8fa1f77 button.colab-df-quickchart');\n",
              "  quickchartButtonEl.style.display =\n",
              "    google.colab.kernel.accessAllowed ? 'block' : 'none';\n",
              "}\n",
              "\n",
              "        displayQuickchartButton(document);\n",
              "      </script>\n",
              "      <style>\n",
              "    .colab-df-container {\n",
              "      display:flex;\n",
              "      flex-wrap:wrap;\n",
              "      gap: 12px;\n",
              "    }\n",
              "\n",
              "    .colab-df-convert {\n",
              "      background-color: #E8F0FE;\n",
              "      border: none;\n",
              "      border-radius: 50%;\n",
              "      cursor: pointer;\n",
              "      display: none;\n",
              "      fill: #1967D2;\n",
              "      height: 32px;\n",
              "      padding: 0 0 0 0;\n",
              "      width: 32px;\n",
              "    }\n",
              "\n",
              "    .colab-df-convert:hover {\n",
              "      background-color: #E2EBFA;\n",
              "      box-shadow: 0px 1px 2px rgba(60, 64, 67, 0.3), 0px 1px 3px 1px rgba(60, 64, 67, 0.15);\n",
              "      fill: #174EA6;\n",
              "    }\n",
              "\n",
              "    [theme=dark] .colab-df-convert {\n",
              "      background-color: #3B4455;\n",
              "      fill: #D2E3FC;\n",
              "    }\n",
              "\n",
              "    [theme=dark] .colab-df-convert:hover {\n",
              "      background-color: #434B5C;\n",
              "      box-shadow: 0px 1px 3px 1px rgba(0, 0, 0, 0.15);\n",
              "      filter: drop-shadow(0px 1px 2px rgba(0, 0, 0, 0.3));\n",
              "      fill: #FFFFFF;\n",
              "    }\n",
              "  </style>\n",
              "\n",
              "      <script>\n",
              "        const buttonEl =\n",
              "          document.querySelector('#df-cc5d692b-5231-429e-a5fa-c9cf08087617 button.colab-df-convert');\n",
              "        buttonEl.style.display =\n",
              "          google.colab.kernel.accessAllowed ? 'block' : 'none';\n",
              "\n",
              "        async function convertToInteractive(key) {\n",
              "          const element = document.querySelector('#df-cc5d692b-5231-429e-a5fa-c9cf08087617');\n",
              "          const dataTable =\n",
              "            await google.colab.kernel.invokeFunction('convertToInteractive',\n",
              "                                                     [key], {});\n",
              "          if (!dataTable) return;\n",
              "\n",
              "          const docLinkHtml = 'Like what you see? Visit the ' +\n",
              "            '<a target=\"_blank\" href=https://colab.research.google.com/notebooks/data_table.ipynb>data table notebook</a>'\n",
              "            + ' to learn more about interactive tables.';\n",
              "          element.innerHTML = '';\n",
              "          dataTable['output_type'] = 'display_data';\n",
              "          await google.colab.output.renderOutput(dataTable, element);\n",
              "          const docLink = document.createElement('div');\n",
              "          docLink.innerHTML = docLinkHtml;\n",
              "          element.appendChild(docLink);\n",
              "        }\n",
              "      </script>\n",
              "    </div>\n",
              "  </div>\n"
            ]
          },
          "metadata": {},
          "execution_count": 5
        }
      ]
    },
    {
      "cell_type": "markdown",
      "source": [
        "## Разведочный анализ данных"
      ],
      "metadata": {
        "id": "QqGRNrJP6fIs"
      }
    },
    {
      "cell_type": "markdown",
      "source": [
        "### Общий анализ данных"
      ],
      "metadata": {
        "id": "vVIUmniyDYCN"
      }
    },
    {
      "cell_type": "code",
      "source": [
        "pd.value_counts(data_train.dtypes)"
      ],
      "metadata": {
        "colab": {
          "base_uri": "https://localhost:8080/"
        },
        "id": "UDD0QxqRDeb1",
        "outputId": "27d86f52-ab06-4287-f2e5-e357ddf98c66"
      },
      "execution_count": 6,
      "outputs": [
        {
          "output_type": "execute_result",
          "data": {
            "text/plain": [
              "int64      15\n",
              "float64     1\n",
              "dtype: int64"
            ]
          },
          "metadata": {},
          "execution_count": 6
        }
      ]
    },
    {
      "cell_type": "code",
      "source": [
        "pd.value_counts(data_test.dtypes)"
      ],
      "metadata": {
        "colab": {
          "base_uri": "https://localhost:8080/"
        },
        "id": "iau2Oy33Dhp-",
        "outputId": "abe59857-0293-4841-ba82-0f42966291ad"
      },
      "execution_count": 7,
      "outputs": [
        {
          "output_type": "execute_result",
          "data": {
            "text/plain": [
              "int64    15\n",
              "dtype: int64"
            ]
          },
          "metadata": {},
          "execution_count": 7
        }
      ]
    },
    {
      "cell_type": "code",
      "source": [
        "data_test = data_train.astype({\"hasYard\":\"category\",\"hasPool\":\"category\",\"isNewBuilt\":\"category\",\"hasStormProtector\":\"category\",\"hasStorageRoom\":\"category\"})\n",
        "data_train = data_train.astype({\"hasYard\":\"category\",\"hasPool\":\"category\",\"isNewBuilt\":\"category\",\"hasStormProtector\":\"category\",\"hasStorageRoom\":\"category\"})"
      ],
      "metadata": {
        "id": "hS-g5QbQB-E0"
      },
      "execution_count": 8,
      "outputs": []
    },
    {
      "cell_type": "code",
      "source": [
        "test_cat_cols = [\"hasYard\",\"hasPool\",\"isNewBuilt\",\"hasStormProtector\",\"hasStorageRoom\"]\n",
        "train_cat_cols = [\"hasYard\",\"hasPool\",\"isNewBuilt\",\"hasStormProtector\",\"hasStorageRoom\"]"
      ],
      "metadata": {
        "id": "q8noa8tbCC9a"
      },
      "execution_count": 9,
      "outputs": []
    },
    {
      "cell_type": "code",
      "source": [
        "test_num_cols = ['squareMeters', 'numberOfRooms', 'floors', 'cityPartRange', 'numPrevOwners', \"basement\", \"attic\", \"garage\", \"hasGuestRoom\", \"made\"]\n",
        "train_num_cols = ['squareMeters', 'numberOfRooms', 'floors', 'cityPartRange', 'numPrevOwners', \"basement\", \"attic\", \"garage\", \"hasGuestRoom\", \"made\"]"
      ],
      "metadata": {
        "id": "e5FHjbs4CEsD"
      },
      "execution_count": 10,
      "outputs": []
    },
    {
      "cell_type": "markdown",
      "source": [
        "### Сколько строк в датафрейме, сколько столбцов"
      ],
      "metadata": {
        "id": "SbsQWL0C6s5F"
      }
    },
    {
      "cell_type": "code",
      "source": [
        "# Вывод информации о датасете\n",
        "print(f'Информация о датасете: \\n {data_train.shape[0]}: строк\\n {data_train.shape[1]}: столбцов\\n')"
      ],
      "metadata": {
        "colab": {
          "base_uri": "https://localhost:8080/"
        },
        "id": "eVvLo7UT8YLm",
        "outputId": "44ba10b3-3d7c-4d83-8d4f-8bb472871cd1"
      },
      "execution_count": 11,
      "outputs": [
        {
          "output_type": "stream",
          "name": "stdout",
          "text": [
            "Информация о датасете: \n",
            " 22730: строк\n",
            " 16: столбцов\n",
            "\n"
          ]
        }
      ]
    },
    {
      "cell_type": "markdown",
      "source": [
        "### Сколько места занимает датафрейм в оперативной памяти"
      ],
      "metadata": {
        "id": "j0MzccKG63nN"
      }
    },
    {
      "cell_type": "code",
      "source": [
        "print(f'{np.round(data_train.memory_usage(index=True).sum() / 1024, 4)} КБ: занимаемый объем памяти')"
      ],
      "metadata": {
        "colab": {
          "base_uri": "https://localhost:8080/"
        },
        "id": "bJ4wp-Rl-oAx",
        "outputId": "496d25b7-7a24-4119-c95d-320aff63f01b"
      },
      "execution_count": 12,
      "outputs": [
        {
          "output_type": "stream",
          "name": "stdout",
          "text": [
            "2065.0762 КБ: занимаемый объем памяти\n"
          ]
        }
      ]
    },
    {
      "cell_type": "markdown",
      "source": [
        "### Для каждой интервальной переменной подсчитать следующее - мин, медиана, среднее, макс и персентили 25, 75"
      ],
      "metadata": {
        "id": "KamZ5WtD66yN"
      }
    },
    {
      "cell_type": "code",
      "source": [
        "data_train[train_num_cols].describe()"
      ],
      "metadata": {
        "colab": {
          "base_uri": "https://localhost:8080/",
          "height": 0
        },
        "id": "325JH5a0-1XA",
        "outputId": "8c219529-a430-4c3c-91b1-a69e844cea13"
      },
      "execution_count": 13,
      "outputs": [
        {
          "output_type": "execute_result",
          "data": {
            "text/plain": [
              "       squareMeters  numberOfRooms        floors  cityPartRange  \\\n",
              "count  2.273000e+04   22730.000000  22730.000000   22730.000000   \n",
              "mean   4.658622e+04      48.241091     47.305983       5.585042   \n",
              "std    4.952124e+04      28.226428     47.777207       2.739533   \n",
              "min    8.900000e+01       1.000000      1.000000       1.000000   \n",
              "25%    2.039275e+04      25.000000     25.000000       3.000000   \n",
              "50%    4.448400e+04      47.000000     45.000000       6.000000   \n",
              "75%    7.154700e+04      75.000000     69.000000       8.000000   \n",
              "max    6.071330e+06     100.000000   6000.000000      10.000000   \n",
              "\n",
              "       numPrevOwners      basement         attic        garage  hasGuestRoom  \\\n",
              "count   22730.000000  22730.000000  22730.000000  22730.000000  22730.000000   \n",
              "mean        5.620766   5283.646634   5067.981698    530.469644      5.153058   \n",
              "std         2.713026   3047.084412   3097.347939    274.840604      3.055246   \n",
              "min         1.000000      4.000000      1.000000      4.000000      0.000000   \n",
              "25%         3.000000   2977.250000   2599.000000    297.000000      3.000000   \n",
              "50%         6.000000   5359.000000   4977.000000    515.000000      5.000000   \n",
              "75%         8.000000   7746.000000   7652.000000    767.000000      8.000000   \n",
              "max        10.000000  91992.000000  96381.000000   9017.000000     10.000000   \n",
              "\n",
              "               made  \n",
              "count  22730.000000  \n",
              "mean    2008.005059  \n",
              "std      118.826777  \n",
              "min     1990.000000  \n",
              "25%     2000.000000  \n",
              "50%     2006.000000  \n",
              "75%     2014.000000  \n",
              "max    10000.000000  "
            ],
            "text/html": [
              "\n",
              "\n",
              "  <div id=\"df-54c0ec2a-7b31-4d82-ad5e-a92e43495ff9\">\n",
              "    <div class=\"colab-df-container\">\n",
              "      <div>\n",
              "<style scoped>\n",
              "    .dataframe tbody tr th:only-of-type {\n",
              "        vertical-align: middle;\n",
              "    }\n",
              "\n",
              "    .dataframe tbody tr th {\n",
              "        vertical-align: top;\n",
              "    }\n",
              "\n",
              "    .dataframe thead th {\n",
              "        text-align: right;\n",
              "    }\n",
              "</style>\n",
              "<table border=\"1\" class=\"dataframe\">\n",
              "  <thead>\n",
              "    <tr style=\"text-align: right;\">\n",
              "      <th></th>\n",
              "      <th>squareMeters</th>\n",
              "      <th>numberOfRooms</th>\n",
              "      <th>floors</th>\n",
              "      <th>cityPartRange</th>\n",
              "      <th>numPrevOwners</th>\n",
              "      <th>basement</th>\n",
              "      <th>attic</th>\n",
              "      <th>garage</th>\n",
              "      <th>hasGuestRoom</th>\n",
              "      <th>made</th>\n",
              "    </tr>\n",
              "  </thead>\n",
              "  <tbody>\n",
              "    <tr>\n",
              "      <th>count</th>\n",
              "      <td>2.273000e+04</td>\n",
              "      <td>22730.000000</td>\n",
              "      <td>22730.000000</td>\n",
              "      <td>22730.000000</td>\n",
              "      <td>22730.000000</td>\n",
              "      <td>22730.000000</td>\n",
              "      <td>22730.000000</td>\n",
              "      <td>22730.000000</td>\n",
              "      <td>22730.000000</td>\n",
              "      <td>22730.000000</td>\n",
              "    </tr>\n",
              "    <tr>\n",
              "      <th>mean</th>\n",
              "      <td>4.658622e+04</td>\n",
              "      <td>48.241091</td>\n",
              "      <td>47.305983</td>\n",
              "      <td>5.585042</td>\n",
              "      <td>5.620766</td>\n",
              "      <td>5283.646634</td>\n",
              "      <td>5067.981698</td>\n",
              "      <td>530.469644</td>\n",
              "      <td>5.153058</td>\n",
              "      <td>2008.005059</td>\n",
              "    </tr>\n",
              "    <tr>\n",
              "      <th>std</th>\n",
              "      <td>4.952124e+04</td>\n",
              "      <td>28.226428</td>\n",
              "      <td>47.777207</td>\n",
              "      <td>2.739533</td>\n",
              "      <td>2.713026</td>\n",
              "      <td>3047.084412</td>\n",
              "      <td>3097.347939</td>\n",
              "      <td>274.840604</td>\n",
              "      <td>3.055246</td>\n",
              "      <td>118.826777</td>\n",
              "    </tr>\n",
              "    <tr>\n",
              "      <th>min</th>\n",
              "      <td>8.900000e+01</td>\n",
              "      <td>1.000000</td>\n",
              "      <td>1.000000</td>\n",
              "      <td>1.000000</td>\n",
              "      <td>1.000000</td>\n",
              "      <td>4.000000</td>\n",
              "      <td>1.000000</td>\n",
              "      <td>4.000000</td>\n",
              "      <td>0.000000</td>\n",
              "      <td>1990.000000</td>\n",
              "    </tr>\n",
              "    <tr>\n",
              "      <th>25%</th>\n",
              "      <td>2.039275e+04</td>\n",
              "      <td>25.000000</td>\n",
              "      <td>25.000000</td>\n",
              "      <td>3.000000</td>\n",
              "      <td>3.000000</td>\n",
              "      <td>2977.250000</td>\n",
              "      <td>2599.000000</td>\n",
              "      <td>297.000000</td>\n",
              "      <td>3.000000</td>\n",
              "      <td>2000.000000</td>\n",
              "    </tr>\n",
              "    <tr>\n",
              "      <th>50%</th>\n",
              "      <td>4.448400e+04</td>\n",
              "      <td>47.000000</td>\n",
              "      <td>45.000000</td>\n",
              "      <td>6.000000</td>\n",
              "      <td>6.000000</td>\n",
              "      <td>5359.000000</td>\n",
              "      <td>4977.000000</td>\n",
              "      <td>515.000000</td>\n",
              "      <td>5.000000</td>\n",
              "      <td>2006.000000</td>\n",
              "    </tr>\n",
              "    <tr>\n",
              "      <th>75%</th>\n",
              "      <td>7.154700e+04</td>\n",
              "      <td>75.000000</td>\n",
              "      <td>69.000000</td>\n",
              "      <td>8.000000</td>\n",
              "      <td>8.000000</td>\n",
              "      <td>7746.000000</td>\n",
              "      <td>7652.000000</td>\n",
              "      <td>767.000000</td>\n",
              "      <td>8.000000</td>\n",
              "      <td>2014.000000</td>\n",
              "    </tr>\n",
              "    <tr>\n",
              "      <th>max</th>\n",
              "      <td>6.071330e+06</td>\n",
              "      <td>100.000000</td>\n",
              "      <td>6000.000000</td>\n",
              "      <td>10.000000</td>\n",
              "      <td>10.000000</td>\n",
              "      <td>91992.000000</td>\n",
              "      <td>96381.000000</td>\n",
              "      <td>9017.000000</td>\n",
              "      <td>10.000000</td>\n",
              "      <td>10000.000000</td>\n",
              "    </tr>\n",
              "  </tbody>\n",
              "</table>\n",
              "</div>\n",
              "      <button class=\"colab-df-convert\" onclick=\"convertToInteractive('df-54c0ec2a-7b31-4d82-ad5e-a92e43495ff9')\"\n",
              "              title=\"Convert this dataframe to an interactive table.\"\n",
              "              style=\"display:none;\">\n",
              "\n",
              "  <svg xmlns=\"http://www.w3.org/2000/svg\" height=\"24px\"viewBox=\"0 0 24 24\"\n",
              "       width=\"24px\">\n",
              "    <path d=\"M0 0h24v24H0V0z\" fill=\"none\"/>\n",
              "    <path d=\"M18.56 5.44l.94 2.06.94-2.06 2.06-.94-2.06-.94-.94-2.06-.94 2.06-2.06.94zm-11 1L8.5 8.5l.94-2.06 2.06-.94-2.06-.94L8.5 2.5l-.94 2.06-2.06.94zm10 10l.94 2.06.94-2.06 2.06-.94-2.06-.94-.94-2.06-.94 2.06-2.06.94z\"/><path d=\"M17.41 7.96l-1.37-1.37c-.4-.4-.92-.59-1.43-.59-.52 0-1.04.2-1.43.59L10.3 9.45l-7.72 7.72c-.78.78-.78 2.05 0 2.83L4 21.41c.39.39.9.59 1.41.59.51 0 1.02-.2 1.41-.59l7.78-7.78 2.81-2.81c.8-.78.8-2.07 0-2.86zM5.41 20L4 18.59l7.72-7.72 1.47 1.35L5.41 20z\"/>\n",
              "  </svg>\n",
              "      </button>\n",
              "\n",
              "\n",
              "\n",
              "    <div id=\"df-0806868a-ab48-4fe1-b0a1-e725d1a13942\">\n",
              "      <button class=\"colab-df-quickchart\" onclick=\"quickchart('df-0806868a-ab48-4fe1-b0a1-e725d1a13942')\"\n",
              "              title=\"Suggest charts.\"\n",
              "              style=\"display:none;\">\n",
              "\n",
              "<svg xmlns=\"http://www.w3.org/2000/svg\" height=\"24px\"viewBox=\"0 0 24 24\"\n",
              "     width=\"24px\">\n",
              "    <g>\n",
              "        <path d=\"M19 3H5c-1.1 0-2 .9-2 2v14c0 1.1.9 2 2 2h14c1.1 0 2-.9 2-2V5c0-1.1-.9-2-2-2zM9 17H7v-7h2v7zm4 0h-2V7h2v10zm4 0h-2v-4h2v4z\"/>\n",
              "    </g>\n",
              "</svg>\n",
              "      </button>\n",
              "    </div>\n",
              "\n",
              "<style>\n",
              "  .colab-df-quickchart {\n",
              "    background-color: #E8F0FE;\n",
              "    border: none;\n",
              "    border-radius: 50%;\n",
              "    cursor: pointer;\n",
              "    display: none;\n",
              "    fill: #1967D2;\n",
              "    height: 32px;\n",
              "    padding: 0 0 0 0;\n",
              "    width: 32px;\n",
              "  }\n",
              "\n",
              "  .colab-df-quickchart:hover {\n",
              "    background-color: #E2EBFA;\n",
              "    box-shadow: 0px 1px 2px rgba(60, 64, 67, 0.3), 0px 1px 3px 1px rgba(60, 64, 67, 0.15);\n",
              "    fill: #174EA6;\n",
              "  }\n",
              "\n",
              "  [theme=dark] .colab-df-quickchart {\n",
              "    background-color: #3B4455;\n",
              "    fill: #D2E3FC;\n",
              "  }\n",
              "\n",
              "  [theme=dark] .colab-df-quickchart:hover {\n",
              "    background-color: #434B5C;\n",
              "    box-shadow: 0px 1px 3px 1px rgba(0, 0, 0, 0.15);\n",
              "    filter: drop-shadow(0px 1px 2px rgba(0, 0, 0, 0.3));\n",
              "    fill: #FFFFFF;\n",
              "  }\n",
              "</style>\n",
              "\n",
              "    <script>\n",
              "      async function quickchart(key) {\n",
              "        const containerElement = document.querySelector('#' + key);\n",
              "        const charts = await google.colab.kernel.invokeFunction(\n",
              "            'suggestCharts', [key], {});\n",
              "      }\n",
              "    </script>\n",
              "\n",
              "      <script>\n",
              "\n",
              "function displayQuickchartButton(domScope) {\n",
              "  let quickchartButtonEl =\n",
              "    domScope.querySelector('#df-0806868a-ab48-4fe1-b0a1-e725d1a13942 button.colab-df-quickchart');\n",
              "  quickchartButtonEl.style.display =\n",
              "    google.colab.kernel.accessAllowed ? 'block' : 'none';\n",
              "}\n",
              "\n",
              "        displayQuickchartButton(document);\n",
              "      </script>\n",
              "      <style>\n",
              "    .colab-df-container {\n",
              "      display:flex;\n",
              "      flex-wrap:wrap;\n",
              "      gap: 12px;\n",
              "    }\n",
              "\n",
              "    .colab-df-convert {\n",
              "      background-color: #E8F0FE;\n",
              "      border: none;\n",
              "      border-radius: 50%;\n",
              "      cursor: pointer;\n",
              "      display: none;\n",
              "      fill: #1967D2;\n",
              "      height: 32px;\n",
              "      padding: 0 0 0 0;\n",
              "      width: 32px;\n",
              "    }\n",
              "\n",
              "    .colab-df-convert:hover {\n",
              "      background-color: #E2EBFA;\n",
              "      box-shadow: 0px 1px 2px rgba(60, 64, 67, 0.3), 0px 1px 3px 1px rgba(60, 64, 67, 0.15);\n",
              "      fill: #174EA6;\n",
              "    }\n",
              "\n",
              "    [theme=dark] .colab-df-convert {\n",
              "      background-color: #3B4455;\n",
              "      fill: #D2E3FC;\n",
              "    }\n",
              "\n",
              "    [theme=dark] .colab-df-convert:hover {\n",
              "      background-color: #434B5C;\n",
              "      box-shadow: 0px 1px 3px 1px rgba(0, 0, 0, 0.15);\n",
              "      filter: drop-shadow(0px 1px 2px rgba(0, 0, 0, 0.3));\n",
              "      fill: #FFFFFF;\n",
              "    }\n",
              "  </style>\n",
              "\n",
              "      <script>\n",
              "        const buttonEl =\n",
              "          document.querySelector('#df-54c0ec2a-7b31-4d82-ad5e-a92e43495ff9 button.colab-df-convert');\n",
              "        buttonEl.style.display =\n",
              "          google.colab.kernel.accessAllowed ? 'block' : 'none';\n",
              "\n",
              "        async function convertToInteractive(key) {\n",
              "          const element = document.querySelector('#df-54c0ec2a-7b31-4d82-ad5e-a92e43495ff9');\n",
              "          const dataTable =\n",
              "            await google.colab.kernel.invokeFunction('convertToInteractive',\n",
              "                                                     [key], {});\n",
              "          if (!dataTable) return;\n",
              "\n",
              "          const docLinkHtml = 'Like what you see? Visit the ' +\n",
              "            '<a target=\"_blank\" href=https://colab.research.google.com/notebooks/data_table.ipynb>data table notebook</a>'\n",
              "            + ' to learn more about interactive tables.';\n",
              "          element.innerHTML = '';\n",
              "          dataTable['output_type'] = 'display_data';\n",
              "          await google.colab.output.renderOutput(dataTable, element);\n",
              "          const docLink = document.createElement('div');\n",
              "          docLink.innerHTML = docLinkHtml;\n",
              "          element.appendChild(docLink);\n",
              "        }\n",
              "      </script>\n",
              "    </div>\n",
              "  </div>\n"
            ]
          },
          "metadata": {},
          "execution_count": 13
        }
      ]
    },
    {
      "cell_type": "markdown",
      "source": [
        "### **Для каждой категориальной переменной рассчитать моду и сколько раз мода встречается в данных!!!!!!!!!!!**"
      ],
      "metadata": {
        "id": "Isw9u00_696m"
      }
    },
    {
      "cell_type": "code",
      "source": [
        "train_cat_data = data_train[train_cat_cols]\n",
        "\n",
        "# Рассчитываем моду и количество ее встреч для каждой переменной\n",
        "mode_df = pd.DataFrame({'mode': train_cat_data.mode().iloc[0], 'count': train_cat_data.apply(lambda x: x.value_counts().max())})\n",
        "\n",
        "# Выводим результат\n",
        "print(mode_df)"
      ],
      "metadata": {
        "colab": {
          "base_uri": "https://localhost:8080/"
        },
        "id": "4iAzctV2CspE",
        "outputId": "f0e7af52-e17c-467f-f46e-643125e8c300"
      },
      "execution_count": 14,
      "outputs": [
        {
          "output_type": "stream",
          "name": "stdout",
          "text": [
            "                  mode  count\n",
            "hasYard              0  11913\n",
            "hasPool              0  12439\n",
            "isNewBuilt           0  12093\n",
            "hasStormProtector    0  12274\n",
            "hasStorageRoom       0  12236\n"
          ]
        }
      ]
    },
    {
      "cell_type": "markdown",
      "source": [
        "## Подготовка датасета к построению моделей ML"
      ],
      "metadata": {
        "id": "lAYh_5yS7EBu"
      }
    },
    {
      "cell_type": "markdown",
      "source": [
        "### Провести анализ и обработку пропусков (либо заменить, либо удалить)"
      ],
      "metadata": {
        "id": "-YaNS4II7GzV"
      }
    },
    {
      "cell_type": "code",
      "source": [
        "data_test.isnull().sum()"
      ],
      "metadata": {
        "colab": {
          "base_uri": "https://localhost:8080/"
        },
        "id": "oQ_tgls_FzWw",
        "outputId": "378d0b5f-17d4-41d6-9a8d-2d46448c1ee6"
      },
      "execution_count": 15,
      "outputs": [
        {
          "output_type": "execute_result",
          "data": {
            "text/plain": [
              "squareMeters         0\n",
              "numberOfRooms        0\n",
              "hasYard              0\n",
              "hasPool              0\n",
              "floors               0\n",
              "cityPartRange        0\n",
              "numPrevOwners        0\n",
              "made                 0\n",
              "isNewBuilt           0\n",
              "hasStormProtector    0\n",
              "basement             0\n",
              "attic                0\n",
              "garage               0\n",
              "hasStorageRoom       0\n",
              "hasGuestRoom         0\n",
              "price                0\n",
              "dtype: int64"
            ]
          },
          "metadata": {},
          "execution_count": 15
        }
      ]
    },
    {
      "cell_type": "code",
      "source": [
        "data_train.isnull().sum()"
      ],
      "metadata": {
        "colab": {
          "base_uri": "https://localhost:8080/"
        },
        "id": "eX83Mp_DF7xQ",
        "outputId": "d2dfde71-317e-4728-d0e1-34369af6313d"
      },
      "execution_count": 16,
      "outputs": [
        {
          "output_type": "execute_result",
          "data": {
            "text/plain": [
              "squareMeters         0\n",
              "numberOfRooms        0\n",
              "hasYard              0\n",
              "hasPool              0\n",
              "floors               0\n",
              "cityPartRange        0\n",
              "numPrevOwners        0\n",
              "made                 0\n",
              "isNewBuilt           0\n",
              "hasStormProtector    0\n",
              "basement             0\n",
              "attic                0\n",
              "garage               0\n",
              "hasStorageRoom       0\n",
              "hasGuestRoom         0\n",
              "price                0\n",
              "dtype: int64"
            ]
          },
          "metadata": {},
          "execution_count": 16
        }
      ]
    },
    {
      "cell_type": "markdown",
      "source": [
        "Пропуски в датасете отсутствуют"
      ],
      "metadata": {
        "id": "Gugt6B9bF_3K"
      }
    },
    {
      "cell_type": "markdown",
      "source": [
        "### **Провести анализ и обработку выбросов (либо заменить, либо удалить)**\n"
      ],
      "metadata": {
        "id": "Vuc7PQIl7KVV"
      }
    },
    {
      "cell_type": "markdown",
      "source": [
        "https://www.kaggle.com/code/polaninethajiram/house-price-regression"
      ],
      "metadata": {
        "id": "rfop8qOOSBeD"
      }
    },
    {
      "cell_type": "markdown",
      "source": [
        "### **Провести анализ и обработку категориальных переменных (сколько таких переменных, закодируйте категориальные переменные одним из методов ( one hot encoding, mean target, frequence encoding)**"
      ],
      "metadata": {
        "id": "nMKmxHq_7NeF"
      }
    },
    {
      "cell_type": "markdown",
      "source": [
        "Исходя из анализа выше было видно, что категориальные переменные отсутствуют"
      ],
      "metadata": {
        "id": "x1jEyiCdKblN"
      }
    },
    {
      "cell_type": "markdown",
      "source": [
        "### Разделить датасет на трейн и тест"
      ],
      "metadata": {
        "id": "nQhIksSK7T8F"
      }
    },
    {
      "cell_type": "code",
      "source": [
        "# Разделение данные на целевую переменную и признаки\n",
        "X = data_train.iloc[:, :-1]\n",
        "y = data_train.iloc[:, -1]"
      ],
      "metadata": {
        "id": "BVaMpJXuOaWu"
      },
      "execution_count": 17,
      "outputs": []
    },
    {
      "cell_type": "code",
      "source": [
        "# Разделение данных на обучающую выборку и валидационную выборку\n",
        "X_train, X_val, y_train, y_val = train_test_split(X, y, test_size=0.2, random_state=123)"
      ],
      "metadata": {
        "id": "TdCsv0jxOljm"
      },
      "execution_count": 18,
      "outputs": []
    },
    {
      "cell_type": "code",
      "source": [
        "# Стандартизация (нормализация) числовых признаков\n",
        "scaler = StandardScaler()\n",
        "scaler = scaler.fit(X_train[train_num_cols])\n",
        "X_train_std = pd.DataFrame(scaler.transform(X_train[train_num_cols]), columns=X_train[train_num_cols].columns)\n",
        "X_val_std = pd.DataFrame(scaler.transform(X_val[train_num_cols]), columns=X_val[train_num_cols].columns)"
      ],
      "metadata": {
        "id": "yLETlz1sPD09"
      },
      "execution_count": 19,
      "outputs": []
    },
    {
      "cell_type": "code",
      "source": [
        "# Преобразование категориальных признаков в бинарные (dummy)\n",
        "X_train_dum = pd.get_dummies((X_train[train_cat_cols]), drop_first=True)\n",
        "X_val_dum = pd.get_dummies((X_val[train_cat_cols]), drop_first=True)"
      ],
      "metadata": {
        "id": "3znctpTcPeEu"
      },
      "execution_count": 20,
      "outputs": []
    },
    {
      "cell_type": "code",
      "source": [
        "# Сброс индексов\n",
        "X_train_std = X_train_std.reset_index()\n",
        "X_train_std = X_train_std.drop([\"index\"], axis=1)\n",
        "\n",
        "X_train_dum = X_train_dum.reset_index()\n",
        "X_train_dum = X_train_dum.drop([\"index\"], axis=1)\n",
        "\n",
        "X_val_std = X_val_std.reset_index()\n",
        "X_val_std = X_val_std.drop([\"index\"], axis=1)\n",
        "\n",
        "X_val_dum = X_val_dum.reset_index()\n",
        "X_val_dum = X_val_dum.drop([\"index\"], axis=1)"
      ],
      "metadata": {
        "id": "8f8TWw8qQMIp"
      },
      "execution_count": 21,
      "outputs": []
    },
    {
      "cell_type": "code",
      "source": [
        "# Объединение стандартизированных числовых признаков и бинарных переменных для категориальных признаков в обучающей и валидационной выборках.\n",
        "final_X_train = pd.concat([X_train_std, X_train_dum], axis=1)\n",
        "final_X_val = pd.concat([X_val_std, X_val_dum], axis=1)"
      ],
      "metadata": {
        "id": "6i84f--RPxRv"
      },
      "execution_count": 22,
      "outputs": []
    },
    {
      "cell_type": "code",
      "source": [
        "y_train"
      ],
      "metadata": {
        "colab": {
          "base_uri": "https://localhost:8080/"
        },
        "id": "mY3MIYmjUGBm",
        "outputId": "cabb69a7-c73a-4669-d799-b26f5ddeb243"
      },
      "execution_count": 30,
      "outputs": [
        {
          "output_type": "execute_result",
          "data": {
            "text/plain": [
              "9111     8225077.0\n",
              "21095    9885562.4\n",
              "7425     3589966.3\n",
              "12715    1351303.0\n",
              "2145     3850352.1\n",
              "           ...    \n",
              "15377    6272944.7\n",
              "21602    5153610.4\n",
              "17730    2086273.0\n",
              "15725    6089911.5\n",
              "19966    4759722.6\n",
              "Name: price, Length: 18184, dtype: float64"
            ]
          },
          "metadata": {},
          "execution_count": 30
        }
      ]
    },
    {
      "cell_type": "code",
      "source": [
        "# Проверка на пустые значения\n",
        "final_X_train.isnull().sum()"
      ],
      "metadata": {
        "colab": {
          "base_uri": "https://localhost:8080/"
        },
        "id": "qof_BCaUQgBf",
        "outputId": "bf4c1284-6e4f-4b25-9e7f-748860c6616c"
      },
      "execution_count": 23,
      "outputs": [
        {
          "output_type": "execute_result",
          "data": {
            "text/plain": [
              "squareMeters           0\n",
              "numberOfRooms          0\n",
              "floors                 0\n",
              "cityPartRange          0\n",
              "numPrevOwners          0\n",
              "basement               0\n",
              "attic                  0\n",
              "garage                 0\n",
              "hasGuestRoom           0\n",
              "made                   0\n",
              "hasYard_1              0\n",
              "hasPool_1              0\n",
              "isNewBuilt_1           0\n",
              "hasStormProtector_1    0\n",
              "hasStorageRoom_1       0\n",
              "dtype: int64"
            ]
          },
          "metadata": {},
          "execution_count": 23
        }
      ]
    },
    {
      "cell_type": "code",
      "source": [
        "# Проверка на пустые значения\n",
        "final_X_val.isnull().sum()"
      ],
      "metadata": {
        "colab": {
          "base_uri": "https://localhost:8080/"
        },
        "id": "Ftw2hWBYQiNn",
        "outputId": "11e6321e-81ae-4965-a20b-3c43ce19b708"
      },
      "execution_count": 24,
      "outputs": [
        {
          "output_type": "execute_result",
          "data": {
            "text/plain": [
              "squareMeters           0\n",
              "numberOfRooms          0\n",
              "floors                 0\n",
              "cityPartRange          0\n",
              "numPrevOwners          0\n",
              "basement               0\n",
              "attic                  0\n",
              "garage                 0\n",
              "hasGuestRoom           0\n",
              "made                   0\n",
              "hasYard_1              0\n",
              "hasPool_1              0\n",
              "isNewBuilt_1           0\n",
              "hasStormProtector_1    0\n",
              "hasStorageRoom_1       0\n",
              "dtype: int64"
            ]
          },
          "metadata": {},
          "execution_count": 24
        }
      ]
    },
    {
      "cell_type": "markdown",
      "source": [
        "## Обучить любые 2 алгоритма:"
      ],
      "metadata": {
        "id": "Ejgsh-MI7WdF"
      }
    },
    {
      "cell_type": "markdown",
      "source": [
        "### SVM"
      ],
      "metadata": {
        "id": "EnOd8TF-7b2d"
      }
    },
    {
      "cell_type": "markdown",
      "source": [
        "### Decision tree"
      ],
      "metadata": {
        "id": "D52U38wV7ZOV"
      }
    },
    {
      "cell_type": "code",
      "source": [
        "dt_classifier = DecisionTreeClassifier()"
      ],
      "metadata": {
        "id": "cd7M3aR0S80y"
      },
      "execution_count": 25,
      "outputs": []
    },
    {
      "cell_type": "code",
      "source": [
        "# Определение сетки параметров для GridSearchCV\n",
        "param_grid = {\n",
        "    'criterion': ['gini', 'entropy'],\n",
        "    'max_depth': [None, 5, 10, 15, 20],\n",
        "    'min_samples_split': [2, 5, 10],\n",
        "    'min_samples_leaf': [1, 2, 4]\n",
        "}"
      ],
      "metadata": {
        "id": "3KM7aXN9TUGV"
      },
      "execution_count": 26,
      "outputs": []
    },
    {
      "cell_type": "code",
      "source": [
        "# Создаем объект GridSearchCV\n",
        "grid_search = GridSearchCV(estimator=dt_classifier, param_grid=param_grid, cv=5, n_jobs=-1)"
      ],
      "metadata": {
        "id": "5rdxsPdRTVi5"
      },
      "execution_count": 27,
      "outputs": []
    },
    {
      "cell_type": "code",
      "source": [
        "# Обучаем GridSearch на обучающей выборке\n",
        "grid_search.fit(final_X_train, y_train)"
      ],
      "metadata": {
        "colab": {
          "base_uri": "https://localhost:8080/",
          "height": 623
        },
        "id": "-o6lGFZzTXam",
        "outputId": "1d226c44-f19e-4d85-da1d-8c9eb9302cb0"
      },
      "execution_count": 28,
      "outputs": [
        {
          "output_type": "error",
          "ename": "ValueError",
          "evalue": "ignored",
          "traceback": [
            "\u001b[0;31m---------------------------------------------------------------------------\u001b[0m",
            "\u001b[0;31mValueError\u001b[0m                                Traceback (most recent call last)",
            "\u001b[0;32m<ipython-input-28-1299349c90f1>\u001b[0m in \u001b[0;36m<cell line: 2>\u001b[0;34m()\u001b[0m\n\u001b[1;32m      1\u001b[0m \u001b[0;31m# Обучаем GridSearch на обучающей выборке\u001b[0m\u001b[0;34m\u001b[0m\u001b[0;34m\u001b[0m\u001b[0m\n\u001b[0;32m----> 2\u001b[0;31m \u001b[0mgrid_search\u001b[0m\u001b[0;34m.\u001b[0m\u001b[0mfit\u001b[0m\u001b[0;34m(\u001b[0m\u001b[0mfinal_X_train\u001b[0m\u001b[0;34m,\u001b[0m \u001b[0my_train\u001b[0m\u001b[0;34m)\u001b[0m\u001b[0;34m\u001b[0m\u001b[0;34m\u001b[0m\u001b[0m\n\u001b[0m",
            "\u001b[0;32m/usr/local/lib/python3.10/dist-packages/sklearn/model_selection/_search.py\u001b[0m in \u001b[0;36mfit\u001b[0;34m(self, X, y, groups, **fit_params)\u001b[0m\n\u001b[1;32m    872\u001b[0m                 \u001b[0;32mreturn\u001b[0m \u001b[0mresults\u001b[0m\u001b[0;34m\u001b[0m\u001b[0;34m\u001b[0m\u001b[0m\n\u001b[1;32m    873\u001b[0m \u001b[0;34m\u001b[0m\u001b[0m\n\u001b[0;32m--> 874\u001b[0;31m             \u001b[0mself\u001b[0m\u001b[0;34m.\u001b[0m\u001b[0m_run_search\u001b[0m\u001b[0;34m(\u001b[0m\u001b[0mevaluate_candidates\u001b[0m\u001b[0;34m)\u001b[0m\u001b[0;34m\u001b[0m\u001b[0;34m\u001b[0m\u001b[0m\n\u001b[0m\u001b[1;32m    875\u001b[0m \u001b[0;34m\u001b[0m\u001b[0m\n\u001b[1;32m    876\u001b[0m             \u001b[0;31m# multimetric is determined here because in the case of a callable\u001b[0m\u001b[0;34m\u001b[0m\u001b[0;34m\u001b[0m\u001b[0m\n",
            "\u001b[0;32m/usr/local/lib/python3.10/dist-packages/sklearn/model_selection/_search.py\u001b[0m in \u001b[0;36m_run_search\u001b[0;34m(self, evaluate_candidates)\u001b[0m\n\u001b[1;32m   1386\u001b[0m     \u001b[0;32mdef\u001b[0m \u001b[0m_run_search\u001b[0m\u001b[0;34m(\u001b[0m\u001b[0mself\u001b[0m\u001b[0;34m,\u001b[0m \u001b[0mevaluate_candidates\u001b[0m\u001b[0;34m)\u001b[0m\u001b[0;34m:\u001b[0m\u001b[0;34m\u001b[0m\u001b[0;34m\u001b[0m\u001b[0m\n\u001b[1;32m   1387\u001b[0m         \u001b[0;34m\"\"\"Search all candidates in param_grid\"\"\"\u001b[0m\u001b[0;34m\u001b[0m\u001b[0;34m\u001b[0m\u001b[0m\n\u001b[0;32m-> 1388\u001b[0;31m         \u001b[0mevaluate_candidates\u001b[0m\u001b[0;34m(\u001b[0m\u001b[0mParameterGrid\u001b[0m\u001b[0;34m(\u001b[0m\u001b[0mself\u001b[0m\u001b[0;34m.\u001b[0m\u001b[0mparam_grid\u001b[0m\u001b[0;34m)\u001b[0m\u001b[0;34m)\u001b[0m\u001b[0;34m\u001b[0m\u001b[0;34m\u001b[0m\u001b[0m\n\u001b[0m\u001b[1;32m   1389\u001b[0m \u001b[0;34m\u001b[0m\u001b[0m\n\u001b[1;32m   1390\u001b[0m \u001b[0;34m\u001b[0m\u001b[0m\n",
            "\u001b[0;32m/usr/local/lib/python3.10/dist-packages/sklearn/model_selection/_search.py\u001b[0m in \u001b[0;36mevaluate_candidates\u001b[0;34m(candidate_params, cv, more_results)\u001b[0m\n\u001b[1;32m    849\u001b[0m                     )\n\u001b[1;32m    850\u001b[0m \u001b[0;34m\u001b[0m\u001b[0m\n\u001b[0;32m--> 851\u001b[0;31m                 \u001b[0m_warn_or_raise_about_fit_failures\u001b[0m\u001b[0;34m(\u001b[0m\u001b[0mout\u001b[0m\u001b[0;34m,\u001b[0m \u001b[0mself\u001b[0m\u001b[0;34m.\u001b[0m\u001b[0merror_score\u001b[0m\u001b[0;34m)\u001b[0m\u001b[0;34m\u001b[0m\u001b[0;34m\u001b[0m\u001b[0m\n\u001b[0m\u001b[1;32m    852\u001b[0m \u001b[0;34m\u001b[0m\u001b[0m\n\u001b[1;32m    853\u001b[0m                 \u001b[0;31m# For callable self.scoring, the return type is only know after\u001b[0m\u001b[0;34m\u001b[0m\u001b[0;34m\u001b[0m\u001b[0m\n",
            "\u001b[0;32m/usr/local/lib/python3.10/dist-packages/sklearn/model_selection/_validation.py\u001b[0m in \u001b[0;36m_warn_or_raise_about_fit_failures\u001b[0;34m(results, error_score)\u001b[0m\n\u001b[1;32m    365\u001b[0m                 \u001b[0;34mf\"Below are more details about the failures:\\n{fit_errors_summary}\"\u001b[0m\u001b[0;34m\u001b[0m\u001b[0;34m\u001b[0m\u001b[0m\n\u001b[1;32m    366\u001b[0m             )\n\u001b[0;32m--> 367\u001b[0;31m             \u001b[0;32mraise\u001b[0m \u001b[0mValueError\u001b[0m\u001b[0;34m(\u001b[0m\u001b[0mall_fits_failed_message\u001b[0m\u001b[0;34m)\u001b[0m\u001b[0;34m\u001b[0m\u001b[0;34m\u001b[0m\u001b[0m\n\u001b[0m\u001b[1;32m    368\u001b[0m \u001b[0;34m\u001b[0m\u001b[0m\n\u001b[1;32m    369\u001b[0m         \u001b[0;32melse\u001b[0m\u001b[0;34m:\u001b[0m\u001b[0;34m\u001b[0m\u001b[0;34m\u001b[0m\u001b[0m\n",
            "\u001b[0;31mValueError\u001b[0m: \nAll the 450 fits failed.\nIt is very likely that your model is misconfigured.\nYou can try to debug the error by setting error_score='raise'.\n\nBelow are more details about the failures:\n--------------------------------------------------------------------------------\n450 fits failed with the following error:\nTraceback (most recent call last):\n  File \"/usr/local/lib/python3.10/dist-packages/sklearn/model_selection/_validation.py\", line 686, in _fit_and_score\n    estimator.fit(X_train, y_train, **fit_params)\n  File \"/usr/local/lib/python3.10/dist-packages/sklearn/tree/_classes.py\", line 889, in fit\n    super().fit(\n  File \"/usr/local/lib/python3.10/dist-packages/sklearn/tree/_classes.py\", line 224, in fit\n    check_classification_targets(y)\n  File \"/usr/local/lib/python3.10/dist-packages/sklearn/utils/multiclass.py\", line 218, in check_classification_targets\n    raise ValueError(\"Unknown label type: %r\" % y_type)\nValueError: Unknown label type: 'continuous'\n"
          ]
        }
      ]
    },
    {
      "cell_type": "code",
      "source": [
        "# Выводим наилучшие параметры и точность на тестовой выборке\n",
        "print(\"Наилучшие параметры: \", grid_search.best_params_)\n",
        "print(\"Точность на тестовой выборке: \", grid_search.best_score_)"
      ],
      "metadata": {
        "id": "FvOePR7WTXSV"
      },
      "execution_count": null,
      "outputs": []
    },
    {
      "cell_type": "markdown",
      "source": [
        "## Оценить качество алгоритмов, выбрать самый оптимальный алгоритм"
      ],
      "metadata": {
        "id": "KvbLwYUf7fDV"
      }
    },
    {
      "cell_type": "markdown",
      "source": [
        "Затем сравните их производительность, используя метрики, такие как MAE, MSE, R^2, на тестовых данных. Обоснуйте свой выбор лучшей модели, учитывая точность\n",
        "прогнозирования и обобщающую способность на новых данных"
      ],
      "metadata": {
        "id": "l8EtmjUk7nqv"
      }
    }
  ]
}