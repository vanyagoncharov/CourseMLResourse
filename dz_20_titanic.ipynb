{
  "nbformat": 4,
  "nbformat_minor": 0,
  "metadata": {
    "colab": {
      "provenance": [],
      "include_colab_link": true
    },
    "kernelspec": {
      "name": "python3",
      "display_name": "Python 3"
    },
    "language_info": {
      "name": "python"
    }
  },
  "cells": [
    {
      "cell_type": "markdown",
      "metadata": {
        "id": "view-in-github",
        "colab_type": "text"
      },
      "source": [
        "<a href=\"https://colab.research.google.com/github/vanyagoncharov/CourseMLResourse/blob/main/dz_20_titanic.ipynb\" target=\"_parent\"><img src=\"https://colab.research.google.com/assets/colab-badge.svg\" alt=\"Open In Colab\"/></a>"
      ]
    },
    {
      "cell_type": "markdown",
      "source": [
        "\n",
        "# заменить на 0 и 1\n",
        "\n"
      ],
      "metadata": {
        "id": "aczr8qGGDyyq"
      }
    },
    {
      "cell_type": "code",
      "execution_count": 1,
      "metadata": {
        "id": "RrJwy55yrRw6"
      },
      "outputs": [],
      "source": [
        "# Импорт используемых библиотек\n",
        "import seaborn as sns\n",
        "import pandas as pd\n",
        "import numpy as np\n",
        "import matplotlib.pyplot as plt"
      ]
    },
    {
      "cell_type": "code",
      "source": [
        "# Загрузка данных\n",
        "data = sns.load_dataset('titanic')\n",
        "# Разделение на целевую переменную и показатели\n",
        "X = data.drop(columns='survived')\n",
        "y = data[\"survived\"]"
      ],
      "metadata": {
        "id": "IfpXuFRbrbJv"
      },
      "execution_count": 2,
      "outputs": []
    },
    {
      "cell_type": "code",
      "source": [
        "data.head()"
      ],
      "metadata": {
        "colab": {
          "base_uri": "https://localhost:8080/",
          "height": 206
        },
        "id": "hUY6V0qMsaYf",
        "outputId": "e08ae3b3-d7db-4535-d53e-011771c78ba2"
      },
      "execution_count": 3,
      "outputs": [
        {
          "output_type": "execute_result",
          "data": {
            "text/plain": [
              "   survived  pclass     sex   age  sibsp  parch     fare embarked  class  \\\n",
              "0         0       3    male  22.0      1      0   7.2500        S  Third   \n",
              "1         1       1  female  38.0      1      0  71.2833        C  First   \n",
              "2         1       3  female  26.0      0      0   7.9250        S  Third   \n",
              "3         1       1  female  35.0      1      0  53.1000        S  First   \n",
              "4         0       3    male  35.0      0      0   8.0500        S  Third   \n",
              "\n",
              "     who  adult_male deck  embark_town alive  alone  \n",
              "0    man        True  NaN  Southampton    no  False  \n",
              "1  woman       False    C    Cherbourg   yes  False  \n",
              "2  woman       False  NaN  Southampton   yes   True  \n",
              "3  woman       False    C  Southampton   yes  False  \n",
              "4    man        True  NaN  Southampton    no   True  "
            ],
            "text/html": [
              "\n",
              "\n",
              "  <div id=\"df-3aef3093-e61a-4ac8-968e-a61792fc0971\">\n",
              "    <div class=\"colab-df-container\">\n",
              "      <div>\n",
              "<style scoped>\n",
              "    .dataframe tbody tr th:only-of-type {\n",
              "        vertical-align: middle;\n",
              "    }\n",
              "\n",
              "    .dataframe tbody tr th {\n",
              "        vertical-align: top;\n",
              "    }\n",
              "\n",
              "    .dataframe thead th {\n",
              "        text-align: right;\n",
              "    }\n",
              "</style>\n",
              "<table border=\"1\" class=\"dataframe\">\n",
              "  <thead>\n",
              "    <tr style=\"text-align: right;\">\n",
              "      <th></th>\n",
              "      <th>survived</th>\n",
              "      <th>pclass</th>\n",
              "      <th>sex</th>\n",
              "      <th>age</th>\n",
              "      <th>sibsp</th>\n",
              "      <th>parch</th>\n",
              "      <th>fare</th>\n",
              "      <th>embarked</th>\n",
              "      <th>class</th>\n",
              "      <th>who</th>\n",
              "      <th>adult_male</th>\n",
              "      <th>deck</th>\n",
              "      <th>embark_town</th>\n",
              "      <th>alive</th>\n",
              "      <th>alone</th>\n",
              "    </tr>\n",
              "  </thead>\n",
              "  <tbody>\n",
              "    <tr>\n",
              "      <th>0</th>\n",
              "      <td>0</td>\n",
              "      <td>3</td>\n",
              "      <td>male</td>\n",
              "      <td>22.0</td>\n",
              "      <td>1</td>\n",
              "      <td>0</td>\n",
              "      <td>7.2500</td>\n",
              "      <td>S</td>\n",
              "      <td>Third</td>\n",
              "      <td>man</td>\n",
              "      <td>True</td>\n",
              "      <td>NaN</td>\n",
              "      <td>Southampton</td>\n",
              "      <td>no</td>\n",
              "      <td>False</td>\n",
              "    </tr>\n",
              "    <tr>\n",
              "      <th>1</th>\n",
              "      <td>1</td>\n",
              "      <td>1</td>\n",
              "      <td>female</td>\n",
              "      <td>38.0</td>\n",
              "      <td>1</td>\n",
              "      <td>0</td>\n",
              "      <td>71.2833</td>\n",
              "      <td>C</td>\n",
              "      <td>First</td>\n",
              "      <td>woman</td>\n",
              "      <td>False</td>\n",
              "      <td>C</td>\n",
              "      <td>Cherbourg</td>\n",
              "      <td>yes</td>\n",
              "      <td>False</td>\n",
              "    </tr>\n",
              "    <tr>\n",
              "      <th>2</th>\n",
              "      <td>1</td>\n",
              "      <td>3</td>\n",
              "      <td>female</td>\n",
              "      <td>26.0</td>\n",
              "      <td>0</td>\n",
              "      <td>0</td>\n",
              "      <td>7.9250</td>\n",
              "      <td>S</td>\n",
              "      <td>Third</td>\n",
              "      <td>woman</td>\n",
              "      <td>False</td>\n",
              "      <td>NaN</td>\n",
              "      <td>Southampton</td>\n",
              "      <td>yes</td>\n",
              "      <td>True</td>\n",
              "    </tr>\n",
              "    <tr>\n",
              "      <th>3</th>\n",
              "      <td>1</td>\n",
              "      <td>1</td>\n",
              "      <td>female</td>\n",
              "      <td>35.0</td>\n",
              "      <td>1</td>\n",
              "      <td>0</td>\n",
              "      <td>53.1000</td>\n",
              "      <td>S</td>\n",
              "      <td>First</td>\n",
              "      <td>woman</td>\n",
              "      <td>False</td>\n",
              "      <td>C</td>\n",
              "      <td>Southampton</td>\n",
              "      <td>yes</td>\n",
              "      <td>False</td>\n",
              "    </tr>\n",
              "    <tr>\n",
              "      <th>4</th>\n",
              "      <td>0</td>\n",
              "      <td>3</td>\n",
              "      <td>male</td>\n",
              "      <td>35.0</td>\n",
              "      <td>0</td>\n",
              "      <td>0</td>\n",
              "      <td>8.0500</td>\n",
              "      <td>S</td>\n",
              "      <td>Third</td>\n",
              "      <td>man</td>\n",
              "      <td>True</td>\n",
              "      <td>NaN</td>\n",
              "      <td>Southampton</td>\n",
              "      <td>no</td>\n",
              "      <td>True</td>\n",
              "    </tr>\n",
              "  </tbody>\n",
              "</table>\n",
              "</div>\n",
              "      <button class=\"colab-df-convert\" onclick=\"convertToInteractive('df-3aef3093-e61a-4ac8-968e-a61792fc0971')\"\n",
              "              title=\"Convert this dataframe to an interactive table.\"\n",
              "              style=\"display:none;\">\n",
              "\n",
              "  <svg xmlns=\"http://www.w3.org/2000/svg\" height=\"24px\"viewBox=\"0 0 24 24\"\n",
              "       width=\"24px\">\n",
              "    <path d=\"M0 0h24v24H0V0z\" fill=\"none\"/>\n",
              "    <path d=\"M18.56 5.44l.94 2.06.94-2.06 2.06-.94-2.06-.94-.94-2.06-.94 2.06-2.06.94zm-11 1L8.5 8.5l.94-2.06 2.06-.94-2.06-.94L8.5 2.5l-.94 2.06-2.06.94zm10 10l.94 2.06.94-2.06 2.06-.94-2.06-.94-.94-2.06-.94 2.06-2.06.94z\"/><path d=\"M17.41 7.96l-1.37-1.37c-.4-.4-.92-.59-1.43-.59-.52 0-1.04.2-1.43.59L10.3 9.45l-7.72 7.72c-.78.78-.78 2.05 0 2.83L4 21.41c.39.39.9.59 1.41.59.51 0 1.02-.2 1.41-.59l7.78-7.78 2.81-2.81c.8-.78.8-2.07 0-2.86zM5.41 20L4 18.59l7.72-7.72 1.47 1.35L5.41 20z\"/>\n",
              "  </svg>\n",
              "      </button>\n",
              "\n",
              "\n",
              "\n",
              "    <div id=\"df-24770bd5-cdb3-45f0-a486-ce86f5e9e805\">\n",
              "      <button class=\"colab-df-quickchart\" onclick=\"quickchart('df-24770bd5-cdb3-45f0-a486-ce86f5e9e805')\"\n",
              "              title=\"Suggest charts.\"\n",
              "              style=\"display:none;\">\n",
              "\n",
              "<svg xmlns=\"http://www.w3.org/2000/svg\" height=\"24px\"viewBox=\"0 0 24 24\"\n",
              "     width=\"24px\">\n",
              "    <g>\n",
              "        <path d=\"M19 3H5c-1.1 0-2 .9-2 2v14c0 1.1.9 2 2 2h14c1.1 0 2-.9 2-2V5c0-1.1-.9-2-2-2zM9 17H7v-7h2v7zm4 0h-2V7h2v10zm4 0h-2v-4h2v4z\"/>\n",
              "    </g>\n",
              "</svg>\n",
              "      </button>\n",
              "    </div>\n",
              "\n",
              "<style>\n",
              "  .colab-df-quickchart {\n",
              "    background-color: #E8F0FE;\n",
              "    border: none;\n",
              "    border-radius: 50%;\n",
              "    cursor: pointer;\n",
              "    display: none;\n",
              "    fill: #1967D2;\n",
              "    height: 32px;\n",
              "    padding: 0 0 0 0;\n",
              "    width: 32px;\n",
              "  }\n",
              "\n",
              "  .colab-df-quickchart:hover {\n",
              "    background-color: #E2EBFA;\n",
              "    box-shadow: 0px 1px 2px rgba(60, 64, 67, 0.3), 0px 1px 3px 1px rgba(60, 64, 67, 0.15);\n",
              "    fill: #174EA6;\n",
              "  }\n",
              "\n",
              "  [theme=dark] .colab-df-quickchart {\n",
              "    background-color: #3B4455;\n",
              "    fill: #D2E3FC;\n",
              "  }\n",
              "\n",
              "  [theme=dark] .colab-df-quickchart:hover {\n",
              "    background-color: #434B5C;\n",
              "    box-shadow: 0px 1px 3px 1px rgba(0, 0, 0, 0.15);\n",
              "    filter: drop-shadow(0px 1px 2px rgba(0, 0, 0, 0.3));\n",
              "    fill: #FFFFFF;\n",
              "  }\n",
              "</style>\n",
              "\n",
              "    <script>\n",
              "      async function quickchart(key) {\n",
              "        const containerElement = document.querySelector('#' + key);\n",
              "        const charts = await google.colab.kernel.invokeFunction(\n",
              "            'suggestCharts', [key], {});\n",
              "      }\n",
              "    </script>\n",
              "\n",
              "      <script>\n",
              "\n",
              "function displayQuickchartButton(domScope) {\n",
              "  let quickchartButtonEl =\n",
              "    domScope.querySelector('#df-24770bd5-cdb3-45f0-a486-ce86f5e9e805 button.colab-df-quickchart');\n",
              "  quickchartButtonEl.style.display =\n",
              "    google.colab.kernel.accessAllowed ? 'block' : 'none';\n",
              "}\n",
              "\n",
              "        displayQuickchartButton(document);\n",
              "      </script>\n",
              "      <style>\n",
              "    .colab-df-container {\n",
              "      display:flex;\n",
              "      flex-wrap:wrap;\n",
              "      gap: 12px;\n",
              "    }\n",
              "\n",
              "    .colab-df-convert {\n",
              "      background-color: #E8F0FE;\n",
              "      border: none;\n",
              "      border-radius: 50%;\n",
              "      cursor: pointer;\n",
              "      display: none;\n",
              "      fill: #1967D2;\n",
              "      height: 32px;\n",
              "      padding: 0 0 0 0;\n",
              "      width: 32px;\n",
              "    }\n",
              "\n",
              "    .colab-df-convert:hover {\n",
              "      background-color: #E2EBFA;\n",
              "      box-shadow: 0px 1px 2px rgba(60, 64, 67, 0.3), 0px 1px 3px 1px rgba(60, 64, 67, 0.15);\n",
              "      fill: #174EA6;\n",
              "    }\n",
              "\n",
              "    [theme=dark] .colab-df-convert {\n",
              "      background-color: #3B4455;\n",
              "      fill: #D2E3FC;\n",
              "    }\n",
              "\n",
              "    [theme=dark] .colab-df-convert:hover {\n",
              "      background-color: #434B5C;\n",
              "      box-shadow: 0px 1px 3px 1px rgba(0, 0, 0, 0.15);\n",
              "      filter: drop-shadow(0px 1px 2px rgba(0, 0, 0, 0.3));\n",
              "      fill: #FFFFFF;\n",
              "    }\n",
              "  </style>\n",
              "\n",
              "      <script>\n",
              "        const buttonEl =\n",
              "          document.querySelector('#df-3aef3093-e61a-4ac8-968e-a61792fc0971 button.colab-df-convert');\n",
              "        buttonEl.style.display =\n",
              "          google.colab.kernel.accessAllowed ? 'block' : 'none';\n",
              "\n",
              "        async function convertToInteractive(key) {\n",
              "          const element = document.querySelector('#df-3aef3093-e61a-4ac8-968e-a61792fc0971');\n",
              "          const dataTable =\n",
              "            await google.colab.kernel.invokeFunction('convertToInteractive',\n",
              "                                                     [key], {});\n",
              "          if (!dataTable) return;\n",
              "\n",
              "          const docLinkHtml = 'Like what you see? Visit the ' +\n",
              "            '<a target=\"_blank\" href=https://colab.research.google.com/notebooks/data_table.ipynb>data table notebook</a>'\n",
              "            + ' to learn more about interactive tables.';\n",
              "          element.innerHTML = '';\n",
              "          dataTable['output_type'] = 'display_data';\n",
              "          await google.colab.output.renderOutput(dataTable, element);\n",
              "          const docLink = document.createElement('div');\n",
              "          docLink.innerHTML = docLinkHtml;\n",
              "          element.appendChild(docLink);\n",
              "        }\n",
              "      </script>\n",
              "    </div>\n",
              "  </div>\n"
            ]
          },
          "metadata": {},
          "execution_count": 3
        }
      ]
    },
    {
      "cell_type": "code",
      "source": [
        "data.info()"
      ],
      "metadata": {
        "colab": {
          "base_uri": "https://localhost:8080/"
        },
        "id": "GH4ggUNQsVxJ",
        "outputId": "9da2d2bb-93ad-42c1-e27d-140f33a59bc3"
      },
      "execution_count": 4,
      "outputs": [
        {
          "output_type": "stream",
          "name": "stdout",
          "text": [
            "<class 'pandas.core.frame.DataFrame'>\n",
            "RangeIndex: 891 entries, 0 to 890\n",
            "Data columns (total 15 columns):\n",
            " #   Column       Non-Null Count  Dtype   \n",
            "---  ------       --------------  -----   \n",
            " 0   survived     891 non-null    int64   \n",
            " 1   pclass       891 non-null    int64   \n",
            " 2   sex          891 non-null    object  \n",
            " 3   age          714 non-null    float64 \n",
            " 4   sibsp        891 non-null    int64   \n",
            " 5   parch        891 non-null    int64   \n",
            " 6   fare         891 non-null    float64 \n",
            " 7   embarked     889 non-null    object  \n",
            " 8   class        891 non-null    category\n",
            " 9   who          891 non-null    object  \n",
            " 10  adult_male   891 non-null    bool    \n",
            " 11  deck         203 non-null    category\n",
            " 12  embark_town  889 non-null    object  \n",
            " 13  alive        891 non-null    object  \n",
            " 14  alone        891 non-null    bool    \n",
            "dtypes: bool(2), category(2), float64(2), int64(4), object(5)\n",
            "memory usage: 80.7+ KB\n"
          ]
        }
      ]
    },
    {
      "cell_type": "markdown",
      "source": [
        "**Сколько строк в датафрейме, сколько столбцов\n",
        "Сколько места занимает датафрейм в оперативной памяти**"
      ],
      "metadata": {
        "id": "0jlAaKTZutIY"
      }
    },
    {
      "cell_type": "code",
      "source": [
        "# Вывод информации о датасете\n",
        "print(f'Информация о датасете: \\n {X.shape[0]}: строк\\n {X.shape[1]}: столбцов\\n '\n",
        "      f'{np.round(data.memory_usage(index=True).sum() / 1024, 4)} КБ: занимаемый объем памяти')"
      ],
      "metadata": {
        "colab": {
          "base_uri": "https://localhost:8080/"
        },
        "id": "af2XIQsarx_Z",
        "outputId": "03b98f1b-977f-4a62-d66d-bcdd9d61d2d4"
      },
      "execution_count": 5,
      "outputs": [
        {
          "output_type": "stream",
          "name": "stdout",
          "text": [
            "Информация о датасете: \n",
            " 891: строк\n",
            " 14: столбцов\n",
            " 80.6523 КБ: занимаемый объем памяти\n"
          ]
        }
      ]
    },
    {
      "cell_type": "markdown",
      "source": [
        "**Для каждой категориальной переменной рассчитать моду и сколько раз мода встречается в данных**"
      ],
      "metadata": {
        "id": "nvHrkilxuXPh"
      }
    },
    {
      "cell_type": "code",
      "source": [
        "# Выбираем только интервальные переменные (столбцы с числовыми значениями)\n",
        "num_cols = ['age', 'fare']\n",
        "num_data = data[num_cols]\n",
        "\n",
        "# Рассчитываем основные характеристики для каждой переменной\n",
        "stats_df = num_data.describe().T\n",
        "\n",
        "# Выводим результат\n",
        "print(stats_df)"
      ],
      "metadata": {
        "colab": {
          "base_uri": "https://localhost:8080/"
        },
        "id": "EUm2PSuxro67",
        "outputId": "7ce6b04f-dede-40eb-9d8e-9673d136b064"
      },
      "execution_count": 6,
      "outputs": [
        {
          "output_type": "stream",
          "name": "stdout",
          "text": [
            "      count       mean        std   min      25%      50%   75%       max\n",
            "age   714.0  29.699118  14.526497  0.42  20.1250  28.0000  38.0   80.0000\n",
            "fare  891.0  32.204208  49.693429  0.00   7.9104  14.4542  31.0  512.3292\n"
          ]
        }
      ]
    },
    {
      "cell_type": "markdown",
      "source": [
        "**Для каждой категориальной переменной рассчитать моду и сколько раз мода встречается в данных**"
      ],
      "metadata": {
        "id": "prTEZYggua62"
      }
    },
    {
      "cell_type": "code",
      "source": [
        "# Создаем DataFrame, содержащий только категориальные переменные\n",
        "cat_cols = ['survived', 'pclass', 'sex', 'sibsp', 'parch', 'embarked', 'class', 'who', 'adult_male', 'deck', 'embark_town', 'alive', 'alone']\n",
        "cat_data = data[cat_cols]\n",
        "\n",
        "# Рассчитываем моду и количество ее встреч для каждой переменной\n",
        "mode_df = pd.DataFrame({'mode': cat_data.mode().iloc[0], 'count': cat_data.apply(lambda x: x.value_counts().max())})\n",
        "\n",
        "# Выводим результат\n",
        "print(mode_df)\n"
      ],
      "metadata": {
        "colab": {
          "base_uri": "https://localhost:8080/"
        },
        "id": "eLojt7ECrqUb",
        "outputId": "62e06970-2e0e-4b89-b277-646f36a953e2"
      },
      "execution_count": 7,
      "outputs": [
        {
          "output_type": "stream",
          "name": "stdout",
          "text": [
            "                    mode  count\n",
            "survived               0    549\n",
            "pclass                 3    491\n",
            "sex                 male    577\n",
            "sibsp                  0    608\n",
            "parch                  0    678\n",
            "embarked               S    644\n",
            "class              Third    491\n",
            "who                  man    537\n",
            "adult_male          True    537\n",
            "deck                   C     59\n",
            "embark_town  Southampton    644\n",
            "alive                 no    549\n",
            "alone               True    537\n"
          ]
        }
      ]
    },
    {
      "cell_type": "code",
      "source": [
        "# Анализ пропусков\n",
        "data.isnull().sum()"
      ],
      "metadata": {
        "colab": {
          "base_uri": "https://localhost:8080/"
        },
        "id": "CHNsvyYzwAro",
        "outputId": "68f63673-58fd-4f5b-9a7c-c89707e0387a"
      },
      "execution_count": 8,
      "outputs": [
        {
          "output_type": "execute_result",
          "data": {
            "text/plain": [
              "survived         0\n",
              "pclass           0\n",
              "sex              0\n",
              "age            177\n",
              "sibsp            0\n",
              "parch            0\n",
              "fare             0\n",
              "embarked         2\n",
              "class            0\n",
              "who              0\n",
              "adult_male       0\n",
              "deck           688\n",
              "embark_town      2\n",
              "alive            0\n",
              "alone            0\n",
              "dtype: int64"
            ]
          },
          "metadata": {},
          "execution_count": 8
        }
      ]
    },
    {
      "cell_type": "code",
      "source": [
        "# Заполнение пропущенных значений в столбце 'age' медианным значением\n",
        "data['age'].fillna(data['age'].median(), inplace=True)\n",
        "\n",
        "# Заполнение пропущенных значений в столбце 'embarked' наиболее часто встречающимся значением\n",
        "embarked_mode = data['embarked'].mode()[0]\n",
        "data['embarked'].fillna(embarked_mode, inplace=True)\n",
        "\n",
        "# Сначала получим текущие категории\n",
        "current_categories = data['deck'].cat.categories.tolist()\n",
        "# Добавим новую категорию 'Unknown' в список категорий, если она еще не существует\n",
        "if 'Unknown' not in current_categories:\n",
        "  new_categories = current_categories + ['Unknown']\n",
        "else:\n",
        "  new_categories = current_categories\n",
        "# Установим обновленные категории в переменную 'deck'\n",
        "data['deck'] = data['deck'].cat.set_categories(new_categories)\n",
        "\n",
        "# Заполнение пропущенных значений в столбце 'deck' значением Unknown\n",
        "data.loc[data['deck'].isnull(), 'deck'] = 'Unknown'\n",
        "\n",
        "# Заполнение пропущенных значений в столбце 'embark_town' значением Unknown\n",
        "data[\"embark_town\"].fillna(\"Unknown\", inplace=True)"
      ],
      "metadata": {
        "id": "HnVzfh71vC39"
      },
      "execution_count": 9,
      "outputs": []
    },
    {
      "cell_type": "code",
      "source": [
        "# Анализ пропусков\n",
        "data.isnull().sum()"
      ],
      "metadata": {
        "colab": {
          "base_uri": "https://localhost:8080/"
        },
        "id": "jMsoVw_-wENH",
        "outputId": "80c41dd3-f0c8-4498-db4b-73b4938f4574"
      },
      "execution_count": 10,
      "outputs": [
        {
          "output_type": "execute_result",
          "data": {
            "text/plain": [
              "survived       0\n",
              "pclass         0\n",
              "sex            0\n",
              "age            0\n",
              "sibsp          0\n",
              "parch          0\n",
              "fare           0\n",
              "embarked       0\n",
              "class          0\n",
              "who            0\n",
              "adult_male     0\n",
              "deck           0\n",
              "embark_town    0\n",
              "alive          0\n",
              "alone          0\n",
              "dtype: int64"
            ]
          },
          "metadata": {},
          "execution_count": 10
        }
      ]
    },
    {
      "cell_type": "code",
      "source": [
        "# fare: стоимость билета.\n",
        "sns.boxplot(x=data[\"fare\"])\n",
        "plt.show()\n"
      ],
      "metadata": {
        "colab": {
          "base_uri": "https://localhost:8080/",
          "height": 449
        },
        "id": "EZf5WVyAx0lf",
        "outputId": "a3ae8b41-a415-47cc-fba7-1848c8b30ec1"
      },
      "execution_count": 11,
      "outputs": [
        {
          "output_type": "display_data",
          "data": {
            "text/plain": [
              "<Figure size 640x480 with 1 Axes>"
            ],
            "image/png": "[encoded data removed]"
          },
          "metadata": {}
        }
      ]
    },
    {
      "cell_type": "code",
      "source": [
        "# sibsp: количество братьев/сестер и/или супругов на борту.\n",
        "sns.boxplot(x=data[\"sibsp\"])\n",
        "plt.show()\n"
      ],
      "metadata": {
        "id": "KZqdYgfXlteV",
        "outputId": "9997cf9e-a03c-419e-ef22-f91f8c60a977",
        "colab": {
          "base_uri": "https://localhost:8080/",
          "height": 449
        }
      },
      "execution_count": 12,
      "outputs": [
        {
          "output_type": "display_data",
          "data": {
            "text/plain": [
              "<Figure size 640x480 with 1 Axes>"
            ],
            "image/png": "[encoded data removed]"
          },
          "metadata": {}
        }
      ]
    },
    {
      "cell_type": "code",
      "source": [
        "# parch: количество родителей/детей на борту\n",
        "sns.boxplot(x=data[\"parch\"])\n",
        "plt.show()"
      ],
      "metadata": {
        "id": "3tTL_0GPlwW-",
        "outputId": "a8dbd502-9478-4edc-c4c8-53bdf94044d7",
        "colab": {
          "base_uri": "https://localhost:8080/",
          "height": 449
        }
      },
      "execution_count": 13,
      "outputs": [
        {
          "output_type": "display_data",
          "data": {
            "text/plain": [
              "<Figure size 640x480 with 1 Axes>"
            ],
            "image/png": "[encoded data removed]"
          },
          "metadata": {}
        }
      ]
    },
    {
      "cell_type": "code",
      "source": [
        "# alone: указывает, был ли пассажир на борту один или нет\n",
        "# sns.boxplot(x=data[\"alone\"])\n",
        "# plt.show()"
      ],
      "metadata": {
        "id": "yF7vbgmMly1H"
      },
      "execution_count": 14,
      "outputs": []
    },
    {
      "cell_type": "code",
      "source": [
        "# class: класс каюты, в которой находился пассажир\n",
        "# sns.boxplot(x=data[\"class\"])\n",
        "# plt.show()"
      ],
      "metadata": {
        "id": "1r_UkOJPl1cW"
      },
      "execution_count": 15,
      "outputs": []
    },
    {
      "cell_type": "code",
      "source": [
        "# embarked: порт, в котором пассажир сел на борт Титаника.\n",
        "# sns.boxplot(x=data[\"embarked\"])\n",
        "# plt.show()"
      ],
      "metadata": {
        "id": "gsQLtCx0l1UG"
      },
      "execution_count": 16,
      "outputs": []
    },
    {
      "cell_type": "code",
      "source": [
        "# Q1 = data[\"age\"].quantile(0.25)\n",
        "# Q3 = data[\"age\"].quantile(0.75)\n",
        "# IQR = Q3 - Q1\n",
        "# lower_bound = Q1 - 1.5 * IQR\n",
        "# upper_bound = Q3 + 1.5 * IQR\n",
        "# outliers = data[(data[\"age\"] < lower_bound) | (data[\"age\"] > upper_bound)]\n"
      ],
      "metadata": {
        "id": "wizBqFEoyMjp"
      },
      "execution_count": 17,
      "outputs": []
    },
    {
      "cell_type": "code",
      "source": [
        "# sns.boxplot(x=outliers[\"age\"])\n",
        "# plt.show()"
      ],
      "metadata": {
        "id": "1Ca5tXsAyavb"
      },
      "execution_count": 18,
      "outputs": []
    },
    {
      "cell_type": "code",
      "source": [
        "# Функция для расчета Information Value для одной переменной\n",
        "def calc_iv(df, feature, target):\n",
        "    lst = []\n",
        "    for i in range(df[feature].nunique()): # проходим по всем уникальным значениям переменной\n",
        "        val = list(df[feature].unique())[i]\n",
        "        lst.append([feature,                                    # название переменной\n",
        "                    val,                                        # значение переменной\n",
        "                    df[df[feature] == val].count()[feature],     # количество наблюдений\n",
        "                    df[(df[feature] == val) & (df[target] == 0)].count()[feature], # количество наблюдений с целевой переменной 0\n",
        "                    df[(df[feature] == val) & (df[target] == 1)].count()[feature]]) # количество наблюдений с целевой переменной 1\n",
        "    data = pd.DataFrame(lst, columns=['Variable', 'Value', 'All', 'Good', 'Bad'])\n",
        "    data = data[data['Good'] != 0]\n",
        "    data = data[data['Bad'] != 0]\n",
        "    data['Distribution Good'] = data['Good'] / data['Good'].sum()\n",
        "    data['Distribution Bad'] = data['Bad'] / data['Bad'].sum()\n",
        "    data['WoE'] = np.log(data['Distribution Good'] / data['Distribution Bad'])\n",
        "    data['IV'] = (data['Distribution Good'] - data['Distribution Bad']) * data['WoE']\n",
        "    data = data.sort_values(by=['Variable', 'Value'], ascending=[True, True])\n",
        "    return data['IV'].sum()"
      ],
      "metadata": {
        "id": "pql3D0h3Ds6S"
      },
      "execution_count": 19,
      "outputs": []
    },
    {
      "cell_type": "code",
      "source": [
        "# Расчет IV для каждой переменной\n",
        "for col in data.columns:\n",
        "    if col != 'survived': # целевая переменная\n",
        "        iv = calc_iv(data, col, 'survived')\n",
        "        print('Information Value for', col, ':', iv)"
      ],
      "metadata": {
        "id": "ePCABoNuDstV",
        "outputId": "7778fd4c-12b2-426c-cbe6-5a21915d0dca",
        "colab": {
          "base_uri": "https://localhost:8080/"
        }
      },
      "execution_count": 20,
      "outputs": [
        {
          "output_type": "stream",
          "name": "stdout",
          "text": [
            "Information Value for pclass : 0.5009497375839471\n",
            "Information Value for sex : 1.3416814135556492\n",
            "Information Value for age : 0.32105818381405427\n",
            "Information Value for sibsp : 0.14348564997628396\n",
            "Information Value for parch : 0.1155796582345093\n",
            "Information Value for fare : 1.0657330180224114\n",
            "Information Value for embarked : 0.11992314886008473\n",
            "Information Value for class : 0.5009497375839471\n",
            "Information Value for who : 1.4863333564269188\n",
            "Information Value for adult_male : 1.436021268541837\n",
            "Information Value for deck : 0.476266364444155\n",
            "Information Value for embark_town : 0.12272839786748337\n",
            "Information Value for alive : 0.0\n",
            "Information Value for alone : 0.17457132942063416\n"
          ]
        }
      ]
    },
    {
      "cell_type": "code",
      "source": [
        "def calculate_iv(data, feature, target):\n",
        "  # Создание таблицы сопряженности\n",
        "  cross_tab = pd.crosstab(data[feature], data[target])\n",
        "  # Расчет долей исходов в каждой группе\n",
        "  cross_tab['total'] = cross_tab.sum(axis=1)\n",
        "  cross_tab['event_rate'] = cross_tab[1] / cross_tab['total']\n",
        "\n",
        "  # Расчет долей исходов в общей выборке\n",
        "  total_event = cross_tab[1].sum()\n",
        "  total_non_event = cross_tab[0].sum()\n",
        "  total = total_event + total_non_event\n",
        "  overall_event_rate = total_event / total\n",
        "  # Расчет IV\n",
        "  cross_tab['woe'] = np.log(cross_tab['event_rate'] / overall_event_rate)\n",
        "  cross_tab['iv'] = cross_tab['woe'] * (cross_tab['event_rate'] - overall_event_rate)\n",
        "\n",
        "  # Суммирование IV по всем группам\n",
        "  iv = cross_tab['iv'].sum()\n",
        "  return iv"
      ],
      "metadata": {
        "id": "jPFnkBpHEFej"
      },
      "execution_count": 22,
      "outputs": []
    },
    {
      "cell_type": "code",
      "source": [
        "# Расчет IV для каждой переменной\n",
        "for col in data.columns:\n",
        "    if col != 'survived': # целевая переменная\n",
        "        iv = calculate_iv(data, col, 'survived')\n",
        "        print('Information Value for', col, ':', iv)"
      ],
      "metadata": {
        "id": "RSqMdYE-ESn5",
        "outputId": "c991f554-79df-4543-8e87-ed73ba99cd92",
        "colab": {
          "base_uri": "https://localhost:8080/"
        }
      },
      "execution_count": 23,
      "outputs": [
        {
          "output_type": "stream",
          "name": "stdout",
          "text": [
            "Information Value for pclass : 0.20524781407892229\n",
            "Information Value for sex : 0.374315741124665\n",
            "Information Value for age : inf\n",
            "Information Value for sibsp : inf\n",
            "Information Value for parch : inf\n",
            "Information Value for fare : inf\n",
            "Information Value for embarked : 0.06780467333205424\n",
            "Information Value for class : 0.20524781407892229\n",
            "Information Value for who : 0.5289233444351997\n",
            "Information Value for adult_male : 0.39595617295010777\n",
            "Information Value for deck : 1.0068341846899365\n",
            "Information Value for embark_town : 0.6583398625703771\n",
            "Information Value for alive : inf\n",
            "Information Value for alone : 0.05242155397132103\n"
          ]
        },
        {
          "output_type": "stream",
          "name": "stderr",
          "text": [
            "/usr/local/lib/python3.10/dist-packages/pandas/core/arraylike.py:402: RuntimeWarning: divide by zero encountered in log\n",
            "  result = getattr(ufunc, method)(*inputs, **kwargs)\n",
            "/usr/local/lib/python3.10/dist-packages/pandas/core/arraylike.py:402: RuntimeWarning: divide by zero encountered in log\n",
            "  result = getattr(ufunc, method)(*inputs, **kwargs)\n",
            "/usr/local/lib/python3.10/dist-packages/pandas/core/arraylike.py:402: RuntimeWarning: divide by zero encountered in log\n",
            "  result = getattr(ufunc, method)(*inputs, **kwargs)\n",
            "/usr/local/lib/python3.10/dist-packages/pandas/core/arraylike.py:402: RuntimeWarning: divide by zero encountered in log\n",
            "  result = getattr(ufunc, method)(*inputs, **kwargs)\n",
            "/usr/local/lib/python3.10/dist-packages/pandas/core/arraylike.py:402: RuntimeWarning: divide by zero encountered in log\n",
            "  result = getattr(ufunc, method)(*inputs, **kwargs)\n"
          ]
        }
      ]
    }
  ]
}