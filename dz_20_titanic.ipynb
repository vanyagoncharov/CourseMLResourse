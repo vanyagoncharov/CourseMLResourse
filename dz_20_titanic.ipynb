{
  "nbformat": 4,
  "nbformat_minor": 0,
  "metadata": {
    "colab": {
      "provenance": [],
      "toc_visible": true,
      "include_colab_link": true
    },
    "kernelspec": {
      "name": "python3",
      "display_name": "Python 3"
    },
    "language_info": {
      "name": "python"
    }
  },
  "cells": [
    {
      "cell_type": "markdown",
      "metadata": {
        "id": "view-in-github",
        "colab_type": "text"
      },
      "source": [
        "<a href=\"https://colab.research.google.com/github/vanyagoncharov/CourseMLResourse/blob/main/dz_20_titanic.ipynb\" target=\"_parent\"><img src=\"https://colab.research.google.com/assets/colab-badge.svg\" alt=\"Open In Colab\"/></a>"
      ]
    },
    {
      "cell_type": "markdown",
      "source": [
        "## Импорт библиотек"
      ],
      "metadata": {
        "id": "D9yV9YkcEtza"
      }
    },
    {
      "cell_type": "code",
      "execution_count": 1,
      "metadata": {
        "id": "RrJwy55yrRw6"
      },
      "outputs": [],
      "source": [
        "# Импорт используемых библиотек\n",
        "import seaborn as sns\n",
        "import pandas as pd\n",
        "import numpy as np\n",
        "import matplotlib.pyplot as plt\n",
        "\n",
        "from sklearn.neighbors import KNeighborsClassifier\n",
        "from sklearn.linear_model import LogisticRegression\n",
        "from sklearn.svm import SVC\n",
        "\n",
        "from sklearn.metrics import precision_score, recall_score, roc_auc_score, roc_curve\n",
        "\n",
        "from sklearn.model_selection import cross_val_score\n",
        "from sklearn.model_selection import GridSearchCV\n",
        "from sklearn.model_selection import RandomizedSearchCV\n",
        "\n",
        "from sklearn.model_selection import train_test_split\n",
        "\n",
        "from sklearn.preprocessing import StandardScaler"
      ]
    },
    {
      "cell_type": "markdown",
      "source": [
        "## Функции"
      ],
      "metadata": {
        "id": "_PV3vUQJeiFf"
      }
    },
    {
      "cell_type": "code",
      "source": [
        "# Функция для расчета метрик и построения кривой ROC\n",
        "def calculate_metrics_and_plot_roc(model, X_train, y_train, X_test, y_test):\n",
        "    # Обучение модели\n",
        "    model.fit(X_train, y_train)\n",
        "\n",
        "    # Предсказание на обучающей и тестовой выборке\n",
        "    y_train_pred = model.predict(X_train)\n",
        "    y_test_pred = model.predict(X_test)\n",
        "\n",
        "    # Расчет метрик precision и recall\n",
        "    train_precision = precision_score(y_train, y_train_pred)\n",
        "    train_recall = recall_score(y_train, y_train_pred)\n",
        "    test_precision = precision_score(y_test, y_test_pred)\n",
        "    test_recall = recall_score(y_test, y_test_pred)\n",
        "\n",
        "    print(f\"Training Precision: {train_precision:.2f}\")\n",
        "    print(f\"Training Recall: {train_recall:.2f}\")\n",
        "    print(f\"Test Precision: {test_precision:.2f}\")\n",
        "    print(f\"Test Recall: {test_recall:.2f}\")\n",
        "\n",
        "    metrics =  {'params': ['Training_Precision', 'Test_Precision','Training_Recall', 'Test_Recall'],\n",
        "                'values': [train_precision, test_precision, train_recall, test_recall]}\n",
        "\n",
        "    # Расчет ROC-AUC на тестовой выборке\n",
        "    try:\n",
        "      pred_test = model.predict_proba(X_test)\n",
        "      pred_train = model.predict_proba(X_train)\n",
        "      roc_auc_test = roc_auc_score(y_test, pred_test[:, 1])\n",
        "      roc_auc_train = roc_auc_score(y_train, pred_train[:, 1])\n",
        "      print(f\"ROC-AUC_test = : {roc_auc_test:.2f} и ROC-AUC_train = : {roc_auc_train:.2f}\")\n",
        "\n",
        "      # Построение кривой ROC\n",
        "      fpr_test, tpr_test, _ = roc_curve(y_test, pred_test[:, 1])\n",
        "      fpr_train, tpr_train, _ = roc_curve(y_train, pred_train[:, 1])\n",
        "      plt.figure()\n",
        "      plt.plot(fpr_test, tpr_test, color='blue', lw=2, label = 'ROC Curve test')\n",
        "      plt.plot(fpr_train, tpr_train, color='darkorange', lw=2, label = 'ROC Curve train')\n",
        "      plt.plot([0, 1], [0, 1], color='navy', lw=2, linestyle='--')\n",
        "      plt.xlabel('False Positive Rate')\n",
        "      plt.ylabel('True Positive Rate')\n",
        "      plt.legend()\n",
        "      plt.title(f'ROC Curve ({type(model).__name__})')\n",
        "      plt.show()\n",
        "    except Exception as e:\n",
        "      print(e)\n",
        "    return metrics\n",
        "\n",
        "\n"
      ],
      "metadata": {
        "id": "iuCTLvIPekWt"
      },
      "execution_count": 2,
      "outputs": []
    },
    {
      "cell_type": "markdown",
      "source": [
        "## Загрузка данных"
      ],
      "metadata": {
        "id": "iI05uBbcE4aI"
      }
    },
    {
      "cell_type": "code",
      "source": [
        "# Загрузка данных\n",
        "data = sns.load_dataset('titanic')\n",
        "\n",
        "# Разделение на целевую переменную и показатели\n",
        "X = data.drop(columns='survived')\n",
        "y = data[\"survived\"]"
      ],
      "metadata": {
        "id": "IfpXuFRbrbJv"
      },
      "execution_count": 3,
      "outputs": []
    },
    {
      "cell_type": "markdown",
      "source": [
        "## Провести разведочный анализ данных, ответив на следующие вопросы:"
      ],
      "metadata": {
        "id": "n8ndrmcrFEuk"
      }
    },
    {
      "cell_type": "code",
      "source": [
        "data.info()"
      ],
      "metadata": {
        "colab": {
          "base_uri": "https://localhost:8080/"
        },
        "id": "GH4ggUNQsVxJ",
        "outputId": "e028c77b-841d-4a11-a8a5-bb7a5d5cc689"
      },
      "execution_count": 4,
      "outputs": [
        {
          "output_type": "stream",
          "name": "stdout",
          "text": [
            "<class 'pandas.core.frame.DataFrame'>\n",
            "RangeIndex: 891 entries, 0 to 890\n",
            "Data columns (total 15 columns):\n",
            " #   Column       Non-Null Count  Dtype   \n",
            "---  ------       --------------  -----   \n",
            " 0   survived     891 non-null    int64   \n",
            " 1   pclass       891 non-null    int64   \n",
            " 2   sex          891 non-null    object  \n",
            " 3   age          714 non-null    float64 \n",
            " 4   sibsp        891 non-null    int64   \n",
            " 5   parch        891 non-null    int64   \n",
            " 6   fare         891 non-null    float64 \n",
            " 7   embarked     889 non-null    object  \n",
            " 8   class        891 non-null    category\n",
            " 9   who          891 non-null    object  \n",
            " 10  adult_male   891 non-null    bool    \n",
            " 11  deck         203 non-null    category\n",
            " 12  embark_town  889 non-null    object  \n",
            " 13  alive        891 non-null    object  \n",
            " 14  alone        891 non-null    bool    \n",
            "dtypes: bool(2), category(2), float64(2), int64(4), object(5)\n",
            "memory usage: 80.7+ KB\n"
          ]
        }
      ]
    },
    {
      "cell_type": "markdown",
      "source": [
        "### Сколько строк в датафрейме, сколько столбцов"
      ],
      "metadata": {
        "id": "0jlAaKTZutIY"
      }
    },
    {
      "cell_type": "code",
      "source": [
        "# Вывод информации о датасете\n",
        "print(f'Информация о датасете: \\n {X.shape[0]}: строк\\n {X.shape[1]}: столбцов\\n '\n",
        "      f'{np.round(data.memory_usage(index=True).sum() / 1024, 4)} КБ: занимаемый объем памяти')"
      ],
      "metadata": {
        "colab": {
          "base_uri": "https://localhost:8080/"
        },
        "id": "af2XIQsarx_Z",
        "outputId": "971fb77e-dbef-4e7a-dea5-33eed9fb67a3"
      },
      "execution_count": 5,
      "outputs": [
        {
          "output_type": "stream",
          "name": "stdout",
          "text": [
            "Информация о датасете: \n",
            " 891: строк\n",
            " 14: столбцов\n",
            " 80.6523 КБ: занимаемый объем памяти\n"
          ]
        }
      ]
    },
    {
      "cell_type": "markdown",
      "source": [
        "### Для каждой категориальной переменной рассчитать моду и сколько раз мода встречается в данных"
      ],
      "metadata": {
        "id": "nvHrkilxuXPh"
      }
    },
    {
      "cell_type": "code",
      "source": [
        "# Выбираем только интервальные переменные (столбцы с числовыми значениями)\n",
        "num_cols = ['age', 'fare']\n",
        "num_data = data[num_cols]\n",
        "\n",
        "# Рассчитываем основные характеристики для каждой переменной\n",
        "stats_df = num_data.describe().T\n",
        "\n",
        "# Выводим результат\n",
        "print(stats_df)"
      ],
      "metadata": {
        "colab": {
          "base_uri": "https://localhost:8080/"
        },
        "id": "EUm2PSuxro67",
        "outputId": "18cd650c-8db8-414b-fd97-a20aefbb3182"
      },
      "execution_count": 6,
      "outputs": [
        {
          "output_type": "stream",
          "name": "stdout",
          "text": [
            "      count       mean        std   min      25%      50%   75%       max\n",
            "age   714.0  29.699118  14.526497  0.42  20.1250  28.0000  38.0   80.0000\n",
            "fare  891.0  32.204208  49.693429  0.00   7.9104  14.4542  31.0  512.3292\n"
          ]
        }
      ]
    },
    {
      "cell_type": "markdown",
      "source": [
        "### Для каждой категориальной переменной рассчитать моду и сколько раз мода встречается в данных"
      ],
      "metadata": {
        "id": "prTEZYggua62"
      }
    },
    {
      "cell_type": "code",
      "source": [
        "# Создаем DataFrame, содержащий только категориальные переменные\n",
        "cat_cols = ['survived', 'pclass', 'sex', 'sibsp', 'parch', 'embarked', 'class', 'who', 'adult_male', 'deck', 'embark_town', 'alive', 'alone']\n",
        "cat_data = data[cat_cols]\n",
        "\n",
        "# Рассчитываем моду и количество ее встреч для каждой переменной\n",
        "mode_df = pd.DataFrame({'mode': cat_data.mode().iloc[0], 'count': cat_data.apply(lambda x: x.value_counts().max())})\n",
        "\n",
        "# Выводим результат\n",
        "print(mode_df)\n"
      ],
      "metadata": {
        "colab": {
          "base_uri": "https://localhost:8080/"
        },
        "id": "eLojt7ECrqUb",
        "outputId": "da344555-3740-452e-c5a7-a62fcf5521cd"
      },
      "execution_count": 7,
      "outputs": [
        {
          "output_type": "stream",
          "name": "stdout",
          "text": [
            "                    mode  count\n",
            "survived               0    549\n",
            "pclass                 3    491\n",
            "sex                 male    577\n",
            "sibsp                  0    608\n",
            "parch                  0    678\n",
            "embarked               S    644\n",
            "class              Third    491\n",
            "who                  man    537\n",
            "adult_male          True    537\n",
            "deck                   C     59\n",
            "embark_town  Southampton    644\n",
            "alive                 no    549\n",
            "alone               True    537\n"
          ]
        }
      ]
    },
    {
      "cell_type": "markdown",
      "source": [
        "## Подготовка датасета к построению моделей ML"
      ],
      "metadata": {
        "id": "JtW-isboFTi8"
      }
    },
    {
      "cell_type": "markdown",
      "source": [
        "### Провести анализ и обработку пропусков (либо заменить, либо удалить)"
      ],
      "metadata": {
        "id": "T5wOSLtnFXZc"
      }
    },
    {
      "cell_type": "code",
      "source": [
        "# Анализ пропусков\n",
        "X.isnull().sum()"
      ],
      "metadata": {
        "colab": {
          "base_uri": "https://localhost:8080/"
        },
        "id": "CHNsvyYzwAro",
        "outputId": "813b2f27-d440-4464-8e1d-7d49c30747d4"
      },
      "execution_count": 8,
      "outputs": [
        {
          "output_type": "execute_result",
          "data": {
            "text/plain": [
              "pclass           0\n",
              "sex              0\n",
              "age            177\n",
              "sibsp            0\n",
              "parch            0\n",
              "fare             0\n",
              "embarked         2\n",
              "class            0\n",
              "who              0\n",
              "adult_male       0\n",
              "deck           688\n",
              "embark_town      2\n",
              "alive            0\n",
              "alone            0\n",
              "dtype: int64"
            ]
          },
          "metadata": {},
          "execution_count": 8
        }
      ]
    },
    {
      "cell_type": "code",
      "source": [
        "# Заполнение пропущенных значений в столбце 'age' медианным значением\n",
        "X['age'].fillna(X['age'].median(), inplace=True)\n",
        "\n",
        "# Заполнение пропущенных значений в столбце 'embarked' наиболее часто встречающимся значением\n",
        "embarked_mode = X['embarked'].mode()[0]\n",
        "X['embarked'].fillna(embarked_mode, inplace=True)\n",
        "\n",
        "# Сначала получим текущие категории\n",
        "current_categories = X['deck'].cat.categories.tolist()\n",
        "# Добавим новую категорию 'Unknown' в список категорий, если она еще не существует\n",
        "if 'Unknown' not in current_categories:\n",
        "  new_categories = current_categories + ['Unknown']\n",
        "else:\n",
        "  new_categories = current_categories\n",
        "# Установим обновленные категории в переменную 'deck'\n",
        "X['deck'] = X['deck'].cat.set_categories(new_categories)\n",
        "\n",
        "# Заполнение пропущенных значений в столбце 'deck' значением Unknown\n",
        "X.loc[X['deck'].isnull(), 'deck'] = 'Unknown'\n",
        "\n",
        "# Заполнение пропущенных значений в столбце 'embark_town' значением Unknown\n",
        "X[\"embark_town\"].fillna(\"Unknown\", inplace=True)"
      ],
      "metadata": {
        "id": "HnVzfh71vC39"
      },
      "execution_count": 9,
      "outputs": []
    },
    {
      "cell_type": "code",
      "source": [
        "# Анализ пропусков\n",
        "X.isnull().sum()"
      ],
      "metadata": {
        "colab": {
          "base_uri": "https://localhost:8080/"
        },
        "id": "jMsoVw_-wENH",
        "outputId": "77a1de7b-375f-41ff-ff6c-460df432ded3"
      },
      "execution_count": 10,
      "outputs": [
        {
          "output_type": "execute_result",
          "data": {
            "text/plain": [
              "pclass         0\n",
              "sex            0\n",
              "age            0\n",
              "sibsp          0\n",
              "parch          0\n",
              "fare           0\n",
              "embarked       0\n",
              "class          0\n",
              "who            0\n",
              "adult_male     0\n",
              "deck           0\n",
              "embark_town    0\n",
              "alive          0\n",
              "alone          0\n",
              "dtype: int64"
            ]
          },
          "metadata": {},
          "execution_count": 10
        }
      ]
    },
    {
      "cell_type": "markdown",
      "source": [
        "### Провести анализ и обработку выбросов (либо заменить, либо удалить)"
      ],
      "metadata": {
        "id": "rmvPs_PoFipN"
      }
    },
    {
      "cell_type": "code",
      "source": [
        "# заменяем значения True и False на 1 и 0\n",
        "X['alone'] = X['alone'].replace({True: 1, False: 0})\n",
        "# заменяем значения yes и no на 1 и 0\n",
        "X['alive'] = X['alive'].replace({'yes': 1, 'no': 0})"
      ],
      "metadata": {
        "id": "uUNX95ZJEiah"
      },
      "execution_count": 11,
      "outputs": []
    },
    {
      "cell_type": "code",
      "source": [
        "data.head()"
      ],
      "metadata": {
        "colab": {
          "base_uri": "https://localhost:8080/",
          "height": 270
        },
        "id": "hUY6V0qMsaYf",
        "outputId": "67ac6ab1-7f58-4a3d-f7d7-7f9a7604c63c"
      },
      "execution_count": 12,
      "outputs": [
        {
          "output_type": "execute_result",
          "data": {
            "text/plain": [
              "   survived  pclass     sex   age  sibsp  parch     fare embarked  class  \\\n",
              "0         0       3    male  22.0      1      0   7.2500        S  Third   \n",
              "1         1       1  female  38.0      1      0  71.2833        C  First   \n",
              "2         1       3  female  26.0      0      0   7.9250        S  Third   \n",
              "3         1       1  female  35.0      1      0  53.1000        S  First   \n",
              "4         0       3    male  35.0      0      0   8.0500        S  Third   \n",
              "\n",
              "     who  adult_male deck  embark_town alive  alone  \n",
              "0    man        True  NaN  Southampton    no  False  \n",
              "1  woman       False    C    Cherbourg   yes  False  \n",
              "2  woman       False  NaN  Southampton   yes   True  \n",
              "3  woman       False    C  Southampton   yes  False  \n",
              "4    man        True  NaN  Southampton    no   True  "
            ],
            "text/html": [
              "\n",
              "\n",
              "  <div id=\"df-56eeb540-9cb8-42d1-b9ba-3d14a21deaf1\">\n",
              "    <div class=\"colab-df-container\">\n",
              "      <div>\n",
              "<style scoped>\n",
              "    .dataframe tbody tr th:only-of-type {\n",
              "        vertical-align: middle;\n",
              "    }\n",
              "\n",
              "    .dataframe tbody tr th {\n",
              "        vertical-align: top;\n",
              "    }\n",
              "\n",
              "    .dataframe thead th {\n",
              "        text-align: right;\n",
              "    }\n",
              "</style>\n",
              "<table border=\"1\" class=\"dataframe\">\n",
              "  <thead>\n",
              "    <tr style=\"text-align: right;\">\n",
              "      <th></th>\n",
              "      <th>survived</th>\n",
              "      <th>pclass</th>\n",
              "      <th>sex</th>\n",
              "      <th>age</th>\n",
              "      <th>sibsp</th>\n",
              "      <th>parch</th>\n",
              "      <th>fare</th>\n",
              "      <th>embarked</th>\n",
              "      <th>class</th>\n",
              "      <th>who</th>\n",
              "      <th>adult_male</th>\n",
              "      <th>deck</th>\n",
              "      <th>embark_town</th>\n",
              "      <th>alive</th>\n",
              "      <th>alone</th>\n",
              "    </tr>\n",
              "  </thead>\n",
              "  <tbody>\n",
              "    <tr>\n",
              "      <th>0</th>\n",
              "      <td>0</td>\n",
              "      <td>3</td>\n",
              "      <td>male</td>\n",
              "      <td>22.0</td>\n",
              "      <td>1</td>\n",
              "      <td>0</td>\n",
              "      <td>7.2500</td>\n",
              "      <td>S</td>\n",
              "      <td>Third</td>\n",
              "      <td>man</td>\n",
              "      <td>True</td>\n",
              "      <td>NaN</td>\n",
              "      <td>Southampton</td>\n",
              "      <td>no</td>\n",
              "      <td>False</td>\n",
              "    </tr>\n",
              "    <tr>\n",
              "      <th>1</th>\n",
              "      <td>1</td>\n",
              "      <td>1</td>\n",
              "      <td>female</td>\n",
              "      <td>38.0</td>\n",
              "      <td>1</td>\n",
              "      <td>0</td>\n",
              "      <td>71.2833</td>\n",
              "      <td>C</td>\n",
              "      <td>First</td>\n",
              "      <td>woman</td>\n",
              "      <td>False</td>\n",
              "      <td>C</td>\n",
              "      <td>Cherbourg</td>\n",
              "      <td>yes</td>\n",
              "      <td>False</td>\n",
              "    </tr>\n",
              "    <tr>\n",
              "      <th>2</th>\n",
              "      <td>1</td>\n",
              "      <td>3</td>\n",
              "      <td>female</td>\n",
              "      <td>26.0</td>\n",
              "      <td>0</td>\n",
              "      <td>0</td>\n",
              "      <td>7.9250</td>\n",
              "      <td>S</td>\n",
              "      <td>Third</td>\n",
              "      <td>woman</td>\n",
              "      <td>False</td>\n",
              "      <td>NaN</td>\n",
              "      <td>Southampton</td>\n",
              "      <td>yes</td>\n",
              "      <td>True</td>\n",
              "    </tr>\n",
              "    <tr>\n",
              "      <th>3</th>\n",
              "      <td>1</td>\n",
              "      <td>1</td>\n",
              "      <td>female</td>\n",
              "      <td>35.0</td>\n",
              "      <td>1</td>\n",
              "      <td>0</td>\n",
              "      <td>53.1000</td>\n",
              "      <td>S</td>\n",
              "      <td>First</td>\n",
              "      <td>woman</td>\n",
              "      <td>False</td>\n",
              "      <td>C</td>\n",
              "      <td>Southampton</td>\n",
              "      <td>yes</td>\n",
              "      <td>False</td>\n",
              "    </tr>\n",
              "    <tr>\n",
              "      <th>4</th>\n",
              "      <td>0</td>\n",
              "      <td>3</td>\n",
              "      <td>male</td>\n",
              "      <td>35.0</td>\n",
              "      <td>0</td>\n",
              "      <td>0</td>\n",
              "      <td>8.0500</td>\n",
              "      <td>S</td>\n",
              "      <td>Third</td>\n",
              "      <td>man</td>\n",
              "      <td>True</td>\n",
              "      <td>NaN</td>\n",
              "      <td>Southampton</td>\n",
              "      <td>no</td>\n",
              "      <td>True</td>\n",
              "    </tr>\n",
              "  </tbody>\n",
              "</table>\n",
              "</div>\n",
              "      <button class=\"colab-df-convert\" onclick=\"convertToInteractive('df-56eeb540-9cb8-42d1-b9ba-3d14a21deaf1')\"\n",
              "              title=\"Convert this dataframe to an interactive table.\"\n",
              "              style=\"display:none;\">\n",
              "\n",
              "  <svg xmlns=\"http://www.w3.org/2000/svg\" height=\"24px\"viewBox=\"0 0 24 24\"\n",
              "       width=\"24px\">\n",
              "    <path d=\"M0 0h24v24H0V0z\" fill=\"none\"/>\n",
              "    <path d=\"M18.56 5.44l.94 2.06.94-2.06 2.06-.94-2.06-.94-.94-2.06-.94 2.06-2.06.94zm-11 1L8.5 8.5l.94-2.06 2.06-.94-2.06-.94L8.5 2.5l-.94 2.06-2.06.94zm10 10l.94 2.06.94-2.06 2.06-.94-2.06-.94-.94-2.06-.94 2.06-2.06.94z\"/><path d=\"M17.41 7.96l-1.37-1.37c-.4-.4-.92-.59-1.43-.59-.52 0-1.04.2-1.43.59L10.3 9.45l-7.72 7.72c-.78.78-.78 2.05 0 2.83L4 21.41c.39.39.9.59 1.41.59.51 0 1.02-.2 1.41-.59l7.78-7.78 2.81-2.81c.8-.78.8-2.07 0-2.86zM5.41 20L4 18.59l7.72-7.72 1.47 1.35L5.41 20z\"/>\n",
              "  </svg>\n",
              "      </button>\n",
              "\n",
              "\n",
              "\n",
              "    <div id=\"df-78b29f7d-f89d-453e-b09e-2d3b62b68256\">\n",
              "      <button class=\"colab-df-quickchart\" onclick=\"quickchart('df-78b29f7d-f89d-453e-b09e-2d3b62b68256')\"\n",
              "              title=\"Suggest charts.\"\n",
              "              style=\"display:none;\">\n",
              "\n",
              "<svg xmlns=\"http://www.w3.org/2000/svg\" height=\"24px\"viewBox=\"0 0 24 24\"\n",
              "     width=\"24px\">\n",
              "    <g>\n",
              "        <path d=\"M19 3H5c-1.1 0-2 .9-2 2v14c0 1.1.9 2 2 2h14c1.1 0 2-.9 2-2V5c0-1.1-.9-2-2-2zM9 17H7v-7h2v7zm4 0h-2V7h2v10zm4 0h-2v-4h2v4z\"/>\n",
              "    </g>\n",
              "</svg>\n",
              "      </button>\n",
              "    </div>\n",
              "\n",
              "<style>\n",
              "  .colab-df-quickchart {\n",
              "    background-color: #E8F0FE;\n",
              "    border: none;\n",
              "    border-radius: 50%;\n",
              "    cursor: pointer;\n",
              "    display: none;\n",
              "    fill: #1967D2;\n",
              "    height: 32px;\n",
              "    padding: 0 0 0 0;\n",
              "    width: 32px;\n",
              "  }\n",
              "\n",
              "  .colab-df-quickchart:hover {\n",
              "    background-color: #E2EBFA;\n",
              "    box-shadow: 0px 1px 2px rgba(60, 64, 67, 0.3), 0px 1px 3px 1px rgba(60, 64, 67, 0.15);\n",
              "    fill: #174EA6;\n",
              "  }\n",
              "\n",
              "  [theme=dark] .colab-df-quickchart {\n",
              "    background-color: #3B4455;\n",
              "    fill: #D2E3FC;\n",
              "  }\n",
              "\n",
              "  [theme=dark] .colab-df-quickchart:hover {\n",
              "    background-color: #434B5C;\n",
              "    box-shadow: 0px 1px 3px 1px rgba(0, 0, 0, 0.15);\n",
              "    filter: drop-shadow(0px 1px 2px rgba(0, 0, 0, 0.3));\n",
              "    fill: #FFFFFF;\n",
              "  }\n",
              "</style>\n",
              "\n",
              "    <script>\n",
              "      async function quickchart(key) {\n",
              "        const containerElement = document.querySelector('#' + key);\n",
              "        const charts = await google.colab.kernel.invokeFunction(\n",
              "            'suggestCharts', [key], {});\n",
              "      }\n",
              "    </script>\n",
              "\n",
              "      <script>\n",
              "\n",
              "function displayQuickchartButton(domScope) {\n",
              "  let quickchartButtonEl =\n",
              "    domScope.querySelector('#df-78b29f7d-f89d-453e-b09e-2d3b62b68256 button.colab-df-quickchart');\n",
              "  quickchartButtonEl.style.display =\n",
              "    google.colab.kernel.accessAllowed ? 'block' : 'none';\n",
              "}\n",
              "\n",
              "        displayQuickchartButton(document);\n",
              "      </script>\n",
              "      <style>\n",
              "    .colab-df-container {\n",
              "      display:flex;\n",
              "      flex-wrap:wrap;\n",
              "      gap: 12px;\n",
              "    }\n",
              "\n",
              "    .colab-df-convert {\n",
              "      background-color: #E8F0FE;\n",
              "      border: none;\n",
              "      border-radius: 50%;\n",
              "      cursor: pointer;\n",
              "      display: none;\n",
              "      fill: #1967D2;\n",
              "      height: 32px;\n",
              "      padding: 0 0 0 0;\n",
              "      width: 32px;\n",
              "    }\n",
              "\n",
              "    .colab-df-convert:hover {\n",
              "      background-color: #E2EBFA;\n",
              "      box-shadow: 0px 1px 2px rgba(60, 64, 67, 0.3), 0px 1px 3px 1px rgba(60, 64, 67, 0.15);\n",
              "      fill: #174EA6;\n",
              "    }\n",
              "\n",
              "    [theme=dark] .colab-df-convert {\n",
              "      background-color: #3B4455;\n",
              "      fill: #D2E3FC;\n",
              "    }\n",
              "\n",
              "    [theme=dark] .colab-df-convert:hover {\n",
              "      background-color: #434B5C;\n",
              "      box-shadow: 0px 1px 3px 1px rgba(0, 0, 0, 0.15);\n",
              "      filter: drop-shadow(0px 1px 2px rgba(0, 0, 0, 0.3));\n",
              "      fill: #FFFFFF;\n",
              "    }\n",
              "  </style>\n",
              "\n",
              "      <script>\n",
              "        const buttonEl =\n",
              "          document.querySelector('#df-56eeb540-9cb8-42d1-b9ba-3d14a21deaf1 button.colab-df-convert');\n",
              "        buttonEl.style.display =\n",
              "          google.colab.kernel.accessAllowed ? 'block' : 'none';\n",
              "\n",
              "        async function convertToInteractive(key) {\n",
              "          const element = document.querySelector('#df-56eeb540-9cb8-42d1-b9ba-3d14a21deaf1');\n",
              "          const dataTable =\n",
              "            await google.colab.kernel.invokeFunction('convertToInteractive',\n",
              "                                                     [key], {});\n",
              "          if (!dataTable) return;\n",
              "\n",
              "          const docLinkHtml = 'Like what you see? Visit the ' +\n",
              "            '<a target=\"_blank\" href=https://colab.research.google.com/notebooks/data_table.ipynb>data table notebook</a>'\n",
              "            + ' to learn more about interactive tables.';\n",
              "          element.innerHTML = '';\n",
              "          dataTable['output_type'] = 'display_data';\n",
              "          await google.colab.output.renderOutput(dataTable, element);\n",
              "          const docLink = document.createElement('div');\n",
              "          docLink.innerHTML = docLinkHtml;\n",
              "          element.appendChild(docLink);\n",
              "        }\n",
              "      </script>\n",
              "    </div>\n",
              "  </div>\n"
            ]
          },
          "metadata": {},
          "execution_count": 12
        }
      ]
    },
    {
      "cell_type": "code",
      "source": [
        "# sibsp: количество братьев/сестер и/или супругов на борту.\n",
        "# parch: количество родителей/детей на борту\n",
        "# alone: указывает, был ли пассажир на борту один или нет\n",
        "# embarked: порт, в котором пассажир сел на борт Титаника.\n",
        "# alive: жив или мертв\n",
        "# who: пол\n",
        "X = X.drop(['sibsp', 'parch', 'alone', 'embarked', 'alive', 'who'], axis=1)"
      ],
      "metadata": {
        "id": "pGjNllrKeKyt"
      },
      "execution_count": 13,
      "outputs": []
    },
    {
      "cell_type": "code",
      "source": [
        "X"
      ],
      "metadata": {
        "id": "ao5MfbacLzDP",
        "outputId": "9cabc16c-4c77-4438-b8ec-077be2b2071e",
        "colab": {
          "base_uri": "https://localhost:8080/",
          "height": 423
        }
      },
      "execution_count": 14,
      "outputs": [
        {
          "output_type": "execute_result",
          "data": {
            "text/plain": [
              "     pclass     sex   age     fare   class  adult_male     deck  embark_town\n",
              "0         3    male  22.0   7.2500   Third        True  Unknown  Southampton\n",
              "1         1  female  38.0  71.2833   First       False        C    Cherbourg\n",
              "2         3  female  26.0   7.9250   Third       False  Unknown  Southampton\n",
              "3         1  female  35.0  53.1000   First       False        C  Southampton\n",
              "4         3    male  35.0   8.0500   Third        True  Unknown  Southampton\n",
              "..      ...     ...   ...      ...     ...         ...      ...          ...\n",
              "886       2    male  27.0  13.0000  Second        True  Unknown  Southampton\n",
              "887       1  female  19.0  30.0000   First       False        B  Southampton\n",
              "888       3  female  28.0  23.4500   Third       False  Unknown  Southampton\n",
              "889       1    male  26.0  30.0000   First        True        C    Cherbourg\n",
              "890       3    male  32.0   7.7500   Third        True  Unknown   Queenstown\n",
              "\n",
              "[891 rows x 8 columns]"
            ],
            "text/html": [
              "\n",
              "\n",
              "  <div id=\"df-992618d5-72f6-467f-ace8-d856edaedba6\">\n",
              "    <div class=\"colab-df-container\">\n",
              "      <div>\n",
              "<style scoped>\n",
              "    .dataframe tbody tr th:only-of-type {\n",
              "        vertical-align: middle;\n",
              "    }\n",
              "\n",
              "    .dataframe tbody tr th {\n",
              "        vertical-align: top;\n",
              "    }\n",
              "\n",
              "    .dataframe thead th {\n",
              "        text-align: right;\n",
              "    }\n",
              "</style>\n",
              "<table border=\"1\" class=\"dataframe\">\n",
              "  <thead>\n",
              "    <tr style=\"text-align: right;\">\n",
              "      <th></th>\n",
              "      <th>pclass</th>\n",
              "      <th>sex</th>\n",
              "      <th>age</th>\n",
              "      <th>fare</th>\n",
              "      <th>class</th>\n",
              "      <th>adult_male</th>\n",
              "      <th>deck</th>\n",
              "      <th>embark_town</th>\n",
              "    </tr>\n",
              "  </thead>\n",
              "  <tbody>\n",
              "    <tr>\n",
              "      <th>0</th>\n",
              "      <td>3</td>\n",
              "      <td>male</td>\n",
              "      <td>22.0</td>\n",
              "      <td>7.2500</td>\n",
              "      <td>Third</td>\n",
              "      <td>True</td>\n",
              "      <td>Unknown</td>\n",
              "      <td>Southampton</td>\n",
              "    </tr>\n",
              "    <tr>\n",
              "      <th>1</th>\n",
              "      <td>1</td>\n",
              "      <td>female</td>\n",
              "      <td>38.0</td>\n",
              "      <td>71.2833</td>\n",
              "      <td>First</td>\n",
              "      <td>False</td>\n",
              "      <td>C</td>\n",
              "      <td>Cherbourg</td>\n",
              "    </tr>\n",
              "    <tr>\n",
              "      <th>2</th>\n",
              "      <td>3</td>\n",
              "      <td>female</td>\n",
              "      <td>26.0</td>\n",
              "      <td>7.9250</td>\n",
              "      <td>Third</td>\n",
              "      <td>False</td>\n",
              "      <td>Unknown</td>\n",
              "      <td>Southampton</td>\n",
              "    </tr>\n",
              "    <tr>\n",
              "      <th>3</th>\n",
              "      <td>1</td>\n",
              "      <td>female</td>\n",
              "      <td>35.0</td>\n",
              "      <td>53.1000</td>\n",
              "      <td>First</td>\n",
              "      <td>False</td>\n",
              "      <td>C</td>\n",
              "      <td>Southampton</td>\n",
              "    </tr>\n",
              "    <tr>\n",
              "      <th>4</th>\n",
              "      <td>3</td>\n",
              "      <td>male</td>\n",
              "      <td>35.0</td>\n",
              "      <td>8.0500</td>\n",
              "      <td>Third</td>\n",
              "      <td>True</td>\n",
              "      <td>Unknown</td>\n",
              "      <td>Southampton</td>\n",
              "    </tr>\n",
              "    <tr>\n",
              "      <th>...</th>\n",
              "      <td>...</td>\n",
              "      <td>...</td>\n",
              "      <td>...</td>\n",
              "      <td>...</td>\n",
              "      <td>...</td>\n",
              "      <td>...</td>\n",
              "      <td>...</td>\n",
              "      <td>...</td>\n",
              "    </tr>\n",
              "    <tr>\n",
              "      <th>886</th>\n",
              "      <td>2</td>\n",
              "      <td>male</td>\n",
              "      <td>27.0</td>\n",
              "      <td>13.0000</td>\n",
              "      <td>Second</td>\n",
              "      <td>True</td>\n",
              "      <td>Unknown</td>\n",
              "      <td>Southampton</td>\n",
              "    </tr>\n",
              "    <tr>\n",
              "      <th>887</th>\n",
              "      <td>1</td>\n",
              "      <td>female</td>\n",
              "      <td>19.0</td>\n",
              "      <td>30.0000</td>\n",
              "      <td>First</td>\n",
              "      <td>False</td>\n",
              "      <td>B</td>\n",
              "      <td>Southampton</td>\n",
              "    </tr>\n",
              "    <tr>\n",
              "      <th>888</th>\n",
              "      <td>3</td>\n",
              "      <td>female</td>\n",
              "      <td>28.0</td>\n",
              "      <td>23.4500</td>\n",
              "      <td>Third</td>\n",
              "      <td>False</td>\n",
              "      <td>Unknown</td>\n",
              "      <td>Southampton</td>\n",
              "    </tr>\n",
              "    <tr>\n",
              "      <th>889</th>\n",
              "      <td>1</td>\n",
              "      <td>male</td>\n",
              "      <td>26.0</td>\n",
              "      <td>30.0000</td>\n",
              "      <td>First</td>\n",
              "      <td>True</td>\n",
              "      <td>C</td>\n",
              "      <td>Cherbourg</td>\n",
              "    </tr>\n",
              "    <tr>\n",
              "      <th>890</th>\n",
              "      <td>3</td>\n",
              "      <td>male</td>\n",
              "      <td>32.0</td>\n",
              "      <td>7.7500</td>\n",
              "      <td>Third</td>\n",
              "      <td>True</td>\n",
              "      <td>Unknown</td>\n",
              "      <td>Queenstown</td>\n",
              "    </tr>\n",
              "  </tbody>\n",
              "</table>\n",
              "<p>891 rows × 8 columns</p>\n",
              "</div>\n",
              "      <button class=\"colab-df-convert\" onclick=\"convertToInteractive('df-992618d5-72f6-467f-ace8-d856edaedba6')\"\n",
              "              title=\"Convert this dataframe to an interactive table.\"\n",
              "              style=\"display:none;\">\n",
              "\n",
              "  <svg xmlns=\"http://www.w3.org/2000/svg\" height=\"24px\"viewBox=\"0 0 24 24\"\n",
              "       width=\"24px\">\n",
              "    <path d=\"M0 0h24v24H0V0z\" fill=\"none\"/>\n",
              "    <path d=\"M18.56 5.44l.94 2.06.94-2.06 2.06-.94-2.06-.94-.94-2.06-.94 2.06-2.06.94zm-11 1L8.5 8.5l.94-2.06 2.06-.94-2.06-.94L8.5 2.5l-.94 2.06-2.06.94zm10 10l.94 2.06.94-2.06 2.06-.94-2.06-.94-.94-2.06-.94 2.06-2.06.94z\"/><path d=\"M17.41 7.96l-1.37-1.37c-.4-.4-.92-.59-1.43-.59-.52 0-1.04.2-1.43.59L10.3 9.45l-7.72 7.72c-.78.78-.78 2.05 0 2.83L4 21.41c.39.39.9.59 1.41.59.51 0 1.02-.2 1.41-.59l7.78-7.78 2.81-2.81c.8-.78.8-2.07 0-2.86zM5.41 20L4 18.59l7.72-7.72 1.47 1.35L5.41 20z\"/>\n",
              "  </svg>\n",
              "      </button>\n",
              "\n",
              "\n",
              "\n",
              "    <div id=\"df-05cb0547-e886-46a9-90ed-8cd4a2084b17\">\n",
              "      <button class=\"colab-df-quickchart\" onclick=\"quickchart('df-05cb0547-e886-46a9-90ed-8cd4a2084b17')\"\n",
              "              title=\"Suggest charts.\"\n",
              "              style=\"display:none;\">\n",
              "\n",
              "<svg xmlns=\"http://www.w3.org/2000/svg\" height=\"24px\"viewBox=\"0 0 24 24\"\n",
              "     width=\"24px\">\n",
              "    <g>\n",
              "        <path d=\"M19 3H5c-1.1 0-2 .9-2 2v14c0 1.1.9 2 2 2h14c1.1 0 2-.9 2-2V5c0-1.1-.9-2-2-2zM9 17H7v-7h2v7zm4 0h-2V7h2v10zm4 0h-2v-4h2v4z\"/>\n",
              "    </g>\n",
              "</svg>\n",
              "      </button>\n",
              "    </div>\n",
              "\n",
              "<style>\n",
              "  .colab-df-quickchart {\n",
              "    background-color: #E8F0FE;\n",
              "    border: none;\n",
              "    border-radius: 50%;\n",
              "    cursor: pointer;\n",
              "    display: none;\n",
              "    fill: #1967D2;\n",
              "    height: 32px;\n",
              "    padding: 0 0 0 0;\n",
              "    width: 32px;\n",
              "  }\n",
              "\n",
              "  .colab-df-quickchart:hover {\n",
              "    background-color: #E2EBFA;\n",
              "    box-shadow: 0px 1px 2px rgba(60, 64, 67, 0.3), 0px 1px 3px 1px rgba(60, 64, 67, 0.15);\n",
              "    fill: #174EA6;\n",
              "  }\n",
              "\n",
              "  [theme=dark] .colab-df-quickchart {\n",
              "    background-color: #3B4455;\n",
              "    fill: #D2E3FC;\n",
              "  }\n",
              "\n",
              "  [theme=dark] .colab-df-quickchart:hover {\n",
              "    background-color: #434B5C;\n",
              "    box-shadow: 0px 1px 3px 1px rgba(0, 0, 0, 0.15);\n",
              "    filter: drop-shadow(0px 1px 2px rgba(0, 0, 0, 0.3));\n",
              "    fill: #FFFFFF;\n",
              "  }\n",
              "</style>\n",
              "\n",
              "    <script>\n",
              "      async function quickchart(key) {\n",
              "        const containerElement = document.querySelector('#' + key);\n",
              "        const charts = await google.colab.kernel.invokeFunction(\n",
              "            'suggestCharts', [key], {});\n",
              "      }\n",
              "    </script>\n",
              "\n",
              "      <script>\n",
              "\n",
              "function displayQuickchartButton(domScope) {\n",
              "  let quickchartButtonEl =\n",
              "    domScope.querySelector('#df-05cb0547-e886-46a9-90ed-8cd4a2084b17 button.colab-df-quickchart');\n",
              "  quickchartButtonEl.style.display =\n",
              "    google.colab.kernel.accessAllowed ? 'block' : 'none';\n",
              "}\n",
              "\n",
              "        displayQuickchartButton(document);\n",
              "      </script>\n",
              "      <style>\n",
              "    .colab-df-container {\n",
              "      display:flex;\n",
              "      flex-wrap:wrap;\n",
              "      gap: 12px;\n",
              "    }\n",
              "\n",
              "    .colab-df-convert {\n",
              "      background-color: #E8F0FE;\n",
              "      border: none;\n",
              "      border-radius: 50%;\n",
              "      cursor: pointer;\n",
              "      display: none;\n",
              "      fill: #1967D2;\n",
              "      height: 32px;\n",
              "      padding: 0 0 0 0;\n",
              "      width: 32px;\n",
              "    }\n",
              "\n",
              "    .colab-df-convert:hover {\n",
              "      background-color: #E2EBFA;\n",
              "      box-shadow: 0px 1px 2px rgba(60, 64, 67, 0.3), 0px 1px 3px 1px rgba(60, 64, 67, 0.15);\n",
              "      fill: #174EA6;\n",
              "    }\n",
              "\n",
              "    [theme=dark] .colab-df-convert {\n",
              "      background-color: #3B4455;\n",
              "      fill: #D2E3FC;\n",
              "    }\n",
              "\n",
              "    [theme=dark] .colab-df-convert:hover {\n",
              "      background-color: #434B5C;\n",
              "      box-shadow: 0px 1px 3px 1px rgba(0, 0, 0, 0.15);\n",
              "      filter: drop-shadow(0px 1px 2px rgba(0, 0, 0, 0.3));\n",
              "      fill: #FFFFFF;\n",
              "    }\n",
              "  </style>\n",
              "\n",
              "      <script>\n",
              "        const buttonEl =\n",
              "          document.querySelector('#df-992618d5-72f6-467f-ace8-d856edaedba6 button.colab-df-convert');\n",
              "        buttonEl.style.display =\n",
              "          google.colab.kernel.accessAllowed ? 'block' : 'none';\n",
              "\n",
              "        async function convertToInteractive(key) {\n",
              "          const element = document.querySelector('#df-992618d5-72f6-467f-ace8-d856edaedba6');\n",
              "          const dataTable =\n",
              "            await google.colab.kernel.invokeFunction('convertToInteractive',\n",
              "                                                     [key], {});\n",
              "          if (!dataTable) return;\n",
              "\n",
              "          const docLinkHtml = 'Like what you see? Visit the ' +\n",
              "            '<a target=\"_blank\" href=https://colab.research.google.com/notebooks/data_table.ipynb>data table notebook</a>'\n",
              "            + ' to learn more about interactive tables.';\n",
              "          element.innerHTML = '';\n",
              "          dataTable['output_type'] = 'display_data';\n",
              "          await google.colab.output.renderOutput(dataTable, element);\n",
              "          const docLink = document.createElement('div');\n",
              "          docLink.innerHTML = docLinkHtml;\n",
              "          element.appendChild(docLink);\n",
              "        }\n",
              "      </script>\n",
              "    </div>\n",
              "  </div>\n"
            ]
          },
          "metadata": {},
          "execution_count": 14
        }
      ]
    },
    {
      "cell_type": "markdown",
      "source": [
        "### Провести анализ и обработку категориальных переменных (сколько таких переменных, закодируйте категориальные переменные одним из методов (one hot encoding, mean target, frequence encoding)"
      ],
      "metadata": {
        "id": "3zZNDhIQdmAU"
      }
    },
    {
      "cell_type": "code",
      "source": [
        "X.info()"
      ],
      "metadata": {
        "id": "Ja2ZLen9fIen",
        "outputId": "87ac1a1e-2d31-4e22-b939-9a2a2631ed31",
        "colab": {
          "base_uri": "https://localhost:8080/"
        }
      },
      "execution_count": 15,
      "outputs": [
        {
          "output_type": "stream",
          "name": "stdout",
          "text": [
            "<class 'pandas.core.frame.DataFrame'>\n",
            "RangeIndex: 891 entries, 0 to 890\n",
            "Data columns (total 8 columns):\n",
            " #   Column       Non-Null Count  Dtype   \n",
            "---  ------       --------------  -----   \n",
            " 0   pclass       891 non-null    int64   \n",
            " 1   sex          891 non-null    object  \n",
            " 2   age          891 non-null    float64 \n",
            " 3   fare         891 non-null    float64 \n",
            " 4   class        891 non-null    category\n",
            " 5   adult_male   891 non-null    bool    \n",
            " 6   deck         891 non-null    category\n",
            " 7   embark_town  891 non-null    object  \n",
            "dtypes: bool(1), category(2), float64(2), int64(1), object(2)\n",
            "memory usage: 38.0+ KB\n"
          ]
        }
      ]
    },
    {
      "cell_type": "code",
      "source": [],
      "metadata": {
        "id": "7Y16OCzafvV5"
      },
      "execution_count": 15,
      "outputs": []
    },
    {
      "cell_type": "code",
      "source": [
        "# Проверка наличия категориальных переменных\n",
        "cat_vars = [col for col in X.columns if data[col].dtype == 'object' or data[col].dtype == 'category']\n",
        "print(f\"Категориальные переменные: {cat_vars}\")\n",
        "\n",
        "# Закодируем категориальные переменные методом one hot encoding\n",
        "X = pd.get_dummies(X, columns=cat_vars)\n",
        "X.head()"
      ],
      "metadata": {
        "id": "j5g_-8kpMRdr",
        "outputId": "554e2e4d-c356-4545-8c9e-0f6c4f8aebba",
        "colab": {
          "base_uri": "https://localhost:8080/",
          "height": 317
        }
      },
      "execution_count": 16,
      "outputs": [
        {
          "output_type": "stream",
          "name": "stdout",
          "text": [
            "Категориальные переменные: ['sex', 'class', 'deck', 'embark_town']\n"
          ]
        },
        {
          "output_type": "execute_result",
          "data": {
            "text/plain": [
              "   pclass   age     fare  adult_male  sex_female  sex_male  class_First  \\\n",
              "0       3  22.0   7.2500        True           0         1            0   \n",
              "1       1  38.0  71.2833       False           1         0            1   \n",
              "2       3  26.0   7.9250       False           1         0            0   \n",
              "3       1  35.0  53.1000       False           1         0            1   \n",
              "4       3  35.0   8.0500        True           0         1            0   \n",
              "\n",
              "   class_Second  class_Third  deck_A  ...  deck_C  deck_D  deck_E  deck_F  \\\n",
              "0             0            1       0  ...       0       0       0       0   \n",
              "1             0            0       0  ...       1       0       0       0   \n",
              "2             0            1       0  ...       0       0       0       0   \n",
              "3             0            0       0  ...       1       0       0       0   \n",
              "4             0            1       0  ...       0       0       0       0   \n",
              "\n",
              "   deck_G  deck_Unknown  embark_town_Cherbourg  embark_town_Queenstown  \\\n",
              "0       0             1                      0                       0   \n",
              "1       0             0                      1                       0   \n",
              "2       0             1                      0                       0   \n",
              "3       0             0                      0                       0   \n",
              "4       0             1                      0                       0   \n",
              "\n",
              "   embark_town_Southampton  embark_town_Unknown  \n",
              "0                        1                    0  \n",
              "1                        0                    0  \n",
              "2                        1                    0  \n",
              "3                        1                    0  \n",
              "4                        1                    0  \n",
              "\n",
              "[5 rows x 21 columns]"
            ],
            "text/html": [
              "\n",
              "\n",
              "  <div id=\"df-9d96ca5b-59f8-4ba8-a856-5ddffef742a7\">\n",
              "    <div class=\"colab-df-container\">\n",
              "      <div>\n",
              "<style scoped>\n",
              "    .dataframe tbody tr th:only-of-type {\n",
              "        vertical-align: middle;\n",
              "    }\n",
              "\n",
              "    .dataframe tbody tr th {\n",
              "        vertical-align: top;\n",
              "    }\n",
              "\n",
              "    .dataframe thead th {\n",
              "        text-align: right;\n",
              "    }\n",
              "</style>\n",
              "<table border=\"1\" class=\"dataframe\">\n",
              "  <thead>\n",
              "    <tr style=\"text-align: right;\">\n",
              "      <th></th>\n",
              "      <th>pclass</th>\n",
              "      <th>age</th>\n",
              "      <th>fare</th>\n",
              "      <th>adult_male</th>\n",
              "      <th>sex_female</th>\n",
              "      <th>sex_male</th>\n",
              "      <th>class_First</th>\n",
              "      <th>class_Second</th>\n",
              "      <th>class_Third</th>\n",
              "      <th>deck_A</th>\n",
              "      <th>...</th>\n",
              "      <th>deck_C</th>\n",
              "      <th>deck_D</th>\n",
              "      <th>deck_E</th>\n",
              "      <th>deck_F</th>\n",
              "      <th>deck_G</th>\n",
              "      <th>deck_Unknown</th>\n",
              "      <th>embark_town_Cherbourg</th>\n",
              "      <th>embark_town_Queenstown</th>\n",
              "      <th>embark_town_Southampton</th>\n",
              "      <th>embark_town_Unknown</th>\n",
              "    </tr>\n",
              "  </thead>\n",
              "  <tbody>\n",
              "    <tr>\n",
              "      <th>0</th>\n",
              "      <td>3</td>\n",
              "      <td>22.0</td>\n",
              "      <td>7.2500</td>\n",
              "      <td>True</td>\n",
              "      <td>0</td>\n",
              "      <td>1</td>\n",
              "      <td>0</td>\n",
              "      <td>0</td>\n",
              "      <td>1</td>\n",
              "      <td>0</td>\n",
              "      <td>...</td>\n",
              "      <td>0</td>\n",
              "      <td>0</td>\n",
              "      <td>0</td>\n",
              "      <td>0</td>\n",
              "      <td>0</td>\n",
              "      <td>1</td>\n",
              "      <td>0</td>\n",
              "      <td>0</td>\n",
              "      <td>1</td>\n",
              "      <td>0</td>\n",
              "    </tr>\n",
              "    <tr>\n",
              "      <th>1</th>\n",
              "      <td>1</td>\n",
              "      <td>38.0</td>\n",
              "      <td>71.2833</td>\n",
              "      <td>False</td>\n",
              "      <td>1</td>\n",
              "      <td>0</td>\n",
              "      <td>1</td>\n",
              "      <td>0</td>\n",
              "      <td>0</td>\n",
              "      <td>0</td>\n",
              "      <td>...</td>\n",
              "      <td>1</td>\n",
              "      <td>0</td>\n",
              "      <td>0</td>\n",
              "      <td>0</td>\n",
              "      <td>0</td>\n",
              "      <td>0</td>\n",
              "      <td>1</td>\n",
              "      <td>0</td>\n",
              "      <td>0</td>\n",
              "      <td>0</td>\n",
              "    </tr>\n",
              "    <tr>\n",
              "      <th>2</th>\n",
              "      <td>3</td>\n",
              "      <td>26.0</td>\n",
              "      <td>7.9250</td>\n",
              "      <td>False</td>\n",
              "      <td>1</td>\n",
              "      <td>0</td>\n",
              "      <td>0</td>\n",
              "      <td>0</td>\n",
              "      <td>1</td>\n",
              "      <td>0</td>\n",
              "      <td>...</td>\n",
              "      <td>0</td>\n",
              "      <td>0</td>\n",
              "      <td>0</td>\n",
              "      <td>0</td>\n",
              "      <td>0</td>\n",
              "      <td>1</td>\n",
              "      <td>0</td>\n",
              "      <td>0</td>\n",
              "      <td>1</td>\n",
              "      <td>0</td>\n",
              "    </tr>\n",
              "    <tr>\n",
              "      <th>3</th>\n",
              "      <td>1</td>\n",
              "      <td>35.0</td>\n",
              "      <td>53.1000</td>\n",
              "      <td>False</td>\n",
              "      <td>1</td>\n",
              "      <td>0</td>\n",
              "      <td>1</td>\n",
              "      <td>0</td>\n",
              "      <td>0</td>\n",
              "      <td>0</td>\n",
              "      <td>...</td>\n",
              "      <td>1</td>\n",
              "      <td>0</td>\n",
              "      <td>0</td>\n",
              "      <td>0</td>\n",
              "      <td>0</td>\n",
              "      <td>0</td>\n",
              "      <td>0</td>\n",
              "      <td>0</td>\n",
              "      <td>1</td>\n",
              "      <td>0</td>\n",
              "    </tr>\n",
              "    <tr>\n",
              "      <th>4</th>\n",
              "      <td>3</td>\n",
              "      <td>35.0</td>\n",
              "      <td>8.0500</td>\n",
              "      <td>True</td>\n",
              "      <td>0</td>\n",
              "      <td>1</td>\n",
              "      <td>0</td>\n",
              "      <td>0</td>\n",
              "      <td>1</td>\n",
              "      <td>0</td>\n",
              "      <td>...</td>\n",
              "      <td>0</td>\n",
              "      <td>0</td>\n",
              "      <td>0</td>\n",
              "      <td>0</td>\n",
              "      <td>0</td>\n",
              "      <td>1</td>\n",
              "      <td>0</td>\n",
              "      <td>0</td>\n",
              "      <td>1</td>\n",
              "      <td>0</td>\n",
              "    </tr>\n",
              "  </tbody>\n",
              "</table>\n",
              "<p>5 rows × 21 columns</p>\n",
              "</div>\n",
              "      <button class=\"colab-df-convert\" onclick=\"convertToInteractive('df-9d96ca5b-59f8-4ba8-a856-5ddffef742a7')\"\n",
              "              title=\"Convert this dataframe to an interactive table.\"\n",
              "              style=\"display:none;\">\n",
              "\n",
              "  <svg xmlns=\"http://www.w3.org/2000/svg\" height=\"24px\"viewBox=\"0 0 24 24\"\n",
              "       width=\"24px\">\n",
              "    <path d=\"M0 0h24v24H0V0z\" fill=\"none\"/>\n",
              "    <path d=\"M18.56 5.44l.94 2.06.94-2.06 2.06-.94-2.06-.94-.94-2.06-.94 2.06-2.06.94zm-11 1L8.5 8.5l.94-2.06 2.06-.94-2.06-.94L8.5 2.5l-.94 2.06-2.06.94zm10 10l.94 2.06.94-2.06 2.06-.94-2.06-.94-.94-2.06-.94 2.06-2.06.94z\"/><path d=\"M17.41 7.96l-1.37-1.37c-.4-.4-.92-.59-1.43-.59-.52 0-1.04.2-1.43.59L10.3 9.45l-7.72 7.72c-.78.78-.78 2.05 0 2.83L4 21.41c.39.39.9.59 1.41.59.51 0 1.02-.2 1.41-.59l7.78-7.78 2.81-2.81c.8-.78.8-2.07 0-2.86zM5.41 20L4 18.59l7.72-7.72 1.47 1.35L5.41 20z\"/>\n",
              "  </svg>\n",
              "      </button>\n",
              "\n",
              "\n",
              "\n",
              "    <div id=\"df-a0f5bd6c-581e-4914-a9c1-97a1643441ab\">\n",
              "      <button class=\"colab-df-quickchart\" onclick=\"quickchart('df-a0f5bd6c-581e-4914-a9c1-97a1643441ab')\"\n",
              "              title=\"Suggest charts.\"\n",
              "              style=\"display:none;\">\n",
              "\n",
              "<svg xmlns=\"http://www.w3.org/2000/svg\" height=\"24px\"viewBox=\"0 0 24 24\"\n",
              "     width=\"24px\">\n",
              "    <g>\n",
              "        <path d=\"M19 3H5c-1.1 0-2 .9-2 2v14c0 1.1.9 2 2 2h14c1.1 0 2-.9 2-2V5c0-1.1-.9-2-2-2zM9 17H7v-7h2v7zm4 0h-2V7h2v10zm4 0h-2v-4h2v4z\"/>\n",
              "    </g>\n",
              "</svg>\n",
              "      </button>\n",
              "    </div>\n",
              "\n",
              "<style>\n",
              "  .colab-df-quickchart {\n",
              "    background-color: #E8F0FE;\n",
              "    border: none;\n",
              "    border-radius: 50%;\n",
              "    cursor: pointer;\n",
              "    display: none;\n",
              "    fill: #1967D2;\n",
              "    height: 32px;\n",
              "    padding: 0 0 0 0;\n",
              "    width: 32px;\n",
              "  }\n",
              "\n",
              "  .colab-df-quickchart:hover {\n",
              "    background-color: #E2EBFA;\n",
              "    box-shadow: 0px 1px 2px rgba(60, 64, 67, 0.3), 0px 1px 3px 1px rgba(60, 64, 67, 0.15);\n",
              "    fill: #174EA6;\n",
              "  }\n",
              "\n",
              "  [theme=dark] .colab-df-quickchart {\n",
              "    background-color: #3B4455;\n",
              "    fill: #D2E3FC;\n",
              "  }\n",
              "\n",
              "  [theme=dark] .colab-df-quickchart:hover {\n",
              "    background-color: #434B5C;\n",
              "    box-shadow: 0px 1px 3px 1px rgba(0, 0, 0, 0.15);\n",
              "    filter: drop-shadow(0px 1px 2px rgba(0, 0, 0, 0.3));\n",
              "    fill: #FFFFFF;\n",
              "  }\n",
              "</style>\n",
              "\n",
              "    <script>\n",
              "      async function quickchart(key) {\n",
              "        const containerElement = document.querySelector('#' + key);\n",
              "        const charts = await google.colab.kernel.invokeFunction(\n",
              "            'suggestCharts', [key], {});\n",
              "      }\n",
              "    </script>\n",
              "\n",
              "      <script>\n",
              "\n",
              "function displayQuickchartButton(domScope) {\n",
              "  let quickchartButtonEl =\n",
              "    domScope.querySelector('#df-a0f5bd6c-581e-4914-a9c1-97a1643441ab button.colab-df-quickchart');\n",
              "  quickchartButtonEl.style.display =\n",
              "    google.colab.kernel.accessAllowed ? 'block' : 'none';\n",
              "}\n",
              "\n",
              "        displayQuickchartButton(document);\n",
              "      </script>\n",
              "      <style>\n",
              "    .colab-df-container {\n",
              "      display:flex;\n",
              "      flex-wrap:wrap;\n",
              "      gap: 12px;\n",
              "    }\n",
              "\n",
              "    .colab-df-convert {\n",
              "      background-color: #E8F0FE;\n",
              "      border: none;\n",
              "      border-radius: 50%;\n",
              "      cursor: pointer;\n",
              "      display: none;\n",
              "      fill: #1967D2;\n",
              "      height: 32px;\n",
              "      padding: 0 0 0 0;\n",
              "      width: 32px;\n",
              "    }\n",
              "\n",
              "    .colab-df-convert:hover {\n",
              "      background-color: #E2EBFA;\n",
              "      box-shadow: 0px 1px 2px rgba(60, 64, 67, 0.3), 0px 1px 3px 1px rgba(60, 64, 67, 0.15);\n",
              "      fill: #174EA6;\n",
              "    }\n",
              "\n",
              "    [theme=dark] .colab-df-convert {\n",
              "      background-color: #3B4455;\n",
              "      fill: #D2E3FC;\n",
              "    }\n",
              "\n",
              "    [theme=dark] .colab-df-convert:hover {\n",
              "      background-color: #434B5C;\n",
              "      box-shadow: 0px 1px 3px 1px rgba(0, 0, 0, 0.15);\n",
              "      filter: drop-shadow(0px 1px 2px rgba(0, 0, 0, 0.3));\n",
              "      fill: #FFFFFF;\n",
              "    }\n",
              "  </style>\n",
              "\n",
              "      <script>\n",
              "        const buttonEl =\n",
              "          document.querySelector('#df-9d96ca5b-59f8-4ba8-a856-5ddffef742a7 button.colab-df-convert');\n",
              "        buttonEl.style.display =\n",
              "          google.colab.kernel.accessAllowed ? 'block' : 'none';\n",
              "\n",
              "        async function convertToInteractive(key) {\n",
              "          const element = document.querySelector('#df-9d96ca5b-59f8-4ba8-a856-5ddffef742a7');\n",
              "          const dataTable =\n",
              "            await google.colab.kernel.invokeFunction('convertToInteractive',\n",
              "                                                     [key], {});\n",
              "          if (!dataTable) return;\n",
              "\n",
              "          const docLinkHtml = 'Like what you see? Visit the ' +\n",
              "            '<a target=\"_blank\" href=https://colab.research.google.com/notebooks/data_table.ipynb>data table notebook</a>'\n",
              "            + ' to learn more about interactive tables.';\n",
              "          element.innerHTML = '';\n",
              "          dataTable['output_type'] = 'display_data';\n",
              "          await google.colab.output.renderOutput(dataTable, element);\n",
              "          const docLink = document.createElement('div');\n",
              "          docLink.innerHTML = docLinkHtml;\n",
              "          element.appendChild(docLink);\n",
              "        }\n",
              "      </script>\n",
              "    </div>\n",
              "  </div>\n"
            ]
          },
          "metadata": {},
          "execution_count": 16
        }
      ]
    },
    {
      "cell_type": "markdown",
      "source": [
        "## Модели"
      ],
      "metadata": {
        "id": "8vvL6FPSd452"
      }
    },
    {
      "cell_type": "markdown",
      "source": [
        "### KNN"
      ],
      "metadata": {
        "id": "2lbLO_3XgpaS"
      }
    },
    {
      "cell_type": "code",
      "source": [
        "# Перекодировка\n",
        "y_bin = y"
      ],
      "metadata": {
        "id": "F2_CQ_LLeSJg"
      },
      "execution_count": 17,
      "outputs": []
    },
    {
      "cell_type": "code",
      "source": [
        "np.random.seed(123)\n",
        "\n",
        "X_train, X_test, y_train, y_test = train_test_split(X, y_bin, train_size=0.8, stratify=y_bin)\n",
        "\n",
        "# # Отмасштабируйте признаки\n",
        "# ss = StandardScaler()\n",
        "\n",
        "# X_train = ss.fit_transform(X_train)\n",
        "\n",
        "# X_test = ss.transform(X_test)\n"
      ],
      "metadata": {
        "id": "1RWsDLc1eUU-"
      },
      "execution_count": 18,
      "outputs": []
    },
    {
      "cell_type": "code",
      "source": [
        "# Построение модели k-Nearest Neighbors (kNN)\n",
        "knn_model = KNeighborsClassifier()"
      ],
      "metadata": {
        "id": "5gBv9M2Td7LI"
      },
      "execution_count": 19,
      "outputs": []
    },
    {
      "cell_type": "code",
      "source": [
        "# Задаем сетку параметров для значения \"n_neighbors\", которое мы хотим исследовать\n",
        "param_grid = {'n_neighbors': [1, 3, 5, 7, 9, 11, 14]}  # Пример значений, можно изменить диапазон по необходимости\n",
        "\n",
        "# Создаем объект GridSearchCV с моделью KNN и сеткой параметров\n",
        "grid_search = GridSearchCV(knn_model, param_grid, cv=5, scoring='roc_auc')  # Параметр cv определяет количество фолдов в кросс-валидации\n",
        "\n",
        "# Обучаем модель на данных с помощью кросс-валидации\n",
        "grid_search.fit(X_train, y_train)\n",
        "\n",
        "# Получаем лучшее найденное значение параметра \"n_neighbors\" в результате кросс-валидации\n",
        "best_n_neighbors = grid_search.best_params_['n_neighbors']\n",
        "print('best_n_neighbors =', best_n_neighbors)\n"
      ],
      "metadata": {
        "id": "1eQnpbokd_PA",
        "outputId": "f59bce28-2d45-4e7c-e63d-f5bdc9095878",
        "colab": {
          "base_uri": "https://localhost:8080/"
        }
      },
      "execution_count": 20,
      "outputs": [
        {
          "output_type": "stream",
          "name": "stdout",
          "text": [
            "best_n_neighbors = 5\n"
          ]
        }
      ]
    },
    {
      "cell_type": "code",
      "source": [
        "best_knn_model = KNeighborsClassifier(n_neighbors=best_n_neighbors)"
      ],
      "metadata": {
        "id": "RnC-BWM6ectm"
      },
      "execution_count": 21,
      "outputs": []
    },
    {
      "cell_type": "code",
      "source": [
        "best_knn_model.fit(X_train, y_train)"
      ],
      "metadata": {
        "id": "bwcg1Kmped7V",
        "outputId": "598460e7-8722-4c1b-fd4e-a7fb83e6c072",
        "colab": {
          "base_uri": "https://localhost:8080/",
          "height": 74
        }
      },
      "execution_count": 22,
      "outputs": [
        {
          "output_type": "execute_result",
          "data": {
            "text/plain": [
              "KNeighborsClassifier()"
            ],
            "text/html": [
              "<style>#sk-container-id-1 {color: black;background-color: white;}#sk-container-id-1 pre{padding: 0;}#sk-container-id-1 div.sk-toggleable {background-color: white;}#sk-container-id-1 label.sk-toggleable__label {cursor: pointer;display: block;width: 100%;margin-bottom: 0;padding: 0.3em;box-sizing: border-box;text-align: center;}#sk-container-id-1 label.sk-toggleable__label-arrow:before {content: \"▸\";float: left;margin-right: 0.25em;color: #696969;}#sk-container-id-1 label.sk-toggleable__label-arrow:hover:before {color: black;}#sk-container-id-1 div.sk-estimator:hover label.sk-toggleable__label-arrow:before {color: black;}#sk-container-id-1 div.sk-toggleable__content {max-height: 0;max-width: 0;overflow: hidden;text-align: left;background-color: #f0f8ff;}#sk-container-id-1 div.sk-toggleable__content pre {margin: 0.2em;color: black;border-radius: 0.25em;background-color: #f0f8ff;}#sk-container-id-1 input.sk-toggleable__control:checked~div.sk-toggleable__content {max-height: 200px;max-width: 100%;overflow: auto;}#sk-container-id-1 input.sk-toggleable__control:checked~label.sk-toggleable__label-arrow:before {content: \"▾\";}#sk-container-id-1 div.sk-estimator input.sk-toggleable__control:checked~label.sk-toggleable__label {background-color: #d4ebff;}#sk-container-id-1 div.sk-label input.sk-toggleable__control:checked~label.sk-toggleable__label {background-color: #d4ebff;}#sk-container-id-1 input.sk-hidden--visually {border: 0;clip: rect(1px 1px 1px 1px);clip: rect(1px, 1px, 1px, 1px);height: 1px;margin: -1px;overflow: hidden;padding: 0;position: absolute;width: 1px;}#sk-container-id-1 div.sk-estimator {font-family: monospace;background-color: #f0f8ff;border: 1px dotted black;border-radius: 0.25em;box-sizing: border-box;margin-bottom: 0.5em;}#sk-container-id-1 div.sk-estimator:hover {background-color: #d4ebff;}#sk-container-id-1 div.sk-parallel-item::after {content: \"\";width: 100%;border-bottom: 1px solid gray;flex-grow: 1;}#sk-container-id-1 div.sk-label:hover label.sk-toggleable__label {background-color: #d4ebff;}#sk-container-id-1 div.sk-serial::before {content: \"\";position: absolute;border-left: 1px solid gray;box-sizing: border-box;top: 0;bottom: 0;left: 50%;z-index: 0;}#sk-container-id-1 div.sk-serial {display: flex;flex-direction: column;align-items: center;background-color: white;padding-right: 0.2em;padding-left: 0.2em;position: relative;}#sk-container-id-1 div.sk-item {position: relative;z-index: 1;}#sk-container-id-1 div.sk-parallel {display: flex;align-items: stretch;justify-content: center;background-color: white;position: relative;}#sk-container-id-1 div.sk-item::before, #sk-container-id-1 div.sk-parallel-item::before {content: \"\";position: absolute;border-left: 1px solid gray;box-sizing: border-box;top: 0;bottom: 0;left: 50%;z-index: -1;}#sk-container-id-1 div.sk-parallel-item {display: flex;flex-direction: column;z-index: 1;position: relative;background-color: white;}#sk-container-id-1 div.sk-parallel-item:first-child::after {align-self: flex-end;width: 50%;}#sk-container-id-1 div.sk-parallel-item:last-child::after {align-self: flex-start;width: 50%;}#sk-container-id-1 div.sk-parallel-item:only-child::after {width: 0;}#sk-container-id-1 div.sk-dashed-wrapped {border: 1px dashed gray;margin: 0 0.4em 0.5em 0.4em;box-sizing: border-box;padding-bottom: 0.4em;background-color: white;}#sk-container-id-1 div.sk-label label {font-family: monospace;font-weight: bold;display: inline-block;line-height: 1.2em;}#sk-container-id-1 div.sk-label-container {text-align: center;}#sk-container-id-1 div.sk-container {/* jupyter's `normalize.less` sets `[hidden] { display: none; }` but bootstrap.min.css set `[hidden] { display: none !important; }` so we also need the `!important` here to be able to override the default hidden behavior on the sphinx rendered scikit-learn.org. See: https://github.com/scikit-learn/scikit-learn/issues/21755 */display: inline-block !important;position: relative;}#sk-container-id-1 div.sk-text-repr-fallback {display: none;}</style><div id=\"sk-container-id-1\" class=\"sk-top-container\"><div class=\"sk-text-repr-fallback\"><pre>KNeighborsClassifier()</pre><b>In a Jupyter environment, please rerun this cell to show the HTML representation or trust the notebook. <br />On GitHub, the HTML representation is unable to render, please try loading this page with nbviewer.org.</b></div><div class=\"sk-container\" hidden><div class=\"sk-item\"><div class=\"sk-estimator sk-toggleable\"><input class=\"sk-toggleable__control sk-hidden--visually\" id=\"sk-estimator-id-1\" type=\"checkbox\" checked><label for=\"sk-estimator-id-1\" class=\"sk-toggleable__label sk-toggleable__label-arrow\">KNeighborsClassifier</label><div class=\"sk-toggleable__content\"><pre>KNeighborsClassifier()</pre></div></div></div></div></div>"
            ]
          },
          "metadata": {},
          "execution_count": 22
        }
      ]
    },
    {
      "cell_type": "code",
      "source": [
        "metrics_knn = calculate_metrics_and_plot_roc(best_knn_model, X_train, y_train, X_test, y_test)"
      ],
      "metadata": {
        "id": "gbyCDJfyefAP",
        "outputId": "3dc012f3-0a80-47eb-fff1-f5df782db3ad",
        "colab": {
          "base_uri": "https://localhost:8080/",
          "height": 559
        }
      },
      "execution_count": 23,
      "outputs": [
        {
          "output_type": "stream",
          "name": "stdout",
          "text": [
            "Training Precision: 0.81\n",
            "Training Recall: 0.71\n",
            "Test Precision: 0.65\n",
            "Test Recall: 0.57\n",
            "ROC-AUC_test = : 0.76 и ROC-AUC_train = : 0.90\n"
          ]
        },
        {
          "output_type": "display_data",
          "data": {
            "text/plain": [
              "<Figure size 640x480 with 1 Axes>"
            ],
            "image/png": "[encoded data removed]"
          },
          "metadata": {}
        }
      ]
    },
    {
      "cell_type": "markdown",
      "source": [
        "### LogisticRegression"
      ],
      "metadata": {
        "id": "pGQ-ze_xgswM"
      }
    },
    {
      "cell_type": "code",
      "source": [
        "# Определяем сетку параметров для C, которые мы хотим проверить\n",
        "param_grid = {'C': [0.01, 0.1, 1, 10, 20, 30, 50, 100],\n",
        "              'penalty': ['l2', 'l1'],\n",
        "              # 'solver': ['liblinear', 'saga']\n",
        "              }\n",
        "\n",
        "# Создаем модель логистической регрессии\n",
        "logreg_model = LogisticRegression(solver='saga', max_iter=100000)\n",
        "\n",
        "# Создаем объект RandomizedSearchCV с моделью логистической регрессии и сеткой параметров\n",
        "random_search = RandomizedSearchCV(logreg_model,\n",
        "                                   param_distributions=param_grid,\n",
        "                                   n_iter=10,\n",
        "                                   cv=5, scoring='roc_auc')\n",
        "\n",
        "# Обучаем модель на данных с использованием кросс-валидации\n",
        "random_search.fit(X_train, y_train)\n",
        "\n",
        "# Получаем лучшее значение параметров, найденных в процессе кросс-валидации\n",
        "print('Лучшие значения параметров:', random_search.best_params_)\n"
      ],
      "metadata": {
        "id": "woLETp62g5D8"
      },
      "execution_count": null,
      "outputs": []
    },
    {
      "cell_type": "code",
      "source": [
        "# Построение модели логистической регрессии\n",
        "logreg_model = LogisticRegression(solver='saga',  max_iter=1000, **random_search.best_params_)\n",
        "# plot_decision_boundary(logreg_model, X_train, y_train)"
      ],
      "metadata": {
        "id": "uN9LmrvbhD_2"
      },
      "execution_count": null,
      "outputs": []
    },
    {
      "cell_type": "code",
      "source": [
        "# Обучение модели\n",
        "logreg_model.fit(X_train, y_train)"
      ],
      "metadata": {
        "id": "q1vhk0DshFZ-"
      },
      "execution_count": null,
      "outputs": []
    },
    {
      "cell_type": "code",
      "source": [
        "metrics_logreg  = calculate_metrics_and_plot_roc(logreg_model, X_train, y_train, X_test, y_test)"
      ],
      "metadata": {
        "id": "gdY2UsyThK1T"
      },
      "execution_count": null,
      "outputs": []
    },
    {
      "cell_type": "markdown",
      "source": [
        "### SVC"
      ],
      "metadata": {
        "id": "6PTTNChwhU_6"
      }
    },
    {
      "cell_type": "markdown",
      "source": [
        "#### SVM линейный"
      ],
      "metadata": {
        "id": "WQKF4uVOlBr9"
      }
    },
    {
      "cell_type": "code",
      "source": [
        "# Определяем сетку параметров для C, которые мы хотим проверить\n",
        "param_grid = {'C': [0.01, 0.1, 1, 10, 100],\n",
        "              }\n",
        "\n",
        "# Создаем модель логистической регрессии\n",
        "svm_model = SVC(kernel='linear', C=0.0)\n",
        "\n",
        "# Создаем объект GridSearchCV с моделью логистической регрессии и сеткой параметров\n",
        "grid_search = GridSearchCV(svm_model, param_grid, cv=5)  # cv указывает количество блоков для кросс-валидации\n",
        "\n",
        "# Обучаем модель на данных с использованием кросс-валидации\n",
        "grid_search.fit(X_train, y_train)\n",
        "\n",
        "# Получаем лучшее значение параметра C, найденное в процессе кросс-валидации\n",
        "# best_params = grid_search.best_params_[param_grid]\n",
        "print('Лучшее значение параметра:', grid_search.best_params_)\n",
        "\n",
        "\n",
        "# Создаем модель логистической регрессии с лучшим значением C\n",
        "best_svm_model = SVC(kernel='linear', **grid_search.best_params_)"
      ],
      "metadata": {
        "id": "vCCdz135hWfp"
      },
      "execution_count": null,
      "outputs": []
    },
    {
      "cell_type": "code",
      "source": [
        "metrics_svm_linear  = calculate_metrics_and_plot_roc(best_svm_model, X_train, y_train, X_test, y_test)"
      ],
      "metadata": {
        "id": "z_tAIx1Ehcch"
      },
      "execution_count": null,
      "outputs": []
    },
    {
      "cell_type": "markdown",
      "source": [
        "#### SVM не линейный"
      ],
      "metadata": {
        "id": "l0xR7y7nlDXM"
      }
    },
    {
      "cell_type": "code",
      "source": [
        "# Определяем сетку параметров для C, которые мы хотим проверить\n",
        "param_grid = {'C': [0.01, 0.1, 1],\n",
        "              'kernel':['linear', 'poly', 'rbf', 'sigmoid',]\n",
        "              }\n",
        "\n",
        "# Создаем модель логистической регрессии\n",
        "svm_model = SVC(kernel='linear')\n",
        "\n",
        "# Создаем объект GridSearchCV с моделью логистической регрессии и сеткой параметров\n",
        "grid_search = GridSearchCV(svm_model, param_grid, cv=5)  # cv указывает количество блоков для кросс-валидации\n",
        "\n",
        "# Обучаем модель на данных с использованием кросс-валидации\n",
        "grid_search.fit(X_train, y_train)\n",
        "\n",
        "# Получаем лучшее значение параметра C, найденное в процессе кросс-валидации\n",
        "# best_params = grid_search.best_params_[param_grid]\n",
        "print('Лучшее значение параметра:', grid_search.best_params_)\n",
        "\n",
        "\n",
        "# Создаем модель логистической регрессии с лучшим значением C\n",
        "best_svm_model = SVC(**grid_search.best_params_)"
      ],
      "metadata": {
        "id": "PTwjL1Ibh2dB"
      },
      "execution_count": null,
      "outputs": []
    },
    {
      "cell_type": "code",
      "source": [
        "metrics_svm_not_linear  = calculate_metrics_and_plot_roc(best_svm_model, X_train, y_train, X_test, y_test)"
      ],
      "metadata": {
        "id": "Ce0r3r_4h4kZ"
      },
      "execution_count": null,
      "outputs": []
    },
    {
      "cell_type": "markdown",
      "source": [
        "## Вывод"
      ],
      "metadata": {
        "id": "BJSuBFGRhu27"
      }
    },
    {
      "cell_type": "code",
      "source": [
        "metrics_svm_not_linear['metrics'] = ['metrics_svm_not_linear' for i in range(4)]\n",
        "metrics_svm_linear['metrics'] = ['metrics_svm_linear' for i in range(4)]\n",
        "metrics_logreg['metrics'] = ['metrics_logreg' for i in range(4)]\n",
        "metrics_knn['metrics'] = ['metrics_knn' for i in range(4)]"
      ],
      "metadata": {
        "id": "O1szZnpLhvjg"
      },
      "execution_count": null,
      "outputs": []
    },
    {
      "cell_type": "code",
      "source": [
        "df_stat = pd.concat([pd.DataFrame(metrics_svm_not_linear),\n",
        "                    pd.DataFrame(metrics_svm_linear),\n",
        "                    pd.DataFrame(metrics_logreg),\n",
        "                    pd.DataFrame(metrics_knn)])"
      ],
      "metadata": {
        "id": "u-b9pYg9h7nP"
      },
      "execution_count": null,
      "outputs": []
    },
    {
      "cell_type": "code",
      "source": [
        "df_stat = df_stat.pivot_table(columns = 'params',\n",
        "                            index='metrics',\n",
        "                            values='values').reset_index()[['metrics','Test_Precision',\t'Training_Precision',\n",
        "                                                            'Test_Recall',\t'Training_Recall']]\n",
        "df_stat['dif_Precision'] = round((df_stat['Test_Precision'] - df_stat['Training_Precision'])/df_stat['Training_Precision'],2)\n",
        "\n",
        "df_stat['dif_Recall'] = round((df_stat['Test_Recall'] - df_stat['Training_Recall'])/df_stat['Training_Recall'],2)\n",
        "df_stat"
      ],
      "metadata": {
        "id": "SJiX7-Dfh86-"
      },
      "execution_count": null,
      "outputs": []
    },
    {
      "cell_type": "markdown",
      "source": [
        "Вывод:\n",
        "\n",
        "1.  Модель \"metrics_knn\" имеет более высокую точность на тренировочных данных (0.830357) по сравнению с тестовыми данными (0.704225), что указывает на переобучение модели.\n",
        "2.   Модель \"metrics_logreg\" имеет схожие значения точности как на тренировочных данных (0.748120), так и на тестовых данных (0.742424). Однако, она имеет небольшое снижение полноты на тренировочных данных по сравнению с тестовыми данными.\n",
        "3. Модель \"metrics_svm_linear\" также имеет схожие значения точности как на тренировочных данных (0.743083), так и на тестовых данных (0.741935). Однако, она имеет снижение полноты на тренировочных данных по сравнению с тестовыми данными.\n",
        "4. Модель \"metrics_svm_not_linear\" имеет высокую точность на тренировочных данных (0.899038), но более низкую точность на тестовых данных (0.786885). Она также имеет небольшое повышение полноты на тренировочных данных по сравнению с тестовыми данными.\n",
        "\n",
        "\n",
        "**Исходя из представленных метрик, модель \"metrics_logreg\" кажется более оптимальной. Она имеет сравнительно хорошую точность как на тренировочных, так и на тестовых данных, и наименьшее снижение полноты.**"
      ],
      "metadata": {
        "id": "SdOjX6DHitcR"
      }
    },
    {
      "cell_type": "markdown",
      "source": [
        "Чтобы улучшить алгоритмы, можно рассмотреть следующие действия:\n",
        "\n",
        "\n",
        "*   Регуляризация: Некоторые модели могут быть подвержены переобучению. Применение регуляризации может помочь улучшить обобщающую способность модели.\n",
        "*   Отбор и создание новых признаков: Иногда добавление новых значимых признаков или отбор наиболее информативных признаков может улучшить производительность модели.\n",
        "\n"
      ],
      "metadata": {
        "id": "GpRXOQU0jK4L"
      }
    }
  ]
}